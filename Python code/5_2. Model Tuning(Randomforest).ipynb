{
 "cells": [
  {
   "cell_type": "markdown",
   "id": "b539361f-436f-4ae4-b158-8abc4e5686dc",
   "metadata": {},
   "source": [
    "# 0. 기본 라이브러리 import"
   ]
  },
  {
   "cell_type": "code",
   "execution_count": 1,
   "id": "3276be07-38de-481d-87d7-ebc29c5fcc17",
   "metadata": {},
   "outputs": [],
   "source": [
    "import pandas as pd\n",
    "import numpy as np\n",
    "import random\n",
    "import os\n",
    "import seaborn as sns\n",
    "import matplotlib.pyplot as plt\n",
    "plt.rcParams['font.family'] = 'Malgun Gothic'\n",
    "sns.set(font=\"Malgun Gothic\")\n",
    "import warnings\n",
    "warnings.filterwarnings('ignore')\n",
    "from sklearn.preprocessing import MinMaxScaler\n",
    "from sklearn.preprocessing import LabelEncoder"
   ]
  },
  {
   "cell_type": "markdown",
   "id": "12a40617-bfef-45c4-9290-bb0c430a9296",
   "metadata": {},
   "source": [
    "# 데이터 분할 및 평가 지표"
   ]
  },
  {
   "cell_type": "code",
   "execution_count": 2,
   "id": "f3ee0783-5779-483f-ad1f-0399eaeedbbe",
   "metadata": {},
   "outputs": [],
   "source": [
    "from sklearn.model_selection import train_test_split\n",
    "from sklearn.metrics import mean_absolute_error, mean_squared_error\n",
    "from math import sqrt\n",
    "from sklearn.model_selection import train_test_split"
   ]
  },
  {
   "cell_type": "markdown",
   "id": "304605da-ebb4-48da-8508-149290025179",
   "metadata": {},
   "source": [
    "# RandomForest 라이브러리"
   ]
  },
  {
   "cell_type": "code",
   "execution_count": 3,
   "id": "e6df4796-7ae0-42ba-987a-0fcd2b0b30f4",
   "metadata": {},
   "outputs": [],
   "source": [
    "from sklearn.ensemble import RandomForestRegressor\n",
    "from sklearn.datasets import make_regression"
   ]
  },
  {
   "cell_type": "markdown",
   "id": "2ca6d5a3-bbc3-4a03-b75a-6461d478a256",
   "metadata": {},
   "source": [
    "# 파라미터 튜닝 함수"
   ]
  },
  {
   "cell_type": "code",
   "execution_count": 4,
   "id": "6115cec6-b863-4ff6-8f2c-7bb6ad24f45b",
   "metadata": {},
   "outputs": [],
   "source": [
    "from bayes_opt import BayesianOptimization\n",
    "from sklearn.model_selection import cross_val_score\n",
    "import optuna"
   ]
  },
  {
   "cell_type": "markdown",
   "id": "b110a435-664d-41ab-bcb4-1996e10255bc",
   "metadata": {},
   "source": [
    "# 빈도테이블 생성"
   ]
  },
  {
   "cell_type": "code",
   "execution_count": 5,
   "id": "c8d3f27f-7759-46b8-8f8a-1db72e326e2f",
   "metadata": {},
   "outputs": [],
   "source": [
    "def count(x):\n",
    "    data1=pd.DataFrame(x.value_counts()).reset_index()\n",
    "    data1.columns=['category','빈도수']\n",
    "    return data1"
   ]
  },
  {
   "cell_type": "markdown",
   "id": "1c32f641-a14f-41eb-be54-1d1e4e4fb3c2",
   "metadata": {},
   "source": [
    "# Barplot 생성"
   ]
  },
  {
   "cell_type": "code",
   "execution_count": 6,
   "id": "123239c1-5fd8-4a9f-a363-8a8668a48dd8",
   "metadata": {},
   "outputs": [],
   "source": [
    "def bargraph(x,y,x_label,y_label,figsize1,figsize2,data):\n",
    "    plt.figure(figsize=(figsize1, figsize2))\n",
    "    if data[x].dtypes=='int64':\n",
    "        data[x]=data[x].astype('str')\n",
    "    data=data.sort_values(by=y,ascending=False).reset_index()\n",
    "    \n",
    "    for index, row in data.iterrows():\n",
    "        g=sns.barplot(x,y,data=data)\n",
    "        plt.xlabel(x_label)\n",
    "        plt.ylabel(y_label)\n",
    "        g.text(index,row[y],row[y],color='black',ha='center')"
   ]
  },
  {
   "cell_type": "markdown",
   "id": "f2fd9a2f-591e-4a68-989f-0eb09a0025c9",
   "metadata": {},
   "source": [
    "# 성능 지표 추출"
   ]
  },
  {
   "cell_type": "code",
   "execution_count": 7,
   "id": "9a4b9862-177b-44b2-82ce-53e80fb0b0d4",
   "metadata": {},
   "outputs": [],
   "source": [
    "# 성능지표 추출\n",
    "def Evaluation_metric(actual,pred):\n",
    "    print(f'MAE: {round(mean_absolute_error(actual,pred),2)}')\n",
    "    print(f'MSE: {round(mean_squared_error(actual,pred),2)}')\n",
    "    print(f'RMSE: {round(sqrt(mean_squared_error(actual,pred)),2)}')\n",
    "    #print(f'RMSPE: {round(sqrt(mean_squared_error(actual,pred))/np.mean(actual)*100,2)}%')\n",
    "    print(f'RMSPE: {round(np.sqrt(np.mean(((actual - pred) / actual) ** 2)) * 100, 2)}%')"
   ]
  },
  {
   "cell_type": "markdown",
   "id": "b9ec385c-57b3-483a-8534-0d55e7050742",
   "metadata": {},
   "source": [
    "# 1. 시드 고정"
   ]
  },
  {
   "cell_type": "code",
   "execution_count": 8,
   "id": "19804a4e-d47e-4739-9f18-7f2195ab2abc",
   "metadata": {},
   "outputs": [],
   "source": [
    "def seed_everything(seed):\n",
    "    random.seed(seed)\n",
    "    os.environ['PYTHONHASHSEED'] = str(seed)\n",
    "    np.random.seed(seed)\n",
    "seed_everything(42) # Seed 고정"
   ]
  },
  {
   "cell_type": "markdown",
   "id": "6fad09e1-f89b-43de-a320-bfff6d9a8adb",
   "metadata": {},
   "source": [
    "# 2. 데이터 불러오기"
   ]
  },
  {
   "cell_type": "code",
   "execution_count": 9,
   "id": "40d15d0e-3227-43eb-a9c8-cde7ef9e0611",
   "metadata": {},
   "outputs": [],
   "source": [
    "# Train, Valid, Test Split용 데이터\n",
    "data=pd.read_csv(os.listdir()[9],encoding='EUC-KR')\n",
    "# 지표 확인용 데이터\n",
    "data_real=pd.read_csv(os.listdir()[9],encoding='EUC-KR')\n",
    "# 배정신청인원 0명 제거\n",
    "data=data.query('합계!=0')\n",
    "#필요 컬럼 추출\n",
    "selected_columns_1=['구분','합계', '작물 종류','농지면적(실제경작)','전년대비농경체증감률','고령농경체비율','전년도이탈인원','전년도활용여부']\n",
    "selected_columns_2=['비고', '지자체명_시도', '지자체명_시군구', '구분', '농업경영체','합계', '작물 종류','농지면적(실제경작)','전년대비농경체증감률','고령농경체비율','전년도이탈인원','전년도활용여부'] #원본 데이터 컬럼\n",
    "data=data[selected_columns_1]\n",
    "data_real=data_real[selected_columns_2]\n",
    "# 농지면적(실제경작) 컬럼명 변경\n",
    "data.rename(columns={'농지면적(실제경작)':'농지면적','작물 종류':'작물종류'},inplace=True)"
   ]
  },
  {
   "cell_type": "markdown",
   "id": "77bde231-7e96-4ced-9a73-4f006325c7af",
   "metadata": {},
   "source": [
    "# 이상치 제거: 농지 면적, 합계"
   ]
  },
  {
   "cell_type": "code",
   "execution_count": 10,
   "id": "28d83050-408c-4ec1-8a7a-b7d50a58c94c",
   "metadata": {},
   "outputs": [],
   "source": [
    "data=data.query('0.04<농지면적<2.5')\n",
    "data=data.query('합계<11')"
   ]
  },
  {
   "cell_type": "markdown",
   "id": "1e89e7a6-dcc3-4092-8994-e0c9323c9f4c",
   "metadata": {},
   "source": [
    "# 데이터 분할 Train, Valid, Test"
   ]
  },
  {
   "cell_type": "code",
   "execution_count": 11,
   "id": "89b263f7-bd65-444b-a98f-264bb9ffa7d3",
   "metadata": {},
   "outputs": [],
   "source": [
    "# 작물 종류 기준 층화 추출 Train Test 비율 8:2\n",
    "X=data.drop(columns=['합계']) #독립변수 Set\n",
    "Y=data['합계'] #Target 변수 set\n",
    "\n",
    "# Train, Test 분할\n",
    "X_train, X_test, Y_train, Y_test=train_test_split(X,Y,test_size=0.2,stratify=X['작물종류'],random_state=42)\n",
    "\n",
    "# 2차 Train, Validation 분할\n",
    "X_train, X_valid, Y_train, Y_valid=train_test_split(X_train,Y_train,test_size=0.2,stratify=X_train['작물종류'],random_state=42)"
   ]
  },
  {
   "cell_type": "markdown",
   "id": "19a35d3e-5491-4b92-8d1c-cb039e03daf9",
   "metadata": {},
   "source": [
    "# 연속형 변수 정규화 & 범주형 변수 라벨 인코딩 진행"
   ]
  },
  {
   "cell_type": "code",
   "execution_count": 12,
   "id": "100e66d4-1b3b-452f-b4f5-641f48b64623",
   "metadata": {},
   "outputs": [],
   "source": [
    "# 연속형 변수 정규화\n",
    "min_max_scaler=MinMaxScaler()\n",
    "for i in X_train.columns:\n",
    "    if (X_train[i].dtypes!='object'):\n",
    "        X_train[i]=min_max_scaler.fit_transform(X_train[[i]])\n",
    "        X_valid[i]=min_max_scaler.transform(X_valid[[i]])\n",
    "        X_test[i]=min_max_scaler.transform(X_test[[i]])\n",
    "    else:\n",
    "        pass"
   ]
  },
  {
   "cell_type": "code",
   "execution_count": 13,
   "id": "b7c1dbe6-0673-4efe-907f-183411eb2343",
   "metadata": {},
   "outputs": [],
   "source": [
    "# 범주형 변수 라벨 인코딩\n",
    "label_encoder=LabelEncoder()\n",
    "for i in X_train.columns:\n",
    "    if X_train[i].dtypes=='object':\n",
    "        X_train[i]=label_encoder.fit_transform(X_train[i])\n",
    "        X_valid[i]=label_encoder.transform(X_valid[i])\n",
    "        X_test[i]=label_encoder.transform(X_test[i])\n",
    "    else:\n",
    "        pass"
   ]
  },
  {
   "cell_type": "markdown",
   "id": "fbdd5876-ac45-4e04-8274-7910ad789e75",
   "metadata": {},
   "source": [
    "# RandomForest Regressor parameter Tuning"
   ]
  },
  {
   "cell_type": "markdown",
   "id": "a9dd8c59-8e9b-4fee-bae6-0ab0197bf540",
   "metadata": {},
   "source": [
    "- 주요 파라미터 설명\n",
    "\n",
    "- n_estimators=의사 결정 트리 개수\n",
    "\n",
    "- max_depth= 트리 최대 깊이\n",
    "\n",
    "- min_sample_split=최소한의 샘플 수\n",
    "\n",
    "- min_sample_leaf=리프 노드가 되기 위한 최소 샘플 수\n",
    "\n",
    "- max_feature= 각 노드에서 분할에 사용할 특성의 최대 개수\n",
    "-------------------------------------------------------------------------------------------------------------\n",
    "\n",
    "\n",
    "- 초기 파라미터\n",
    "\n",
    "- model_reg=RandomForestRegressor(n_jobs=-1,random_state=42,n_estimators=200,max_depth=8)\n",
    "\n",
    "-------------------------------------------------------------------------------------------------------------\n",
    "\n",
    "- 파라미터 튜닝\n",
    "\n",
    "- max_depth 6~9\n",
    "\n",
    "- 반복수 100~300"
   ]
  },
  {
   "cell_type": "markdown",
   "id": "aa8cdd0e-289c-4ae4-b8e0-791d0322c694",
   "metadata": {},
   "source": [
    "# 초기 기본 모델"
   ]
  },
  {
   "cell_type": "code",
   "execution_count": 17,
   "id": "b2f03564-cc8f-4339-ade9-ea5d0014c8b5",
   "metadata": {
    "tags": []
   },
   "outputs": [
    {
     "data": {
      "image/png": "[encoded data removed]",
      "text/plain": [
       "<Figure size 576x432 with 1 Axes>"
      ]
     },
     "metadata": {},
     "output_type": "display_data"
    },
    {
     "name": "stdout",
     "output_type": "stream",
     "text": [
      "MAE: 1.36\n",
      "MSE: 3.33\n",
      "RMSE: 1.83\n",
      "RMSPE: 54.09%\n",
      "----------------------------------------------------------------------------------------------------\n",
      "MAE: 12.41\n",
      "MSE: 352.9\n",
      "RMSE: 18.79\n",
      "RMSPE: 22.93%\n"
     ]
    }
   ],
   "source": [
    "# Randomforest 모델 구축\n",
    "model_reg=RandomForestRegressor(n_jobs=-1,random_state=42,n_estimators=200,max_depth=8)\n",
    "model_reg.fit(X_train,Y_train)\n",
    "value_importance=model_reg.feature_importances_\n",
    "value_importance=pd.Series(value_importance,index=X_train.columns)\n",
    "value_importance=value_importance.sort_values(ascending=False)\n",
    "plt.figure(figsize=(8,6))\n",
    "sns.barplot(x=value_importance,y=value_importance.index)\n",
    "plt.show()\n",
    "pred=model_reg.predict(X_test)\n",
    "pred=pd.DataFrame(pred,columns=['예측값'])\n",
    "pred['예측값']=round(pred['예측값'],0)\n",
    "Evaluation_metric(Y_test,pred=pred['예측값'])\n",
    "print('-'*100)\n",
    "# Test data Set\n",
    "test_index=X_test.index.tolist()\n",
    "data_test=data_real.loc[test_index]\n",
    "data_test=data_test.reset_index()\n",
    "data_test.drop(columns=['index'],inplace=True)\n",
    "data_test['predict']=pred\n",
    "result=data_test.groupby(['지자체명_시도','지자체명_시군구'])[['합계','predict']].sum().reset_index()\n",
    "result_1=result.query('합계>10')\n",
    "Evaluation_metric(result_1['합계'],pred=result_1['predict'])"
   ]
  },
  {
   "cell_type": "markdown",
   "id": "c1e38274-f942-4ef5-82ea-7c02660f4b91",
   "metadata": {},
   "source": [
    "# OPTUNA 라이브러리 활용 파라미터 튜닝"
   ]
  },
  {
   "cell_type": "markdown",
   "id": "085b7136-45c8-490b-bd80-fc252c9171ed",
   "metadata": {},
   "source": [
    "파라미터 튜닝 코드\n",
    "\n",
    "- optuna.trial.Trial.suggest_categorical() : 리스트 범위 내에서 값을 선택한다.\n",
    "- optuna.trial.Trial.suggest_int() : 범위 내에서 정수형 값을 선택한다.\n",
    "- optuna.trial.Trial.suggest_float() : 범위 내에서 소수형 값을 선택한다.\n",
    "- optuna.trial.Trial.suggest_uniform() : 범위 내에서 균일분포 값을 선택한다.\n",
    "- optuna.trial.Trial.suggest_discrete_uniform() : 범위 내에서 이산 균일분포 값을 선택한다.\n",
    "- optuna.trial.Trial.suggest_loguniform() : 범위 내에서 로그 함수 값을 선택한다."
   ]
  },
  {
   "cell_type": "code",
   "execution_count": 33,
   "id": "e8a8d712-10bf-49fd-b7f0-e799fc64a677",
   "metadata": {
    "tags": []
   },
   "outputs": [
    {
     "name": "stderr",
     "output_type": "stream",
     "text": [
      "[I 2023-11-27 17:34:56,209] A new study created in memory with name: no-name-9de51089-9622-4de3-8700-eb679f8b9bd0\n",
      "[I 2023-11-27 17:34:56,612] Trial 0 finished with value: 1.4038189643644314 and parameters: {'n_estimators': 334, 'max_depth': 10, 'min_samples_split': 13, 'min_samples_leaf': 3, 'max_features': 2}. Best is trial 0 with value: 1.4038189643644314.\n",
      "[I 2023-11-27 17:34:57,019] Trial 1 finished with value: 1.3880551382490693 and parameters: {'n_estimators': 324, 'max_depth': 10, 'min_samples_split': 12, 'min_samples_leaf': 4, 'max_features': 3}. Best is trial 1 with value: 1.3880551382490693.\n",
      "[I 2023-11-27 17:34:57,502] Trial 2 finished with value: 1.3992377014450559 and parameters: {'n_estimators': 397, 'max_depth': 9, 'min_samples_split': 11, 'min_samples_leaf': 5, 'max_features': 3}. Best is trial 1 with value: 1.3880551382490693.\n",
      "[I 2023-11-27 17:34:57,924] Trial 3 finished with value: 1.4220847370529734 and parameters: {'n_estimators': 391, 'max_depth': 10, 'min_samples_split': 13, 'min_samples_leaf': 3, 'max_features': 1}. Best is trial 1 with value: 1.3880551382490693.\n",
      "[I 2023-11-27 17:34:58,312] Trial 4 finished with value: 1.4154545899063706 and parameters: {'n_estimators': 349, 'max_depth': 11, 'min_samples_split': 12, 'min_samples_leaf': 4, 'max_features': 1}. Best is trial 1 with value: 1.3880551382490693.\n",
      "[I 2023-11-27 17:34:58,697] Trial 5 finished with value: 1.4128192018569412 and parameters: {'n_estimators': 323, 'max_depth': 11, 'min_samples_split': 12, 'min_samples_leaf': 3, 'max_features': 1}. Best is trial 1 with value: 1.3880551382490693.\n",
      "[I 2023-11-27 17:34:59,165] Trial 6 finished with value: 1.3870220094734853 and parameters: {'n_estimators': 369, 'max_depth': 10, 'min_samples_split': 11, 'min_samples_leaf': 4, 'max_features': 3}. Best is trial 6 with value: 1.3870220094734853.\n",
      "[I 2023-11-27 17:34:59,634] Trial 7 finished with value: 1.387377533003892 and parameters: {'n_estimators': 377, 'max_depth': 10, 'min_samples_split': 13, 'min_samples_leaf': 3, 'max_features': 3}. Best is trial 6 with value: 1.3870220094734853.\n",
      "[I 2023-11-27 17:35:00,128] Trial 8 finished with value: 1.3793690667237326 and parameters: {'n_estimators': 376, 'max_depth': 11, 'min_samples_split': 11, 'min_samples_leaf': 5, 'max_features': 3}. Best is trial 8 with value: 1.3793690667237326.\n",
      "[I 2023-11-27 17:35:00,521] Trial 9 finished with value: 1.4126886807540653 and parameters: {'n_estimators': 340, 'max_depth': 9, 'min_samples_split': 11, 'min_samples_leaf': 3, 'max_features': 2}. Best is trial 8 with value: 1.3793690667237326.\n",
      "[I 2023-11-27 17:35:00,913] Trial 10 finished with value: 1.3881904640754894 and parameters: {'n_estimators': 301, 'max_depth': 12, 'min_samples_split': 11, 'min_samples_leaf': 5, 'max_features': 2}. Best is trial 8 with value: 1.3793690667237326.\n",
      "[I 2023-11-27 17:35:01,424] Trial 11 finished with value: 1.3708115191227164 and parameters: {'n_estimators': 369, 'max_depth': 12, 'min_samples_split': 11, 'min_samples_leaf': 5, 'max_features': 3}. Best is trial 11 with value: 1.3708115191227164.\n",
      "[I 2023-11-27 17:35:01,929] Trial 12 finished with value: 1.3707704131923673 and parameters: {'n_estimators': 366, 'max_depth': 12, 'min_samples_split': 11, 'min_samples_leaf': 5, 'max_features': 3}. Best is trial 12 with value: 1.3707704131923673.\n",
      "[I 2023-11-27 17:35:02,428] Trial 13 finished with value: 1.3706375622166949 and parameters: {'n_estimators': 362, 'max_depth': 12, 'min_samples_split': 11, 'min_samples_leaf': 5, 'max_features': 3}. Best is trial 13 with value: 1.3706375622166949.\n",
      "[I 2023-11-27 17:35:02,878] Trial 14 finished with value: 1.3892723798904156 and parameters: {'n_estimators': 358, 'max_depth': 12, 'min_samples_split': 12, 'min_samples_leaf': 5, 'max_features': 2}. Best is trial 13 with value: 1.3706375622166949.\n",
      "[I 2023-11-27 17:35:03,369] Trial 15 finished with value: 1.3705695190565945 and parameters: {'n_estimators': 356, 'max_depth': 12, 'min_samples_split': 11, 'min_samples_leaf': 5, 'max_features': 3}. Best is trial 15 with value: 1.3705695190565945.\n",
      "[I 2023-11-27 17:35:03,831] Trial 16 finished with value: 1.386060025962301 and parameters: {'n_estimators': 350, 'max_depth': 12, 'min_samples_split': 12, 'min_samples_leaf': 4, 'max_features': 2}. Best is trial 15 with value: 1.3705695190565945.\n",
      "[I 2023-11-27 17:35:04,373] Trial 17 finished with value: 1.3791049523287353 and parameters: {'n_estimators': 384, 'max_depth': 11, 'min_samples_split': 11, 'min_samples_leaf': 5, 'max_features': 3}. Best is trial 15 with value: 1.3705695190565945.\n",
      "[I 2023-11-27 17:35:04,865] Trial 18 finished with value: 1.368666487451272 and parameters: {'n_estimators': 358, 'max_depth': 12, 'min_samples_split': 12, 'min_samples_leaf': 4, 'max_features': 3}. Best is trial 18 with value: 1.368666487451272.\n",
      "[I 2023-11-27 17:35:05,295] Trial 19 finished with value: 1.3931565701833477 and parameters: {'n_estimators': 339, 'max_depth': 11, 'min_samples_split': 12, 'min_samples_leaf': 4, 'max_features': 2}. Best is trial 18 with value: 1.368666487451272.\n",
      "[I 2023-11-27 17:35:05,715] Trial 20 finished with value: 1.3699851686652793 and parameters: {'n_estimators': 302, 'max_depth': 12, 'min_samples_split': 13, 'min_samples_leaf': 4, 'max_features': 3}. Best is trial 18 with value: 1.368666487451272.\n",
      "[I 2023-11-27 17:35:06,136] Trial 21 finished with value: 1.3700475670602716 and parameters: {'n_estimators': 303, 'max_depth': 12, 'min_samples_split': 13, 'min_samples_leaf': 4, 'max_features': 3}. Best is trial 18 with value: 1.368666487451272.\n",
      "[I 2023-11-27 17:35:06,574] Trial 22 finished with value: 1.3700293398767946 and parameters: {'n_estimators': 309, 'max_depth': 12, 'min_samples_split': 13, 'min_samples_leaf': 4, 'max_features': 3}. Best is trial 18 with value: 1.368666487451272.\n",
      "[I 2023-11-27 17:35:06,997] Trial 23 finished with value: 1.3776927304178792 and parameters: {'n_estimators': 307, 'max_depth': 11, 'min_samples_split': 13, 'min_samples_leaf': 4, 'max_features': 3}. Best is trial 18 with value: 1.368666487451272.\n",
      "[I 2023-11-27 17:35:07,436] Trial 24 finished with value: 1.3700271061493592 and parameters: {'n_estimators': 313, 'max_depth': 12, 'min_samples_split': 13, 'min_samples_leaf': 4, 'max_features': 3}. Best is trial 18 with value: 1.368666487451272.\n",
      "[I 2023-11-27 17:35:07,843] Trial 25 finished with value: 1.387497261416244 and parameters: {'n_estimators': 319, 'max_depth': 12, 'min_samples_split': 13, 'min_samples_leaf': 4, 'max_features': 2}. Best is trial 18 with value: 1.368666487451272.\n",
      "[I 2023-11-27 17:35:08,267] Trial 26 finished with value: 1.3767193694479822 and parameters: {'n_estimators': 313, 'max_depth': 11, 'min_samples_split': 12, 'min_samples_leaf': 4, 'max_features': 3}. Best is trial 18 with value: 1.368666487451272.\n",
      "[I 2023-11-27 17:35:08,694] Trial 27 finished with value: 1.3875172546369072 and parameters: {'n_estimators': 333, 'max_depth': 12, 'min_samples_split': 13, 'min_samples_leaf': 4, 'max_features': 2}. Best is trial 18 with value: 1.368666487451272.\n",
      "[I 2023-11-27 17:35:09,124] Trial 28 finished with value: 1.3765611050141637 and parameters: {'n_estimators': 315, 'max_depth': 11, 'min_samples_split': 12, 'min_samples_leaf': 4, 'max_features': 3}. Best is trial 18 with value: 1.368666487451272.\n",
      "[I 2023-11-27 17:35:09,569] Trial 29 finished with value: 1.3835687598834931 and parameters: {'n_estimators': 330, 'max_depth': 12, 'min_samples_split': 13, 'min_samples_leaf': 3, 'max_features': 2}. Best is trial 18 with value: 1.368666487451272.\n",
      "[I 2023-11-27 17:35:10,062] Trial 30 finished with value: 1.3701440943132068 and parameters: {'n_estimators': 327, 'max_depth': 12, 'min_samples_split': 13, 'min_samples_leaf': 4, 'max_features': 3}. Best is trial 18 with value: 1.368666487451272.\n",
      "[I 2023-11-27 17:35:10,517] Trial 31 finished with value: 1.3700293398767946 and parameters: {'n_estimators': 309, 'max_depth': 12, 'min_samples_split': 13, 'min_samples_leaf': 4, 'max_features': 3}. Best is trial 18 with value: 1.368666487451272.\n",
      "[I 2023-11-27 17:35:10,957] Trial 32 finished with value: 1.369977669976677 and parameters: {'n_estimators': 310, 'max_depth': 12, 'min_samples_split': 13, 'min_samples_leaf': 4, 'max_features': 3}. Best is trial 18 with value: 1.368666487451272.\n",
      "[I 2023-11-27 17:35:11,378] Trial 33 finished with value: 1.3699589066197477 and parameters: {'n_estimators': 300, 'max_depth': 12, 'min_samples_split': 13, 'min_samples_leaf': 4, 'max_features': 3}. Best is trial 18 with value: 1.368666487451272.\n",
      "[I 2023-11-27 17:35:11,763] Trial 34 finished with value: 1.3968483662473743 and parameters: {'n_estimators': 301, 'max_depth': 9, 'min_samples_split': 12, 'min_samples_leaf': 4, 'max_features': 3}. Best is trial 18 with value: 1.368666487451272.\n",
      "[I 2023-11-27 17:35:12,196] Trial 35 finished with value: 1.377769026493543 and parameters: {'n_estimators': 320, 'max_depth': 11, 'min_samples_split': 13, 'min_samples_leaf': 4, 'max_features': 3}. Best is trial 18 with value: 1.368666487451272.\n",
      "[I 2023-11-27 17:35:12,613] Trial 36 finished with value: 1.4028648051538706 and parameters: {'n_estimators': 341, 'max_depth': 12, 'min_samples_split': 12, 'min_samples_leaf': 3, 'max_features': 1}. Best is trial 18 with value: 1.368666487451272.\n",
      "[I 2023-11-27 17:35:13,047] Trial 37 finished with value: 1.3699481710197035 and parameters: {'n_estimators': 306, 'max_depth': 12, 'min_samples_split': 13, 'min_samples_leaf': 4, 'max_features': 3}. Best is trial 18 with value: 1.368666487451272.\n",
      "[I 2023-11-27 17:35:13,520] Trial 38 finished with value: 1.3766184085299777 and parameters: {'n_estimators': 350, 'max_depth': 11, 'min_samples_split': 12, 'min_samples_leaf': 4, 'max_features': 3}. Best is trial 18 with value: 1.368666487451272.\n",
      "[I 2023-11-27 17:35:14,035] Trial 39 finished with value: 1.387383538790117 and parameters: {'n_estimators': 398, 'max_depth': 10, 'min_samples_split': 13, 'min_samples_leaf': 3, 'max_features': 3}. Best is trial 18 with value: 1.368666487451272.\n",
      "[I 2023-11-27 17:35:14,469] Trial 40 finished with value: 1.3766296404603768 and parameters: {'n_estimators': 318, 'max_depth': 11, 'min_samples_split': 12, 'min_samples_leaf': 4, 'max_features': 3}. Best is trial 18 with value: 1.368666487451272.\n",
      "[I 2023-11-27 17:35:14,921] Trial 41 finished with value: 1.3699481710197035 and parameters: {'n_estimators': 306, 'max_depth': 12, 'min_samples_split': 13, 'min_samples_leaf': 4, 'max_features': 3}. Best is trial 18 with value: 1.368666487451272.\n",
      "[I 2023-11-27 17:35:15,362] Trial 42 finished with value: 1.3700232446548517 and parameters: {'n_estimators': 307, 'max_depth': 12, 'min_samples_split': 13, 'min_samples_leaf': 4, 'max_features': 3}. Best is trial 18 with value: 1.368666487451272.\n",
      "[I 2023-11-27 17:35:15,818] Trial 43 finished with value: 1.3702017611804314 and parameters: {'n_estimators': 326, 'max_depth': 12, 'min_samples_split': 13, 'min_samples_leaf': 4, 'max_features': 3}. Best is trial 18 with value: 1.368666487451272.\n",
      "[I 2023-11-27 17:35:16,257] Trial 44 finished with value: 1.3699481710197035 and parameters: {'n_estimators': 306, 'max_depth': 12, 'min_samples_split': 13, 'min_samples_leaf': 4, 'max_features': 3}. Best is trial 18 with value: 1.368666487451272.\n",
      "[I 2023-11-27 17:35:16,693] Trial 45 finished with value: 1.3699589066197477 and parameters: {'n_estimators': 300, 'max_depth': 12, 'min_samples_split': 13, 'min_samples_leaf': 4, 'max_features': 3}. Best is trial 18 with value: 1.368666487451272.\n",
      "[I 2023-11-27 17:35:17,144] Trial 46 finished with value: 1.370054609227279 and parameters: {'n_estimators': 305, 'max_depth': 12, 'min_samples_split': 13, 'min_samples_leaf': 4, 'max_features': 3}. Best is trial 18 with value: 1.368666487451272.\n",
      "[I 2023-11-27 17:35:17,546] Trial 47 finished with value: 1.406651314343908 and parameters: {'n_estimators': 315, 'max_depth': 12, 'min_samples_split': 12, 'min_samples_leaf': 4, 'max_features': 1}. Best is trial 18 with value: 1.368666487451272.\n",
      "[I 2023-11-27 17:35:18,073] Trial 48 finished with value: 1.3680880297691969 and parameters: {'n_estimators': 374, 'max_depth': 12, 'min_samples_split': 13, 'min_samples_leaf': 3, 'max_features': 3}. Best is trial 48 with value: 1.3680880297691969.\n",
      "[I 2023-11-27 17:35:18,586] Trial 49 finished with value: 1.3763654558140455 and parameters: {'n_estimators': 378, 'max_depth': 11, 'min_samples_split': 13, 'min_samples_leaf': 3, 'max_features': 3}. Best is trial 48 with value: 1.3680880297691969.\n",
      "[I 2023-11-27 17:35:19,066] Trial 50 finished with value: 1.4127223217177132 and parameters: {'n_estimators': 390, 'max_depth': 9, 'min_samples_split': 12, 'min_samples_leaf': 3, 'max_features': 2}. Best is trial 48 with value: 1.3680880297691969.\n",
      "[I 2023-11-27 17:35:19,581] Trial 51 finished with value: 1.3678664888680396 and parameters: {'n_estimators': 363, 'max_depth': 12, 'min_samples_split': 13, 'min_samples_leaf': 3, 'max_features': 3}. Best is trial 51 with value: 1.3678664888680396.\n",
      "[I 2023-11-27 17:35:20,108] Trial 52 finished with value: 1.3681096290602037 and parameters: {'n_estimators': 372, 'max_depth': 12, 'min_samples_split': 13, 'min_samples_leaf': 3, 'max_features': 3}. Best is trial 51 with value: 1.3678664888680396.\n",
      "[I 2023-11-27 17:35:20,655] Trial 53 finished with value: 1.3681480474364591 and parameters: {'n_estimators': 370, 'max_depth': 12, 'min_samples_split': 13, 'min_samples_leaf': 3, 'max_features': 3}. Best is trial 51 with value: 1.3678664888680396.\n",
      "[I 2023-11-27 17:35:21,172] Trial 54 finished with value: 1.3681096290602037 and parameters: {'n_estimators': 372, 'max_depth': 12, 'min_samples_split': 13, 'min_samples_leaf': 3, 'max_features': 3}. Best is trial 51 with value: 1.3678664888680396.\n",
      "[I 2023-11-27 17:35:21,691] Trial 55 finished with value: 1.3681096290602037 and parameters: {'n_estimators': 372, 'max_depth': 12, 'min_samples_split': 13, 'min_samples_leaf': 3, 'max_features': 3}. Best is trial 51 with value: 1.3678664888680396.\n",
      "[I 2023-11-27 17:35:22,212] Trial 56 finished with value: 1.3681096290602037 and parameters: {'n_estimators': 372, 'max_depth': 12, 'min_samples_split': 13, 'min_samples_leaf': 3, 'max_features': 3}. Best is trial 51 with value: 1.3678664888680396.\n",
      "[I 2023-11-27 17:35:22,729] Trial 57 finished with value: 1.3681096290602037 and parameters: {'n_estimators': 372, 'max_depth': 12, 'min_samples_split': 13, 'min_samples_leaf': 3, 'max_features': 3}. Best is trial 51 with value: 1.3678664888680396.\n",
      "[I 2023-11-27 17:35:23,238] Trial 58 finished with value: 1.367910850974044 and parameters: {'n_estimators': 364, 'max_depth': 12, 'min_samples_split': 13, 'min_samples_leaf': 3, 'max_features': 3}. Best is trial 51 with value: 1.3678664888680396.\n",
      "[I 2023-11-27 17:35:23,718] Trial 59 finished with value: 1.3871269731520144 and parameters: {'n_estimators': 364, 'max_depth': 10, 'min_samples_split': 13, 'min_samples_leaf': 3, 'max_features': 3}. Best is trial 51 with value: 1.3678664888680396.\n",
      "[I 2023-11-27 17:35:24,248] Trial 60 finished with value: 1.3680768480780934 and parameters: {'n_estimators': 384, 'max_depth': 12, 'min_samples_split': 13, 'min_samples_leaf': 3, 'max_features': 3}. Best is trial 51 with value: 1.3678664888680396.\n",
      "[I 2023-11-27 17:35:24,780] Trial 61 finished with value: 1.3681684388875281 and parameters: {'n_estimators': 381, 'max_depth': 12, 'min_samples_split': 13, 'min_samples_leaf': 3, 'max_features': 3}. Best is trial 51 with value: 1.3678664888680396.\n",
      "[I 2023-11-27 17:35:25,325] Trial 62 finished with value: 1.368158283557461 and parameters: {'n_estimators': 387, 'max_depth': 12, 'min_samples_split': 13, 'min_samples_leaf': 3, 'max_features': 3}. Best is trial 51 with value: 1.3678664888680396.\n",
      "[I 2023-11-27 17:35:25,874] Trial 63 finished with value: 1.3680844558056322 and parameters: {'n_estimators': 375, 'max_depth': 12, 'min_samples_split': 13, 'min_samples_leaf': 3, 'max_features': 3}. Best is trial 51 with value: 1.3678664888680396.\n",
      "[I 2023-11-27 17:35:26,393] Trial 64 finished with value: 1.3678584965176086 and parameters: {'n_estimators': 360, 'max_depth': 12, 'min_samples_split': 13, 'min_samples_leaf': 3, 'max_features': 3}. Best is trial 64 with value: 1.3678584965176086.\n",
      "[I 2023-11-27 17:35:26,894] Trial 65 finished with value: 1.3678584965176088 and parameters: {'n_estimators': 360, 'max_depth': 12, 'min_samples_split': 13, 'min_samples_leaf': 3, 'max_features': 3}. Best is trial 64 with value: 1.3678584965176086.\n",
      "[I 2023-11-27 17:35:27,390] Trial 66 finished with value: 1.367926569739277 and parameters: {'n_estimators': 355, 'max_depth': 12, 'min_samples_split': 13, 'min_samples_leaf': 3, 'max_features': 3}. Best is trial 64 with value: 1.3678584965176086.\n",
      "[I 2023-11-27 17:35:27,890] Trial 67 finished with value: 1.367926569739277 and parameters: {'n_estimators': 355, 'max_depth': 12, 'min_samples_split': 13, 'min_samples_leaf': 3, 'max_features': 3}. Best is trial 64 with value: 1.3678584965176086.\n",
      "[I 2023-11-27 17:35:28,393] Trial 68 finished with value: 1.383959904145074 and parameters: {'n_estimators': 354, 'max_depth': 12, 'min_samples_split': 13, 'min_samples_leaf': 3, 'max_features': 2}. Best is trial 64 with value: 1.3678584965176086.\n",
      "[I 2023-11-27 17:35:28,881] Trial 69 finished with value: 1.3678869073860984 and parameters: {'n_estimators': 345, 'max_depth': 12, 'min_samples_split': 13, 'min_samples_leaf': 3, 'max_features': 3}. Best is trial 64 with value: 1.3678584965176086.\n",
      "[I 2023-11-27 17:35:29,374] Trial 70 finished with value: 1.3760734632547507 and parameters: {'n_estimators': 361, 'max_depth': 11, 'min_samples_split': 13, 'min_samples_leaf': 3, 'max_features': 3}. Best is trial 64 with value: 1.3678584965176086.\n",
      "[I 2023-11-27 17:35:29,857] Trial 71 finished with value: 1.3678869073860986 and parameters: {'n_estimators': 345, 'max_depth': 12, 'min_samples_split': 13, 'min_samples_leaf': 3, 'max_features': 3}. Best is trial 64 with value: 1.3678584965176086.\n",
      "[I 2023-11-27 17:35:30,345] Trial 72 finished with value: 1.3678869073860984 and parameters: {'n_estimators': 345, 'max_depth': 12, 'min_samples_split': 13, 'min_samples_leaf': 3, 'max_features': 3}. Best is trial 64 with value: 1.3678584965176086.\n",
      "[I 2023-11-27 17:35:30,829] Trial 73 finished with value: 1.3678869073860984 and parameters: {'n_estimators': 345, 'max_depth': 12, 'min_samples_split': 13, 'min_samples_leaf': 3, 'max_features': 3}. Best is trial 64 with value: 1.3678584965176086.\n",
      "[I 2023-11-27 17:35:31,346] Trial 74 finished with value: 1.3678869073860984 and parameters: {'n_estimators': 345, 'max_depth': 12, 'min_samples_split': 13, 'min_samples_leaf': 3, 'max_features': 3}. Best is trial 64 with value: 1.3678584965176086.\n",
      "[I 2023-11-27 17:35:31,842] Trial 75 finished with value: 1.367962740063797 and parameters: {'n_estimators': 344, 'max_depth': 12, 'min_samples_split': 13, 'min_samples_leaf': 3, 'max_features': 3}. Best is trial 64 with value: 1.3678584965176086.\n",
      "[I 2023-11-27 17:35:32,327] Trial 76 finished with value: 1.3681392667874892 and parameters: {'n_estimators': 348, 'max_depth': 12, 'min_samples_split': 13, 'min_samples_leaf': 3, 'max_features': 3}. Best is trial 64 with value: 1.3678584965176086.\n",
      "[I 2023-11-27 17:35:32,799] Trial 77 finished with value: 1.367950800257498 and parameters: {'n_estimators': 335, 'max_depth': 12, 'min_samples_split': 13, 'min_samples_leaf': 3, 'max_features': 3}. Best is trial 64 with value: 1.3678584965176086.\n",
      "[I 2023-11-27 17:35:33,214] Trial 78 finished with value: 1.4028470036744969 and parameters: {'n_estimators': 345, 'max_depth': 12, 'min_samples_split': 13, 'min_samples_leaf': 3, 'max_features': 1}. Best is trial 64 with value: 1.3678584965176086.\n",
      "[I 2023-11-27 17:35:33,706] Trial 79 finished with value: 1.3681835877069497 and parameters: {'n_estimators': 352, 'max_depth': 12, 'min_samples_split': 13, 'min_samples_leaf': 3, 'max_features': 3}. Best is trial 64 with value: 1.3678584965176086.\n",
      "[I 2023-11-27 17:35:34,155] Trial 80 finished with value: 1.383770976301873 and parameters: {'n_estimators': 347, 'max_depth': 12, 'min_samples_split': 13, 'min_samples_leaf': 3, 'max_features': 2}. Best is trial 64 with value: 1.3678584965176086.\n",
      "[I 2023-11-27 17:35:34,658] Trial 81 finished with value: 1.3677478523137325 and parameters: {'n_estimators': 359, 'max_depth': 12, 'min_samples_split': 13, 'min_samples_leaf': 3, 'max_features': 3}. Best is trial 81 with value: 1.3677478523137325.\n",
      "[I 2023-11-27 17:35:35,156] Trial 82 finished with value: 1.3677478523137325 and parameters: {'n_estimators': 359, 'max_depth': 12, 'min_samples_split': 13, 'min_samples_leaf': 3, 'max_features': 3}. Best is trial 81 with value: 1.3677478523137325.\n",
      "[I 2023-11-27 17:35:35,657] Trial 83 finished with value: 1.3678584965176088 and parameters: {'n_estimators': 360, 'max_depth': 12, 'min_samples_split': 13, 'min_samples_leaf': 3, 'max_features': 3}. Best is trial 81 with value: 1.3677478523137325.\n",
      "[I 2023-11-27 17:35:36,162] Trial 84 finished with value: 1.3678584965176088 and parameters: {'n_estimators': 360, 'max_depth': 12, 'min_samples_split': 13, 'min_samples_leaf': 3, 'max_features': 3}. Best is trial 81 with value: 1.3677478523137325.\n",
      "[I 2023-11-27 17:35:36,683] Trial 85 finished with value: 1.3678584965176088 and parameters: {'n_estimators': 360, 'max_depth': 12, 'min_samples_split': 13, 'min_samples_leaf': 3, 'max_features': 3}. Best is trial 81 with value: 1.3677478523137325.\n",
      "[I 2023-11-27 17:35:37,201] Trial 86 finished with value: 1.3677478523137325 and parameters: {'n_estimators': 359, 'max_depth': 12, 'min_samples_split': 13, 'min_samples_leaf': 3, 'max_features': 3}. Best is trial 81 with value: 1.3677478523137325.\n",
      "[I 2023-11-27 17:35:37,694] Trial 87 finished with value: 1.3759902140452558 and parameters: {'n_estimators': 360, 'max_depth': 11, 'min_samples_split': 13, 'min_samples_leaf': 3, 'max_features': 3}. Best is trial 81 with value: 1.3677478523137325.\n",
      "[I 2023-11-27 17:35:38,205] Trial 88 finished with value: 1.3680484884601578 and parameters: {'n_estimators': 367, 'max_depth': 12, 'min_samples_split': 13, 'min_samples_leaf': 3, 'max_features': 3}. Best is trial 81 with value: 1.3677478523137325.\n",
      "[I 2023-11-27 17:35:38,704] Trial 89 finished with value: 1.3678498795012588 and parameters: {'n_estimators': 358, 'max_depth': 12, 'min_samples_split': 13, 'min_samples_leaf': 3, 'max_features': 3}. Best is trial 81 with value: 1.3677478523137325.\n",
      "[I 2023-11-27 17:35:39,205] Trial 90 finished with value: 1.3678498795012588 and parameters: {'n_estimators': 358, 'max_depth': 12, 'min_samples_split': 13, 'min_samples_leaf': 3, 'max_features': 3}. Best is trial 81 with value: 1.3677478523137325.\n",
      "[I 2023-11-27 17:35:39,703] Trial 91 finished with value: 1.3678498795012588 and parameters: {'n_estimators': 358, 'max_depth': 12, 'min_samples_split': 13, 'min_samples_leaf': 3, 'max_features': 3}. Best is trial 81 with value: 1.3677478523137325.\n",
      "[I 2023-11-27 17:35:40,201] Trial 92 finished with value: 1.3679492641005164 and parameters: {'n_estimators': 357, 'max_depth': 12, 'min_samples_split': 13, 'min_samples_leaf': 3, 'max_features': 3}. Best is trial 81 with value: 1.3677478523137325.\n",
      "[I 2023-11-27 17:35:40,692] Trial 93 finished with value: 1.3681835877069497 and parameters: {'n_estimators': 352, 'max_depth': 12, 'min_samples_split': 13, 'min_samples_leaf': 3, 'max_features': 3}. Best is trial 81 with value: 1.3677478523137325.\n",
      "[I 2023-11-27 17:35:41,269] Trial 94 finished with value: 1.3680484884601578 and parameters: {'n_estimators': 367, 'max_depth': 12, 'min_samples_split': 13, 'min_samples_leaf': 3, 'max_features': 3}. Best is trial 81 with value: 1.3677478523137325.\n",
      "[I 2023-11-27 17:35:41,780] Trial 95 finished with value: 1.3677478523137325 and parameters: {'n_estimators': 359, 'max_depth': 12, 'min_samples_split': 13, 'min_samples_leaf': 3, 'max_features': 3}. Best is trial 81 with value: 1.3677478523137325.\n",
      "[I 2023-11-27 17:35:42,302] Trial 96 finished with value: 1.3678498795012588 and parameters: {'n_estimators': 358, 'max_depth': 12, 'min_samples_split': 13, 'min_samples_leaf': 3, 'max_features': 3}. Best is trial 81 with value: 1.3677478523137325.\n",
      "[I 2023-11-27 17:35:42,817] Trial 97 finished with value: 1.3678321869211885 and parameters: {'n_estimators': 365, 'max_depth': 12, 'min_samples_split': 13, 'min_samples_leaf': 3, 'max_features': 3}. Best is trial 81 with value: 1.3677478523137325.\n",
      "[I 2023-11-27 17:35:43,320] Trial 98 finished with value: 1.3679492641005166 and parameters: {'n_estimators': 357, 'max_depth': 12, 'min_samples_split': 13, 'min_samples_leaf': 3, 'max_features': 3}. Best is trial 81 with value: 1.3677478523137325.\n",
      "[I 2023-11-27 17:35:43,824] Trial 99 finished with value: 1.3680331443818152 and parameters: {'n_estimators': 353, 'max_depth': 12, 'min_samples_split': 13, 'min_samples_leaf': 3, 'max_features': 3}. Best is trial 81 with value: 1.3677478523137325.\n",
      "[I 2023-11-27 17:35:44,331] Trial 100 finished with value: 1.367910850974044 and parameters: {'n_estimators': 364, 'max_depth': 12, 'min_samples_split': 13, 'min_samples_leaf': 3, 'max_features': 3}. Best is trial 81 with value: 1.3677478523137325.\n",
      "[I 2023-11-27 17:35:44,830] Trial 101 finished with value: 1.367849879501259 and parameters: {'n_estimators': 358, 'max_depth': 12, 'min_samples_split': 13, 'min_samples_leaf': 3, 'max_features': 3}. Best is trial 81 with value: 1.3677478523137325.\n",
      "[I 2023-11-27 17:35:45,345] Trial 102 finished with value: 1.3678321869211885 and parameters: {'n_estimators': 365, 'max_depth': 12, 'min_samples_split': 13, 'min_samples_leaf': 3, 'max_features': 3}. Best is trial 81 with value: 1.3677478523137325.\n",
      "[I 2023-11-27 17:35:45,855] Trial 103 finished with value: 1.3680758039366923 and parameters: {'n_estimators': 369, 'max_depth': 12, 'min_samples_split': 13, 'min_samples_leaf': 3, 'max_features': 3}. Best is trial 81 with value: 1.3677478523137325.\n",
      "[I 2023-11-27 17:35:46,364] Trial 104 finished with value: 1.367972462053113 and parameters: {'n_estimators': 366, 'max_depth': 12, 'min_samples_split': 13, 'min_samples_leaf': 3, 'max_features': 3}. Best is trial 81 with value: 1.3677478523137325.\n",
      "[I 2023-11-27 17:35:46,865] Trial 105 finished with value: 1.3678498795012588 and parameters: {'n_estimators': 358, 'max_depth': 12, 'min_samples_split': 13, 'min_samples_leaf': 3, 'max_features': 3}. Best is trial 81 with value: 1.3677478523137325.\n",
      "[I 2023-11-27 17:35:47,420] Trial 106 finished with value: 1.3679146893180976 and parameters: {'n_estimators': 362, 'max_depth': 12, 'min_samples_split': 13, 'min_samples_leaf': 3, 'max_features': 3}. Best is trial 81 with value: 1.3677478523137325.\n",
      "[I 2023-11-27 17:35:47,917] Trial 107 finished with value: 1.3875107100551156 and parameters: {'n_estimators': 351, 'max_depth': 10, 'min_samples_split': 13, 'min_samples_leaf': 3, 'max_features': 3}. Best is trial 81 with value: 1.3677478523137325.\n",
      "[I 2023-11-27 17:35:48,371] Trial 108 finished with value: 1.3979500303466963 and parameters: {'n_estimators': 356, 'max_depth': 9, 'min_samples_split': 11, 'min_samples_leaf': 3, 'max_features': 3}. Best is trial 81 with value: 1.3677478523137325.\n",
      "[I 2023-11-27 17:35:48,876] Trial 109 finished with value: 1.3678321869211885 and parameters: {'n_estimators': 365, 'max_depth': 12, 'min_samples_split': 13, 'min_samples_leaf': 3, 'max_features': 3}. Best is trial 81 with value: 1.3677478523137325.\n",
      "[I 2023-11-27 17:35:49,391] Trial 110 finished with value: 1.3678321869211885 and parameters: {'n_estimators': 365, 'max_depth': 12, 'min_samples_split': 13, 'min_samples_leaf': 3, 'max_features': 3}. Best is trial 81 with value: 1.3677478523137325.\n",
      "[I 2023-11-27 17:35:49,904] Trial 111 finished with value: 1.367972462053113 and parameters: {'n_estimators': 366, 'max_depth': 12, 'min_samples_split': 13, 'min_samples_leaf': 3, 'max_features': 3}. Best is trial 81 with value: 1.3677478523137325.\n",
      "[I 2023-11-27 17:35:50,414] Trial 112 finished with value: 1.3678664888680396 and parameters: {'n_estimators': 363, 'max_depth': 12, 'min_samples_split': 13, 'min_samples_leaf': 3, 'max_features': 3}. Best is trial 81 with value: 1.3677478523137325.\n",
      "[I 2023-11-27 17:35:50,923] Trial 113 finished with value: 1.3678321869211885 and parameters: {'n_estimators': 365, 'max_depth': 12, 'min_samples_split': 13, 'min_samples_leaf': 3, 'max_features': 3}. Best is trial 81 with value: 1.3677478523137325.\n",
      "[I 2023-11-27 17:35:51,439] Trial 114 finished with value: 1.3680758039366923 and parameters: {'n_estimators': 369, 'max_depth': 12, 'min_samples_split': 13, 'min_samples_leaf': 3, 'max_features': 3}. Best is trial 81 with value: 1.3677478523137325.\n",
      "[I 2023-11-27 17:35:51,953] Trial 115 finished with value: 1.3678321869211885 and parameters: {'n_estimators': 365, 'max_depth': 12, 'min_samples_split': 13, 'min_samples_leaf': 3, 'max_features': 3}. Best is trial 81 with value: 1.3677478523137325.\n",
      "[I 2023-11-27 17:35:52,472] Trial 116 finished with value: 1.367910850974044 and parameters: {'n_estimators': 364, 'max_depth': 12, 'min_samples_split': 13, 'min_samples_leaf': 3, 'max_features': 3}. Best is trial 81 with value: 1.3677478523137325.\n",
      "[I 2023-11-27 17:35:53,017] Trial 117 finished with value: 1.3681480474364591 and parameters: {'n_estimators': 370, 'max_depth': 12, 'min_samples_split': 13, 'min_samples_leaf': 3, 'max_features': 3}. Best is trial 81 with value: 1.3677478523137325.\n",
      "[I 2023-11-27 17:35:53,579] Trial 118 finished with value: 1.3680484884601578 and parameters: {'n_estimators': 367, 'max_depth': 12, 'min_samples_split': 13, 'min_samples_leaf': 3, 'max_features': 3}. Best is trial 81 with value: 1.3677478523137325.\n",
      "[I 2023-11-27 17:35:54,090] Trial 119 finished with value: 1.3679146893180976 and parameters: {'n_estimators': 362, 'max_depth': 12, 'min_samples_split': 13, 'min_samples_leaf': 3, 'max_features': 3}. Best is trial 81 with value: 1.3677478523137325.\n",
      "[I 2023-11-27 17:35:54,631] Trial 120 finished with value: 1.372497040535326 and parameters: {'n_estimators': 377, 'max_depth': 12, 'min_samples_split': 13, 'min_samples_leaf': 5, 'max_features': 3}. Best is trial 81 with value: 1.3677478523137325.\n",
      "[I 2023-11-27 17:35:55,210] Trial 121 finished with value: 1.3678321869211885 and parameters: {'n_estimators': 365, 'max_depth': 12, 'min_samples_split': 13, 'min_samples_leaf': 3, 'max_features': 3}. Best is trial 81 with value: 1.3677478523137325.\n",
      "[I 2023-11-27 17:35:55,760] Trial 122 finished with value: 1.3678321869211885 and parameters: {'n_estimators': 365, 'max_depth': 12, 'min_samples_split': 13, 'min_samples_leaf': 3, 'max_features': 3}. Best is trial 81 with value: 1.3677478523137325.\n",
      "[I 2023-11-27 17:35:56,291] Trial 123 finished with value: 1.3678321869211885 and parameters: {'n_estimators': 365, 'max_depth': 12, 'min_samples_split': 13, 'min_samples_leaf': 3, 'max_features': 3}. Best is trial 81 with value: 1.3677478523137325.\n",
      "[I 2023-11-27 17:35:56,817] Trial 124 finished with value: 1.367992407779995 and parameters: {'n_estimators': 368, 'max_depth': 12, 'min_samples_split': 13, 'min_samples_leaf': 3, 'max_features': 3}. Best is trial 81 with value: 1.3677478523137325.\n",
      "[I 2023-11-27 17:35:57,331] Trial 125 finished with value: 1.3678321869211885 and parameters: {'n_estimators': 365, 'max_depth': 12, 'min_samples_split': 13, 'min_samples_leaf': 3, 'max_features': 3}. Best is trial 81 with value: 1.3677478523137325.\n",
      "[I 2023-11-27 17:35:57,859] Trial 126 finished with value: 1.3681480474364591 and parameters: {'n_estimators': 370, 'max_depth': 12, 'min_samples_split': 13, 'min_samples_leaf': 3, 'max_features': 3}. Best is trial 81 with value: 1.3677478523137325.\n",
      "[I 2023-11-27 17:35:58,375] Trial 127 finished with value: 1.3678321869211885 and parameters: {'n_estimators': 365, 'max_depth': 12, 'min_samples_split': 13, 'min_samples_leaf': 3, 'max_features': 3}. Best is trial 81 with value: 1.3677478523137325.\n",
      "[I 2023-11-27 17:35:58,937] Trial 128 finished with value: 1.3680880297691969 and parameters: {'n_estimators': 374, 'max_depth': 12, 'min_samples_split': 13, 'min_samples_leaf': 3, 'max_features': 3}. Best is trial 81 with value: 1.3677478523137325.\n",
      "[I 2023-11-27 17:35:59,482] Trial 129 finished with value: 1.3679146893180973 and parameters: {'n_estimators': 362, 'max_depth': 12, 'min_samples_split': 13, 'min_samples_leaf': 3, 'max_features': 3}. Best is trial 81 with value: 1.3677478523137325.\n",
      "[I 2023-11-27 17:36:00,025] Trial 130 finished with value: 1.367992407779995 and parameters: {'n_estimators': 368, 'max_depth': 12, 'min_samples_split': 13, 'min_samples_leaf': 3, 'max_features': 3}. Best is trial 81 with value: 1.3677478523137325.\n",
      "[I 2023-11-27 17:36:00,536] Trial 131 finished with value: 1.367910850974044 and parameters: {'n_estimators': 364, 'max_depth': 12, 'min_samples_split': 13, 'min_samples_leaf': 3, 'max_features': 3}. Best is trial 81 with value: 1.3677478523137325.\n",
      "[I 2023-11-27 17:36:01,062] Trial 132 finished with value: 1.3678321869211885 and parameters: {'n_estimators': 365, 'max_depth': 12, 'min_samples_split': 13, 'min_samples_leaf': 3, 'max_features': 3}. Best is trial 81 with value: 1.3677478523137325.\n",
      "[I 2023-11-27 17:36:01,583] Trial 133 finished with value: 1.3681551016310542 and parameters: {'n_estimators': 371, 'max_depth': 12, 'min_samples_split': 13, 'min_samples_leaf': 3, 'max_features': 3}. Best is trial 81 with value: 1.3677478523137325.\n",
      "[I 2023-11-27 17:36:02,096] Trial 134 finished with value: 1.3679146893180973 and parameters: {'n_estimators': 362, 'max_depth': 12, 'min_samples_split': 13, 'min_samples_leaf': 3, 'max_features': 3}. Best is trial 81 with value: 1.3677478523137325.\n",
      "[I 2023-11-27 17:36:02,609] Trial 135 finished with value: 1.367972462053113 and parameters: {'n_estimators': 366, 'max_depth': 12, 'min_samples_split': 13, 'min_samples_leaf': 3, 'max_features': 3}. Best is trial 81 with value: 1.3677478523137325.\n",
      "[I 2023-11-27 17:36:03,113] Trial 136 finished with value: 1.3679999078939804 and parameters: {'n_estimators': 354, 'max_depth': 12, 'min_samples_split': 13, 'min_samples_leaf': 3, 'max_features': 3}. Best is trial 81 with value: 1.3677478523137325.\n",
      "[I 2023-11-27 17:36:03,653] Trial 137 finished with value: 1.3680880297691969 and parameters: {'n_estimators': 374, 'max_depth': 12, 'min_samples_split': 13, 'min_samples_leaf': 3, 'max_features': 3}. Best is trial 81 with value: 1.3677478523137325.\n",
      "[I 2023-11-27 17:36:04,129] Trial 138 finished with value: 1.4028799061927437 and parameters: {'n_estimators': 362, 'max_depth': 12, 'min_samples_split': 13, 'min_samples_leaf': 3, 'max_features': 1}. Best is trial 81 with value: 1.3677478523137325.\n",
      "[I 2023-11-27 17:36:04,700] Trial 139 finished with value: 1.3678321869211885 and parameters: {'n_estimators': 365, 'max_depth': 12, 'min_samples_split': 13, 'min_samples_leaf': 3, 'max_features': 3}. Best is trial 81 with value: 1.3677478523137325.\n",
      "[I 2023-11-27 17:36:05,247] Trial 140 finished with value: 1.367992407779995 and parameters: {'n_estimators': 368, 'max_depth': 12, 'min_samples_split': 13, 'min_samples_leaf': 3, 'max_features': 3}. Best is trial 81 with value: 1.3677478523137325.\n",
      "[I 2023-11-27 17:36:05,773] Trial 141 finished with value: 1.36797971574763 and parameters: {'n_estimators': 361, 'max_depth': 12, 'min_samples_split': 13, 'min_samples_leaf': 3, 'max_features': 3}. Best is trial 81 with value: 1.3677478523137325.\n",
      "[I 2023-11-27 17:36:06,313] Trial 142 finished with value: 1.3678321869211885 and parameters: {'n_estimators': 365, 'max_depth': 12, 'min_samples_split': 13, 'min_samples_leaf': 3, 'max_features': 3}. Best is trial 81 with value: 1.3677478523137325.\n",
      "[I 2023-11-27 17:36:06,831] Trial 143 finished with value: 1.3680484884601578 and parameters: {'n_estimators': 367, 'max_depth': 12, 'min_samples_split': 13, 'min_samples_leaf': 3, 'max_features': 3}. Best is trial 81 with value: 1.3677478523137325.\n",
      "[I 2023-11-27 17:36:07,339] Trial 144 finished with value: 1.367910850974044 and parameters: {'n_estimators': 364, 'max_depth': 12, 'min_samples_split': 13, 'min_samples_leaf': 3, 'max_features': 3}. Best is trial 81 with value: 1.3677478523137325.\n",
      "[I 2023-11-27 17:36:07,898] Trial 145 finished with value: 1.3681551016310542 and parameters: {'n_estimators': 371, 'max_depth': 12, 'min_samples_split': 13, 'min_samples_leaf': 3, 'max_features': 3}. Best is trial 81 with value: 1.3677478523137325.\n",
      "[I 2023-11-27 17:36:08,402] Trial 146 finished with value: 1.3678584965176088 and parameters: {'n_estimators': 360, 'max_depth': 12, 'min_samples_split': 13, 'min_samples_leaf': 3, 'max_features': 3}. Best is trial 81 with value: 1.3677478523137325.\n",
      "[I 2023-11-27 17:36:08,930] Trial 147 finished with value: 1.3678664888680396 and parameters: {'n_estimators': 363, 'max_depth': 12, 'min_samples_split': 13, 'min_samples_leaf': 3, 'max_features': 3}. Best is trial 81 with value: 1.3677478523137325.\n",
      "[I 2023-11-27 17:36:09,450] Trial 148 finished with value: 1.3678838895802412 and parameters: {'n_estimators': 356, 'max_depth': 12, 'min_samples_split': 13, 'min_samples_leaf': 3, 'max_features': 3}. Best is trial 81 with value: 1.3677478523137325.\n",
      "[I 2023-11-27 17:36:10,020] Trial 149 finished with value: 1.367972462053113 and parameters: {'n_estimators': 366, 'max_depth': 12, 'min_samples_split': 13, 'min_samples_leaf': 3, 'max_features': 3}. Best is trial 81 with value: 1.3677478523137325.\n"
     ]
    },
    {
     "name": "stdout",
     "output_type": "stream",
     "text": [
      "{'n_estimators': 359, 'max_depth': 12, 'min_samples_split': 13, 'min_samples_leaf': 3, 'max_features': 3}\n",
      "농업경영체별 평가지표 결과\n",
      "MAE: 1.33\n",
      "MSE: 3.21\n",
      "RMSE: 1.79\n",
      "RMSPE: 53.06%\n",
      "----------------------------------------------------------------------------------------------------\n",
      "배정신청인원 10명 이상 시군구 단위 평가지표\n",
      "MAE: 11.55\n",
      "MSE: 285.04\n",
      "RMSE: 16.88\n",
      "RMSPE: 20.61%\n"
     ]
    }
   ],
   "source": [
    "def objective(trial):\n",
    "    params = {\n",
    "        'n_estimators': trial.suggest_int('n_estimators', 300, 400),\n",
    "        'criterion': 'mse',\n",
    "        'max_depth' : trial.suggest_int('max_depth', 9, 12),\n",
    "        'min_samples_split': trial.suggest_int('min_samples_split', 11, 13),\n",
    "        'min_samples_leaf': trial.suggest_int('min_samples_leaf', 3, 5),\n",
    "        'min_weight_fraction_leaf': 0.0,\n",
    "        'max_features': trial.suggest_int('max_features', 1, 3),\n",
    "        'max_leaf_nodes': None,\n",
    "        'min_impurity_decrease': 0.0,\n",
    "        'bootstrap': True,\n",
    "        'n_jobs': -1,\n",
    "        'random_state': 42\n",
    "    }\n",
    "    # 학습 모델 생성\n",
    "    model_reg=RandomForestRegressor(**params)\n",
    "    \n",
    "    #트레인 셋 학습\n",
    "    model_reg.fit(X_train,Y_train)\n",
    "    \n",
    "    #검증 데이터 셋으로 모델 검증\n",
    "    score = mean_absolute_error(model_reg.predict(X_valid), Y_valid)\n",
    "    return score\n",
    "\n",
    "study=optuna.create_study(direction='minimize')\n",
    "study.optimize(objective, n_trials=150)\n",
    "# 최적화된 파라미터 값 확인\n",
    "best_params = study.best_params\n",
    "print(best_params)\n",
    "#모델 검증\n",
    "model_reg = RandomForestRegressor(**best_params)\n",
    "model_reg.fit(X_train,Y_train)\n",
    "\n",
    "#예측값 \n",
    "pred=model_reg.predict(X_test)\n",
    "# 인원 수 예측이기에 예측된 결과에 반올림 적용\n",
    "pred=pd.DataFrame(pred,columns=['예측값'])\n",
    "#반올림\n",
    "pred['예측값']=round(pred['예측값'],0)\n",
    "#평가지표\n",
    "print('농업경영체별 평가지표 결과')\n",
    "Evaluation_metric(Y_test,pred=pred['예측값'])\n",
    "print('-'*100)\n",
    "\n",
    "test_index=X_test.index.tolist()\n",
    "data_test=data_real.loc[test_index]\n",
    "data_test=data_test.reset_index()\n",
    "data_test.drop(columns=['index'],inplace=True)\n",
    "#예측값\n",
    "data_test['predict']=pred\n",
    "result=data_test.groupby(['지자체명_시도','지자체명_시군구'])[['합계','predict']].sum().reset_index()\n",
    "result_1=result.query('합계>10')\n",
    "print('배정신청인원 10명 이상 시군구 단위 평가지표')\n",
    "Evaluation_metric(result_1['합계'],pred=result_1['predict'])"
   ]
  },
  {
   "cell_type": "code",
   "execution_count": null,
   "id": "b44f2e45-a480-4e9e-9086-609d7984e7b5",
   "metadata": {},
   "outputs": [],
   "source": []
  }
 ],
 "metadata": {
  "kernelspec": {
   "display_name": "Python 3 (ipykernel)",
   "language": "python",
   "name": "python3"
  },
  "language_info": {
   "codemirror_mode": {
    "name": "ipython",
    "version": 3
   },
   "file_extension": ".py",
   "mimetype": "text/x-python",
   "name": "python",
   "nbconvert_exporter": "python",
   "pygments_lexer": "ipython3",
   "version": "3.9.7"
  }
 },
 "nbformat": 4,
 "nbformat_minor": 5
}
