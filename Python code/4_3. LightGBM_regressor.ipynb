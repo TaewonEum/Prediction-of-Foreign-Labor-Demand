{
 "cells": [
  {
   "cell_type": "code",
   "execution_count": 1,
   "id": "bad0330a-ade3-4d05-a4cc-1cb36f9a151b",
   "metadata": {},
   "outputs": [],
   "source": [
    "# 라이브러리 import\n",
    "import pandas as pd\n",
    "import numpy as np\n",
    "import random\n",
    "import os\n",
    "import seaborn as sns\n",
    "import matplotlib.pyplot as plt\n",
    "plt.rcParams['font.family'] = 'Malgun Gothic'\n",
    "sns.set(font=\"Malgun Gothic\")\n",
    "import warnings\n",
    "warnings.filterwarnings('ignore')\n",
    "from sklearn.preprocessing import MinMaxScaler\n",
    "from sklearn.preprocessing import LabelEncoder\n",
    "from sklearn.model_selection import train_test_split\n",
    "from sklearn.metrics import mean_absolute_error, mean_squared_error\n",
    "from sklearn.model_selection import train_test_split\n",
    "from math import sqrt\n",
    "from lightgbm import LGBMRegressor"
   ]
  },
  {
   "cell_type": "code",
   "execution_count": 2,
   "id": "4be9aeb5-fd7b-4015-b20c-b4db3e0abd52",
   "metadata": {},
   "outputs": [],
   "source": [
    "data=pd.read_csv(os.listdir()[7],encoding='EUC-KR')\n",
    "data_real=pd.read_csv(os.listdir()[7],encoding='EUC-KR')\n",
    "data=data.query('합계!=0')\n",
    "#필요 컬럼 추출\n",
    "selected_columns=['비고', '지자체명_시도', '지자체명_시군구', '구분', '농업경영체','합계', '작물 종류','농지면적(실제경작)','전년대비농경체증감률','고령농경체비율','전년도이탈인원','전년도활용여부'] #필요한 컬럼만 추출\n",
    "data=data[selected_columns]\n",
    "data_real=data_real[selected_columns]\n",
    "data.rename(columns={'농지면적(실제경작)':'농지면적'},inplace=True)"
   ]
  },
  {
   "cell_type": "markdown",
   "id": "97f90d31-7002-4967-aec7-87eba148a812",
   "metadata": {},
   "source": [
    "# 데이터 확인 및 이상치 제거"
   ]
  },
  {
   "cell_type": "markdown",
   "id": "e44a8bec-776d-48e9-b2cd-66ec7da6a9a1",
   "metadata": {},
   "source": [
    "# 연속형 변수 분포 확인\n",
    "\n",
    "이상치 제거 필요 컬럼\n",
    "- 농지면적 \n",
    "- 합계"
   ]
  },
  {
   "cell_type": "code",
   "execution_count": 3,
   "id": "160fe462-e18a-44e5-b9b9-de5b566f8454",
   "metadata": {},
   "outputs": [
    {
     "data": {
      "text/html": [
       "<div>\n",
       "<style scoped>\n",
       "    .dataframe tbody tr th:only-of-type {\n",
       "        vertical-align: middle;\n",
       "    }\n",
       "\n",
       "    .dataframe tbody tr th {\n",
       "        vertical-align: top;\n",
       "    }\n",
       "\n",
       "    .dataframe thead th {\n",
       "        text-align: right;\n",
       "    }\n",
       "</style>\n",
       "<table border=\"1\" class=\"dataframe\">\n",
       "  <thead>\n",
       "    <tr style=\"text-align: right;\">\n",
       "      <th></th>\n",
       "      <th>합계</th>\n",
       "      <th>농지면적</th>\n",
       "      <th>전년대비농경체증감률</th>\n",
       "      <th>고령농경체비율</th>\n",
       "      <th>전년도이탈인원</th>\n",
       "    </tr>\n",
       "  </thead>\n",
       "  <tbody>\n",
       "    <tr>\n",
       "      <th>count</th>\n",
       "      <td>12449.000</td>\n",
       "      <td>12449.000</td>\n",
       "      <td>12449.000</td>\n",
       "      <td>12449.000</td>\n",
       "      <td>12449.000</td>\n",
       "    </tr>\n",
       "    <tr>\n",
       "      <th>mean</th>\n",
       "      <td>3.395</td>\n",
       "      <td>0.496</td>\n",
       "      <td>102.359</td>\n",
       "      <td>53.464</td>\n",
       "      <td>0.092</td>\n",
       "    </tr>\n",
       "    <tr>\n",
       "      <th>std</th>\n",
       "      <td>2.056</td>\n",
       "      <td>0.594</td>\n",
       "      <td>0.999</td>\n",
       "      <td>4.310</td>\n",
       "      <td>0.511</td>\n",
       "    </tr>\n",
       "    <tr>\n",
       "      <th>min</th>\n",
       "      <td>1.000</td>\n",
       "      <td>0.000</td>\n",
       "      <td>99.500</td>\n",
       "      <td>39.370</td>\n",
       "      <td>0.000</td>\n",
       "    </tr>\n",
       "    <tr>\n",
       "      <th>25%</th>\n",
       "      <td>2.000</td>\n",
       "      <td>0.250</td>\n",
       "      <td>101.800</td>\n",
       "      <td>51.030</td>\n",
       "      <td>0.000</td>\n",
       "    </tr>\n",
       "    <tr>\n",
       "      <th>50%</th>\n",
       "      <td>3.000</td>\n",
       "      <td>0.360</td>\n",
       "      <td>102.300</td>\n",
       "      <td>53.630</td>\n",
       "      <td>0.000</td>\n",
       "    </tr>\n",
       "    <tr>\n",
       "      <th>75%</th>\n",
       "      <td>5.000</td>\n",
       "      <td>0.550</td>\n",
       "      <td>103.000</td>\n",
       "      <td>56.230</td>\n",
       "      <td>0.000</td>\n",
       "    </tr>\n",
       "    <tr>\n",
       "      <th>max</th>\n",
       "      <td>13.000</td>\n",
       "      <td>22.090</td>\n",
       "      <td>107.500</td>\n",
       "      <td>63.720</td>\n",
       "      <td>11.000</td>\n",
       "    </tr>\n",
       "  </tbody>\n",
       "</table>\n",
       "</div>"
      ],
      "text/plain": [
       "              합계       농지면적  전년대비농경체증감률    고령농경체비율    전년도이탈인원\n",
       "count  12449.000  12449.000   12449.000  12449.000  12449.000\n",
       "mean       3.395      0.496     102.359     53.464      0.092\n",
       "std        2.056      0.594       0.999      4.310      0.511\n",
       "min        1.000      0.000      99.500     39.370      0.000\n",
       "25%        2.000      0.250     101.800     51.030      0.000\n",
       "50%        3.000      0.360     102.300     53.630      0.000\n",
       "75%        5.000      0.550     103.000     56.230      0.000\n",
       "max       13.000     22.090     107.500     63.720     11.000"
      ]
     },
     "execution_count": 3,
     "metadata": {},
     "output_type": "execute_result"
    }
   ],
   "source": [
    "round(data[['합계','농지면적','전년대비농경체증감률','고령농경체비율','전년도이탈인원']].describe(),3)"
   ]
  },
  {
   "cell_type": "markdown",
   "id": "a9cf3fe0-334b-44ef-9aa0-2791c36631d8",
   "metadata": {},
   "source": [
    "# 농지면적 이상치 제거"
   ]
  },
  {
   "cell_type": "code",
   "execution_count": 4,
   "id": "26587c5b-980d-46bc-844f-b428d90625b6",
   "metadata": {},
   "outputs": [
    {
     "name": "stdout",
     "output_type": "stream",
     "text": [
      "2.555200000000004\n",
      "0.04\n"
     ]
    },
    {
     "data": {
      "image/png": "[encoded data removed]",
      "text/plain": [
       "<Figure size 432x288 with 1 Axes>"
      ]
     },
     "metadata": {},
     "output_type": "display_data"
    }
   ],
   "source": [
    "sns.rugplot(x='농지면적',data=data,height=1)\n",
    "print(data['농지면적'].quantile(0.99)) #2.5 이상의 농지면적 모두 이상치로 판단\n",
    "print(data['농지면적'].quantile(0.01)) #0.04이하의 농지면적 모두 이상치로 판단"
   ]
  },
  {
   "cell_type": "code",
   "execution_count": 5,
   "id": "360388fc-d86b-48ac-b4ab-88bc01decb2a",
   "metadata": {},
   "outputs": [],
   "source": [
    "data=data.query('0.04<농지면적<2.5')"
   ]
  },
  {
   "cell_type": "markdown",
   "id": "fbf06825-07a4-46f2-86c8-fa87d4772356",
   "metadata": {},
   "source": [
    "# 합계 컬럼 이상치 제거"
   ]
  },
  {
   "cell_type": "code",
   "execution_count": 6,
   "id": "cfa10466-3090-41ec-ae7a-479718a7685d",
   "metadata": {},
   "outputs": [
    {
     "name": "stdout",
     "output_type": "stream",
     "text": [
      "9.0\n",
      "1.0\n",
      "2     4276\n",
      "5     1765\n",
      "4     1720\n",
      "1     1645\n",
      "3     1171\n",
      "6      736\n",
      "9      442\n",
      "7      205\n",
      "8      180\n",
      "10      24\n",
      "12       7\n",
      "11       5\n",
      "13       1\n",
      "Name: 합계, dtype: int64\n"
     ]
    },
    {
     "data": {
      "image/png": "[encoded data removed]",
      "text/plain": [
       "<Figure size 432x288 with 1 Axes>"
      ]
     },
     "metadata": {},
     "output_type": "display_data"
    }
   ],
   "source": [
    "sns.histplot(x='합계',data=data)\n",
    "print(data['합계'].quantile(0.99)) \n",
    "print(data['합계'].quantile(0.01)) \n",
    "print(data['합계'].value_counts()) #10 이상의 합계인원은 이상치로 판단하여 제거"
   ]
  },
  {
   "cell_type": "code",
   "execution_count": 7,
   "id": "16f3c8db-4a63-43b6-8cc5-236c780ab592",
   "metadata": {},
   "outputs": [],
   "source": [
    "data=data.query('합계<11')"
   ]
  },
  {
   "cell_type": "markdown",
   "id": "f3ad2be5-67b3-40f8-b114-ec7b37b13097",
   "metadata": {},
   "source": [
    "# 연속형 변수 정규화"
   ]
  },
  {
   "cell_type": "code",
   "execution_count": 8,
   "id": "15407635-5b82-40fb-8f6a-340b508d178d",
   "metadata": {},
   "outputs": [],
   "source": [
    "min_max_scaler=MinMaxScaler()\n",
    "for i in data.columns:\n",
    "    if (data[i].dtypes!='object') and (i not in ['비고','농업경영체','합계']):\n",
    "        data[i]=min_max_scaler.fit_transform(data[[i]])\n",
    "    else:\n",
    "        pass"
   ]
  },
  {
   "cell_type": "code",
   "execution_count": 9,
   "id": "c5fe5e43-d8f0-42fb-8f2b-77877a675ddb",
   "metadata": {},
   "outputs": [],
   "source": [
    "# 라벨 인코딩 진행(범주형 변수 수치형 변환)"
   ]
  },
  {
   "cell_type": "code",
   "execution_count": 10,
   "id": "de65cac0-c1a4-46f3-81d0-893532de5175",
   "metadata": {},
   "outputs": [],
   "source": [
    "label_encoder=LabelEncoder()\n",
    "for i in data.columns:\n",
    "    if data[i].dtypes=='object':\n",
    "        data[i]=label_encoder.fit_transform(data[i])\n",
    "    else:\n",
    "        pass"
   ]
  },
  {
   "cell_type": "markdown",
   "id": "52cce74f-85c3-4cd9-b8c1-cecad5f6f588",
   "metadata": {},
   "source": [
    "# 모델 구축"
   ]
  },
  {
   "cell_type": "markdown",
   "id": "90d49b98-578b-43bb-97d5-6be564a01d77",
   "metadata": {},
   "source": [
    "# 데이터 분할\n",
    "\n",
    "- 작물 종류 기준 데이터 분할"
   ]
  },
  {
   "cell_type": "code",
   "execution_count": 11,
   "id": "d5da9409-7b22-4fd1-b9f5-b13cd346ce8c",
   "metadata": {},
   "outputs": [],
   "source": [
    "# 작물 종류 기준 층화 추출 Train Test 비율 8:2\n",
    "X=data.drop(columns=['합계','농업경영체','비고']) #독립변수 Set\n",
    "Y=data['합계'] #Target 변수 set\n",
    "X_train, X_test, Y_train, Y_test=train_test_split(X,Y,test_size=0.2,stratify=X['작물 종류'],random_state=42)"
   ]
  },
  {
   "cell_type": "code",
   "execution_count": 12,
   "id": "91ac6178-e8de-401b-9567-5d10ba38a711",
   "metadata": {},
   "outputs": [],
   "source": [
    "model_reg=LGBMRegressor(n_estimators=150,learning_rate=0.05,random_state=42)"
   ]
  },
  {
   "cell_type": "code",
   "execution_count": 13,
   "id": "1c3d53b3-ecd1-4ccb-a220-777f63907b60",
   "metadata": {},
   "outputs": [
    {
     "name": "stdout",
     "output_type": "stream",
     "text": [
      "[LightGBM] [Warning] Found whitespace in feature_names, replace with underlines\n",
      "[LightGBM] [Info] Auto-choosing row-wise multi-threading, the overhead of testing was 0.000265 seconds.\n",
      "You can set `force_row_wise=true` to remove the overhead.\n",
      "And if memory is not enough, you can set `force_col_wise=true`.\n",
      "[LightGBM] [Info] Total Bins 587\n",
      "[LightGBM] [Info] Number of data points in the train set: 9731, number of used features: 9\n",
      "[LightGBM] [Info] Start training from score 3.361628\n"
     ]
    },
    {
     "data": {
      "text/plain": [
       "LGBMRegressor(learning_rate=0.05, n_estimators=150, random_state=42)"
      ]
     },
     "execution_count": 13,
     "metadata": {},
     "output_type": "execute_result"
    }
   ],
   "source": [
    "model_reg.fit(X_train,Y_train)"
   ]
  },
  {
   "cell_type": "code",
   "execution_count": 16,
   "id": "f116f662-31c6-4b65-b6b4-eaf48dc0ed33",
   "metadata": {},
   "outputs": [],
   "source": [
    "pred=model_reg.predict(X_test)"
   ]
  },
  {
   "cell_type": "code",
   "execution_count": 19,
   "id": "cf9008fc-5872-427f-93f1-b5c3a3701388",
   "metadata": {},
   "outputs": [
    {
     "data": {
      "text/html": [
       "<div>\n",
       "<style scoped>\n",
       "    .dataframe tbody tr th:only-of-type {\n",
       "        vertical-align: middle;\n",
       "    }\n",
       "\n",
       "    .dataframe tbody tr th {\n",
       "        vertical-align: top;\n",
       "    }\n",
       "\n",
       "    .dataframe thead th {\n",
       "        text-align: right;\n",
       "    }\n",
       "</style>\n",
       "<table border=\"1\" class=\"dataframe\">\n",
       "  <thead>\n",
       "    <tr style=\"text-align: right;\">\n",
       "      <th></th>\n",
       "      <th>예측값</th>\n",
       "    </tr>\n",
       "  </thead>\n",
       "  <tbody>\n",
       "    <tr>\n",
       "      <th>0</th>\n",
       "      <td>4.0</td>\n",
       "    </tr>\n",
       "    <tr>\n",
       "      <th>1</th>\n",
       "      <td>4.0</td>\n",
       "    </tr>\n",
       "    <tr>\n",
       "      <th>2</th>\n",
       "      <td>3.0</td>\n",
       "    </tr>\n",
       "    <tr>\n",
       "      <th>3</th>\n",
       "      <td>3.0</td>\n",
       "    </tr>\n",
       "    <tr>\n",
       "      <th>4</th>\n",
       "      <td>3.0</td>\n",
       "    </tr>\n",
       "    <tr>\n",
       "      <th>...</th>\n",
       "      <td>...</td>\n",
       "    </tr>\n",
       "    <tr>\n",
       "      <th>2428</th>\n",
       "      <td>3.0</td>\n",
       "    </tr>\n",
       "    <tr>\n",
       "      <th>2429</th>\n",
       "      <td>4.0</td>\n",
       "    </tr>\n",
       "    <tr>\n",
       "      <th>2430</th>\n",
       "      <td>5.0</td>\n",
       "    </tr>\n",
       "    <tr>\n",
       "      <th>2431</th>\n",
       "      <td>4.0</td>\n",
       "    </tr>\n",
       "    <tr>\n",
       "      <th>2432</th>\n",
       "      <td>3.0</td>\n",
       "    </tr>\n",
       "  </tbody>\n",
       "</table>\n",
       "<p>2433 rows × 1 columns</p>\n",
       "</div>"
      ],
      "text/plain": [
       "      예측값\n",
       "0     4.0\n",
       "1     4.0\n",
       "2     3.0\n",
       "3     3.0\n",
       "4     3.0\n",
       "...   ...\n",
       "2428  3.0\n",
       "2429  4.0\n",
       "2430  5.0\n",
       "2431  4.0\n",
       "2432  3.0\n",
       "\n",
       "[2433 rows x 1 columns]"
      ]
     },
     "execution_count": 19,
     "metadata": {},
     "output_type": "execute_result"
    }
   ],
   "source": [
    "# 인원 수 예측이기에 예측된 결과에 반올림 적용\n",
    "pred=pd.DataFrame(pred,columns=['예측값'])\n",
    "pred['예측값']=round(pred['예측값'],0)\n",
    "pred"
   ]
  },
  {
   "cell_type": "markdown",
   "id": "73611397-e8db-4b31-9c1c-dcd5be0deb7c",
   "metadata": {},
   "source": [
    "# MAE & mse & Rmse & Rmspe\n",
    "\n",
    "- MAE=실제값과 예측값 사이의 절대값의 평균=> 크면 클 수록 예측력이 낮은 것\n",
    "- MSE=실제값과 예측값 사이의 차이를 제곱한 평균\n",
    "- RMSE=MSE에 루트를 취한 값\n",
    "- RMSPE=예측 오차를 실제값으로 나눈후 제곱하여 평균을 측정한 제곱근임"
   ]
  },
  {
   "cell_type": "code",
   "execution_count": 20,
   "id": "0c1e5f6a-b74b-417d-9b1c-1442f710e23c",
   "metadata": {},
   "outputs": [],
   "source": [
    "# MAE\n",
    "def Evaluation_metric(actual,pred):\n",
    "    print(f'MAE: {round(mean_absolute_error(actual,pred),2)}')\n",
    "    print(f'MSE: {round(mean_squared_error(actual,pred),2)}')\n",
    "    print(f'RMSE: {round(sqrt(mean_squared_error(actual,pred)),2)}')\n",
    "    print(f'RMSPE: {round(sqrt(mean_squared_error(actual,pred))/np.mean(actual)*100,2)}%')"
   ]
  },
  {
   "cell_type": "code",
   "execution_count": 21,
   "id": "7dca9b1a-8c36-4b83-b6d9-ad8b1c8323f8",
   "metadata": {},
   "outputs": [
    {
     "name": "stdout",
     "output_type": "stream",
     "text": [
      "MAE: 1.24\n",
      "MSE: 2.94\n",
      "RMSE: 1.71\n",
      "RMSPE: 50.79%\n"
     ]
    }
   ],
   "source": [
    "Evaluation_metric(Y_test,pred=pred)"
   ]
  },
  {
   "cell_type": "code",
   "execution_count": 22,
   "id": "3c41788b-e3f1-4395-92c2-f45cd1c84a3f",
   "metadata": {},
   "outputs": [],
   "source": [
    "# Test data Set\n",
    "test_index=X_test.index.tolist()\n",
    "data_test=data_real.loc[test_index]\n",
    "data_test=data_test.reset_index()\n",
    "data_test.drop(columns=['index'],inplace=True)"
   ]
  },
  {
   "cell_type": "code",
   "execution_count": 23,
   "id": "bdb1fc91-271b-4bd0-90b4-ababb354f509",
   "metadata": {},
   "outputs": [
    {
     "data": {
      "text/html": [
       "<div>\n",
       "<style scoped>\n",
       "    .dataframe tbody tr th:only-of-type {\n",
       "        vertical-align: middle;\n",
       "    }\n",
       "\n",
       "    .dataframe tbody tr th {\n",
       "        vertical-align: top;\n",
       "    }\n",
       "\n",
       "    .dataframe thead th {\n",
       "        text-align: right;\n",
       "    }\n",
       "</style>\n",
       "<table border=\"1\" class=\"dataframe\">\n",
       "  <thead>\n",
       "    <tr style=\"text-align: right;\">\n",
       "      <th></th>\n",
       "      <th>비고</th>\n",
       "      <th>지자체명_시도</th>\n",
       "      <th>지자체명_시군구</th>\n",
       "      <th>구분</th>\n",
       "      <th>농업경영체</th>\n",
       "      <th>합계</th>\n",
       "      <th>작물 종류</th>\n",
       "      <th>농지면적(실제경작)</th>\n",
       "      <th>전년대비농경체증감률</th>\n",
       "      <th>고령농경체비율</th>\n",
       "      <th>전년도이탈인원</th>\n",
       "      <th>전년도활용여부</th>\n",
       "    </tr>\n",
       "  </thead>\n",
       "  <tbody>\n",
       "    <tr>\n",
       "      <th>0</th>\n",
       "      <td>2023</td>\n",
       "      <td>충청북도</td>\n",
       "      <td>진천군</td>\n",
       "      <td>대농</td>\n",
       "      <td>1000573757</td>\n",
       "      <td>4</td>\n",
       "      <td>① 시설원예·특작</td>\n",
       "      <td>0.58</td>\n",
       "      <td>103.9</td>\n",
       "      <td>53.07</td>\n",
       "      <td>0.0</td>\n",
       "      <td>Y</td>\n",
       "    </tr>\n",
       "    <tr>\n",
       "      <th>1</th>\n",
       "      <td>2022</td>\n",
       "      <td>충청북도</td>\n",
       "      <td>진천군</td>\n",
       "      <td>대농</td>\n",
       "      <td>1001319680</td>\n",
       "      <td>5</td>\n",
       "      <td>① 시설원예·특작</td>\n",
       "      <td>1.14</td>\n",
       "      <td>102.6</td>\n",
       "      <td>51.34</td>\n",
       "      <td>0.0</td>\n",
       "      <td>N</td>\n",
       "    </tr>\n",
       "    <tr>\n",
       "      <th>2</th>\n",
       "      <td>2023</td>\n",
       "      <td>제주특별자치도</td>\n",
       "      <td>제주시</td>\n",
       "      <td>중농</td>\n",
       "      <td>1000972865</td>\n",
       "      <td>1</td>\n",
       "      <td>④ 인삼, 일반채소</td>\n",
       "      <td>0.36</td>\n",
       "      <td>102.6</td>\n",
       "      <td>40.17</td>\n",
       "      <td>0.0</td>\n",
       "      <td>N</td>\n",
       "    </tr>\n",
       "    <tr>\n",
       "      <th>3</th>\n",
       "      <td>2023</td>\n",
       "      <td>충청남도</td>\n",
       "      <td>금산군</td>\n",
       "      <td>소농</td>\n",
       "      <td>3000828425</td>\n",
       "      <td>4</td>\n",
       "      <td>① 시설원예·특작</td>\n",
       "      <td>0.22</td>\n",
       "      <td>101.9</td>\n",
       "      <td>55.65</td>\n",
       "      <td>0.0</td>\n",
       "      <td>Y</td>\n",
       "    </tr>\n",
       "    <tr>\n",
       "      <th>4</th>\n",
       "      <td>2022</td>\n",
       "      <td>전라북도</td>\n",
       "      <td>무주군</td>\n",
       "      <td>대농</td>\n",
       "      <td>1002167700</td>\n",
       "      <td>2</td>\n",
       "      <td>③ 과수</td>\n",
       "      <td>0.49</td>\n",
       "      <td>102.8</td>\n",
       "      <td>55.01</td>\n",
       "      <td>0.0</td>\n",
       "      <td>N</td>\n",
       "    </tr>\n",
       "    <tr>\n",
       "      <th>...</th>\n",
       "      <td>...</td>\n",
       "      <td>...</td>\n",
       "      <td>...</td>\n",
       "      <td>...</td>\n",
       "      <td>...</td>\n",
       "      <td>...</td>\n",
       "      <td>...</td>\n",
       "      <td>...</td>\n",
       "      <td>...</td>\n",
       "      <td>...</td>\n",
       "      <td>...</td>\n",
       "      <td>...</td>\n",
       "    </tr>\n",
       "    <tr>\n",
       "      <th>2428</th>\n",
       "      <td>2023</td>\n",
       "      <td>전라북도</td>\n",
       "      <td>진안군</td>\n",
       "      <td>중농</td>\n",
       "      <td>1002097077</td>\n",
       "      <td>2</td>\n",
       "      <td>③ 과수</td>\n",
       "      <td>0.30</td>\n",
       "      <td>102.4</td>\n",
       "      <td>56.76</td>\n",
       "      <td>0.0</td>\n",
       "      <td>N</td>\n",
       "    </tr>\n",
       "    <tr>\n",
       "      <th>2429</th>\n",
       "      <td>2023</td>\n",
       "      <td>강원도</td>\n",
       "      <td>인제군</td>\n",
       "      <td>대농</td>\n",
       "      <td>1000458922</td>\n",
       "      <td>5</td>\n",
       "      <td>① 시설원예·특작</td>\n",
       "      <td>1.02</td>\n",
       "      <td>101.4</td>\n",
       "      <td>46.95</td>\n",
       "      <td>3.0</td>\n",
       "      <td>Y</td>\n",
       "    </tr>\n",
       "    <tr>\n",
       "      <th>2430</th>\n",
       "      <td>2023</td>\n",
       "      <td>경상북도</td>\n",
       "      <td>김천시</td>\n",
       "      <td>중농</td>\n",
       "      <td>1000962408</td>\n",
       "      <td>2</td>\n",
       "      <td>③ 과수</td>\n",
       "      <td>0.30</td>\n",
       "      <td>103.9</td>\n",
       "      <td>52.72</td>\n",
       "      <td>0.0</td>\n",
       "      <td>N</td>\n",
       "    </tr>\n",
       "    <tr>\n",
       "      <th>2431</th>\n",
       "      <td>2022</td>\n",
       "      <td>충청남도</td>\n",
       "      <td>아산시</td>\n",
       "      <td>소농</td>\n",
       "      <td>1002456038</td>\n",
       "      <td>2</td>\n",
       "      <td>④ 인삼, 일반채소</td>\n",
       "      <td>0.10</td>\n",
       "      <td>101.9</td>\n",
       "      <td>55.47</td>\n",
       "      <td>0.0</td>\n",
       "      <td>N</td>\n",
       "    </tr>\n",
       "    <tr>\n",
       "      <th>2432</th>\n",
       "      <td>2022</td>\n",
       "      <td>충청북도</td>\n",
       "      <td>충주시</td>\n",
       "      <td>대농</td>\n",
       "      <td>1001344778</td>\n",
       "      <td>2</td>\n",
       "      <td>④ 인삼, 일반채소</td>\n",
       "      <td>1.45</td>\n",
       "      <td>101.9</td>\n",
       "      <td>52.35</td>\n",
       "      <td>0.0</td>\n",
       "      <td>N</td>\n",
       "    </tr>\n",
       "  </tbody>\n",
       "</table>\n",
       "<p>2433 rows × 12 columns</p>\n",
       "</div>"
      ],
      "text/plain": [
       "        비고  지자체명_시도 지자체명_시군구  구분       농업경영체  합계       작물 종류  농지면적(실제경작)  \\\n",
       "0     2023     충청북도      진천군  대농  1000573757   4   ① 시설원예·특작        0.58   \n",
       "1     2022     충청북도      진천군  대농  1001319680   5   ① 시설원예·특작        1.14   \n",
       "2     2023  제주특별자치도      제주시  중농  1000972865   1  ④ 인삼, 일반채소        0.36   \n",
       "3     2023     충청남도      금산군  소농  3000828425   4   ① 시설원예·특작        0.22   \n",
       "4     2022     전라북도      무주군  대농  1002167700   2        ③ 과수        0.49   \n",
       "...    ...      ...      ...  ..         ...  ..         ...         ...   \n",
       "2428  2023     전라북도      진안군  중농  1002097077   2        ③ 과수        0.30   \n",
       "2429  2023      강원도      인제군  대농  1000458922   5   ① 시설원예·특작        1.02   \n",
       "2430  2023     경상북도      김천시  중농  1000962408   2        ③ 과수        0.30   \n",
       "2431  2022     충청남도      아산시  소농  1002456038   2  ④ 인삼, 일반채소        0.10   \n",
       "2432  2022     충청북도      충주시  대농  1001344778   2  ④ 인삼, 일반채소        1.45   \n",
       "\n",
       "      전년대비농경체증감률  고령농경체비율  전년도이탈인원 전년도활용여부  \n",
       "0          103.9    53.07      0.0       Y  \n",
       "1          102.6    51.34      0.0       N  \n",
       "2          102.6    40.17      0.0       N  \n",
       "3          101.9    55.65      0.0       Y  \n",
       "4          102.8    55.01      0.0       N  \n",
       "...          ...      ...      ...     ...  \n",
       "2428       102.4    56.76      0.0       N  \n",
       "2429       101.4    46.95      3.0       Y  \n",
       "2430       103.9    52.72      0.0       N  \n",
       "2431       101.9    55.47      0.0       N  \n",
       "2432       101.9    52.35      0.0       N  \n",
       "\n",
       "[2433 rows x 12 columns]"
      ]
     },
     "execution_count": 23,
     "metadata": {},
     "output_type": "execute_result"
    }
   ],
   "source": [
    "data_test"
   ]
  },
  {
   "cell_type": "code",
   "execution_count": 25,
   "id": "70989c50-2054-4990-b744-90abf2373837",
   "metadata": {},
   "outputs": [
    {
     "data": {
      "text/html": [
       "<div>\n",
       "<style scoped>\n",
       "    .dataframe tbody tr th:only-of-type {\n",
       "        vertical-align: middle;\n",
       "    }\n",
       "\n",
       "    .dataframe tbody tr th {\n",
       "        vertical-align: top;\n",
       "    }\n",
       "\n",
       "    .dataframe thead th {\n",
       "        text-align: right;\n",
       "    }\n",
       "</style>\n",
       "<table border=\"1\" class=\"dataframe\">\n",
       "  <thead>\n",
       "    <tr style=\"text-align: right;\">\n",
       "      <th></th>\n",
       "      <th>지자체명_시도</th>\n",
       "      <th>지자체명_시군구</th>\n",
       "      <th>합계</th>\n",
       "      <th>predict</th>\n",
       "    </tr>\n",
       "  </thead>\n",
       "  <tbody>\n",
       "    <tr>\n",
       "      <th>0</th>\n",
       "      <td>강원도</td>\n",
       "      <td>삼척시</td>\n",
       "      <td>48</td>\n",
       "      <td>46.0</td>\n",
       "    </tr>\n",
       "    <tr>\n",
       "      <th>1</th>\n",
       "      <td>강원도</td>\n",
       "      <td>양구군</td>\n",
       "      <td>288</td>\n",
       "      <td>284.0</td>\n",
       "    </tr>\n",
       "    <tr>\n",
       "      <th>2</th>\n",
       "      <td>강원도</td>\n",
       "      <td>영월군</td>\n",
       "      <td>44</td>\n",
       "      <td>49.0</td>\n",
       "    </tr>\n",
       "    <tr>\n",
       "      <th>3</th>\n",
       "      <td>강원도</td>\n",
       "      <td>원주시</td>\n",
       "      <td>16</td>\n",
       "      <td>6.0</td>\n",
       "    </tr>\n",
       "    <tr>\n",
       "      <th>4</th>\n",
       "      <td>강원도</td>\n",
       "      <td>인제군</td>\n",
       "      <td>184</td>\n",
       "      <td>196.0</td>\n",
       "    </tr>\n",
       "    <tr>\n",
       "      <th>...</th>\n",
       "      <td>...</td>\n",
       "      <td>...</td>\n",
       "      <td>...</td>\n",
       "      <td>...</td>\n",
       "    </tr>\n",
       "    <tr>\n",
       "      <th>110</th>\n",
       "      <td>충청북도</td>\n",
       "      <td>음성군</td>\n",
       "      <td>163</td>\n",
       "      <td>133.0</td>\n",
       "    </tr>\n",
       "    <tr>\n",
       "      <th>111</th>\n",
       "      <td>충청북도</td>\n",
       "      <td>제천시</td>\n",
       "      <td>23</td>\n",
       "      <td>36.0</td>\n",
       "    </tr>\n",
       "    <tr>\n",
       "      <th>112</th>\n",
       "      <td>충청북도</td>\n",
       "      <td>진천군</td>\n",
       "      <td>102</td>\n",
       "      <td>105.0</td>\n",
       "    </tr>\n",
       "    <tr>\n",
       "      <th>113</th>\n",
       "      <td>충청북도</td>\n",
       "      <td>청주시</td>\n",
       "      <td>46</td>\n",
       "      <td>56.0</td>\n",
       "    </tr>\n",
       "    <tr>\n",
       "      <th>114</th>\n",
       "      <td>충청북도</td>\n",
       "      <td>충주시</td>\n",
       "      <td>79</td>\n",
       "      <td>62.0</td>\n",
       "    </tr>\n",
       "  </tbody>\n",
       "</table>\n",
       "<p>99 rows × 4 columns</p>\n",
       "</div>"
      ],
      "text/plain": [
       "    지자체명_시도 지자체명_시군구   합계  predict\n",
       "0       강원도      삼척시   48     46.0\n",
       "1       강원도      양구군  288    284.0\n",
       "2       강원도      영월군   44     49.0\n",
       "3       강원도      원주시   16      6.0\n",
       "4       강원도      인제군  184    196.0\n",
       "..      ...      ...  ...      ...\n",
       "110    충청북도      음성군  163    133.0\n",
       "111    충청북도      제천시   23     36.0\n",
       "112    충청북도      진천군  102    105.0\n",
       "113    충청북도      청주시   46     56.0\n",
       "114    충청북도      충주시   79     62.0\n",
       "\n",
       "[99 rows x 4 columns]"
      ]
     },
     "execution_count": 25,
     "metadata": {},
     "output_type": "execute_result"
    }
   ],
   "source": [
    "data_test['predict']=pred\n",
    "result=data_test.groupby(['지자체명_시도','지자체명_시군구'])[['합계','predict']].sum().reset_index()\n",
    "result_1=result.query('합계>10')\n",
    "result_1"
   ]
  },
  {
   "cell_type": "code",
   "execution_count": 26,
   "id": "28c3aae5-2951-4aa9-9fa0-c7170c7f4ce4",
   "metadata": {},
   "outputs": [
    {
     "name": "stdout",
     "output_type": "stream",
     "text": [
      "MAE: 8.0\n",
      "MSE: 128.63\n",
      "RMSE: 11.34\n",
      "RMSPE: 13.84%\n"
     ]
    }
   ],
   "source": [
    "Evaluation_metric(result_1['합계'],pred=result_1['predict'])"
   ]
  },
  {
   "cell_type": "code",
   "execution_count": null,
   "id": "9ab99dbb-c263-484b-bc43-47e3b4d13ce1",
   "metadata": {},
   "outputs": [],
   "source": []
  }
 ],
 "metadata": {
  "kernelspec": {
   "display_name": "Python 3 (ipykernel)",
   "language": "python",
   "name": "python3"
  },
  "language_info": {
   "codemirror_mode": {
    "name": "ipython",
    "version": 3
   },
   "file_extension": ".py",
   "mimetype": "text/x-python",
   "name": "python",
   "nbconvert_exporter": "python",
   "pygments_lexer": "ipython3",
   "version": "3.9.7"
  }
 },
 "nbformat": 4,
 "nbformat_minor": 5
}
