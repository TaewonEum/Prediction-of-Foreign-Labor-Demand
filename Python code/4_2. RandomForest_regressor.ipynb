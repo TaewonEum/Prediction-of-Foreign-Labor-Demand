{
 "cells": [
  {
   "cell_type": "code",
   "execution_count": 8,
   "id": "a0d285b5-e683-4903-b544-4c40992338ab",
   "metadata": {},
   "outputs": [],
   "source": [
    "# 라이브러리 import\n",
    "import pandas as pd\n",
    "import numpy as np\n",
    "import random\n",
    "import os\n",
    "import seaborn as sns\n",
    "import matplotlib.pyplot as plt\n",
    "plt.rcParams['font.family'] = 'Malgun Gothic'\n",
    "sns.set(font=\"Malgun Gothic\")\n",
    "import warnings\n",
    "warnings.filterwarnings('ignore')\n",
    "from sklearn.preprocessing import MinMaxScaler\n",
    "from sklearn.preprocessing import LabelEncoder\n",
    "from sklearn.model_selection import train_test_split\n",
    "from sklearn.metrics import mean_absolute_error, mean_squared_error\n",
    "from sklearn.model_selection import train_test_split\n",
    "from math import sqrt\n",
    "from sklearn.ensemble import RandomForestRegressor\n",
    "from sklearn.datasets import make_regression"
   ]
  },
  {
   "cell_type": "code",
   "execution_count": 9,
   "id": "e06e130d-d011-4330-a4d2-4839d04ee2bb",
   "metadata": {},
   "outputs": [],
   "source": [
    "data=pd.read_csv(os.listdir()[7],encoding='EUC-KR')\n",
    "data_real=pd.read_csv(os.listdir()[7],encoding='EUC-KR')\n",
    "data=data.query('합계!=0')\n",
    "#필요 컬럼 추출\n",
    "selected_columns=['비고', '지자체명_시도', '지자체명_시군구', '구분', '농업경영체','합계', '작물 종류','농지면적(실제경작)','전년대비농경체증감률','고령농경체비율','전년도이탈인원','전년도활용여부'] #필요한 컬럼만 추출\n",
    "data=data[selected_columns]\n",
    "data_real=data_real[selected_columns]\n",
    "data.rename(columns={'농지면적(실제경작)':'농지면적'},inplace=True)"
   ]
  },
  {
   "cell_type": "markdown",
   "id": "5c66e52b-2df9-4e06-b31e-ff346f681e61",
   "metadata": {},
   "source": [
    "# 데이터 확인 및 이상치 제거"
   ]
  },
  {
   "cell_type": "markdown",
   "id": "f8316214-371b-4639-8978-1d7ace185a21",
   "metadata": {},
   "source": [
    "# 연속형 변수 분포 확인\n",
    "\n",
    "이상치 제거 필요 컬럼\n",
    "- 농지면적 \n",
    "- 합계"
   ]
  },
  {
   "cell_type": "code",
   "execution_count": 11,
   "id": "ecedc4bd-4d4b-43bb-b7bc-fba0e9bb2523",
   "metadata": {},
   "outputs": [
    {
     "data": {
      "text/html": [
       "<div>\n",
       "<style scoped>\n",
       "    .dataframe tbody tr th:only-of-type {\n",
       "        vertical-align: middle;\n",
       "    }\n",
       "\n",
       "    .dataframe tbody tr th {\n",
       "        vertical-align: top;\n",
       "    }\n",
       "\n",
       "    .dataframe thead th {\n",
       "        text-align: right;\n",
       "    }\n",
       "</style>\n",
       "<table border=\"1\" class=\"dataframe\">\n",
       "  <thead>\n",
       "    <tr style=\"text-align: right;\">\n",
       "      <th></th>\n",
       "      <th>합계</th>\n",
       "      <th>농지면적</th>\n",
       "      <th>전년대비농경체증감률</th>\n",
       "      <th>고령농경체비율</th>\n",
       "      <th>전년도이탈인원</th>\n",
       "    </tr>\n",
       "  </thead>\n",
       "  <tbody>\n",
       "    <tr>\n",
       "      <th>count</th>\n",
       "      <td>12449.000</td>\n",
       "      <td>12449.000</td>\n",
       "      <td>12449.000</td>\n",
       "      <td>12449.000</td>\n",
       "      <td>12449.000</td>\n",
       "    </tr>\n",
       "    <tr>\n",
       "      <th>mean</th>\n",
       "      <td>3.395</td>\n",
       "      <td>0.496</td>\n",
       "      <td>102.359</td>\n",
       "      <td>53.464</td>\n",
       "      <td>0.092</td>\n",
       "    </tr>\n",
       "    <tr>\n",
       "      <th>std</th>\n",
       "      <td>2.056</td>\n",
       "      <td>0.594</td>\n",
       "      <td>0.999</td>\n",
       "      <td>4.310</td>\n",
       "      <td>0.511</td>\n",
       "    </tr>\n",
       "    <tr>\n",
       "      <th>min</th>\n",
       "      <td>1.000</td>\n",
       "      <td>0.000</td>\n",
       "      <td>99.500</td>\n",
       "      <td>39.370</td>\n",
       "      <td>0.000</td>\n",
       "    </tr>\n",
       "    <tr>\n",
       "      <th>25%</th>\n",
       "      <td>2.000</td>\n",
       "      <td>0.250</td>\n",
       "      <td>101.800</td>\n",
       "      <td>51.030</td>\n",
       "      <td>0.000</td>\n",
       "    </tr>\n",
       "    <tr>\n",
       "      <th>50%</th>\n",
       "      <td>3.000</td>\n",
       "      <td>0.360</td>\n",
       "      <td>102.300</td>\n",
       "      <td>53.630</td>\n",
       "      <td>0.000</td>\n",
       "    </tr>\n",
       "    <tr>\n",
       "      <th>75%</th>\n",
       "      <td>5.000</td>\n",
       "      <td>0.550</td>\n",
       "      <td>103.000</td>\n",
       "      <td>56.230</td>\n",
       "      <td>0.000</td>\n",
       "    </tr>\n",
       "    <tr>\n",
       "      <th>max</th>\n",
       "      <td>13.000</td>\n",
       "      <td>22.090</td>\n",
       "      <td>107.500</td>\n",
       "      <td>63.720</td>\n",
       "      <td>11.000</td>\n",
       "    </tr>\n",
       "  </tbody>\n",
       "</table>\n",
       "</div>"
      ],
      "text/plain": [
       "              합계       농지면적  전년대비농경체증감률    고령농경체비율    전년도이탈인원\n",
       "count  12449.000  12449.000   12449.000  12449.000  12449.000\n",
       "mean       3.395      0.496     102.359     53.464      0.092\n",
       "std        2.056      0.594       0.999      4.310      0.511\n",
       "min        1.000      0.000      99.500     39.370      0.000\n",
       "25%        2.000      0.250     101.800     51.030      0.000\n",
       "50%        3.000      0.360     102.300     53.630      0.000\n",
       "75%        5.000      0.550     103.000     56.230      0.000\n",
       "max       13.000     22.090     107.500     63.720     11.000"
      ]
     },
     "execution_count": 11,
     "metadata": {},
     "output_type": "execute_result"
    }
   ],
   "source": [
    "round(data[['합계','농지면적','전년대비농경체증감률','고령농경체비율','전년도이탈인원']].describe(),3)"
   ]
  },
  {
   "cell_type": "markdown",
   "id": "9608bcc0-8c5b-401d-b3d1-8a333edbbf90",
   "metadata": {},
   "source": [
    "# 농지면적 이상치 제거"
   ]
  },
  {
   "cell_type": "code",
   "execution_count": 12,
   "id": "2fe1fbfd-2320-42c5-9868-eacbf556bbf9",
   "metadata": {},
   "outputs": [
    {
     "name": "stdout",
     "output_type": "stream",
     "text": [
      "2.555200000000004\n",
      "0.04\n"
     ]
    },
    {
     "data": {
      "image/png": "[encoded data removed]",
      "text/plain": [
       "<Figure size 432x288 with 1 Axes>"
      ]
     },
     "metadata": {},
     "output_type": "display_data"
    }
   ],
   "source": [
    "sns.rugplot(x='농지면적',data=data,height=1)\n",
    "print(data['농지면적'].quantile(0.99)) #2.5 이상의 농지면적 모두 이상치로 판단\n",
    "print(data['농지면적'].quantile(0.01)) #0.04이하의 농지면적 모두 이상치로 판단"
   ]
  },
  {
   "cell_type": "code",
   "execution_count": 13,
   "id": "bcd4e44b-7e54-46fb-8b65-0b3fdc814fd6",
   "metadata": {},
   "outputs": [],
   "source": [
    "data=data.query('0.04<농지면적<2.5')"
   ]
  },
  {
   "cell_type": "markdown",
   "id": "b25084cf-59d4-499e-bc3b-d3cdfc9add6f",
   "metadata": {},
   "source": [
    "# 합계 컬럼 이상치 제거"
   ]
  },
  {
   "cell_type": "code",
   "execution_count": 14,
   "id": "3e4ef567-8657-47cd-96d8-fc3738b8571a",
   "metadata": {},
   "outputs": [
    {
     "name": "stdout",
     "output_type": "stream",
     "text": [
      "9.0\n",
      "1.0\n",
      "2     4276\n",
      "5     1765\n",
      "4     1720\n",
      "1     1645\n",
      "3     1171\n",
      "6      736\n",
      "9      442\n",
      "7      205\n",
      "8      180\n",
      "10      24\n",
      "12       7\n",
      "11       5\n",
      "13       1\n",
      "Name: 합계, dtype: int64\n"
     ]
    },
    {
     "data": {
      "image/png": "[encoded data removed]",
      "text/plain": [
       "<Figure size 432x288 with 1 Axes>"
      ]
     },
     "metadata": {},
     "output_type": "display_data"
    }
   ],
   "source": [
    "sns.histplot(x='합계',data=data)\n",
    "print(data['합계'].quantile(0.99)) \n",
    "print(data['합계'].quantile(0.01)) \n",
    "print(data['합계'].value_counts()) #10 이상의 합계인원은 이상치로 판단하여 제거"
   ]
  },
  {
   "cell_type": "code",
   "execution_count": 15,
   "id": "6e097c25-9837-43e7-bd46-7115f3640104",
   "metadata": {},
   "outputs": [],
   "source": [
    "data=data.query('합계<11')"
   ]
  },
  {
   "cell_type": "markdown",
   "id": "c9dc2f33-c5f7-4d6d-8bc6-ba247720eba6",
   "metadata": {},
   "source": [
    "# 연속형 변수 정규화"
   ]
  },
  {
   "cell_type": "code",
   "execution_count": 35,
   "id": "5af3dc46-be5f-4548-9edc-21f12ae33cba",
   "metadata": {},
   "outputs": [],
   "source": [
    "min_max_scaler=MinMaxScaler()\n",
    "for i in data.columns:\n",
    "    if (data[i].dtypes!='object') and (i not in ['비고','농업경영체','합계']):\n",
    "        data[i]=min_max_scaler.fit_transform(data[[i]])\n",
    "    else:\n",
    "        pass"
   ]
  },
  {
   "cell_type": "markdown",
   "id": "6c4cb505-ace1-4412-81c7-af8ed62488c9",
   "metadata": {},
   "source": [
    "# 라벨 인코딩 진행(범주형 변수 수치형 변환)"
   ]
  },
  {
   "cell_type": "code",
   "execution_count": 36,
   "id": "d8f7afaa-4152-4878-8dd7-025b4498d6ea",
   "metadata": {},
   "outputs": [],
   "source": [
    "label_encoder=LabelEncoder()\n",
    "for i in data.columns:\n",
    "    if data[i].dtypes=='object':\n",
    "        data[i]=label_encoder.fit_transform(data[i])\n",
    "    else:\n",
    "        pass"
   ]
  },
  {
   "cell_type": "markdown",
   "id": "30cbed56-3da6-41fa-a413-f72070f1b2c0",
   "metadata": {},
   "source": [
    "# 모델 구축"
   ]
  },
  {
   "cell_type": "markdown",
   "id": "b107bff7-da07-4788-b088-55d623eb3ab5",
   "metadata": {},
   "source": [
    "# 데이터 분할\n",
    "\n",
    "- 작물 종류 기준 데이터 분할"
   ]
  },
  {
   "cell_type": "code",
   "execution_count": 18,
   "id": "df06465b-3354-4de7-96ec-274bf5db6c20",
   "metadata": {},
   "outputs": [],
   "source": [
    "# 작물 종류 기준 층화 추출 Train Test 비율 8:2\n",
    "X=data.drop(columns=['합계','농업경영체','비고']) #독립변수 Set\n",
    "Y=data['합계'] #Target 변수 set\n",
    "X_train, X_test, Y_train, Y_test=train_test_split(X,Y,test_size=0.2,stratify=X['작물 종류'],random_state=42)"
   ]
  },
  {
   "cell_type": "code",
   "execution_count": 19,
   "id": "2cc1585f-a421-42ba-9adf-bf11d742cc61",
   "metadata": {},
   "outputs": [],
   "source": [
    "# Randomforest 모델 구축\n",
    "\n",
    "model_reg=RandomForestRegressor(n_jobs=-1,random_state=42,n_estimators=200,max_depth=8)"
   ]
  },
  {
   "cell_type": "code",
   "execution_count": 20,
   "id": "7dde2dbe-e589-469a-bd95-401847120e4c",
   "metadata": {},
   "outputs": [
    {
     "data": {
      "text/plain": [
       "RandomForestRegressor(max_depth=8, n_estimators=200, n_jobs=-1, random_state=42)"
      ]
     },
     "execution_count": 20,
     "metadata": {},
     "output_type": "execute_result"
    }
   ],
   "source": [
    "model_reg.fit(X_train,Y_train)"
   ]
  },
  {
   "cell_type": "code",
   "execution_count": 34,
   "id": "f577ea72-4243-41d8-b8c0-89ff86fc1a72",
   "metadata": {},
   "outputs": [
    {
     "data": {
      "image/png": "[encoded data removed]",
      "text/plain": [
       "<Figure size 576x432 with 1 Axes>"
      ]
     },
     "metadata": {},
     "output_type": "display_data"
    }
   ],
   "source": [
    "value_importance=model_reg.feature_importances_\n",
    "value_importance=pd.Series(value_importance,index=X_train.columns)\n",
    "value_importance=value_importance.sort_values(ascending=False)\n",
    "plt.figure(figsize=(8,6))\n",
    "sns.barplot(x=value_importance,y=value_importance.index)\n",
    "plt.show()"
   ]
  },
  {
   "cell_type": "code",
   "execution_count": 25,
   "id": "36108a0d-b0fd-406c-8021-c4923a26073a",
   "metadata": {},
   "outputs": [],
   "source": [
    "pred=model_reg.predict(X_test)"
   ]
  },
  {
   "cell_type": "code",
   "execution_count": 26,
   "id": "8837c3bb-975c-43d6-94b2-385e4b35fd59",
   "metadata": {},
   "outputs": [],
   "source": [
    "pred=pd.DataFrame(pred,columns=['예측값'])\n",
    "pred['예측값']=round(pred['예측값'],0)"
   ]
  },
  {
   "cell_type": "markdown",
   "id": "9c62d6be-7907-4f4f-9362-e8be3848be76",
   "metadata": {},
   "source": [
    "# MAE & mse & Rmse & Rmspe\n",
    "\n",
    "- MAE=실제값과 예측값 사이의 절대값의 평균=> 크면 클 수록 예측력이 낮은 것\n",
    "- MSE=실제값과 예측값 사이의 차이를 제곱한 평균\n",
    "- RMSE=MSE에 루트를 취한 값\n",
    "- RMSPE=예측 오차를 실제값으로 나눈후 제곱하여 평균을 측정한 제곱근임"
   ]
  },
  {
   "cell_type": "code",
   "execution_count": 27,
   "id": "cd24fbde-8996-44d2-858c-2c0a544d5025",
   "metadata": {},
   "outputs": [],
   "source": [
    "# MAE\n",
    "def Evaluation_metric(actual,pred):\n",
    "    print(f'MAE: {round(mean_absolute_error(actual,pred),2)}')\n",
    "    print(f'MSE: {round(mean_squared_error(actual,pred),2)}')\n",
    "    print(f'RMSE: {round(sqrt(mean_squared_error(actual,pred)),2)}')\n",
    "    print(f'RMSPE: {round(sqrt(mean_squared_error(actual,pred))/np.mean(actual)*100,2)}%')"
   ]
  },
  {
   "cell_type": "code",
   "execution_count": 28,
   "id": "e7fa7801-509c-4fbf-863d-17380cf449aa",
   "metadata": {},
   "outputs": [
    {
     "name": "stdout",
     "output_type": "stream",
     "text": [
      "MAE: 1.31\n",
      "MSE: 3.12\n",
      "RMSE: 1.77\n",
      "RMSPE: 52.36%\n"
     ]
    }
   ],
   "source": [
    "Evaluation_metric(Y_test,pred=pred)"
   ]
  },
  {
   "cell_type": "code",
   "execution_count": 29,
   "id": "f4309eb5-65b5-4e44-9f48-770384a6d5bf",
   "metadata": {},
   "outputs": [],
   "source": [
    "# Test data Set\n",
    "test_index=X_test.index.tolist()\n",
    "data_test=data_real.loc[test_index]\n",
    "data_test=data_test.reset_index()\n",
    "data_test.drop(columns=['index'],inplace=True)\n",
    "data_test['predict']=pred"
   ]
  },
  {
   "cell_type": "code",
   "execution_count": 30,
   "id": "c5283e14-33d1-43df-9e9e-64d728575ac3",
   "metadata": {},
   "outputs": [],
   "source": [
    "result=data_test.groupby(['지자체명_시도','지자체명_시군구'])[['합계','predict']].sum().reset_index()"
   ]
  },
  {
   "cell_type": "code",
   "execution_count": 31,
   "id": "2cc47b0a-e20d-46e9-b6ae-d06856455463",
   "metadata": {},
   "outputs": [
    {
     "name": "stdout",
     "output_type": "stream",
     "text": [
      "MAE: 10.29\n",
      "MSE: 225.38\n",
      "RMSE: 15.01\n",
      "RMSPE: 18.32%\n"
     ]
    }
   ],
   "source": [
    "result_1=result.query('합계>10')\n",
    "Evaluation_metric(result_1['합계'],pred=result_1['predict'])"
   ]
  }
 ],
 "metadata": {
  "kernelspec": {
   "display_name": "Python 3 (ipykernel)",
   "language": "python",
   "name": "python3"
  },
  "language_info": {
   "codemirror_mode": {
    "name": "ipython",
    "version": 3
   },
   "file_extension": ".py",
   "mimetype": "text/x-python",
   "name": "python",
   "nbconvert_exporter": "python",
   "pygments_lexer": "ipython3",
   "version": "3.9.7"
  }
 },
 "nbformat": 4,
 "nbformat_minor": 5
}
