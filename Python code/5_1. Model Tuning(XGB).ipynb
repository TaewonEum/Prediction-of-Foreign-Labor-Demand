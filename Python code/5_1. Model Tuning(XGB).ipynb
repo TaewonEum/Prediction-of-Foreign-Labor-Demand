{
 "cells": [
  {
   "cell_type": "markdown",
   "id": "b539361f-436f-4ae4-b158-8abc4e5686dc",
   "metadata": {},
   "source": [
    "# 0. 기본 라이브러리 import"
   ]
  },
  {
   "cell_type": "code",
   "execution_count": 1,
   "id": "3276be07-38de-481d-87d7-ebc29c5fcc17",
   "metadata": {},
   "outputs": [],
   "source": [
    "import pandas as pd\n",
    "import numpy as np\n",
    "import random\n",
    "import os\n",
    "import seaborn as sns\n",
    "import matplotlib.pyplot as plt\n",
    "plt.rcParams['font.family'] = 'Malgun Gothic'\n",
    "sns.set(font=\"Malgun Gothic\")\n",
    "import warnings\n",
    "warnings.filterwarnings('ignore')\n",
    "from sklearn.preprocessing import MinMaxScaler\n",
    "from sklearn.preprocessing import LabelEncoder"
   ]
  },
  {
   "cell_type": "markdown",
   "id": "12a40617-bfef-45c4-9290-bb0c430a9296",
   "metadata": {},
   "source": [
    "# 데이터 분할 및 평가 지표"
   ]
  },
  {
   "cell_type": "code",
   "execution_count": 2,
   "id": "1d933b20-d2b6-4439-a120-c89e0537cace",
   "metadata": {},
   "outputs": [],
   "source": [
    "from sklearn.model_selection import train_test_split\n",
    "from sklearn.metrics import mean_absolute_error, mean_squared_error\n",
    "from math import sqrt\n",
    "from sklearn.model_selection import train_test_split"
   ]
  },
  {
   "cell_type": "markdown",
   "id": "1df8d648-088d-4fdb-91ad-47eb4ec4f855",
   "metadata": {},
   "source": [
    "# XGBoost 라이브러리"
   ]
  },
  {
   "cell_type": "code",
   "execution_count": 3,
   "id": "fb352d1c-cf1e-4d10-805f-4108f3585859",
   "metadata": {},
   "outputs": [],
   "source": [
    "import xgboost as xgb\n",
    "from xgboost import plot_importance \n",
    "from xgboost import XGBRegressor"
   ]
  },
  {
   "cell_type": "markdown",
   "id": "2ca6d5a3-bbc3-4a03-b75a-6461d478a256",
   "metadata": {},
   "source": [
    "# 파라미터 튜닝 함수"
   ]
  },
  {
   "cell_type": "code",
   "execution_count": 4,
   "id": "6115cec6-b863-4ff6-8f2c-7bb6ad24f45b",
   "metadata": {},
   "outputs": [],
   "source": [
    "from bayes_opt import BayesianOptimization\n",
    "from sklearn.model_selection import cross_val_score\n",
    "import optuna"
   ]
  },
  {
   "cell_type": "markdown",
   "id": "b110a435-664d-41ab-bcb4-1996e10255bc",
   "metadata": {},
   "source": [
    "# 빈도테이블 생성"
   ]
  },
  {
   "cell_type": "code",
   "execution_count": 5,
   "id": "c8d3f27f-7759-46b8-8f8a-1db72e326e2f",
   "metadata": {},
   "outputs": [],
   "source": [
    "def count(x):\n",
    "    data1=pd.DataFrame(x.value_counts()).reset_index()\n",
    "    data1.columns=['category','빈도수']\n",
    "    return data1"
   ]
  },
  {
   "cell_type": "markdown",
   "id": "1c32f641-a14f-41eb-be54-1d1e4e4fb3c2",
   "metadata": {},
   "source": [
    "# Barplot 생성"
   ]
  },
  {
   "cell_type": "code",
   "execution_count": 6,
   "id": "123239c1-5fd8-4a9f-a363-8a8668a48dd8",
   "metadata": {},
   "outputs": [],
   "source": [
    "def bargraph(x,y,x_label,y_label,figsize1,figsize2,data):\n",
    "    plt.figure(figsize=(figsize1, figsize2))\n",
    "    if data[x].dtypes=='int64':\n",
    "        data[x]=data[x].astype('str')\n",
    "    data=data.sort_values(by=y,ascending=False).reset_index()\n",
    "    \n",
    "    for index, row in data.iterrows():\n",
    "        g=sns.barplot(x,y,data=data)\n",
    "        plt.xlabel(x_label)\n",
    "        plt.ylabel(y_label)\n",
    "        g.text(index,row[y],row[y],color='black',ha='center')"
   ]
  },
  {
   "cell_type": "markdown",
   "id": "f2fd9a2f-591e-4a68-989f-0eb09a0025c9",
   "metadata": {},
   "source": [
    "# 성능 지표 추출"
   ]
  },
  {
   "cell_type": "code",
   "execution_count": 7,
   "id": "9a4b9862-177b-44b2-82ce-53e80fb0b0d4",
   "metadata": {},
   "outputs": [],
   "source": [
    "# 성능지표 추출\n",
    "def Evaluation_metric(actual,pred):\n",
    "    print(f'MAE: {round(mean_absolute_error(actual,pred),2)}')\n",
    "    print(f'MSE: {round(mean_squared_error(actual,pred),2)}')\n",
    "    print(f'RMSE: {round(sqrt(mean_squared_error(actual,pred)),2)}')\n",
    "    #print(f'RMSPE: {round(sqrt(mean_squared_error(actual,pred))/np.mean(actual)*100,2)}%')\n",
    "    print(f'RMSPE: {round(np.sqrt(np.mean(((actual - pred) / actual) ** 2)) * 100, 2)}%')"
   ]
  },
  {
   "cell_type": "markdown",
   "id": "b9ec385c-57b3-483a-8534-0d55e7050742",
   "metadata": {},
   "source": [
    "# 1. 시드 고정"
   ]
  },
  {
   "cell_type": "code",
   "execution_count": 8,
   "id": "19804a4e-d47e-4739-9f18-7f2195ab2abc",
   "metadata": {},
   "outputs": [],
   "source": [
    "def seed_everything(seed):\n",
    "    random.seed(seed)\n",
    "    os.environ['PYTHONHASHSEED'] = str(seed)\n",
    "    np.random.seed(seed)\n",
    "seed_everything(42) # Seed 고정"
   ]
  },
  {
   "cell_type": "markdown",
   "id": "6fad09e1-f89b-43de-a320-bfff6d9a8adb",
   "metadata": {},
   "source": [
    "# 2. 데이터 불러오기"
   ]
  },
  {
   "cell_type": "code",
   "execution_count": 9,
   "id": "40d15d0e-3227-43eb-a9c8-cde7ef9e0611",
   "metadata": {},
   "outputs": [],
   "source": [
    "# Train, Valid, Test Split용 데이터\n",
    "data=pd.read_csv(os.listdir()[10],encoding='EUC-KR')\n",
    "# 지표 확인용 데이터\n",
    "data_real=pd.read_csv(os.listdir()[10],encoding='EUC-KR')\n",
    "# 배정신청인원 0명 제거\n",
    "data=data.query('합계!=0')\n",
    "#필요 컬럼 추출\n",
    "selected_columns_1=['구분','합계', '작물 종류','농지면적(실제경작)','전년대비농경체증감률','고령농경체비율','전년도이탈인원','전년도활용여부']\n",
    "selected_columns_2=['비고', '지자체명_시도', '지자체명_시군구', '구분', '농업경영체','합계', '작물 종류','농지면적(실제경작)','전년대비농경체증감률','고령농경체비율','전년도이탈인원','전년도활용여부'] #원본 데이터 컬럼\n",
    "data=data[selected_columns_1]\n",
    "data_real=data_real[selected_columns_2]\n",
    "# 농지면적(실제경작) 컬럼명 변경\n",
    "data.rename(columns={'농지면적(실제경작)':'농지면적','작물 종류':'작물종류'},inplace=True)"
   ]
  },
  {
   "cell_type": "markdown",
   "id": "77bde231-7e96-4ced-9a73-4f006325c7af",
   "metadata": {},
   "source": [
    "# 3. 이상치 제거: 농지 면적, 합계"
   ]
  },
  {
   "cell_type": "code",
   "execution_count": 10,
   "id": "28d83050-408c-4ec1-8a7a-b7d50a58c94c",
   "metadata": {},
   "outputs": [],
   "source": [
    "data=data.query('0.04<농지면적<2.5')\n",
    "data=data.query('합계<11')"
   ]
  },
  {
   "cell_type": "markdown",
   "id": "1e89e7a6-dcc3-4092-8994-e0c9323c9f4c",
   "metadata": {},
   "source": [
    "# 4. 데이터 분할 Train, Valid, Test"
   ]
  },
  {
   "cell_type": "code",
   "execution_count": 11,
   "id": "89b263f7-bd65-444b-a98f-264bb9ffa7d3",
   "metadata": {},
   "outputs": [],
   "source": [
    "# 작물 종류 기준 층화 추출 Train Test 비율 8:2\n",
    "X=data.drop(columns=['합계']) #독립변수 Set\n",
    "Y=data['합계'] #Target 변수 set\n",
    "\n",
    "# Train, Test 분할\n",
    "X_train, X_test, Y_train, Y_test=train_test_split(X,Y,test_size=0.2,stratify=X['작물종류'],random_state=42)\n",
    "\n",
    "# 2차 Train, Validation 분할\n",
    "X_train, X_valid, Y_train, Y_valid=train_test_split(X_train,Y_train,test_size=0.2,stratify=X_train['작물종류'],random_state=42)"
   ]
  },
  {
   "cell_type": "markdown",
   "id": "19a35d3e-5491-4b92-8d1c-cb039e03daf9",
   "metadata": {},
   "source": [
    "# 5. 연속형 변수 정규화 & 범주형 변수 라벨 인코딩 진행"
   ]
  },
  {
   "cell_type": "code",
   "execution_count": 12,
   "id": "100e66d4-1b3b-452f-b4f5-641f48b64623",
   "metadata": {},
   "outputs": [],
   "source": [
    "# 연속형 변수 정규화\n",
    "min_max_scaler=MinMaxScaler()\n",
    "for i in X_train.columns:\n",
    "    if (X_train[i].dtypes!='object'):\n",
    "        X_train[i]=min_max_scaler.fit_transform(X_train[[i]])\n",
    "        X_valid[i]=min_max_scaler.transform(X_valid[[i]])\n",
    "        X_test[i]=min_max_scaler.transform(X_test[[i]])\n",
    "    else:\n",
    "        pass"
   ]
  },
  {
   "cell_type": "code",
   "execution_count": 13,
   "id": "b7c1dbe6-0673-4efe-907f-183411eb2343",
   "metadata": {},
   "outputs": [],
   "source": [
    "# 범주형 변수 라벨 인코딩\n",
    "label_encoder=LabelEncoder()\n",
    "for i in X_train.columns:\n",
    "    if X_train[i].dtypes=='object':\n",
    "        X_train[i]=label_encoder.fit_transform(X_train[i])\n",
    "        X_valid[i]=label_encoder.transform(X_valid[i])\n",
    "        X_test[i]=label_encoder.transform(X_test[i])\n",
    "    else:\n",
    "        pass"
   ]
  },
  {
   "cell_type": "markdown",
   "id": "fbdd5876-ac45-4e04-8274-7910ad789e75",
   "metadata": {},
   "source": [
    "# 6. XGBoost parameter Tuning"
   ]
  },
  {
   "cell_type": "markdown",
   "id": "a9dd8c59-8e9b-4fee-bae6-0ab0197bf540",
   "metadata": {},
   "source": [
    "- 주요 파라미터 설명\n",
    "\n",
    "- gamma(값이 클수록 과적합을 방지해줌)=> [0,∞], 기본값=0=> 손실감소량에 대한 임계치임\n",
    "ex) gamma가 2일때 loss가 2이하면 더 이상 트리 분할 X\n",
    "\n",
    "- max_depth= Tree maximum depth 값\n",
    "ex) 최대 가지 개수\n",
    "\n",
    "- subsample= 데이터 샘플링 비율\n",
    "ex) 0.8로 설정하면 각 트리가 학습할 때 전체 데이터의 80% 사용 => 과적합 방지\n",
    "-------------------------------------------------------------------------------------------------------------\n",
    "\n",
    "\n",
    "- 초기 파라미터\n",
    "- dart부스터 학습률 0.05, 한트리의 최대 깊이 8, 반복 학습 횟수 200회로 진행\n",
    "- XGBRegressor(booster='dart',learning_rate=0.05, max_depth=8, n_estimator=200)\n",
    "\n",
    "-------------------------------------------------------------------------------------------------------------\n",
    "\n",
    "- 파라미터 튜닝\n",
    "\n",
    "- 학습률 0.05~0.01\n",
    "\n",
    "- gamma 0~2\n",
    "\n",
    "- max_depth 6~9\n",
    "\n",
    "- subsample 0.5~1\n",
    "\n",
    "- 반복수 100~300"
   ]
  },
  {
   "cell_type": "markdown",
   "id": "aa8cdd0e-289c-4ae4-b8e0-791d0322c694",
   "metadata": {},
   "source": [
    "# 7. 초기 기본 모델"
   ]
  },
  {
   "cell_type": "code",
   "execution_count": 20,
   "id": "6c713f13-9c57-464a-b1b8-a2b2080400ba",
   "metadata": {},
   "outputs": [
    {
     "name": "stdout",
     "output_type": "stream",
     "text": [
      "농업경영체별 평가지표 결과\n",
      "MAE: 1.31\n",
      "MSE: 3.4\n",
      "RMSE: 1.84\n",
      "RMSPE: 138.54%\n",
      "----------------------------------------------------------------------------------------------------\n",
      "배정신청인원 10명 이상 시군구 단위 평가지표\n",
      "MAE: 7.53\n",
      "MSE: 103.81\n",
      "RMSE: 10.19\n",
      "RMSPE: 20.4%\n",
      "----------------------------------------------------------------------------------------------------\n",
      "변수중요도 Graph\n"
     ]
    },
    {
     "data": {
      "text/plain": [
       "<AxesSubplot:title={'center':'Feature importance'}, xlabel='F score', ylabel='Features'>"
      ]
     },
     "execution_count": 20,
     "metadata": {},
     "output_type": "execute_result"
    },
    {
     "data": {
      "image/png": "[encoded data removed]",
      "text/plain": [
       "<Figure size 432x288 with 1 Axes>"
      ]
     },
     "metadata": {},
     "output_type": "display_data"
    }
   ],
   "source": [
    "# XGB regressor 모델 구축\n",
    "# dart부스터 학습률 0.05, 한트리의 최대 깊이 8, 반복 학습 횟수 200회로 진행=> 파라미터 튜닝 X\n",
    "model_reg=XGBRegressor(booster='dart',learning_rate=0.05, max_depth=10, n_estimators=200)\n",
    "# 모델 적용\n",
    "model_reg.fit(X_train,Y_train)\n",
    "#예측값 \n",
    "pred=model_reg.predict(X_test)\n",
    "# 인원 수 예측이기에 예측된 결과에 반올림 적용\n",
    "pred=pd.DataFrame(pred,columns=['예측값'])\n",
    "#반올림\n",
    "pred['예측값']=round(pred['예측값'],0)\n",
    "#평가지표\n",
    "print('농업경영체별 평가지표 결과')\n",
    "Evaluation_metric(Y_test,pred=pred['예측값'])\n",
    "print('-'*100)\n",
    "\n",
    "test_index=X_test.index.tolist()\n",
    "data_test=data_real.loc[test_index]\n",
    "data_test=data_test.reset_index()\n",
    "data_test.drop(columns=['index'],inplace=True)\n",
    "#예측값\n",
    "data_test['predict']=pred\n",
    "result=data_test.groupby(['지자체명_시도','지자체명_시군구'])[['합계','predict']].sum().reset_index()\n",
    "result_1=result.query('합계>10')\n",
    "print('배정신청인원 10명 이상 시군구 단위 평가지표')\n",
    "Evaluation_metric(result_1['합계'],pred=result_1['predict'])\n",
    "print('-'*100)\n",
    "print('변수중요도 Graph')\n",
    "# 변수 중요도 확인\n",
    "plot_importance(model_reg)"
   ]
  },
  {
   "cell_type": "markdown",
   "id": "379002d5-a73e-41d6-b1b5-9e0c660747a3",
   "metadata": {},
   "source": [
    "# 8. Bayesian Optimization 튜닝"
   ]
  },
  {
   "cell_type": "code",
   "execution_count": 21,
   "id": "1cdcfa5c-909c-4b68-9029-36d532b09578",
   "metadata": {},
   "outputs": [
    {
     "name": "stdout",
     "output_type": "stream",
     "text": [
      "|   iter    |  target   |   gamma   | learni... | max_depth | n_esti... | subsample |\n",
      "-------------------------------------------------------------------------------------\n",
      "| \u001b[0m1        \u001b[0m | \u001b[0m3.462    \u001b[0m | \u001b[0m1.853    \u001b[0m | \u001b[0m0.04178  \u001b[0m | \u001b[0m8.704    \u001b[0m | \u001b[0m243.2    \u001b[0m | \u001b[0m0.9208   \u001b[0m |\n",
      "| \u001b[0m2        \u001b[0m | \u001b[0m3.461    \u001b[0m | \u001b[0m1.245    \u001b[0m | \u001b[0m0.04029  \u001b[0m | \u001b[0m8.523    \u001b[0m | \u001b[0m237.6    \u001b[0m | \u001b[0m0.9467   \u001b[0m |\n",
      "| \u001b[95m3        \u001b[0m | \u001b[95m3.483    \u001b[0m | \u001b[95m1.879    \u001b[0m | \u001b[95m0.04899  \u001b[0m | \u001b[95m9.677    \u001b[0m | \u001b[95m279.2    \u001b[0m | \u001b[95m0.9681   \u001b[0m |\n",
      "| \u001b[0m4        \u001b[0m | \u001b[0m3.462    \u001b[0m | \u001b[0m1.178    \u001b[0m | \u001b[0m0.04049  \u001b[0m | \u001b[0m8.437    \u001b[0m | \u001b[0m274.5    \u001b[0m | \u001b[0m0.961    \u001b[0m |\n",
      "| \u001b[95m5        \u001b[0m | \u001b[95m3.496    \u001b[0m | \u001b[95m1.335    \u001b[0m | \u001b[95m0.04079  \u001b[0m | \u001b[95m9.137    \u001b[0m | \u001b[95m262.5    \u001b[0m | \u001b[95m0.935    \u001b[0m |\n",
      "| \u001b[0m6        \u001b[0m | \u001b[0m3.436    \u001b[0m | \u001b[0m1.999    \u001b[0m | \u001b[0m0.04033  \u001b[0m | \u001b[0m8.206    \u001b[0m | \u001b[0m299.9    \u001b[0m | \u001b[0m0.8522   \u001b[0m |\n",
      "| \u001b[0m7        \u001b[0m | \u001b[0m3.47     \u001b[0m | \u001b[0m1.491    \u001b[0m | \u001b[0m0.04459  \u001b[0m | \u001b[0m9.53     \u001b[0m | \u001b[0m254.9    \u001b[0m | \u001b[0m0.9479   \u001b[0m |\n",
      "| \u001b[0m8        \u001b[0m | \u001b[0m3.458    \u001b[0m | \u001b[0m1.617    \u001b[0m | \u001b[0m0.04878  \u001b[0m | \u001b[0m8.212    \u001b[0m | \u001b[0m240.4    \u001b[0m | \u001b[0m0.869    \u001b[0m |\n",
      "| \u001b[0m9        \u001b[0m | \u001b[0m3.463    \u001b[0m | \u001b[0m1.348    \u001b[0m | \u001b[0m0.04834  \u001b[0m | \u001b[0m8.53     \u001b[0m | \u001b[0m254.9    \u001b[0m | \u001b[0m0.8957   \u001b[0m |\n",
      "| \u001b[95m10       \u001b[0m | \u001b[95m3.516    \u001b[0m | \u001b[95m1.206    \u001b[0m | \u001b[95m0.04416  \u001b[0m | \u001b[95m9.761    \u001b[0m | \u001b[95m228.6    \u001b[0m | \u001b[95m0.9717   \u001b[0m |\n",
      "| \u001b[95m11       \u001b[0m | \u001b[95m3.646    \u001b[0m | \u001b[95m1.001    \u001b[0m | \u001b[95m0.04997  \u001b[0m | \u001b[95m10.0     \u001b[0m | \u001b[95m224.9    \u001b[0m | \u001b[95m1.0      \u001b[0m |\n",
      "| \u001b[95m12       \u001b[0m | \u001b[95m3.687    \u001b[0m | \u001b[95m1.0      \u001b[0m | \u001b[95m0.05     \u001b[0m | \u001b[95m10.0     \u001b[0m | \u001b[95m222.5    \u001b[0m | \u001b[95m1.0      \u001b[0m |\n",
      "| \u001b[0m13       \u001b[0m | \u001b[0m3.457    \u001b[0m | \u001b[0m2.0      \u001b[0m | \u001b[0m0.05     \u001b[0m | \u001b[0m8.0      \u001b[0m | \u001b[0m217.0    \u001b[0m | \u001b[0m0.85     \u001b[0m |\n",
      "| \u001b[0m14       \u001b[0m | \u001b[0m3.462    \u001b[0m | \u001b[0m1.865    \u001b[0m | \u001b[0m0.0479   \u001b[0m | \u001b[0m8.018    \u001b[0m | \u001b[0m223.1    \u001b[0m | \u001b[0m0.8527   \u001b[0m |\n",
      "| \u001b[0m15       \u001b[0m | \u001b[0m3.665    \u001b[0m | \u001b[0m1.0      \u001b[0m | \u001b[0m0.04     \u001b[0m | \u001b[0m10.0     \u001b[0m | \u001b[0m223.6    \u001b[0m | \u001b[0m1.0      \u001b[0m |\n",
      "| \u001b[0m16       \u001b[0m | \u001b[0m3.51     \u001b[0m | \u001b[0m1.27     \u001b[0m | \u001b[0m0.04323  \u001b[0m | \u001b[0m9.899    \u001b[0m | \u001b[0m220.6    \u001b[0m | \u001b[0m0.9463   \u001b[0m |\n",
      "| \u001b[0m17       \u001b[0m | \u001b[0m3.46     \u001b[0m | \u001b[0m1.839    \u001b[0m | \u001b[0m0.04303  \u001b[0m | \u001b[0m9.966    \u001b[0m | \u001b[0m223.3    \u001b[0m | \u001b[0m0.8816   \u001b[0m |\n",
      "| \u001b[0m18       \u001b[0m | \u001b[0m3.513    \u001b[0m | \u001b[0m1.045    \u001b[0m | \u001b[0m0.04513  \u001b[0m | \u001b[0m9.879    \u001b[0m | \u001b[0m223.5    \u001b[0m | \u001b[0m0.9581   \u001b[0m |\n",
      "| \u001b[0m19       \u001b[0m | \u001b[0m3.469    \u001b[0m | \u001b[0m1.823    \u001b[0m | \u001b[0m0.04056  \u001b[0m | \u001b[0m9.691    \u001b[0m | \u001b[0m206.3    \u001b[0m | \u001b[0m0.9164   \u001b[0m |\n",
      "| \u001b[0m20       \u001b[0m | \u001b[0m3.511    \u001b[0m | \u001b[0m1.441    \u001b[0m | \u001b[0m0.04258  \u001b[0m | \u001b[0m8.382    \u001b[0m | \u001b[0m279.4    \u001b[0m | \u001b[0m0.9848   \u001b[0m |\n",
      "| \u001b[0m21       \u001b[0m | \u001b[0m3.552    \u001b[0m | \u001b[0m1.006    \u001b[0m | \u001b[0m0.04445  \u001b[0m | \u001b[0m9.831    \u001b[0m | \u001b[0m222.5    \u001b[0m | \u001b[0m0.9873   \u001b[0m |\n",
      "| \u001b[0m22       \u001b[0m | \u001b[0m3.504    \u001b[0m | \u001b[0m1.092    \u001b[0m | \u001b[0m0.04524  \u001b[0m | \u001b[0m9.995    \u001b[0m | \u001b[0m222.5    \u001b[0m | \u001b[0m0.9525   \u001b[0m |\n",
      "| \u001b[0m23       \u001b[0m | \u001b[0m3.434    \u001b[0m | \u001b[0m1.519    \u001b[0m | \u001b[0m0.04545  \u001b[0m | \u001b[0m8.319    \u001b[0m | \u001b[0m255.4    \u001b[0m | \u001b[0m0.9456   \u001b[0m |\n",
      "| \u001b[0m24       \u001b[0m | \u001b[0m3.482    \u001b[0m | \u001b[0m1.339    \u001b[0m | \u001b[0m0.04333  \u001b[0m | \u001b[0m9.837    \u001b[0m | \u001b[0m228.6    \u001b[0m | \u001b[0m0.9425   \u001b[0m |\n",
      "| \u001b[0m25       \u001b[0m | \u001b[0m3.534    \u001b[0m | \u001b[0m1.266    \u001b[0m | \u001b[0m0.04202  \u001b[0m | \u001b[0m9.776    \u001b[0m | \u001b[0m228.6    \u001b[0m | \u001b[0m0.9882   \u001b[0m |\n",
      "=====================================================================================\n",
      "최종 파라미터는 {'booster': 'dart', 'max_depth': 8, 'gamma': 1.519042431414007, 'subsample': 0.9455843429525108, 'n_estimator': 255, 'learning_rate': 0.04544663010176408}입니다\n",
      "농업경영체별 평가지표 결과\n",
      "MAE: 1.28\n",
      "MSE: 3.08\n",
      "RMSE: 1.75\n",
      "RMSPE: 130.72%\n",
      "----------------------------------------------------------------------------------------------------\n",
      "배정신청인원 10명 이상 시군구 단위 평가지표\n",
      "MAE: 8.85\n",
      "MSE: 155.45\n",
      "RMSE: 12.47\n",
      "RMSPE: 21.27%\n"
     ]
    }
   ],
   "source": [
    "# 목적 함수 정의\n",
    "results = {\n",
    "    'max_depth': [],\n",
    "    'gamma': [],\n",
    "    'subsample': [],\n",
    "    'n_estimator': [],\n",
    "    'learning_rate': [],\n",
    "    'target': []  # 최적화 결과인 target 값 저장\n",
    "}\n",
    "\n",
    "def xgb_cv(max_depth, gamma, subsample, n_estimator, learning_rate):\n",
    "    params = {\n",
    "        'eval_metric': 'rmse',\n",
    "        'max_depth': int(max_depth),\n",
    "        'gamma': gamma,\n",
    "        'subsample': subsample,\n",
    "        'n_estimator': int(n_estimator),\n",
    "        'learning_rate': learning_rate,\n",
    "        'booster': 'dart'\n",
    "    }\n",
    "    \n",
    "    # XGBoost Regressor 모델 초기화\n",
    "    model_reg = xgb.XGBRegressor(**params)\n",
    "    \n",
    "    #model Train 학습\n",
    "    model_reg.fit(X_train,Y_train)\n",
    "    #model validation\n",
    "    scores = -cross_val_score(model_reg, X_valid, Y_valid, cv=5, scoring='neg_mean_squared_error').mean()\n",
    "    results['max_depth'].append(max_depth)\n",
    "    results['gamma'].append(gamma)\n",
    "    results['subsample'].append(subsample)\n",
    "    results['n_estimator'].append(n_estimator)\n",
    "    results['learning_rate'].append(learning_rate)\n",
    "    results['target'].append(scores)\n",
    "    return scores\n",
    "\n",
    "# Bayesian Optimization 수행\n",
    "xgbBO = BayesianOptimization(\n",
    "    xgb_cv,\n",
    "    {'max_depth': (8, 10),\n",
    "     'gamma': (1, 2),\n",
    "     'subsample': (0.85, 1.0),\n",
    "     'n_estimator': (200, 300),\n",
    "     'learning_rate': (0.04,0.05)}\n",
    ")\n",
    "\n",
    "# 최적화\n",
    "xgbBO.maximize(init_points=10, n_iter=15)\n",
    "\n",
    "idx_of_min=results['target'].index(min(results['target']))\n",
    "min_pam={'booster':'dart'}\n",
    "for key,value in results.items():\n",
    "    if key=='target':\n",
    "        pass\n",
    "    else:\n",
    "        if (key=='max_depth') or (key=='n_estimator'):\n",
    "            min_pam[key]=int(round(value[idx_of_min],0))\n",
    "        else:\n",
    "            min_pam[key]=value[idx_of_min]\n",
    "            \n",
    "print(f'최종 파라미터는 {min_pam}입니다')\n",
    "\n",
    "model_reg = xgb.XGBRegressor(**min_pam)\n",
    "model_reg.fit(X_train,Y_train)\n",
    "\n",
    "#예측값 \n",
    "pred=model_reg.predict(X_test)\n",
    "# 인원 수 예측이기에 예측된 결과에 반올림 적용\n",
    "pred=pd.DataFrame(pred,columns=['예측값'])\n",
    "#반올림\n",
    "pred['예측값']=round(pred['예측값'],0)\n",
    "#평가지표\n",
    "print('농업경영체별 평가지표 결과')\n",
    "Evaluation_metric(Y_test,pred=pred['예측값'])\n",
    "print('-'*100)\n",
    "\n",
    "test_index=X_test.index.tolist()\n",
    "data_test=data_real.loc[test_index]\n",
    "data_test=data_test.reset_index()\n",
    "data_test.drop(columns=['index'],inplace=True)\n",
    "#예측값\n",
    "data_test['predict']=pred\n",
    "result=data_test.groupby(['지자체명_시도','지자체명_시군구'])[['합계','predict']].sum().reset_index()\n",
    "result_1=result.query('합계>10')\n",
    "print('배정신청인원 10명 이상 시군구 단위 평가지표')\n",
    "Evaluation_metric(result_1['합계'],pred=result_1['predict'])"
   ]
  },
  {
   "cell_type": "markdown",
   "id": "c1e38274-f942-4ef5-82ea-7c02660f4b91",
   "metadata": {},
   "source": [
    "# 9. OPTUNA 라이브러리 활용 파라미터 튜닝"
   ]
  },
  {
   "cell_type": "markdown",
   "id": "085b7136-45c8-490b-bd80-fc252c9171ed",
   "metadata": {},
   "source": [
    "파라미터 튜닝 코드\n",
    "\n",
    "- optuna.trial.Trial.suggest_categorical() : 리스트 범위 내에서 값을 선택한다.\n",
    "- optuna.trial.Trial.suggest_int() : 범위 내에서 정수형 값을 선택한다.\n",
    "- optuna.trial.Trial.suggest_float() : 범위 내에서 소수형 값을 선택한다.\n",
    "- optuna.trial.Trial.suggest_uniform() : 범위 내에서 균일분포 값을 선택한다.\n",
    "- optuna.trial.Trial.suggest_discrete_uniform() : 범위 내에서 이산 균일분포 값을 선택한다.\n",
    "- optuna.trial.Trial.suggest_loguniform() : 범위 내에서 로그 함수 값을 선택한다."
   ]
  },
  {
   "cell_type": "code",
   "execution_count": 22,
   "id": "e8a8d712-10bf-49fd-b7f0-e799fc64a677",
   "metadata": {
    "tags": []
   },
   "outputs": [
    {
     "name": "stderr",
     "output_type": "stream",
     "text": [
      "[I 2023-11-28 10:55:06,374] A new study created in memory with name: no-name-8e816f46-2d7d-4769-9157-1f24aa94b494\n",
      "[I 2023-11-28 10:55:07,993] Trial 0 finished with value: 1.318716602198087 and parameters: {'max_depth': 9, 'gamma': 1.8718909399939394, 'subsample': 0.9, 'n_estimator': 376, 'learning_rate': 0.04490859791064177}. Best is trial 0 with value: 1.318716602198087.\n",
      "[I 2023-11-28 10:55:09,508] Trial 1 finished with value: 1.3123488151910798 and parameters: {'max_depth': 8, 'gamma': 1.2924894794735549, 'subsample': 0.9, 'n_estimator': 295, 'learning_rate': 0.04921685971869262}. Best is trial 1 with value: 1.3123488151910798.\n",
      "[I 2023-11-28 10:55:11,133] Trial 2 finished with value: 1.3221926973241993 and parameters: {'max_depth': 8, 'gamma': 1.7310296074825466, 'subsample': 1, 'n_estimator': 206, 'learning_rate': 0.048349351042270686}. Best is trial 1 with value: 1.3123488151910798.\n",
      "[I 2023-11-28 10:55:12,921] Trial 3 finished with value: 1.3257431650871978 and parameters: {'max_depth': 10, 'gamma': 1.237637449091618, 'subsample': 1, 'n_estimator': 219, 'learning_rate': 0.04095165513762415}. Best is trial 1 with value: 1.3123488151910798.\n",
      "[I 2023-11-28 10:55:14,674] Trial 4 finished with value: 1.3194574824834273 and parameters: {'max_depth': 8, 'gamma': 1.256946869163388, 'subsample': 1, 'n_estimator': 287, 'learning_rate': 0.042734300585683185}. Best is trial 1 with value: 1.3123488151910798.\n",
      "[I 2023-11-28 10:55:16,530] Trial 5 finished with value: 1.319754789349478 and parameters: {'max_depth': 10, 'gamma': 1.3028786493196243, 'subsample': 0.8, 'n_estimator': 346, 'learning_rate': 0.04364556473224654}. Best is trial 1 with value: 1.3123488151910798.\n",
      "[I 2023-11-28 10:55:18,102] Trial 6 finished with value: 1.3395755842029589 and parameters: {'max_depth': 8, 'gamma': 1.1781151753149615, 'subsample': 0.95, 'n_estimator': 267, 'learning_rate': 0.03015365915149779}. Best is trial 1 with value: 1.3123488151910798.\n",
      "[I 2023-11-28 10:55:19,749] Trial 7 finished with value: 1.3214578185255368 and parameters: {'max_depth': 9, 'gamma': 1.1376423086085483, 'subsample': 0.8, 'n_estimator': 325, 'learning_rate': 0.04373033465416534}. Best is trial 1 with value: 1.3123488151910798.\n",
      "[I 2023-11-28 10:55:21,415] Trial 8 finished with value: 1.310507448134694 and parameters: {'max_depth': 8, 'gamma': 1.3577320205958812, 'subsample': 0.9, 'n_estimator': 341, 'learning_rate': 0.04986694454061465}. Best is trial 8 with value: 1.310507448134694.\n",
      "[I 2023-11-28 10:55:23,107] Trial 9 finished with value: 1.3240943990980716 and parameters: {'max_depth': 10, 'gamma': 1.7042894724668096, 'subsample': 0.85, 'n_estimator': 252, 'learning_rate': 0.042637545221654076}. Best is trial 8 with value: 1.310507448134694.\n",
      "[I 2023-11-28 10:55:24,884] Trial 10 finished with value: 1.323874996696672 and parameters: {'max_depth': 9, 'gamma': 1.0133607084971454, 'subsample': 0.9, 'n_estimator': 396, 'learning_rate': 0.03691403787341796}. Best is trial 8 with value: 1.310507448134694.\n",
      "[I 2023-11-28 10:55:26,806] Trial 11 finished with value: 1.3137002820287782 and parameters: {'max_depth': 8, 'gamma': 1.4482231940886694, 'subsample': 0.9, 'n_estimator': 320, 'learning_rate': 0.04945067970854527}. Best is trial 8 with value: 1.310507448134694.\n",
      "[I 2023-11-28 10:55:28,663] Trial 12 finished with value: 1.3149599176709568 and parameters: {'max_depth': 8, 'gamma': 1.4656546385422589, 'subsample': 0.9, 'n_estimator': 353, 'learning_rate': 0.049813131462223166}. Best is trial 8 with value: 1.310507448134694.\n",
      "[I 2023-11-28 10:55:30,622] Trial 13 finished with value: 1.3133409511877685 and parameters: {'max_depth': 8, 'gamma': 1.4053637287650527, 'subsample': 0.9, 'n_estimator': 301, 'learning_rate': 0.046651125838486004}. Best is trial 8 with value: 1.310507448134694.\n",
      "[I 2023-11-28 10:55:33,398] Trial 14 finished with value: 1.3148859381124676 and parameters: {'max_depth': 9, 'gamma': 1.3738984074364708, 'subsample': 0.85, 'n_estimator': 343, 'learning_rate': 0.04735807748742839}. Best is trial 8 with value: 1.310507448134694.\n",
      "[I 2023-11-28 10:55:36,281] Trial 15 finished with value: 1.31627742094325 and parameters: {'max_depth': 8, 'gamma': 1.5812678200606682, 'subsample': 0.95, 'n_estimator': 289, 'learning_rate': 0.04987718852850705}. Best is trial 8 with value: 1.310507448134694.\n",
      "[I 2023-11-28 10:55:38,552] Trial 16 finished with value: 1.3151789126668028 and parameters: {'max_depth': 9, 'gamma': 1.5784323869014578, 'subsample': 0.9, 'n_estimator': 251, 'learning_rate': 0.0456762327667531}. Best is trial 8 with value: 1.310507448134694.\n",
      "[I 2023-11-28 10:55:40,488] Trial 17 finished with value: 1.3160735572615097 and parameters: {'max_depth': 8, 'gamma': 1.3429105414451072, 'subsample': 0.9, 'n_estimator': 309, 'learning_rate': 0.04717111506987621}. Best is trial 8 with value: 1.310507448134694.\n",
      "[I 2023-11-28 10:55:42,282] Trial 18 finished with value: 1.314106785216329 and parameters: {'max_depth': 8, 'gamma': 1.1507999131856876, 'subsample': 0.9, 'n_estimator': 375, 'learning_rate': 0.047612075984967174}. Best is trial 8 with value: 1.310507448134694.\n",
      "[I 2023-11-28 10:55:44,313] Trial 19 finished with value: 1.3153455144757789 and parameters: {'max_depth': 9, 'gamma': 1.3191022049732402, 'subsample': 0.95, 'n_estimator': 267, 'learning_rate': 0.0461213152084398}. Best is trial 8 with value: 1.310507448134694.\n",
      "[I 2023-11-28 10:55:46,211] Trial 20 finished with value: 1.3191737839669893 and parameters: {'max_depth': 8, 'gamma': 1.5205366445515702, 'subsample': 0.8, 'n_estimator': 327, 'learning_rate': 0.04985380992246947}. Best is trial 8 with value: 1.310507448134694.\n",
      "[I 2023-11-28 10:55:48,080] Trial 21 finished with value: 1.3142168868426856 and parameters: {'max_depth': 8, 'gamma': 1.4072330457636864, 'subsample': 0.9, 'n_estimator': 296, 'learning_rate': 0.04781674526655374}. Best is trial 8 with value: 1.310507448134694.\n",
      "[I 2023-11-28 10:55:50,090] Trial 22 finished with value: 1.3164940056705328 and parameters: {'max_depth': 8, 'gamma': 1.3910007887597389, 'subsample': 0.9, 'n_estimator': 307, 'learning_rate': 0.04588387769176865}. Best is trial 8 with value: 1.310507448134694.\n",
      "[I 2023-11-28 10:55:51,914] Trial 23 finished with value: 1.3125634755485782 and parameters: {'max_depth': 8, 'gamma': 1.2608523426914888, 'subsample': 0.9, 'n_estimator': 278, 'learning_rate': 0.047721466360745486}. Best is trial 8 with value: 1.310507448134694.\n",
      "[I 2023-11-28 10:55:53,694] Trial 24 finished with value: 1.3137615222960297 and parameters: {'max_depth': 8, 'gamma': 1.2267117832413124, 'subsample': 0.9, 'n_estimator': 273, 'learning_rate': 0.04850026316985327}. Best is trial 8 with value: 1.310507448134694.\n",
      "[I 2023-11-28 10:55:55,735] Trial 25 finished with value: 1.3148113930598857 and parameters: {'max_depth': 9, 'gamma': 1.2816328456482893, 'subsample': 0.85, 'n_estimator': 244, 'learning_rate': 0.048311611997994296}. Best is trial 8 with value: 1.310507448134694.\n",
      "[I 2023-11-28 10:55:57,578] Trial 26 finished with value: 1.3150802243962065 and parameters: {'max_depth': 8, 'gamma': 1.20285644619681, 'subsample': 0.9, 'n_estimator': 235, 'learning_rate': 0.04999502109436681}. Best is trial 8 with value: 1.310507448134694.\n",
      "[I 2023-11-28 10:55:59,446] Trial 27 finished with value: 1.3159138013842662 and parameters: {'max_depth': 8, 'gamma': 1.3206123905623461, 'subsample': 0.9, 'n_estimator': 280, 'learning_rate': 0.04505872577584813}. Best is trial 8 with value: 1.310507448134694.\n",
      "[I 2023-11-28 10:56:01,556] Trial 28 finished with value: 1.320972727823086 and parameters: {'max_depth': 9, 'gamma': 1.2768685767196415, 'subsample': 0.9, 'n_estimator': 357, 'learning_rate': 0.04858838710063812}. Best is trial 8 with value: 1.310507448134694.\n",
      "[I 2023-11-28 10:56:03,460] Trial 29 finished with value: 1.3218921476226007 and parameters: {'max_depth': 9, 'gamma': 1.9746046176876224, 'subsample': 0.9, 'n_estimator': 365, 'learning_rate': 0.046638932182168615}. Best is trial 8 with value: 1.310507448134694.\n",
      "[I 2023-11-28 10:56:05,353] Trial 30 finished with value: 1.3211011677199778 and parameters: {'max_depth': 8, 'gamma': 1.130267288058178, 'subsample': 0.8, 'n_estimator': 315, 'learning_rate': 0.044765082969373225}. Best is trial 8 with value: 1.310507448134694.\n",
      "[I 2023-11-28 10:56:07,492] Trial 31 finished with value: 1.314820854371183 and parameters: {'max_depth': 8, 'gamma': 1.3753591170265353, 'subsample': 0.9, 'n_estimator': 336, 'learning_rate': 0.04696215118453355}. Best is trial 8 with value: 1.310507448134694.\n",
      "[I 2023-11-28 10:56:09,358] Trial 32 finished with value: 1.3145057987297384 and parameters: {'max_depth': 8, 'gamma': 1.3324285485326186, 'subsample': 0.9, 'n_estimator': 294, 'learning_rate': 0.048385538605007446}. Best is trial 8 with value: 1.310507448134694.\n",
      "[I 2023-11-28 10:56:11,465] Trial 33 finished with value: 1.3202687408229787 and parameters: {'max_depth': 8, 'gamma': 1.447290954540512, 'subsample': 1, 'n_estimator': 302, 'learning_rate': 0.046701983447418695}. Best is trial 8 with value: 1.310507448134694.\n",
      "[I 2023-11-28 10:56:13,328] Trial 34 finished with value: 1.3204562348099813 and parameters: {'max_depth': 8, 'gamma': 1.2195407119678974, 'subsample': 1, 'n_estimator': 277, 'learning_rate': 0.04862652903373737}. Best is trial 8 with value: 1.310507448134694.\n",
      "[I 2023-11-28 10:56:15,115] Trial 35 finished with value: 1.3136590046336483 and parameters: {'max_depth': 8, 'gamma': 1.245901661265205, 'subsample': 0.9, 'n_estimator': 218, 'learning_rate': 0.048925712562150184}. Best is trial 8 with value: 1.310507448134694.\n",
      "[I 2023-11-28 10:56:17,178] Trial 36 finished with value: 1.314203701695235 and parameters: {'max_depth': 8, 'gamma': 1.2787647365751416, 'subsample': 0.95, 'n_estimator': 260, 'learning_rate': 0.04714258674489821}. Best is trial 8 with value: 1.310507448134694.\n",
      "[I 2023-11-28 10:56:19,415] Trial 37 finished with value: 1.3222367803929216 and parameters: {'max_depth': 10, 'gamma': 1.3550593720042132, 'subsample': 0.9, 'n_estimator': 392, 'learning_rate': 0.044675610824351876}. Best is trial 8 with value: 1.310507448134694.\n",
      "[I 2023-11-28 10:56:21,201] Trial 38 finished with value: 1.3216687549244275 and parameters: {'max_depth': 8, 'gamma': 1.4372419360586637, 'subsample': 1, 'n_estimator': 336, 'learning_rate': 0.0489507762199202}. Best is trial 8 with value: 1.310507448134694.\n",
      "[I 2023-11-28 10:56:23,359] Trial 39 finished with value: 1.319426924617828 and parameters: {'max_depth': 8, 'gamma': 1.2955018091820678, 'subsample': 0.85, 'n_estimator': 282, 'learning_rate': 0.04600370173849308}. Best is trial 8 with value: 1.310507448134694.\n",
      "[I 2023-11-28 10:56:25,305] Trial 40 finished with value: 1.3112064610399463 and parameters: {'max_depth': 9, 'gamma': 1.4035466897737676, 'subsample': 0.8, 'n_estimator': 233, 'learning_rate': 0.047819315447162086}. Best is trial 8 with value: 1.310507448134694.\n",
      "[I 2023-11-28 10:56:27,334] Trial 41 finished with value: 1.321443918122349 and parameters: {'max_depth': 10, 'gamma': 1.4982794323820814, 'subsample': 0.8, 'n_estimator': 202, 'learning_rate': 0.04818113262802717}. Best is trial 8 with value: 1.310507448134694.\n",
      "[I 2023-11-28 10:56:29,551] Trial 42 finished with value: 1.3204175644675218 and parameters: {'max_depth': 10, 'gamma': 1.408126908795715, 'subsample': 0.8, 'n_estimator': 213, 'learning_rate': 0.0477428425636296}. Best is trial 8 with value: 1.310507448134694.\n",
      "[I 2023-11-28 10:56:31,408] Trial 43 finished with value: 1.3087392317434428 and parameters: {'max_depth': 9, 'gamma': 1.358213790176247, 'subsample': 0.8, 'n_estimator': 230, 'learning_rate': 0.04917894976663506}. Best is trial 43 with value: 1.3087392317434428.\n",
      "[I 2023-11-28 10:56:33,454] Trial 44 finished with value: 1.3175773409984022 and parameters: {'max_depth': 9, 'gamma': 1.3609235375736917, 'subsample': 0.8, 'n_estimator': 234, 'learning_rate': 0.049134891650273356}. Best is trial 43 with value: 1.3087392317434428.\n",
      "[I 2023-11-28 10:56:35,352] Trial 45 finished with value: 1.3177895841074405 and parameters: {'max_depth': 9, 'gamma': 1.248136884181187, 'subsample': 0.8, 'n_estimator': 231, 'learning_rate': 0.04935529036123084}. Best is trial 43 with value: 1.3087392317434428.\n",
      "[I 2023-11-28 10:56:37,265] Trial 46 finished with value: 1.3216477819265435 and parameters: {'max_depth': 9, 'gamma': 1.193115463333093, 'subsample': 0.8, 'n_estimator': 242, 'learning_rate': 0.04329150994839205}. Best is trial 43 with value: 1.3087392317434428.\n",
      "[I 2023-11-28 10:56:39,279] Trial 47 finished with value: 1.3235595774883238 and parameters: {'max_depth': 9, 'gamma': 1.3407593814300027, 'subsample': 0.8, 'n_estimator': 263, 'learning_rate': 0.041854773427600786}. Best is trial 43 with value: 1.3087392317434428.\n",
      "[I 2023-11-28 10:56:41,190] Trial 48 finished with value: 1.3157172861868256 and parameters: {'max_depth': 10, 'gamma': 1.3096657416753659, 'subsample': 0.8, 'n_estimator': 224, 'learning_rate': 0.047884081579795616}. Best is trial 43 with value: 1.3087392317434428.\n",
      "[I 2023-11-28 10:56:43,055] Trial 49 finished with value: 1.3168119638469444 and parameters: {'max_depth': 9, 'gamma': 1.2687931100873593, 'subsample': 0.95, 'n_estimator': 254, 'learning_rate': 0.049351491939858175}. Best is trial 43 with value: 1.3087392317434428.\n",
      "[I 2023-11-28 10:56:45,070] Trial 50 finished with value: 1.3222055849076297 and parameters: {'max_depth': 9, 'gamma': 1.3807167910371472, 'subsample': 0.8, 'n_estimator': 225, 'learning_rate': 0.040006107918952274}. Best is trial 43 with value: 1.3087392317434428.\n",
      "[I 2023-11-28 10:56:46,954] Trial 51 finished with value: 1.3120170597180256 and parameters: {'max_depth': 8, 'gamma': 1.4823087678170825, 'subsample': 0.9, 'n_estimator': 209, 'learning_rate': 0.04673043245657982}. Best is trial 43 with value: 1.3087392317434428.\n",
      "[I 2023-11-28 10:56:48,799] Trial 52 finished with value: 1.310947840802781 and parameters: {'max_depth': 8, 'gamma': 1.5232178644010892, 'subsample': 0.9, 'n_estimator': 210, 'learning_rate': 0.04767062093133394}. Best is trial 43 with value: 1.3087392317434428.\n",
      "[I 2023-11-28 10:56:50,791] Trial 53 finished with value: 1.3098305588082038 and parameters: {'max_depth': 8, 'gamma': 1.5075589979268742, 'subsample': 0.9, 'n_estimator': 210, 'learning_rate': 0.04995473310407751}. Best is trial 43 with value: 1.3087392317434428.\n",
      "[I 2023-11-28 10:56:52,582] Trial 54 finished with value: 1.3094546876935758 and parameters: {'max_depth': 8, 'gamma': 1.4974918424947428, 'subsample': 0.9, 'n_estimator': 209, 'learning_rate': 0.049706675026563604}. Best is trial 43 with value: 1.3087392317434428.\n",
      "[I 2023-11-28 10:56:54,527] Trial 55 finished with value: 1.3174989487981577 and parameters: {'max_depth': 9, 'gamma': 1.5448942862532884, 'subsample': 0.85, 'n_estimator': 205, 'learning_rate': 0.049690332294017474}. Best is trial 43 with value: 1.3087392317434428.\n",
      "[I 2023-11-28 10:56:56,504] Trial 56 finished with value: 1.3128678686017554 and parameters: {'max_depth': 8, 'gamma': 1.6404872699441853, 'subsample': 0.9, 'n_estimator': 214, 'learning_rate': 0.04906535114336345}. Best is trial 43 with value: 1.3087392317434428.\n",
      "[I 2023-11-28 10:56:58,340] Trial 57 finished with value: 1.3144842511761414 and parameters: {'max_depth': 8, 'gamma': 1.4555918875966525, 'subsample': 0.9, 'n_estimator': 200, 'learning_rate': 0.049924784154391305}. Best is trial 43 with value: 1.3087392317434428.\n",
      "[I 2023-11-28 10:57:00,223] Trial 58 finished with value: 1.3225342002843181 and parameters: {'max_depth': 9, 'gamma': 1.5040399960567994, 'subsample': 0.8, 'n_estimator': 223, 'learning_rate': 0.04766020194693327}. Best is trial 43 with value: 1.3087392317434428.\n",
      "[I 2023-11-28 10:57:02,270] Trial 59 finished with value: 1.3148535848214924 and parameters: {'max_depth': 8, 'gamma': 1.5386286815259866, 'subsample': 0.9, 'n_estimator': 243, 'learning_rate': 0.048828520454556275}. Best is trial 43 with value: 1.3087392317434428.\n",
      "[I 2023-11-28 10:57:04,214] Trial 60 finished with value: 1.3204282963649394 and parameters: {'max_depth': 8, 'gamma': 1.424383111995104, 'subsample': 1, 'n_estimator': 210, 'learning_rate': 0.04990986341994657}. Best is trial 43 with value: 1.3087392317434428.\n",
      "[I 2023-11-28 10:57:06,086] Trial 61 finished with value: 1.3128985944746945 and parameters: {'max_depth': 8, 'gamma': 1.475989178719307, 'subsample': 0.9, 'n_estimator': 207, 'learning_rate': 0.047242407832370124}. Best is trial 43 with value: 1.3087392317434428.\n",
      "[I 2023-11-28 10:57:08,084] Trial 62 finished with value: 1.3101471365569615 and parameters: {'max_depth': 8, 'gamma': 1.5685867650503196, 'subsample': 0.9, 'n_estimator': 217, 'learning_rate': 0.04815455286212465}. Best is trial 43 with value: 1.3087392317434428.\n",
      "[I 2023-11-28 10:57:09,953] Trial 63 finished with value: 1.3181490392395945 and parameters: {'max_depth': 8, 'gamma': 1.5842221834109946, 'subsample': 0.9, 'n_estimator': 228, 'learning_rate': 0.048269000638628864}. Best is trial 43 with value: 1.3087392317434428.\n",
      "[I 2023-11-28 10:57:11,870] Trial 64 finished with value: 1.3119623624304961 and parameters: {'max_depth': 8, 'gamma': 1.4283957752727148, 'subsample': 0.9, 'n_estimator': 217, 'learning_rate': 0.049244115859859626}. Best is trial 43 with value: 1.3087392317434428.\n",
      "[I 2023-11-28 10:57:13,836] Trial 65 finished with value: 1.317767922793772 and parameters: {'max_depth': 8, 'gamma': 1.470923662990112, 'subsample': 0.9, 'n_estimator': 236, 'learning_rate': 0.048552861224518566}. Best is trial 43 with value: 1.3087392317434428.\n",
      "[I 2023-11-28 10:57:15,740] Trial 66 finished with value: 1.3191927274068196 and parameters: {'max_depth': 8, 'gamma': 1.623933551921281, 'subsample': 0.95, 'n_estimator': 220, 'learning_rate': 0.04783334103248071}. Best is trial 43 with value: 1.3087392317434428.\n",
      "[I 2023-11-28 10:57:17,774] Trial 67 finished with value: 1.3190708434698089 and parameters: {'max_depth': 8, 'gamma': 1.4027365504911617, 'subsample': 0.9, 'n_estimator': 250, 'learning_rate': 0.04640600498386955}. Best is trial 43 with value: 1.3087392317434428.\n",
      "[I 2023-11-28 10:57:19,899] Trial 68 finished with value: 1.3201618166415583 and parameters: {'max_depth': 9, 'gamma': 1.5256167542608432, 'subsample': 0.85, 'n_estimator': 213, 'learning_rate': 0.04725488528757884}. Best is trial 43 with value: 1.3087392317434428.\n",
      "[I 2023-11-28 10:57:21,868] Trial 69 finished with value: 1.3126925682494992 and parameters: {'max_depth': 8, 'gamma': 1.4928455271235381, 'subsample': 0.9, 'n_estimator': 200, 'learning_rate': 0.04942960567242062}. Best is trial 43 with value: 1.3087392317434428.\n",
      "[I 2023-11-28 10:57:24,871] Trial 70 finished with value: 1.3206360565434374 and parameters: {'max_depth': 9, 'gamma': 1.454406425382388, 'subsample': 0.9, 'n_estimator': 239, 'learning_rate': 0.045382195680535586}. Best is trial 43 with value: 1.3087392317434428.\n",
      "[I 2023-11-28 10:57:27,167] Trial 71 finished with value: 1.3129513023691908 and parameters: {'max_depth': 8, 'gamma': 1.4355116393812961, 'subsample': 0.9, 'n_estimator': 215, 'learning_rate': 0.049245497284913044}. Best is trial 43 with value: 1.3087392317434428.\n",
      "[I 2023-11-28 10:57:29,145] Trial 72 finished with value: 1.3099537397814702 and parameters: {'max_depth': 8, 'gamma': 1.4074844764381393, 'subsample': 0.9, 'n_estimator': 229, 'learning_rate': 0.04827796388315727}. Best is trial 43 with value: 1.3087392317434428.\n",
      "[I 2023-11-28 10:57:31,089] Trial 73 finished with value: 1.3142791230309971 and parameters: {'max_depth': 8, 'gamma': 1.390369484375962, 'subsample': 0.9, 'n_estimator': 230, 'learning_rate': 0.04826639547534221}. Best is trial 43 with value: 1.3087392317434428.\n",
      "[I 2023-11-28 10:57:32,922] Trial 74 finished with value: 1.317003098278702 and parameters: {'max_depth': 8, 'gamma': 1.564538588782446, 'subsample': 0.9, 'n_estimator': 221, 'learning_rate': 0.046002759645296744}. Best is trial 43 with value: 1.3087392317434428.\n",
      "[I 2023-11-28 10:57:34,956] Trial 75 finished with value: 1.3111375515805064 and parameters: {'max_depth': 8, 'gamma': 1.5065701531160536, 'subsample': 0.9, 'n_estimator': 206, 'learning_rate': 0.0499806693687192}. Best is trial 43 with value: 1.3087392317434428.\n",
      "[I 2023-11-28 10:57:36,752] Trial 76 finished with value: 1.3103788283523927 and parameters: {'max_depth': 8, 'gamma': 1.5141412083123658, 'subsample': 0.9, 'n_estimator': 207, 'learning_rate': 0.049791416044458074}. Best is trial 43 with value: 1.3087392317434428.\n",
      "[I 2023-11-28 10:57:38,553] Trial 77 finished with value: 1.3138699325831902 and parameters: {'max_depth': 8, 'gamma': 1.5530742186920383, 'subsample': 0.9, 'n_estimator': 226, 'learning_rate': 0.04883494769927063}. Best is trial 43 with value: 1.3087392317434428.\n",
      "[I 2023-11-28 10:57:40,533] Trial 78 finished with value: 1.315353497885776 and parameters: {'max_depth': 8, 'gamma': 1.5185380407385956, 'subsample': 0.9, 'n_estimator': 377, 'learning_rate': 0.04864184761091315}. Best is trial 43 with value: 1.3087392317434428.\n",
      "[I 2023-11-28 10:57:42,355] Trial 79 finished with value: 1.3110752190206378 and parameters: {'max_depth': 8, 'gamma': 1.6154341198112663, 'subsample': 0.9, 'n_estimator': 208, 'learning_rate': 0.0493975361634328}. Best is trial 43 with value: 1.3087392317434428.\n",
      "[I 2023-11-28 10:57:44,242] Trial 80 finished with value: 1.3112097529796802 and parameters: {'max_depth': 8, 'gamma': 1.4746242909655742, 'subsample': 0.9, 'n_estimator': 215, 'learning_rate': 0.04722745074558492}. Best is trial 43 with value: 1.3087392317434428.\n",
      "[I 2023-11-28 10:57:46,473] Trial 81 finished with value: 1.3102782502441328 and parameters: {'max_depth': 8, 'gamma': 1.5933972823160005, 'subsample': 0.9, 'n_estimator': 208, 'learning_rate': 0.04949445017773319}. Best is trial 43 with value: 1.3087392317434428.\n",
      "[I 2023-11-28 10:57:48,350] Trial 82 finished with value: 1.315987975277776 and parameters: {'max_depth': 8, 'gamma': 1.5886733905716297, 'subsample': 0.9, 'n_estimator': 204, 'learning_rate': 0.04811229492534045}. Best is trial 43 with value: 1.3087392317434428.\n",
      "[I 2023-11-28 10:57:50,168] Trial 83 finished with value: 1.3138027602608655 and parameters: {'max_depth': 8, 'gamma': 1.659132683529399, 'subsample': 0.9, 'n_estimator': 221, 'learning_rate': 0.049964143886885415}. Best is trial 43 with value: 1.3087392317434428.\n",
      "[I 2023-11-28 10:57:52,163] Trial 84 finished with value: 1.316075866872614 and parameters: {'max_depth': 8, 'gamma': 1.527669939302125, 'subsample': 0.9, 'n_estimator': 211, 'learning_rate': 0.048850147308038494}. Best is trial 43 with value: 1.3087392317434428.\n",
      "[I 2023-11-28 10:57:53,963] Trial 85 finished with value: 1.3156681008135653 and parameters: {'max_depth': 8, 'gamma': 1.5459377128145821, 'subsample': 0.9, 'n_estimator': 217, 'learning_rate': 0.04958170774096396}. Best is trial 43 with value: 1.3087392317434428.\n",
      "[I 2023-11-28 10:57:55,757] Trial 86 finished with value: 1.3222672968689577 and parameters: {'max_depth': 8, 'gamma': 1.6795085077016172, 'subsample': 1, 'n_estimator': 200, 'learning_rate': 0.04831655081049286}. Best is trial 43 with value: 1.3087392317434428.\n",
      "[I 2023-11-28 10:57:57,735] Trial 87 finished with value: 1.3129866789351015 and parameters: {'max_depth': 8, 'gamma': 1.6028915239535102, 'subsample': 0.9, 'n_estimator': 248, 'learning_rate': 0.04745391584347174}. Best is trial 43 with value: 1.3087392317434428.\n",
      "[I 2023-11-28 10:57:59,551] Trial 88 finished with value: 1.3173405597561374 and parameters: {'max_depth': 8, 'gamma': 1.567109673473976, 'subsample': 0.95, 'n_estimator': 228, 'learning_rate': 0.049413821095597256}. Best is trial 43 with value: 1.3087392317434428.\n",
      "[I 2023-11-28 10:58:01,484] Trial 89 finished with value: 1.3135125566030932 and parameters: {'max_depth': 8, 'gamma': 1.3725427888458155, 'subsample': 0.9, 'n_estimator': 238, 'learning_rate': 0.04895826316145038}. Best is trial 43 with value: 1.3087392317434428.\n",
      "[I 2023-11-28 10:58:03,639] Trial 90 finished with value: 1.3177798412736403 and parameters: {'max_depth': 8, 'gamma': 1.4530108132478565, 'subsample': 0.85, 'n_estimator': 348, 'learning_rate': 0.04797660370794875}. Best is trial 43 with value: 1.3087392317434428.\n",
      "[I 2023-11-28 10:58:05,793] Trial 91 finished with value: 1.3114718590017826 and parameters: {'max_depth': 8, 'gamma': 1.4957022540302103, 'subsample': 0.9, 'n_estimator': 209, 'learning_rate': 0.049492369750567825}. Best is trial 43 with value: 1.3087392317434428.\n",
      "[I 2023-11-28 10:58:08,440] Trial 92 finished with value: 1.3110813930454657 and parameters: {'max_depth': 8, 'gamma': 1.6018193599226238, 'subsample': 0.9, 'n_estimator': 205, 'learning_rate': 0.048677456379091516}. Best is trial 43 with value: 1.3087392317434428.\n",
      "[I 2023-11-28 10:58:11,030] Trial 93 finished with value: 1.3086741689418484 and parameters: {'max_depth': 8, 'gamma': 1.7264519654013961, 'subsample': 0.9, 'n_estimator': 210, 'learning_rate': 0.04954353847995994}. Best is trial 93 with value: 1.3086741689418484.\n",
      "[I 2023-11-28 10:58:12,989] Trial 94 finished with value: 1.3139714342420017 and parameters: {'max_depth': 8, 'gamma': 1.7388388717037704, 'subsample': 0.9, 'n_estimator': 219, 'learning_rate': 0.04911344522404673}. Best is trial 93 with value: 1.3086741689418484.\n",
      "[I 2023-11-28 10:58:14,928] Trial 95 finished with value: 1.3085895997778723 and parameters: {'max_depth': 8, 'gamma': 1.4275441794079136, 'subsample': 0.9, 'n_estimator': 212, 'learning_rate': 0.049675497125767604}. Best is trial 95 with value: 1.3085895997778723.\n",
      "[I 2023-11-28 10:58:16,872] Trial 96 finished with value: 1.3137413447614688 and parameters: {'max_depth': 8, 'gamma': 1.4188671664531376, 'subsample': 0.9, 'n_estimator': 329, 'learning_rate': 0.04996670288300413}. Best is trial 95 with value: 1.3085895997778723.\n",
      "[I 2023-11-28 10:58:18,877] Trial 97 finished with value: 1.3126837646404046 and parameters: {'max_depth': 8, 'gamma': 1.3656175249095421, 'subsample': 0.9, 'n_estimator': 226, 'learning_rate': 0.04955293716809999}. Best is trial 95 with value: 1.3085895997778723.\n",
      "[I 2023-11-28 10:58:20,676] Trial 98 finished with value: 1.3118500212369115 and parameters: {'max_depth': 8, 'gamma': 1.4403876972355791, 'subsample': 0.9, 'n_estimator': 232, 'learning_rate': 0.04844278410373984}. Best is trial 95 with value: 1.3085895997778723.\n",
      "[I 2023-11-28 10:58:22,660] Trial 99 finished with value: 1.3178562276719714 and parameters: {'max_depth': 10, 'gamma': 1.3968701531290477, 'subsample': 0.9, 'n_estimator': 313, 'learning_rate': 0.04901597007442369}. Best is trial 95 with value: 1.3085895997778723.\n",
      "[I 2023-11-28 10:58:24,602] Trial 100 finished with value: 1.3203800809524215 and parameters: {'max_depth': 8, 'gamma': 1.48007381405142, 'subsample': 1, 'n_estimator': 213, 'learning_rate': 0.04962547966719637}. Best is trial 95 with value: 1.3085895997778723.\n",
      "[I 2023-11-28 10:58:26,409] Trial 101 finished with value: 1.3122847240645885 and parameters: {'max_depth': 8, 'gamma': 1.5109780267035022, 'subsample': 0.9, 'n_estimator': 204, 'learning_rate': 0.04799610849278969}. Best is trial 95 with value: 1.3085895997778723.\n",
      "[I 2023-11-28 10:58:28,218] Trial 102 finished with value: 1.31924120254497 and parameters: {'max_depth': 8, 'gamma': 1.3475610026474263, 'subsample': 0.9, 'n_estimator': 211, 'learning_rate': 0.048578649050742585}. Best is trial 95 with value: 1.3085895997778723.\n",
      "[I 2023-11-28 10:58:30,209] Trial 103 finished with value: 1.314944674433594 and parameters: {'max_depth': 8, 'gamma': 1.5346754094623387, 'subsample': 0.9, 'n_estimator': 221, 'learning_rate': 0.047549522661286}. Best is trial 95 with value: 1.3085895997778723.\n",
      "[I 2023-11-28 10:58:32,036] Trial 104 finished with value: 1.3147962191316735 and parameters: {'max_depth': 8, 'gamma': 1.5730198827494684, 'subsample': 0.9, 'n_estimator': 208, 'learning_rate': 0.049142616627924}. Best is trial 95 with value: 1.3085895997778723.\n",
      "[I 2023-11-28 10:58:33,849] Trial 105 finished with value: 1.3145612920928627 and parameters: {'max_depth': 8, 'gamma': 1.461964989489605, 'subsample': 0.9, 'n_estimator': 216, 'learning_rate': 0.049614939678557755}. Best is trial 95 with value: 1.3085895997778723.\n",
      "[I 2023-11-28 10:58:35,913] Trial 106 finished with value: 1.3204937535919283 and parameters: {'max_depth': 8, 'gamma': 1.4255771476970895, 'subsample': 0.8, 'n_estimator': 223, 'learning_rate': 0.04688919918421279}. Best is trial 95 with value: 1.3085895997778723.\n",
      "[I 2023-11-28 10:58:37,741] Trial 107 finished with value: 1.3193838094281245 and parameters: {'max_depth': 8, 'gamma': 1.557287781854048, 'subsample': 0.95, 'n_estimator': 202, 'learning_rate': 0.04825058969442253}. Best is trial 95 with value: 1.3085895997778723.\n",
      "[I 2023-11-28 10:58:39,615] Trial 108 finished with value: 1.31471590243919 and parameters: {'max_depth': 8, 'gamma': 1.3268277617205184, 'subsample': 0.9, 'n_estimator': 213, 'learning_rate': 0.04871408559621766}. Best is trial 95 with value: 1.3085895997778723.\n",
      "[I 2023-11-28 10:58:41,637] Trial 109 finished with value: 1.3113084364745577 and parameters: {'max_depth': 8, 'gamma': 1.4980302534128587, 'subsample': 0.9, 'n_estimator': 364, 'learning_rate': 0.047619562640269814}. Best is trial 95 with value: 1.3085895997778723.\n",
      "[I 2023-11-28 10:58:43,494] Trial 110 finished with value: 1.3137516399867484 and parameters: {'max_depth': 8, 'gamma': 1.4190183635349047, 'subsample': 0.9, 'n_estimator': 218, 'learning_rate': 0.049656507574874116}. Best is trial 95 with value: 1.3085895997778723.\n",
      "[I 2023-11-28 10:58:45,331] Trial 111 finished with value: 1.313703487270847 and parameters: {'max_depth': 8, 'gamma': 1.5977346826398435, 'subsample': 0.9, 'n_estimator': 208, 'learning_rate': 0.04919336554185394}. Best is trial 95 with value: 1.3085895997778723.\n",
      "[I 2023-11-28 10:58:47,401] Trial 112 finished with value: 1.3178657461694405 and parameters: {'max_depth': 8, 'gamma': 1.5225475490765288, 'subsample': 0.9, 'n_estimator': 205, 'learning_rate': 0.04995090639941476}. Best is trial 95 with value: 1.3085895997778723.\n",
      "[I 2023-11-28 10:58:49,210] Trial 113 finished with value: 1.3110000859423667 and parameters: {'max_depth': 8, 'gamma': 1.6156750098669956, 'subsample': 0.9, 'n_estimator': 211, 'learning_rate': 0.049352756905180435}. Best is trial 95 with value: 1.3085895997778723.\n",
      "[I 2023-11-28 10:58:51,292] Trial 114 finished with value: 1.3160786225848402 and parameters: {'max_depth': 8, 'gamma': 1.6267123107318753, 'subsample': 0.9, 'n_estimator': 200, 'learning_rate': 0.04871269083109219}. Best is trial 95 with value: 1.3085895997778723.\n",
      "[I 2023-11-28 10:58:53,959] Trial 115 finished with value: 1.3152713798901088 and parameters: {'max_depth': 8, 'gamma': 1.5795102944559523, 'subsample': 0.85, 'n_estimator': 229, 'learning_rate': 0.04920519316406248}. Best is trial 95 with value: 1.3085895997778723.\n",
      "[I 2023-11-28 10:58:56,184] Trial 116 finished with value: 1.3136306095564128 and parameters: {'max_depth': 8, 'gamma': 1.3846075782626917, 'subsample': 0.9, 'n_estimator': 224, 'learning_rate': 0.04808904007801297}. Best is trial 95 with value: 1.3085895997778723.\n",
      "[I 2023-11-28 10:58:58,206] Trial 117 finished with value: 1.3167567872731698 and parameters: {'max_depth': 8, 'gamma': 1.4640149403213971, 'subsample': 0.8, 'n_estimator': 212, 'learning_rate': 0.046380526885970955}. Best is trial 95 with value: 1.3085895997778723.\n",
      "[I 2023-11-28 10:59:00,057] Trial 118 finished with value: 1.3147786605278529 and parameters: {'max_depth': 8, 'gamma': 1.5408321784351715, 'subsample': 0.9, 'n_estimator': 217, 'learning_rate': 0.048943881957233405}. Best is trial 95 with value: 1.3085895997778723.\n",
      "[I 2023-11-28 10:59:01,858] Trial 119 finished with value: 1.314678415740277 and parameters: {'max_depth': 8, 'gamma': 1.4415859791408463, 'subsample': 0.9, 'n_estimator': 210, 'learning_rate': 0.049987839804794904}. Best is trial 95 with value: 1.3085895997778723.\n",
      "[I 2023-11-28 10:59:03,894] Trial 120 finished with value: 1.3142454987865384 and parameters: {'max_depth': 8, 'gamma': 1.4871635860711585, 'subsample': 0.9, 'n_estimator': 399, 'learning_rate': 0.048407227442678745}. Best is trial 95 with value: 1.3085895997778723.\n",
      "[I 2023-11-28 10:59:05,955] Trial 121 finished with value: 1.313066875499888 and parameters: {'max_depth': 8, 'gamma': 1.715751942333134, 'subsample': 0.9, 'n_estimator': 207, 'learning_rate': 0.0494627915647466}. Best is trial 95 with value: 1.3085895997778723.\n",
      "[I 2023-11-28 10:59:07,919] Trial 122 finished with value: 1.3121359289519041 and parameters: {'max_depth': 8, 'gamma': 1.6618539755183497, 'subsample': 0.9, 'n_estimator': 204, 'learning_rate': 0.04929702028977509}. Best is trial 95 with value: 1.3085895997778723.\n",
      "[I 2023-11-28 10:59:09,960] Trial 123 finished with value: 1.3166717215568884 and parameters: {'max_depth': 8, 'gamma': 1.6180023126223855, 'subsample': 0.9, 'n_estimator': 219, 'learning_rate': 0.04958745123498943}. Best is trial 95 with value: 1.3085895997778723.\n",
      "[I 2023-11-28 10:59:11,781] Trial 124 finished with value: 1.3141416532294103 and parameters: {'max_depth': 8, 'gamma': 1.5664827111004962, 'subsample': 0.9, 'n_estimator': 215, 'learning_rate': 0.04887207167046963}. Best is trial 95 with value: 1.3085895997778723.\n",
      "[I 2023-11-28 10:59:13,605] Trial 125 finished with value: 1.3131510449729336 and parameters: {'max_depth': 8, 'gamma': 1.6420197552695561, 'subsample': 0.9, 'n_estimator': 207, 'learning_rate': 0.047760699545456343}. Best is trial 95 with value: 1.3085895997778723.\n",
      "[I 2023-11-28 10:59:15,581] Trial 126 finished with value: 1.317133843255888 and parameters: {'max_depth': 8, 'gamma': 1.5121006317430201, 'subsample': 0.9, 'n_estimator': 211, 'learning_rate': 0.04842909842266042}. Best is trial 95 with value: 1.3085895997778723.\n",
      "[I 2023-11-28 10:59:17,460] Trial 127 finished with value: 1.3222145441561768 and parameters: {'max_depth': 8, 'gamma': 1.7459272046869576, 'subsample': 1, 'n_estimator': 290, 'learning_rate': 0.04943739591049777}. Best is trial 95 with value: 1.3085895997778723.\n",
      "[I 2023-11-28 10:59:19,676] Trial 128 finished with value: 1.3193897222578679 and parameters: {'max_depth': 10, 'gamma': 1.604784172968533, 'subsample': 0.9, 'n_estimator': 224, 'learning_rate': 0.04729816109443196}. Best is trial 95 with value: 1.3085895997778723.\n",
      "[I 2023-11-28 10:59:21,634] Trial 129 finished with value: 1.3145704680855725 and parameters: {'max_depth': 8, 'gamma': 1.5485257245566793, 'subsample': 0.8, 'n_estimator': 202, 'learning_rate': 0.049982383177860606}. Best is trial 95 with value: 1.3085895997778723.\n",
      "[I 2023-11-28 10:59:23,553] Trial 130 finished with value: 1.312439325594204 and parameters: {'max_depth': 8, 'gamma': 1.3593035111038398, 'subsample': 0.9, 'n_estimator': 234, 'learning_rate': 0.04909789459776879}. Best is trial 95 with value: 1.3085895997778723.\n",
      "[I 2023-11-28 10:59:25,581] Trial 131 finished with value: 1.3152827997359484 and parameters: {'max_depth': 8, 'gamma': 1.5262845706966714, 'subsample': 0.9, 'n_estimator': 206, 'learning_rate': 0.04856828493204076}. Best is trial 95 with value: 1.3085895997778723.\n",
      "[I 2023-11-28 10:59:27,412] Trial 132 finished with value: 1.319140137190934 and parameters: {'max_depth': 8, 'gamma': 1.598819588581104, 'subsample': 0.9, 'n_estimator': 385, 'learning_rate': 0.04880289239157421}. Best is trial 95 with value: 1.3085895997778723.\n",
      "[I 2023-11-28 10:59:29,215] Trial 133 finished with value: 1.3134888510368516 and parameters: {'max_depth': 8, 'gamma': 1.5825299403795112, 'subsample': 0.9, 'n_estimator': 214, 'learning_rate': 0.04806352591323245}. Best is trial 95 with value: 1.3085895997778723.\n",
      "[I 2023-11-28 10:59:31,218] Trial 134 finished with value: 1.3119503399869021 and parameters: {'max_depth': 8, 'gamma': 1.6936981601411574, 'subsample': 0.9, 'n_estimator': 219, 'learning_rate': 0.04964534610776937}. Best is trial 95 with value: 1.3085895997778723.\n",
      "[I 2023-11-28 10:59:33,197] Trial 135 finished with value: 1.3134350469311997 and parameters: {'max_depth': 8, 'gamma': 1.626367140039914, 'subsample': 0.9, 'n_estimator': 209, 'learning_rate': 0.0492404470543639}. Best is trial 95 with value: 1.3085895997778723.\n",
      "[I 2023-11-28 10:59:35,003] Trial 136 finished with value: 1.3143734633157238 and parameters: {'max_depth': 8, 'gamma': 1.3094738282760294, 'subsample': 0.95, 'n_estimator': 204, 'learning_rate': 0.04870108276687265}. Best is trial 95 with value: 1.3085895997778723.\n",
      "[I 2023-11-28 10:59:36,935] Trial 137 finished with value: 1.30975405607826 and parameters: {'max_depth': 8, 'gamma': 1.5575644409551512, 'subsample': 0.9, 'n_estimator': 200, 'learning_rate': 0.0480922011637787}. Best is trial 95 with value: 1.3085895997778723.\n",
      "[I 2023-11-28 10:59:38,787] Trial 138 finished with value: 1.3134008822957859 and parameters: {'max_depth': 8, 'gamma': 1.4781357004488231, 'subsample': 0.9, 'n_estimator': 200, 'learning_rate': 0.04811274472113616}. Best is trial 95 with value: 1.3085895997778723.\n",
      "[I 2023-11-28 10:59:40,621] Trial 139 finished with value: 1.3175983021182163 and parameters: {'max_depth': 8, 'gamma': 1.561217799302043, 'subsample': 0.85, 'n_estimator': 214, 'learning_rate': 0.04696823041654141}. Best is trial 95 with value: 1.3085895997778723.\n",
      "[I 2023-11-28 10:59:42,604] Trial 140 finished with value: 1.3130230428502692 and parameters: {'max_depth': 8, 'gamma': 1.5122468226191055, 'subsample': 0.9, 'n_estimator': 339, 'learning_rate': 0.049615183325197265}. Best is trial 95 with value: 1.3085895997778723.\n",
      "[I 2023-11-28 10:59:44,453] Trial 141 finished with value: 1.3099305323594401 and parameters: {'max_depth': 8, 'gamma': 1.5504338643868583, 'subsample': 0.9, 'n_estimator': 209, 'learning_rate': 0.04900237430570811}. Best is trial 95 with value: 1.3085895997778723.\n",
      "[I 2023-11-28 10:59:46,310] Trial 142 finished with value: 1.3107858629917326 and parameters: {'max_depth': 8, 'gamma': 1.536833015214948, 'subsample': 0.9, 'n_estimator': 209, 'learning_rate': 0.0493327414585019}. Best is trial 95 with value: 1.3085895997778723.\n",
      "[I 2023-11-28 10:59:48,256] Trial 143 finished with value: 1.3179859560333158 and parameters: {'max_depth': 8, 'gamma': 1.5504034004881075, 'subsample': 0.9, 'n_estimator': 211, 'learning_rate': 0.049992513046903705}. Best is trial 95 with value: 1.3085895997778723.\n",
      "[I 2023-11-28 10:59:50,090] Trial 144 finished with value: 1.3108869681434259 and parameters: {'max_depth': 8, 'gamma': 1.5349733774601109, 'subsample': 0.9, 'n_estimator': 221, 'learning_rate': 0.0476095896450079}. Best is trial 95 with value: 1.3085895997778723.\n",
      "[I 2023-11-28 10:59:51,911] Trial 145 finished with value: 1.3120870918387564 and parameters: {'max_depth': 8, 'gamma': 1.4934365094601432, 'subsample': 0.9, 'n_estimator': 221, 'learning_rate': 0.047450216807920644}. Best is trial 95 with value: 1.3085895997778723.\n",
      "[I 2023-11-28 10:59:53,882] Trial 146 finished with value: 1.3151253750217713 and parameters: {'max_depth': 8, 'gamma': 1.5403788474431976, 'subsample': 0.9, 'n_estimator': 227, 'learning_rate': 0.04782632565741805}. Best is trial 95 with value: 1.3085895997778723.\n",
      "[I 2023-11-28 10:59:55,847] Trial 147 finished with value: 1.3185219615315191 and parameters: {'max_depth': 8, 'gamma': 1.4632832373001161, 'subsample': 0.8, 'n_estimator': 304, 'learning_rate': 0.048392913296174324}. Best is trial 95 with value: 1.3085895997778723.\n",
      "[I 2023-11-28 10:59:57,694] Trial 148 finished with value: 1.3174678751549234 and parameters: {'max_depth': 8, 'gamma': 1.51043800215965, 'subsample': 0.9, 'n_estimator': 222, 'learning_rate': 0.04681617109632025}. Best is trial 95 with value: 1.3085895997778723.\n",
      "[I 2023-11-28 10:59:59,745] Trial 149 finished with value: 1.3135412951647225 and parameters: {'max_depth': 8, 'gamma': 1.4065280361229342, 'subsample': 0.9, 'n_estimator': 217, 'learning_rate': 0.048998030231530175}. Best is trial 95 with value: 1.3085895997778723.\n"
     ]
    },
    {
     "name": "stdout",
     "output_type": "stream",
     "text": [
      "{'max_depth': 8, 'gamma': 1.4275441794079136, 'subsample': 0.9, 'n_estimator': 212, 'learning_rate': 0.049675497125767604}\n",
      "농업경영체별 평가지표 결과\n",
      "MAE: 1.27\n",
      "MSE: 3.07\n",
      "RMSE: 1.75\n",
      "RMSPE: 131.27%\n",
      "----------------------------------------------------------------------------------------------------\n",
      "배정신청인원 10명 이상 시군구 단위 평가지표\n",
      "MAE: 8.56\n",
      "MSE: 146.64\n",
      "RMSE: 12.11\n",
      "RMSPE: 21.24%\n"
     ]
    }
   ],
   "source": [
    "def objective(trial):\n",
    "    params={\n",
    "        'objective': 'reg:squarederror',\n",
    "        'eval_metric': 'rmse',\n",
    "        'max_depth': trial.suggest_int('max_depth',8,10), #8~10 정수중 택 1\n",
    "        'gamma': trial.suggest_loguniform('gamma',1,2),\n",
    "        'subsample': trial.suggest_categorical('subsample',[0.8,0.85,0.90,0.95,1]),\n",
    "        'n_estimator': trial.suggest_int('n_estimator',200,400),\n",
    "        'learning_rate': trial.suggest_float('learning_rate',0.03,0.05),\n",
    "        'booster': 'dart'   \n",
    "    }\n",
    "    # 학습 모델 생성\n",
    "    model_reg=xgb.XGBRegressor(**params)\n",
    "    \n",
    "    #트레인 셋 학습\n",
    "    model_reg.fit(X_train,Y_train)\n",
    "    \n",
    "    #검증 데이터 셋으로 모델 검증\n",
    "    score = mean_absolute_error(model_reg.predict(X_valid), Y_valid)\n",
    "    return score\n",
    "\n",
    "study=optuna.create_study(direction='minimize')\n",
    "study.optimize(objective, n_trials=150)\n",
    "\n",
    "# 최적화된 파라미터 값 확인\n",
    "best_params = study.best_params\n",
    "print(best_params)\n",
    "\n",
    "model_reg = xgb.XGBRegressor(**best_params)\n",
    "model_reg.fit(X_train,Y_train)\n",
    "\n",
    "#예측값 \n",
    "pred=model_reg.predict(X_test)\n",
    "# 인원 수 예측이기에 예측된 결과에 반올림 적용\n",
    "pred=pd.DataFrame(pred,columns=['예측값'])\n",
    "#반올림\n",
    "pred['예측값']=round(pred['예측값'],0)\n",
    "#평가지표\n",
    "print('농업경영체별 평가지표 결과')\n",
    "Evaluation_metric(Y_test,pred=pred['예측값'])\n",
    "print('-'*100)\n",
    "\n",
    "test_index=X_test.index.tolist()\n",
    "data_test=data_real.loc[test_index]\n",
    "data_test=data_test.reset_index()\n",
    "data_test.drop(columns=['index'],inplace=True)\n",
    "#예측값\n",
    "data_test['predict']=pred\n",
    "result=data_test.groupby(['지자체명_시도','지자체명_시군구'])[['합계','predict']].sum().reset_index()\n",
    "result_1=result.query('합계>10')\n",
    "print('배정신청인원 10명 이상 시군구 단위 평가지표')\n",
    "Evaluation_metric(result_1['합계'],pred=result_1['predict'])"
   ]
  },
  {
   "cell_type": "code",
   "execution_count": null,
   "id": "acef464f-9307-48c0-aade-d3d0096424ba",
   "metadata": {},
   "outputs": [],
   "source": []
  }
 ],
 "metadata": {
  "kernelspec": {
   "display_name": "Python 3 (ipykernel)",
   "language": "python",
   "name": "python3"
  },
  "language_info": {
   "codemirror_mode": {
    "name": "ipython",
    "version": 3
   },
   "file_extension": ".py",
   "mimetype": "text/x-python",
   "name": "python",
   "nbconvert_exporter": "python",
   "pygments_lexer": "ipython3",
   "version": "3.9.7"
  }
 },
 "nbformat": 4,
 "nbformat_minor": 5
}
