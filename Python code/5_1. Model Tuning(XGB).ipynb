{
 "cells": [
  {
   "cell_type": "markdown",
   "id": "b539361f-436f-4ae4-b158-8abc4e5686dc",
   "metadata": {},
   "source": [
    "# 기본 라이브러리 import"
   ]
  },
  {
   "cell_type": "code",
   "execution_count": 1,
   "id": "3276be07-38de-481d-87d7-ebc29c5fcc17",
   "metadata": {},
   "outputs": [],
   "source": [
    "import pandas as pd\n",
    "import numpy as np\n",
    "import random\n",
    "import os\n",
    "import seaborn as sns\n",
    "import matplotlib.pyplot as plt\n",
    "plt.rcParams['font.family'] = 'Malgun Gothic'\n",
    "sns.set(font=\"Malgun Gothic\")\n",
    "import warnings\n",
    "warnings.filterwarnings('ignore')\n",
    "from sklearn.preprocessing import MinMaxScaler\n",
    "from sklearn.preprocessing import LabelEncoder"
   ]
  },
  {
   "cell_type": "markdown",
   "id": "12a40617-bfef-45c4-9290-bb0c430a9296",
   "metadata": {},
   "source": [
    "# 데이터 분할 및 평가 지표"
   ]
  },
  {
   "cell_type": "code",
   "execution_count": 2,
   "id": "f3ee0783-5779-483f-ad1f-0399eaeedbbe",
   "metadata": {},
   "outputs": [],
   "source": [
    "from sklearn.model_selection import train_test_split\n",
    "from sklearn.metrics import mean_absolute_error, mean_squared_error\n",
    "from math import sqrt\n",
    "from sklearn.model_selection import train_test_split"
   ]
  },
  {
   "cell_type": "markdown",
   "id": "4d41e015-f7dc-4ba6-9e90-4e3a2d0982bc",
   "metadata": {},
   "source": [
    "# XGBoost 라이브러리"
   ]
  },
  {
   "cell_type": "code",
   "execution_count": 3,
   "id": "5ea36482-891f-4abd-846e-39d13c11a8f7",
   "metadata": {},
   "outputs": [],
   "source": [
    "import xgboost as xgb\n",
    "from xgboost import plot_importance \n",
    "from xgboost import XGBRegressor"
   ]
  },
  {
   "cell_type": "markdown",
   "id": "304605da-ebb4-48da-8508-149290025179",
   "metadata": {},
   "source": [
    "# RandomForest 라이브러리"
   ]
  },
  {
   "cell_type": "code",
   "execution_count": 4,
   "id": "e6df4796-7ae0-42ba-987a-0fcd2b0b30f4",
   "metadata": {},
   "outputs": [],
   "source": [
    "from sklearn.ensemble import RandomForestRegressor\n",
    "from sklearn.datasets import make_regression"
   ]
  },
  {
   "cell_type": "markdown",
   "id": "5bd27277-1a22-4a20-95eb-ac9d94048eea",
   "metadata": {},
   "source": [
    "# LightGBM 라이브러리"
   ]
  },
  {
   "cell_type": "code",
   "execution_count": 5,
   "id": "1977cf7a-9065-4882-83d2-f5f58cfc499b",
   "metadata": {},
   "outputs": [],
   "source": [
    "from lightgbm import LGBMRegressor"
   ]
  },
  {
   "cell_type": "markdown",
   "id": "2ca6d5a3-bbc3-4a03-b75a-6461d478a256",
   "metadata": {},
   "source": [
    "# 파라미터 튜닝 함수"
   ]
  },
  {
   "cell_type": "code",
   "execution_count": 153,
   "id": "6115cec6-b863-4ff6-8f2c-7bb6ad24f45b",
   "metadata": {},
   "outputs": [],
   "source": [
    "from bayes_opt import BayesianOptimization\n",
    "from sklearn.model_selection import cross_val_score\n",
    "import optuna"
   ]
  },
  {
   "cell_type": "markdown",
   "id": "b110a435-664d-41ab-bcb4-1996e10255bc",
   "metadata": {},
   "source": [
    "# 빈도테이블 생성"
   ]
  },
  {
   "cell_type": "code",
   "execution_count": 6,
   "id": "c8d3f27f-7759-46b8-8f8a-1db72e326e2f",
   "metadata": {},
   "outputs": [],
   "source": [
    "def count(x):\n",
    "    data1=pd.DataFrame(x.value_counts()).reset_index()\n",
    "    data1.columns=['category','빈도수']\n",
    "    return data1"
   ]
  },
  {
   "cell_type": "markdown",
   "id": "1c32f641-a14f-41eb-be54-1d1e4e4fb3c2",
   "metadata": {},
   "source": [
    "# Barplot 생성"
   ]
  },
  {
   "cell_type": "code",
   "execution_count": 7,
   "id": "123239c1-5fd8-4a9f-a363-8a8668a48dd8",
   "metadata": {},
   "outputs": [],
   "source": [
    "def bargraph(x,y,x_label,y_label,figsize1,figsize2,data):\n",
    "    plt.figure(figsize=(figsize1, figsize2))\n",
    "    if data[x].dtypes=='int64':\n",
    "        data[x]=data[x].astype('str')\n",
    "    data=data.sort_values(by=y,ascending=False).reset_index()\n",
    "    \n",
    "    for index, row in data.iterrows():\n",
    "        g=sns.barplot(x,y,data=data)\n",
    "        plt.xlabel(x_label)\n",
    "        plt.ylabel(y_label)\n",
    "        g.text(index,row[y],row[y],color='black',ha='center')"
   ]
  },
  {
   "cell_type": "markdown",
   "id": "f2fd9a2f-591e-4a68-989f-0eb09a0025c9",
   "metadata": {},
   "source": [
    "# 성능 지표 추출"
   ]
  },
  {
   "cell_type": "code",
   "execution_count": 8,
   "id": "9a4b9862-177b-44b2-82ce-53e80fb0b0d4",
   "metadata": {},
   "outputs": [],
   "source": [
    "# 성능지표 추출\n",
    "def Evaluation_metric(actual,pred):\n",
    "    print(f'MAE: {round(mean_absolute_error(actual,pred),2)}')\n",
    "    print(f'MSE: {round(mean_squared_error(actual,pred),2)}')\n",
    "    print(f'RMSE: {round(sqrt(mean_squared_error(actual,pred)),2)}')\n",
    "    print(f'RMSPE: {round(sqrt(mean_squared_error(actual,pred))/np.mean(actual)*100,2)}%')"
   ]
  },
  {
   "cell_type": "markdown",
   "id": "b9ec385c-57b3-483a-8534-0d55e7050742",
   "metadata": {},
   "source": [
    "# 시드 고정"
   ]
  },
  {
   "cell_type": "code",
   "execution_count": 9,
   "id": "19804a4e-d47e-4739-9f18-7f2195ab2abc",
   "metadata": {},
   "outputs": [],
   "source": [
    "def seed_everything(seed):\n",
    "    random.seed(seed)\n",
    "    os.environ['PYTHONHASHSEED'] = str(seed)\n",
    "    np.random.seed(seed)\n",
    "seed_everything(42) # Seed 고정"
   ]
  },
  {
   "cell_type": "markdown",
   "id": "6fad09e1-f89b-43de-a320-bfff6d9a8adb",
   "metadata": {},
   "source": [
    "# 데이터 불러오기"
   ]
  },
  {
   "cell_type": "code",
   "execution_count": 10,
   "id": "40d15d0e-3227-43eb-a9c8-cde7ef9e0611",
   "metadata": {},
   "outputs": [],
   "source": [
    "# Train, Valid, Test Split용 데이터\n",
    "data=pd.read_csv(os.listdir()[8],encoding='EUC-KR')\n",
    "# 지표 확인용 데이터\n",
    "data_real=pd.read_csv(os.listdir()[8],encoding='EUC-KR')\n",
    "# 배정신청인원 0명 제거\n",
    "data=data.query('합계!=0')\n",
    "#필요 컬럼 추출\n",
    "#selected_columns_1=['구분','합계', '작물 종류','농지면적(실제경작)','전년대비농경체증감률','고령농경체비율','전년도이탈인원','전년도활용여부']\n",
    "selected_columns=['비고', '지자체명_시도', '지자체명_시군구', '구분', '농업경영체','합계', '작물 종류','농지면적(실제경작)','전년대비농경체증감률','고령농경체비율','전년도이탈인원','전년도활용여부'] #원본 데이터 컬럼\n",
    "data=data[selected_columns]\n",
    "data_real=data_real[selected_columns]\n",
    "# 농지면적(실제경작) 컬럼명 변경\n",
    "data.rename(columns={'농지면적(실제경작)':'농지면적','작물 종류':'작물종류'},inplace=True)"
   ]
  },
  {
   "cell_type": "markdown",
   "id": "77bde231-7e96-4ced-9a73-4f006325c7af",
   "metadata": {},
   "source": [
    "# 이상치 제거: 농지 면적, 합계"
   ]
  },
  {
   "cell_type": "code",
   "execution_count": 11,
   "id": "28d83050-408c-4ec1-8a7a-b7d50a58c94c",
   "metadata": {},
   "outputs": [],
   "source": [
    "data=data.query('0.04<농지면적<2.5')\n",
    "data=data.query('합계<11')"
   ]
  },
  {
   "cell_type": "markdown",
   "id": "1e89e7a6-dcc3-4092-8994-e0c9323c9f4c",
   "metadata": {},
   "source": [
    "# 데이터 분할 Train, Valid, Test"
   ]
  },
  {
   "cell_type": "code",
   "execution_count": 12,
   "id": "89b263f7-bd65-444b-a98f-264bb9ffa7d3",
   "metadata": {},
   "outputs": [],
   "source": [
    "# 작물 종류 기준 층화 추출 Train Test 비율 8:2\n",
    "X=data.drop(columns=['비고','농업경영체','합계']) #독립변수 Set\n",
    "Y=data['합계'] #Target 변수 set\n",
    "\n",
    "# Train, Test 분할\n",
    "X_train, X_test, Y_train, Y_test=train_test_split(X,Y,test_size=0.2,stratify=X['작물종류'],random_state=42)\n",
    "\n",
    "# 2차 Train, Validation 분할\n",
    "X_train, X_valid, Y_train, Y_valid=train_test_split(X_train,Y_train,test_size=0.2,stratify=X_train['작물종류'],random_state=42)"
   ]
  },
  {
   "cell_type": "markdown",
   "id": "19a35d3e-5491-4b92-8d1c-cb039e03daf9",
   "metadata": {},
   "source": [
    "# 연속형 변수 정규화 & 범주형 변수 라벨 인코딩 진행"
   ]
  },
  {
   "cell_type": "code",
   "execution_count": 13,
   "id": "100e66d4-1b3b-452f-b4f5-641f48b64623",
   "metadata": {},
   "outputs": [],
   "source": [
    "# 연속형 변수 정규화\n",
    "min_max_scaler=MinMaxScaler()\n",
    "for i in X_train.columns:\n",
    "    if (X_train[i].dtypes!='object'):\n",
    "        X_train[i]=min_max_scaler.fit_transform(X_train[[i]])\n",
    "        X_valid[i]=min_max_scaler.transform(X_valid[[i]])\n",
    "        X_test[i]=min_max_scaler.transform(X_test[[i]])\n",
    "    else:\n",
    "        pass"
   ]
  },
  {
   "cell_type": "code",
   "execution_count": 14,
   "id": "b7c1dbe6-0673-4efe-907f-183411eb2343",
   "metadata": {},
   "outputs": [],
   "source": [
    "# 범주형 변수 라벨 인코딩\n",
    "label_encoder=LabelEncoder()\n",
    "for i in X_train.columns:\n",
    "    if X_train[i].dtypes=='object':\n",
    "        X_train[i]=label_encoder.fit_transform(X_train[i])\n",
    "        X_valid[i]=label_encoder.transform(X_valid[i])\n",
    "        X_test[i]=label_encoder.transform(X_test[i])\n",
    "    else:\n",
    "        pass"
   ]
  },
  {
   "cell_type": "markdown",
   "id": "fbdd5876-ac45-4e04-8274-7910ad789e75",
   "metadata": {},
   "source": [
    "# XGBoost parameter Tuning"
   ]
  },
  {
   "cell_type": "markdown",
   "id": "a9dd8c59-8e9b-4fee-bae6-0ab0197bf540",
   "metadata": {},
   "source": [
    "- 주요 파라미터 설명\n",
    "\n",
    "- gamma(값이 클수록 과적합을 방지해줌)=> [0,∞], 기본값=0=> 손실감소량에 대한 임계치임\n",
    "ex) gamma가 2일때 loss가 2이하면 더 이상 트리 분할 X\n",
    "\n",
    "- max_depth= Tree maximum depth 값\n",
    "ex) 최대 가지 개수\n",
    "\n",
    "- subsample= 데이터 샘플링 비율\n",
    "ex) 0.8로 설정하면 각 트리가 학습할 때 전체 데이터의 80% 사용 => 과적합 방지\n",
    "-------------------------------------------------------------------------------------------------------------\n",
    "\n",
    "\n",
    "- 초기 파라미터\n",
    "- dart부스터 학습률 0.05, 한트리의 최대 깊이 8, 반복 학습 횟수 200회로 진행\n",
    "- XGBRegressor(booster='dart',learning_rate=0.05, max_depth=8, n_estimator=200)\n",
    "\n",
    "-------------------------------------------------------------------------------------------------------------\n",
    "\n",
    "- 파라미터 튜닝\n",
    "\n",
    "- 학습률 0.05~0.01\n",
    "\n",
    "- gamma 0~2\n",
    "\n",
    "- max_depth 6~9\n",
    "\n",
    "- subsample 0.5~1\n",
    "\n",
    "- 반복수 100~300"
   ]
  },
  {
   "cell_type": "markdown",
   "id": "aa8cdd0e-289c-4ae4-b8e0-791d0322c694",
   "metadata": {},
   "source": [
    "# 초기 기본 모델"
   ]
  },
  {
   "cell_type": "code",
   "execution_count": 164,
   "id": "6c713f13-9c57-464a-b1b8-a2b2080400ba",
   "metadata": {},
   "outputs": [
    {
     "name": "stdout",
     "output_type": "stream",
     "text": [
      "농업경영체별 평가지표 결과\n",
      "MAE: 1.26\n",
      "MSE: 3.04\n",
      "RMSE: 1.74\n",
      "RMSPE: 51.63%\n",
      "----------------------------------------------------------------------------------------------------\n",
      "배정신청인원 10명 이상 시군구 단위 평가지표\n",
      "MAE: 8.11\n",
      "MSE: 134.37\n",
      "RMSE: 11.59\n",
      "RMSPE: 14.15%\n",
      "----------------------------------------------------------------------------------------------------\n",
      "변수중요도 Graph\n"
     ]
    },
    {
     "data": {
      "text/plain": [
       "<AxesSubplot:title={'center':'Feature importance'}, xlabel='F score', ylabel='Features'>"
      ]
     },
     "execution_count": 164,
     "metadata": {},
     "output_type": "execute_result"
    },
    {
     "data": {
      "image/png": "[encoded data removed]",
      "text/plain": [
       "<Figure size 432x288 with 1 Axes>"
      ]
     },
     "metadata": {},
     "output_type": "display_data"
    }
   ],
   "source": [
    "# XGB regressor 모델 구축\n",
    "# dart부스터 학습률 0.05, 한트리의 최대 깊이 8, 반복 학습 횟수 200회로 진행=> 파라미터 튜닝 X\n",
    "model_reg=XGBRegressor(booster='dart',learning_rate=0.05, max_depth=8, n_estimator=200)\n",
    "# 모델 적용\n",
    "model_reg.fit(X_train,Y_train)\n",
    "#예측값 \n",
    "pred=model_reg.predict(X_test)\n",
    "# 인원 수 예측이기에 예측된 결과에 반올림 적용\n",
    "pred=pd.DataFrame(pred,columns=['예측값'])\n",
    "#반올림\n",
    "pred['예측값']=round(pred['예측값'],0)\n",
    "#평가지표\n",
    "print('농업경영체별 평가지표 결과')\n",
    "Evaluation_metric(Y_test,pred=pred)\n",
    "print('-'*100)\n",
    "\n",
    "test_index=X_test.index.tolist()\n",
    "data_test=data_real.loc[test_index]\n",
    "data_test=data_test.reset_index()\n",
    "data_test.drop(columns=['index'],inplace=True)\n",
    "#예측값\n",
    "data_test['predict']=pred\n",
    "result=data_test.groupby(['지자체명_시도','지자체명_시군구'])[['합계','predict']].sum().reset_index()\n",
    "result_1=result.query('합계>10')\n",
    "print('배정신청인원 10명 이상 시군구 단위 평가지표')\n",
    "Evaluation_metric(result_1['합계'],pred=result_1['predict'])\n",
    "print('-'*100)\n",
    "print('변수중요도 Graph')\n",
    "# 변수 중요도 확인\n",
    "plot_importance(model_reg)"
   ]
  },
  {
   "cell_type": "markdown",
   "id": "379002d5-a73e-41d6-b1b5-9e0c660747a3",
   "metadata": {},
   "source": [
    "# Bayesian Optimization 튜닝"
   ]
  },
  {
   "cell_type": "code",
   "execution_count": 163,
   "id": "1cdcfa5c-909c-4b68-9029-36d532b09578",
   "metadata": {},
   "outputs": [
    {
     "name": "stdout",
     "output_type": "stream",
     "text": [
      "|   iter    |  target   |   gamma   | learni... | max_depth | n_esti... | subsample |\n",
      "-------------------------------------------------------------------------------------\n",
      "| \u001b[0m1        \u001b[0m | \u001b[0m3.445    \u001b[0m | \u001b[0m1.213    \u001b[0m | \u001b[0m0.04838  \u001b[0m | \u001b[0m9.834    \u001b[0m | \u001b[0m221.3    \u001b[0m | \u001b[0m0.9193   \u001b[0m |\n",
      "| \u001b[0m2        \u001b[0m | \u001b[0m3.398    \u001b[0m | \u001b[0m1.958    \u001b[0m | \u001b[0m0.04594  \u001b[0m | \u001b[0m9.233    \u001b[0m | \u001b[0m201.6    \u001b[0m | \u001b[0m0.8514   \u001b[0m |\n",
      "| \u001b[0m3        \u001b[0m | \u001b[0m3.382    \u001b[0m | \u001b[0m1.937    \u001b[0m | \u001b[0m0.04193  \u001b[0m | \u001b[0m8.489    \u001b[0m | \u001b[0m236.6    \u001b[0m | \u001b[0m0.925    \u001b[0m |\n",
      "| \u001b[0m4        \u001b[0m | \u001b[0m3.444    \u001b[0m | \u001b[0m1.696    \u001b[0m | \u001b[0m0.048    \u001b[0m | \u001b[0m9.318    \u001b[0m | \u001b[0m228.7    \u001b[0m | \u001b[0m0.9747   \u001b[0m |\n",
      "| \u001b[0m5        \u001b[0m | \u001b[0m3.374    \u001b[0m | \u001b[0m1.294    \u001b[0m | \u001b[0m0.04065  \u001b[0m | \u001b[0m8.644    \u001b[0m | \u001b[0m219.2    \u001b[0m | \u001b[0m0.8901   \u001b[0m |\n",
      "| \u001b[0m6        \u001b[0m | \u001b[0m3.387    \u001b[0m | \u001b[0m1.807    \u001b[0m | \u001b[0m0.04894  \u001b[0m | \u001b[0m8.723    \u001b[0m | \u001b[0m230.9    \u001b[0m | \u001b[0m0.9015   \u001b[0m |\n",
      "| \u001b[0m7        \u001b[0m | \u001b[0m3.398    \u001b[0m | \u001b[0m1.938    \u001b[0m | \u001b[0m0.04729  \u001b[0m | \u001b[0m9.533    \u001b[0m | \u001b[0m245.0    \u001b[0m | \u001b[0m0.8712   \u001b[0m |\n",
      "| \u001b[0m8        \u001b[0m | \u001b[0m3.412    \u001b[0m | \u001b[0m2.0      \u001b[0m | \u001b[0m0.04954  \u001b[0m | \u001b[0m9.645    \u001b[0m | \u001b[0m202.0    \u001b[0m | \u001b[0m0.9157   \u001b[0m |\n",
      "| \u001b[0m9        \u001b[0m | \u001b[0m3.391    \u001b[0m | \u001b[0m1.434    \u001b[0m | \u001b[0m0.0415   \u001b[0m | \u001b[0m8.925    \u001b[0m | \u001b[0m224.1    \u001b[0m | \u001b[0m0.9036   \u001b[0m |\n",
      "| \u001b[0m10       \u001b[0m | \u001b[0m3.413    \u001b[0m | \u001b[0m1.929    \u001b[0m | \u001b[0m0.04767  \u001b[0m | \u001b[0m9.557    \u001b[0m | \u001b[0m232.6    \u001b[0m | \u001b[0m0.8888   \u001b[0m |\n",
      "| \u001b[95m11       \u001b[0m | \u001b[95m3.454    \u001b[0m | \u001b[95m1.346    \u001b[0m | \u001b[95m0.04865  \u001b[0m | \u001b[95m9.665    \u001b[0m | \u001b[95m221.8    \u001b[0m | \u001b[95m0.8948   \u001b[0m |\n",
      "| \u001b[95m12       \u001b[0m | \u001b[95m3.505    \u001b[0m | \u001b[95m2.0      \u001b[0m | \u001b[95m0.05     \u001b[0m | \u001b[95m9.302    \u001b[0m | \u001b[95m221.5    \u001b[0m | \u001b[95m1.0      \u001b[0m |\n",
      "| \u001b[0m13       \u001b[0m | \u001b[0m3.432    \u001b[0m | \u001b[0m2.0      \u001b[0m | \u001b[0m0.05     \u001b[0m | \u001b[0m8.671    \u001b[0m | \u001b[0m221.6    \u001b[0m | \u001b[0m1.0      \u001b[0m |\n",
      "| \u001b[0m14       \u001b[0m | \u001b[0m3.449    \u001b[0m | \u001b[0m1.397    \u001b[0m | \u001b[0m0.04002  \u001b[0m | \u001b[0m9.16     \u001b[0m | \u001b[0m249.4    \u001b[0m | \u001b[0m0.8752   \u001b[0m |\n",
      "| \u001b[0m15       \u001b[0m | \u001b[0m3.386    \u001b[0m | \u001b[0m1.912    \u001b[0m | \u001b[0m0.04463  \u001b[0m | \u001b[0m9.748    \u001b[0m | \u001b[0m221.5    \u001b[0m | \u001b[0m0.8626   \u001b[0m |\n",
      "| \u001b[0m16       \u001b[0m | \u001b[0m3.451    \u001b[0m | \u001b[0m1.231    \u001b[0m | \u001b[0m0.04139  \u001b[0m | \u001b[0m8.337    \u001b[0m | \u001b[0m225.4    \u001b[0m | \u001b[0m0.9787   \u001b[0m |\n",
      "| \u001b[0m17       \u001b[0m | \u001b[0m3.369    \u001b[0m | \u001b[0m1.995    \u001b[0m | \u001b[0m0.0486   \u001b[0m | \u001b[0m8.358    \u001b[0m | \u001b[0m237.9    \u001b[0m | \u001b[0m0.9151   \u001b[0m |\n",
      "| \u001b[0m18       \u001b[0m | \u001b[0m3.39     \u001b[0m | \u001b[0m1.399    \u001b[0m | \u001b[0m0.04966  \u001b[0m | \u001b[0m8.001    \u001b[0m | \u001b[0m234.9    \u001b[0m | \u001b[0m0.9684   \u001b[0m |\n",
      "| \u001b[0m19       \u001b[0m | \u001b[0m3.446    \u001b[0m | \u001b[0m1.463    \u001b[0m | \u001b[0m0.04829  \u001b[0m | \u001b[0m9.457    \u001b[0m | \u001b[0m204.5    \u001b[0m | \u001b[0m0.9212   \u001b[0m |\n",
      "| \u001b[0m20       \u001b[0m | \u001b[0m3.417    \u001b[0m | \u001b[0m1.57     \u001b[0m | \u001b[0m0.0461   \u001b[0m | \u001b[0m9.062    \u001b[0m | \u001b[0m224.9    \u001b[0m | \u001b[0m0.8532   \u001b[0m |\n",
      "| \u001b[0m21       \u001b[0m | \u001b[0m3.469    \u001b[0m | \u001b[0m1.823    \u001b[0m | \u001b[0m0.04892  \u001b[0m | \u001b[0m9.406    \u001b[0m | \u001b[0m233.3    \u001b[0m | \u001b[0m0.9768   \u001b[0m |\n",
      "| \u001b[0m22       \u001b[0m | \u001b[0m3.499    \u001b[0m | \u001b[0m1.423    \u001b[0m | \u001b[0m0.0459   \u001b[0m | \u001b[0m9.145    \u001b[0m | \u001b[0m227.1    \u001b[0m | \u001b[0m0.9955   \u001b[0m |\n",
      "| \u001b[0m23       \u001b[0m | \u001b[0m3.462    \u001b[0m | \u001b[0m1.626    \u001b[0m | \u001b[0m0.04217  \u001b[0m | \u001b[0m9.49     \u001b[0m | \u001b[0m249.5    \u001b[0m | \u001b[0m0.9763   \u001b[0m |\n",
      "| \u001b[0m24       \u001b[0m | \u001b[0m3.402    \u001b[0m | \u001b[0m1.96     \u001b[0m | \u001b[0m0.04332  \u001b[0m | \u001b[0m9.264    \u001b[0m | \u001b[0m221.5    \u001b[0m | \u001b[0m0.9363   \u001b[0m |\n",
      "| \u001b[0m25       \u001b[0m | \u001b[0m3.384    \u001b[0m | \u001b[0m1.579    \u001b[0m | \u001b[0m0.04361  \u001b[0m | \u001b[0m8.944    \u001b[0m | \u001b[0m214.3    \u001b[0m | \u001b[0m0.894    \u001b[0m |\n",
      "=====================================================================================\n",
      "최종 파라미터는 {'booster': 'dart', 'max_depth': 8, 'gamma': 1.9947456537850128, 'subsample': 0.9150798573802083, 'n_estimator': 238, 'learning_rate': 0.04859942760149458}입니다\n",
      "농업경영체별 평가지표 결과\n",
      "MAE: 1.25\n",
      "MSE: 2.99\n",
      "RMSE: 1.73\n",
      "RMSPE: 51.24%\n",
      "----------------------------------------------------------------------------------------------------\n",
      "배정신청인원 10명 이상 시군구 단위 평가지표\n",
      "MAE: 7.75\n",
      "MSE: 122.58\n",
      "RMSE: 11.07\n",
      "RMSPE: 13.51%\n"
     ]
    }
   ],
   "source": [
    "# 목적 함수 정의\n",
    "results = {\n",
    "    'max_depth': [],\n",
    "    'gamma': [],\n",
    "    'subsample': [],\n",
    "    'n_estimator': [],\n",
    "    'learning_rate': [],\n",
    "    'target': []  # 최적화 결과인 target 값 저장\n",
    "}\n",
    "\n",
    "def xgb_cv(max_depth, gamma, subsample, n_estimator, learning_rate):\n",
    "    params = {\n",
    "        'eval_metric': 'rmse',\n",
    "        'max_depth': int(max_depth),\n",
    "        'gamma': gamma,\n",
    "        'subsample': subsample,\n",
    "        'n_estimator': int(n_estimator),\n",
    "        'learning_rate': learning_rate,\n",
    "        'booster': 'dart'\n",
    "    }\n",
    "    \n",
    "    # XGBoost Regressor 모델 초기화\n",
    "    model_reg = xgb.XGBRegressor(**params)\n",
    "    \n",
    "    #model Train 학습\n",
    "    model_reg.fit(X_train,Y_train)\n",
    "    #model validation\n",
    "    scores = -cross_val_score(model_reg, X_valid, Y_valid, cv=5, scoring='neg_mean_squared_error').mean()\n",
    "    results['max_depth'].append(max_depth)\n",
    "    results['gamma'].append(gamma)\n",
    "    results['subsample'].append(subsample)\n",
    "    results['n_estimator'].append(n_estimator)\n",
    "    results['learning_rate'].append(learning_rate)\n",
    "    results['target'].append(scores)\n",
    "    return scores\n",
    "\n",
    "# Bayesian Optimization 수행\n",
    "xgbBO = BayesianOptimization(\n",
    "    xgb_cv,\n",
    "    {'max_depth': (8, 10),\n",
    "     'gamma': (1, 2),\n",
    "     'subsample': (0.85, 1.0),\n",
    "     'n_estimator': (200, 250),\n",
    "     'learning_rate': (0.04,0.05)}\n",
    ")\n",
    "\n",
    "# 최적화\n",
    "xgbBO.maximize(init_points=10, n_iter=15)\n",
    "\n",
    "idx_of_min=results['target'].index(min(results['target']))\n",
    "min_pam={'booster':'dart'}\n",
    "for key,value in results.items():\n",
    "    if key=='target':\n",
    "        pass\n",
    "    else:\n",
    "        if (key=='max_depth') or (key=='n_estimator'):\n",
    "            min_pam[key]=int(round(value[idx_of_min],0))\n",
    "        else:\n",
    "            min_pam[key]=value[idx_of_min]\n",
    "            \n",
    "print(f'최종 파라미터는 {min_pam}입니다')\n",
    "\n",
    "model_reg = xgb.XGBRegressor(**min_pam)\n",
    "model_reg.fit(X_train,Y_train)\n",
    "\n",
    "#예측값 \n",
    "pred=model_reg.predict(X_test)\n",
    "# 인원 수 예측이기에 예측된 결과에 반올림 적용\n",
    "pred=pd.DataFrame(pred,columns=['예측값'])\n",
    "#반올림\n",
    "pred['예측값']=round(pred['예측값'],0)\n",
    "#평가지표\n",
    "print('농업경영체별 평가지표 결과')\n",
    "Evaluation_metric(Y_test,pred=pred)\n",
    "print('-'*100)\n",
    "\n",
    "test_index=X_test.index.tolist()\n",
    "data_test=data_real.loc[test_index]\n",
    "data_test=data_test.reset_index()\n",
    "data_test.drop(columns=['index'],inplace=True)\n",
    "#예측값\n",
    "data_test['predict']=pred\n",
    "result=data_test.groupby(['지자체명_시도','지자체명_시군구'])[['합계','predict']].sum().reset_index()\n",
    "result_1=result.query('합계>10')\n",
    "print('배정신청인원 10명 이상 시군구 단위 평가지표')\n",
    "Evaluation_metric(result_1['합계'],pred=result_1['predict'])"
   ]
  },
  {
   "cell_type": "markdown",
   "id": "c1e38274-f942-4ef5-82ea-7c02660f4b91",
   "metadata": {},
   "source": [
    "# OPTUNA 라이브러리 활용 파라미터 튜닝"
   ]
  },
  {
   "cell_type": "markdown",
   "id": "085b7136-45c8-490b-bd80-fc252c9171ed",
   "metadata": {},
   "source": [
    "파라미터 튜닝 코드\n",
    "\n",
    "- optuna.trial.Trial.suggest_categorical() : 리스트 범위 내에서 값을 선택한다.\n",
    "- optuna.trial.Trial.suggest_int() : 범위 내에서 정수형 값을 선택한다.\n",
    "- optuna.trial.Trial.suggest_float() : 범위 내에서 소수형 값을 선택한다.\n",
    "- optuna.trial.Trial.suggest_uniform() : 범위 내에서 균일분포 값을 선택한다.\n",
    "- optuna.trial.Trial.suggest_discrete_uniform() : 범위 내에서 이산 균일분포 값을 선택한다.\n",
    "- optuna.trial.Trial.suggest_loguniform() : 범위 내에서 로그 함수 값을 선택한다."
   ]
  },
  {
   "cell_type": "code",
   "execution_count": 168,
   "id": "e8a8d712-10bf-49fd-b7f0-e799fc64a677",
   "metadata": {
    "collapsed": true,
    "jupyter": {
     "outputs_hidden": true
    },
    "tags": []
   },
   "outputs": [
    {
     "name": "stderr",
     "output_type": "stream",
     "text": [
      "[I 2023-11-27 15:13:25,224] A new study created in memory with name: no-name-6a769504-4d83-4ce2-8d01-10f98cd87c40\n",
      "[I 2023-11-27 15:13:27,040] Trial 0 finished with value: 1.3074086704312928 and parameters: {'max_depth': 10, 'gamma': 1.0518009702177216, 'subsample': 0.85, 'n_estimator': 395, 'learning_rate': 0.037149864247310635}. Best is trial 0 with value: 1.3074086704312928.\n",
      "[I 2023-11-27 15:13:28,676] Trial 1 finished with value: 1.3017141643890553 and parameters: {'max_depth': 8, 'gamma': 1.7427297878814498, 'subsample': 0.8, 'n_estimator': 287, 'learning_rate': 0.03868242423775573}. Best is trial 1 with value: 1.3017141643890553.\n",
      "[I 2023-11-27 15:13:30,475] Trial 2 finished with value: 1.3172703817923006 and parameters: {'max_depth': 10, 'gamma': 1.8278468997404353, 'subsample': 1, 'n_estimator': 345, 'learning_rate': 0.030085411375682717}. Best is trial 1 with value: 1.3017141643890553.\n",
      "[I 2023-11-27 15:13:32,325] Trial 3 finished with value: 1.3039848058727013 and parameters: {'max_depth': 10, 'gamma': 1.6867893241752046, 'subsample': 0.95, 'n_estimator': 204, 'learning_rate': 0.047866629135716876}. Best is trial 1 with value: 1.3017141643890553.\n",
      "[I 2023-11-27 15:13:34,120] Trial 4 finished with value: 1.3074570844647329 and parameters: {'max_depth': 10, 'gamma': 1.9749791883715073, 'subsample': 0.85, 'n_estimator': 347, 'learning_rate': 0.03638755051427397}. Best is trial 1 with value: 1.3017141643890553.\n",
      "[I 2023-11-27 15:13:36,322] Trial 5 finished with value: 1.3083150770092353 and parameters: {'max_depth': 10, 'gamma': 1.1179580969040979, 'subsample': 0.85, 'n_estimator': 296, 'learning_rate': 0.03558949203933077}. Best is trial 1 with value: 1.3017141643890553.\n",
      "[I 2023-11-27 15:13:38,240] Trial 6 finished with value: 1.3105570840174319 and parameters: {'max_depth': 8, 'gamma': 1.0709349113408686, 'subsample': 0.95, 'n_estimator': 391, 'learning_rate': 0.037994723211078274}. Best is trial 1 with value: 1.3017141643890553.\n",
      "[I 2023-11-27 15:13:39,994] Trial 7 finished with value: 1.3118375313851425 and parameters: {'max_depth': 9, 'gamma': 1.8974804854968077, 'subsample': 0.9, 'n_estimator': 217, 'learning_rate': 0.031889344321664785}. Best is trial 1 with value: 1.3017141643890553.\n",
      "[I 2023-11-27 15:13:41,753] Trial 8 finished with value: 1.305888009916285 and parameters: {'max_depth': 8, 'gamma': 1.5341124593547464, 'subsample': 1, 'n_estimator': 333, 'learning_rate': 0.049321393015106935}. Best is trial 1 with value: 1.3017141643890553.\n",
      "[I 2023-11-27 15:13:43,560] Trial 9 finished with value: 1.2972655662464128 and parameters: {'max_depth': 10, 'gamma': 1.0084212566892854, 'subsample': 0.8, 'n_estimator': 359, 'learning_rate': 0.0463661504723258}. Best is trial 9 with value: 1.2972655662464128.\n",
      "[I 2023-11-27 15:13:45,291] Trial 10 finished with value: 1.2927514544253356 and parameters: {'max_depth': 9, 'gamma': 1.2356684153339779, 'subsample': 0.8, 'n_estimator': 254, 'learning_rate': 0.04400867504310833}. Best is trial 10 with value: 1.2927514544253356.\n",
      "[I 2023-11-27 15:13:47,139] Trial 11 finished with value: 1.29541691866788 and parameters: {'max_depth': 9, 'gamma': 1.232363644398952, 'subsample': 0.8, 'n_estimator': 251, 'learning_rate': 0.0451970149259726}. Best is trial 10 with value: 1.2927514544253356.\n",
      "[I 2023-11-27 15:13:48,912] Trial 12 finished with value: 1.3004419264820335 and parameters: {'max_depth': 9, 'gamma': 1.2480042288918194, 'subsample': 0.8, 'n_estimator': 254, 'learning_rate': 0.043923924736442126}. Best is trial 10 with value: 1.2927514544253356.\n",
      "[I 2023-11-27 15:13:50,633] Trial 13 finished with value: 1.2972069681762242 and parameters: {'max_depth': 9, 'gamma': 1.318652971752837, 'subsample': 0.8, 'n_estimator': 249, 'learning_rate': 0.04295783773117477}. Best is trial 10 with value: 1.2927514544253356.\n",
      "[I 2023-11-27 15:13:52,426] Trial 14 finished with value: 1.297189706156789 and parameters: {'max_depth': 9, 'gamma': 1.2204346293521773, 'subsample': 0.8, 'n_estimator': 259, 'learning_rate': 0.042051301269031054}. Best is trial 10 with value: 1.2927514544253356.\n",
      "[I 2023-11-27 15:13:54,226] Trial 15 finished with value: 1.2993446149517465 and parameters: {'max_depth': 9, 'gamma': 1.434222217464053, 'subsample': 0.9, 'n_estimator': 236, 'learning_rate': 0.04562149625830735}. Best is trial 10 with value: 1.2927514544253356.\n",
      "[I 2023-11-27 15:13:55,977] Trial 16 finished with value: 1.2961118882536338 and parameters: {'max_depth': 9, 'gamma': 1.1443102427561227, 'subsample': 0.8, 'n_estimator': 283, 'learning_rate': 0.04107690795658437}. Best is trial 10 with value: 1.2927514544253356.\n",
      "[I 2023-11-27 15:13:57,626] Trial 17 finished with value: 1.2979349896549015 and parameters: {'max_depth': 8, 'gamma': 1.3281194604541988, 'subsample': 0.8, 'n_estimator': 313, 'learning_rate': 0.04483546111705659}. Best is trial 10 with value: 1.2927514544253356.\n",
      "[I 2023-11-27 15:13:59,517] Trial 18 finished with value: 1.2913523669357967 and parameters: {'max_depth': 9, 'gamma': 1.1915419309290087, 'subsample': 0.8, 'n_estimator': 272, 'learning_rate': 0.04995304934909663}. Best is trial 18 with value: 1.2913523669357967.\n",
      "[I 2023-11-27 15:14:01,270] Trial 19 finished with value: 1.30290045760262 and parameters: {'max_depth': 9, 'gamma': 1.1483036155775912, 'subsample': 0.95, 'n_estimator': 268, 'learning_rate': 0.049433592523850794}. Best is trial 18 with value: 1.2913523669357967.\n",
      "[I 2023-11-27 15:14:02,914] Trial 20 finished with value: 1.2998236785745645 and parameters: {'max_depth': 8, 'gamma': 1.371975956953866, 'subsample': 0.9, 'n_estimator': 226, 'learning_rate': 0.04745722425357266}. Best is trial 18 with value: 1.2913523669357967.\n",
      "[I 2023-11-27 15:14:04,815] Trial 21 finished with value: 1.2946507436040124 and parameters: {'max_depth': 9, 'gamma': 1.2298346008804821, 'subsample': 0.8, 'n_estimator': 312, 'learning_rate': 0.0443090211740481}. Best is trial 18 with value: 1.2913523669357967.\n",
      "[I 2023-11-27 15:14:06,671] Trial 22 finished with value: 1.297186101101335 and parameters: {'max_depth': 9, 'gamma': 1.2037382638191687, 'subsample': 0.8, 'n_estimator': 319, 'learning_rate': 0.04319761192273885}. Best is trial 18 with value: 1.2913523669357967.\n",
      "[I 2023-11-27 15:14:08,391] Trial 23 finished with value: 1.297590036788964 and parameters: {'max_depth': 9, 'gamma': 1.2815464029552794, 'subsample': 0.8, 'n_estimator': 275, 'learning_rate': 0.040901225714784245}. Best is trial 18 with value: 1.2913523669357967.\n",
      "[I 2023-11-27 15:14:10,269] Trial 24 finished with value: 1.3063017030097792 and parameters: {'max_depth': 9, 'gamma': 1.1702752199115893, 'subsample': 1, 'n_estimator': 306, 'learning_rate': 0.04996031581566321}. Best is trial 18 with value: 1.2913523669357967.\n",
      "[I 2023-11-27 15:14:11,984] Trial 25 finished with value: 1.2922631657056216 and parameters: {'max_depth': 9, 'gamma': 1.424173368795132, 'subsample': 0.8, 'n_estimator': 294, 'learning_rate': 0.04704859331616027}. Best is trial 18 with value: 1.2913523669357967.\n",
      "[I 2023-11-27 15:14:13,722] Trial 26 finished with value: 1.293715089421794 and parameters: {'max_depth': 9, 'gamma': 1.4095179269391382, 'subsample': 0.8, 'n_estimator': 236, 'learning_rate': 0.04727110489469141}. Best is trial 18 with value: 1.2913523669357967.\n",
      "[I 2023-11-27 15:14:15,540] Trial 27 finished with value: 1.2966755948803887 and parameters: {'max_depth': 8, 'gamma': 1.4882671761599586, 'subsample': 0.8, 'n_estimator': 272, 'learning_rate': 0.04825085742325969}. Best is trial 18 with value: 1.2913523669357967.\n",
      "[I 2023-11-27 15:14:17,254] Trial 28 finished with value: 1.2920303832094793 and parameters: {'max_depth': 9, 'gamma': 1.2839097011733953, 'subsample': 0.8, 'n_estimator': 293, 'learning_rate': 0.046811810587359656}. Best is trial 18 with value: 1.2913523669357967.\n",
      "[I 2023-11-27 15:14:19,044] Trial 29 finished with value: 1.3008673331893035 and parameters: {'max_depth': 10, 'gamma': 1.3265189039763996, 'subsample': 0.85, 'n_estimator': 293, 'learning_rate': 0.04624759967423321}. Best is trial 18 with value: 1.2913523669357967.\n",
      "[I 2023-11-27 15:14:20,916] Trial 30 finished with value: 1.3016614606580064 and parameters: {'max_depth': 9, 'gamma': 1.0925167547675698, 'subsample': 0.95, 'n_estimator': 321, 'learning_rate': 0.04869793716914784}. Best is trial 18 with value: 1.2913523669357967.\n",
      "[I 2023-11-27 15:14:22,664] Trial 31 finished with value: 1.29697738100335 and parameters: {'max_depth': 9, 'gamma': 1.276714442988613, 'subsample': 0.8, 'n_estimator': 269, 'learning_rate': 0.046653636378394495}. Best is trial 18 with value: 1.2913523669357967.\n",
      "[I 2023-11-27 15:14:24,494] Trial 32 finished with value: 1.2898326173585442 and parameters: {'max_depth': 9, 'gamma': 1.1672057288492463, 'subsample': 0.8, 'n_estimator': 291, 'learning_rate': 0.04830677755201892}. Best is trial 32 with value: 1.2898326173585442.\n",
      "[I 2023-11-27 15:14:26,363] Trial 33 finished with value: 1.2938976631938461 and parameters: {'max_depth': 9, 'gamma': 1.1662257095078625, 'subsample': 0.8, 'n_estimator': 285, 'learning_rate': 0.0499718630999425}. Best is trial 32 with value: 1.2898326173585442.\n",
      "[I 2023-11-27 15:14:28,154] Trial 34 finished with value: 1.3088752167862872 and parameters: {'max_depth': 9, 'gamma': 1.0960522985288061, 'subsample': 1, 'n_estimator': 299, 'learning_rate': 0.048608703697410015}. Best is trial 32 with value: 1.2898326173585442.\n",
      "[I 2023-11-27 15:14:30,021] Trial 35 finished with value: 1.2938973461595877 and parameters: {'max_depth': 10, 'gamma': 1.0450491549706118, 'subsample': 0.8, 'n_estimator': 282, 'learning_rate': 0.04811784666784862}. Best is trial 32 with value: 1.2898326173585442.\n",
      "[I 2023-11-27 15:14:31,943] Trial 36 finished with value: 1.298275962142866 and parameters: {'max_depth': 9, 'gamma': 1.1899082347791128, 'subsample': 0.85, 'n_estimator': 328, 'learning_rate': 0.04711155974615162}. Best is trial 32 with value: 1.2898326173585442.\n",
      "[I 2023-11-27 15:14:33,823] Trial 37 finished with value: 1.29856541968641 and parameters: {'max_depth': 10, 'gamma': 1.123908309661592, 'subsample': 0.8, 'n_estimator': 300, 'learning_rate': 0.04617367792201485}. Best is trial 32 with value: 1.2898326173585442.\n",
      "[I 2023-11-27 15:14:35,557] Trial 38 finished with value: 1.3005705076912213 and parameters: {'max_depth': 9, 'gamma': 1.2845021009941808, 'subsample': 0.9, 'n_estimator': 348, 'learning_rate': 0.04793000558623631}. Best is trial 32 with value: 1.2898326173585442.\n",
      "[I 2023-11-27 15:14:37,375] Trial 39 finished with value: 1.309478319052494 and parameters: {'max_depth': 8, 'gamma': 1.568432568145282, 'subsample': 0.95, 'n_estimator': 371, 'learning_rate': 0.04547199600722203}. Best is trial 32 with value: 1.2898326173585442.\n",
      "[I 2023-11-27 15:14:39,152] Trial 40 finished with value: 1.3014227077785858 and parameters: {'max_depth': 10, 'gamma': 1.3719215977113015, 'subsample': 0.85, 'n_estimator': 289, 'learning_rate': 0.04885615305168348}. Best is trial 32 with value: 1.2898326173585442.\n",
      "[I 2023-11-27 15:14:40,908] Trial 41 finished with value: 1.2914834051911013 and parameters: {'max_depth': 9, 'gamma': 1.2016332990574214, 'subsample': 0.8, 'n_estimator': 262, 'learning_rate': 0.04731070924149475}. Best is trial 32 with value: 1.2898326173585442.\n",
      "[I 2023-11-27 15:14:42,767] Trial 42 finished with value: 1.2936200306975174 and parameters: {'max_depth': 9, 'gamma': 1.182144277595983, 'subsample': 0.8, 'n_estimator': 277, 'learning_rate': 0.047390064038916144}. Best is trial 32 with value: 1.2898326173585442.\n",
      "[I 2023-11-27 15:14:44,482] Trial 43 finished with value: 1.2967275406191394 and parameters: {'max_depth': 9, 'gamma': 1.1350132145616194, 'subsample': 0.8, 'n_estimator': 266, 'learning_rate': 0.049151263985984676}. Best is trial 32 with value: 1.2898326173585442.\n",
      "[I 2023-11-27 15:14:46,236] Trial 44 finished with value: 1.295893779949586 and parameters: {'max_depth': 9, 'gamma': 1.193195590778226, 'subsample': 0.8, 'n_estimator': 293, 'learning_rate': 0.04606154789935749}. Best is trial 32 with value: 1.2898326173585442.\n",
      "[I 2023-11-27 15:14:48,095] Trial 45 finished with value: 1.3139788800774934 and parameters: {'max_depth': 9, 'gamma': 1.2716251938065013, 'subsample': 1, 'n_estimator': 244, 'learning_rate': 0.047874149036636844}. Best is trial 32 with value: 1.2898326173585442.\n",
      "[I 2023-11-27 15:14:49,829] Trial 46 finished with value: 1.2962471417543149 and parameters: {'max_depth': 9, 'gamma': 1.0641702769398078, 'subsample': 0.8, 'n_estimator': 307, 'learning_rate': 0.04500599514164365}. Best is trial 32 with value: 1.2898326173585442.\n",
      "[I 2023-11-27 15:14:51,528] Trial 47 finished with value: 1.2940619257577701 and parameters: {'max_depth': 9, 'gamma': 1.2441791767016805, 'subsample': 0.8, 'n_estimator': 258, 'learning_rate': 0.04681390208077971}. Best is trial 32 with value: 1.2898326173585442.\n",
      "[I 2023-11-27 15:14:53,363] Trial 48 finished with value: 1.2911979620678338 and parameters: {'max_depth': 8, 'gamma': 1.2069982999439082, 'subsample': 0.8, 'n_estimator': 336, 'learning_rate': 0.04990224043971901}. Best is trial 32 with value: 1.2898326173585442.\n",
      "[I 2023-11-27 15:14:55,013] Trial 49 finished with value: 1.2927043218764513 and parameters: {'max_depth': 8, 'gamma': 1.113292380273601, 'subsample': 0.8, 'n_estimator': 338, 'learning_rate': 0.04988193103110994}. Best is trial 32 with value: 1.2898326173585442.\n",
      "[I 2023-11-27 15:14:56,724] Trial 50 finished with value: 1.2956145213822188 and parameters: {'max_depth': 8, 'gamma': 1.215296071272531, 'subsample': 0.9, 'n_estimator': 387, 'learning_rate': 0.04889198152241879}. Best is trial 32 with value: 1.2898326173585442.\n",
      "[I 2023-11-27 15:14:58,505] Trial 51 finished with value: 1.2953583023519961 and parameters: {'max_depth': 8, 'gamma': 1.1584230290358697, 'subsample': 0.8, 'n_estimator': 262, 'learning_rate': 0.04817052082747927}. Best is trial 32 with value: 1.2898326173585442.\n",
      "[I 2023-11-27 15:15:00,308] Trial 52 finished with value: 1.2929932351105018 and parameters: {'max_depth': 9, 'gamma': 1.2582960518797497, 'subsample': 0.8, 'n_estimator': 278, 'learning_rate': 0.04909632758520914}. Best is trial 32 with value: 1.2898326173585442.\n",
      "[I 2023-11-27 15:15:02,032] Trial 53 finished with value: 1.2945038467783405 and parameters: {'max_depth': 8, 'gamma': 1.3111860314151418, 'subsample': 0.8, 'n_estimator': 323, 'learning_rate': 0.047091943559999364}. Best is trial 32 with value: 1.2898326173585442.\n",
      "[I 2023-11-27 15:15:03,817] Trial 54 finished with value: 1.2882279351728663 and parameters: {'max_depth': 9, 'gamma': 1.2289323659114257, 'subsample': 0.8, 'n_estimator': 308, 'learning_rate': 0.04925704343204054}. Best is trial 54 with value: 1.2882279351728663.\n",
      "[I 2023-11-27 15:15:05,608] Trial 55 finished with value: 1.2908538665046554 and parameters: {'max_depth': 9, 'gamma': 1.2072517855396983, 'subsample': 0.8, 'n_estimator': 335, 'learning_rate': 0.04922961854311613}. Best is trial 54 with value: 1.2882279351728663.\n",
      "[I 2023-11-27 15:15:07,337] Trial 56 finished with value: 1.3049919693422245 and parameters: {'max_depth': 9, 'gamma': 1.2052407823704614, 'subsample': 0.95, 'n_estimator': 349, 'learning_rate': 0.04942679082578446}. Best is trial 54 with value: 1.2882279351728663.\n",
      "[I 2023-11-27 15:15:09,129] Trial 57 finished with value: 1.295840672364159 and parameters: {'max_depth': 10, 'gamma': 1.1518217045677124, 'subsample': 0.8, 'n_estimator': 338, 'learning_rate': 0.049812850649003954}. Best is trial 54 with value: 1.2882279351728663.\n",
      "[I 2023-11-27 15:15:10,954] Trial 58 finished with value: 1.293992867761229 and parameters: {'max_depth': 8, 'gamma': 1.2260258150603065, 'subsample': 0.8, 'n_estimator': 334, 'learning_rate': 0.04838652743734938}. Best is trial 54 with value: 1.2882279351728663.\n",
      "[I 2023-11-27 15:15:12,639] Trial 59 finished with value: 1.3069194250983585 and parameters: {'max_depth': 9, 'gamma': 1.1772078187037769, 'subsample': 1, 'n_estimator': 312, 'learning_rate': 0.04908319377413105}. Best is trial 54 with value: 1.2882279351728663.\n",
      "[I 2023-11-27 15:15:14,604] Trial 60 finished with value: 1.2918324179078715 and parameters: {'max_depth': 9, 'gamma': 1.2459439708702158, 'subsample': 0.8, 'n_estimator': 361, 'learning_rate': 0.047784209732682714}. Best is trial 54 with value: 1.2882279351728663.\n",
      "[I 2023-11-27 15:15:16,678] Trial 61 finished with value: 1.2921110661628616 and parameters: {'max_depth': 9, 'gamma': 1.2414965662795838, 'subsample': 0.8, 'n_estimator': 359, 'learning_rate': 0.04766455135011052}. Best is trial 54 with value: 1.2882279351728663.\n",
      "[I 2023-11-27 15:15:18,632] Trial 62 finished with value: 1.2912657253547515 and parameters: {'max_depth': 9, 'gamma': 1.1405968749991426, 'subsample': 0.8, 'n_estimator': 366, 'learning_rate': 0.0499597366025498}. Best is trial 54 with value: 1.2882279351728663.\n",
      "[I 2023-11-27 15:15:20,735] Trial 63 finished with value: 1.2922289151072686 and parameters: {'max_depth': 9, 'gamma': 1.1218706730639934, 'subsample': 0.8, 'n_estimator': 361, 'learning_rate': 0.0494388193989882}. Best is trial 54 with value: 1.2882279351728663.\n",
      "[I 2023-11-27 15:15:22,682] Trial 64 finished with value: 1.2895196525023176 and parameters: {'max_depth': 9, 'gamma': 1.1988072107363035, 'subsample': 0.8, 'n_estimator': 352, 'learning_rate': 0.048700030715884676}. Best is trial 54 with value: 1.2882279351728663.\n",
      "[I 2023-11-27 15:15:24,653] Trial 65 finished with value: 1.293385431836309 and parameters: {'max_depth': 9, 'gamma': 1.1540684533238015, 'subsample': 0.85, 'n_estimator': 370, 'learning_rate': 0.04992723957391759}. Best is trial 54 with value: 1.2882279351728663.\n",
      "[I 2023-11-27 15:15:26,752] Trial 66 finished with value: 1.2912495842822467 and parameters: {'max_depth': 9, 'gamma': 1.0916475003110833, 'subsample': 0.8, 'n_estimator': 370, 'learning_rate': 0.04895107349220214}. Best is trial 54 with value: 1.2882279351728663.\n",
      "[I 2023-11-27 15:15:28,741] Trial 67 finished with value: 1.2908086616318226 and parameters: {'max_depth': 9, 'gamma': 1.091834753321743, 'subsample': 0.8, 'n_estimator': 382, 'learning_rate': 0.048594545145744475}. Best is trial 54 with value: 1.2882279351728663.\n",
      "[I 2023-11-27 15:15:30,757] Trial 68 finished with value: 1.2992132769282438 and parameters: {'max_depth': 9, 'gamma': 1.0969998442310949, 'subsample': 0.9, 'n_estimator': 377, 'learning_rate': 0.048565357255840436}. Best is trial 54 with value: 1.2882279351728663.\n",
      "[I 2023-11-27 15:15:32,899] Trial 69 finished with value: 1.296459404088683 and parameters: {'max_depth': 9, 'gamma': 1.0263451077754044, 'subsample': 0.8, 'n_estimator': 400, 'learning_rate': 0.04586629311099395}. Best is trial 54 with value: 1.2882279351728663.\n",
      "[I 2023-11-27 15:15:34,855] Trial 70 finished with value: 1.2892023735800706 and parameters: {'max_depth': 9, 'gamma': 1.08107263754667, 'subsample': 0.8, 'n_estimator': 353, 'learning_rate': 0.04848113395169087}. Best is trial 54 with value: 1.2882279351728663.\n",
      "[I 2023-11-27 15:15:37,134] Trial 71 finished with value: 1.297878825364507 and parameters: {'max_depth': 9, 'gamma': 1.0781085286215315, 'subsample': 0.8, 'n_estimator': 383, 'learning_rate': 0.048444549500614414}. Best is trial 54 with value: 1.2882279351728663.\n",
      "[I 2023-11-27 15:15:39,186] Trial 72 finished with value: 1.2901781700057866 and parameters: {'max_depth': 9, 'gamma': 1.0482703805018578, 'subsample': 0.8, 'n_estimator': 353, 'learning_rate': 0.048941719444588264}. Best is trial 54 with value: 1.2882279351728663.\n",
      "[I 2023-11-27 15:15:41,242] Trial 73 finished with value: 1.298936748112785 and parameters: {'max_depth': 9, 'gamma': 1.0100246159059092, 'subsample': 0.8, 'n_estimator': 352, 'learning_rate': 0.047855964586911}. Best is trial 54 with value: 1.2882279351728663.\n",
      "[I 2023-11-27 15:15:43,442] Trial 74 finished with value: 1.2934796786883824 and parameters: {'max_depth': 9, 'gamma': 1.0340973378004865, 'subsample': 0.8, 'n_estimator': 354, 'learning_rate': 0.04836528587077552}. Best is trial 54 with value: 1.2882279351728663.\n",
      "[I 2023-11-27 15:15:45,470] Trial 75 finished with value: 1.2956110713539457 and parameters: {'max_depth': 9, 'gamma': 1.061324060888853, 'subsample': 0.8, 'n_estimator': 342, 'learning_rate': 0.04649115669134809}. Best is trial 54 with value: 1.2882279351728663.\n",
      "[I 2023-11-27 15:15:47,502] Trial 76 finished with value: 1.2894696951769655 and parameters: {'max_depth': 9, 'gamma': 1.046197487190903, 'subsample': 0.8, 'n_estimator': 328, 'learning_rate': 0.049268653047739974}. Best is trial 54 with value: 1.2882279351728663.\n",
      "[I 2023-11-27 15:15:49,710] Trial 77 finished with value: 1.2990054081327558 and parameters: {'max_depth': 9, 'gamma': 1.050586542091739, 'subsample': 0.95, 'n_estimator': 344, 'learning_rate': 0.047674445455875875}. Best is trial 54 with value: 1.2882279351728663.\n",
      "[I 2023-11-27 15:15:51,738] Trial 78 finished with value: 1.2960751983650416 and parameters: {'max_depth': 9, 'gamma': 1.071729528987183, 'subsample': 0.8, 'n_estimator': 329, 'learning_rate': 0.04932263164840855}. Best is trial 54 with value: 1.2882279351728663.\n",
      "[I 2023-11-27 15:15:53,958] Trial 79 finished with value: 1.3069328849108695 and parameters: {'max_depth': 9, 'gamma': 1.0011162041746662, 'subsample': 1, 'n_estimator': 316, 'learning_rate': 0.0485696305674459}. Best is trial 54 with value: 1.2882279351728663.\n",
      "[I 2023-11-27 15:15:56,010] Trial 80 finished with value: 1.299337534397519 and parameters: {'max_depth': 9, 'gamma': 1.1120100859404674, 'subsample': 0.85, 'n_estimator': 306, 'learning_rate': 0.04665636895396432}. Best is trial 54 with value: 1.2882279351728663.\n",
      "[I 2023-11-27 15:15:58,086] Trial 81 finished with value: 1.294135285942262 and parameters: {'max_depth': 9, 'gamma': 1.1313084179027322, 'subsample': 0.8, 'n_estimator': 326, 'learning_rate': 0.049400254869653104}. Best is trial 54 with value: 1.2882279351728663.\n",
      "[I 2023-11-27 15:16:00,304] Trial 82 finished with value: 1.291026701728809 and parameters: {'max_depth': 9, 'gamma': 1.0457151327729433, 'subsample': 0.8, 'n_estimator': 336, 'learning_rate': 0.04888182493658867}. Best is trial 54 with value: 1.2882279351728663.\n",
      "[I 2023-11-27 15:16:02,446] Trial 83 finished with value: 1.2893689494287288 and parameters: {'max_depth': 9, 'gamma': 1.0421281345911575, 'subsample': 0.8, 'n_estimator': 331, 'learning_rate': 0.0481536716714998}. Best is trial 54 with value: 1.2882279351728663.\n",
      "[I 2023-11-27 15:16:04,716] Trial 84 finished with value: 1.2867794491170796 and parameters: {'max_depth': 9, 'gamma': 1.028982074480852, 'subsample': 0.8, 'n_estimator': 356, 'learning_rate': 0.047317109170411646}. Best is trial 84 with value: 1.2867794491170796.\n",
      "[I 2023-11-27 15:16:06,897] Trial 85 finished with value: 1.2931596493194455 and parameters: {'max_depth': 9, 'gamma': 1.0309812236011389, 'subsample': 0.8, 'n_estimator': 379, 'learning_rate': 0.04812411751044628}. Best is trial 84 with value: 1.2867794491170796.\n",
      "[I 2023-11-27 15:16:09,211] Trial 86 finished with value: 1.2903573794675962 and parameters: {'max_depth': 9, 'gamma': 1.078047891493576, 'subsample': 0.8, 'n_estimator': 354, 'learning_rate': 0.04724012298978028}. Best is trial 84 with value: 1.2867794491170796.\n",
      "[I 2023-11-27 15:16:11,469] Trial 87 finished with value: 1.2931751838756576 and parameters: {'max_depth': 9, 'gamma': 1.0158122314889093, 'subsample': 0.8, 'n_estimator': 356, 'learning_rate': 0.04746526501096306}. Best is trial 84 with value: 1.2867794491170796.\n",
      "[I 2023-11-27 15:16:13,625] Trial 88 finished with value: 1.2946052603924894 and parameters: {'max_depth': 9, 'gamma': 1.0569886936279675, 'subsample': 0.8, 'n_estimator': 343, 'learning_rate': 0.046994987464880046}. Best is trial 84 with value: 1.2867794491170796.\n",
      "[I 2023-11-27 15:16:15,936] Trial 89 finished with value: 1.3028080116863672 and parameters: {'max_depth': 9, 'gamma': 1.0210744837951276, 'subsample': 0.9, 'n_estimator': 349, 'learning_rate': 0.04557800827826447}. Best is trial 84 with value: 1.2867794491170796.\n",
      "[I 2023-11-27 15:16:18,093] Trial 90 finished with value: 1.2954910237420567 and parameters: {'max_depth': 9, 'gamma': 1.0740045888063314, 'subsample': 0.8, 'n_estimator': 367, 'learning_rate': 0.04641953161657754}. Best is trial 84 with value: 1.2867794491170796.\n",
      "[I 2023-11-27 15:16:20,229] Trial 91 finished with value: 1.2942807346230356 and parameters: {'max_depth': 9, 'gamma': 1.0836343085362063, 'subsample': 0.8, 'n_estimator': 392, 'learning_rate': 0.04742479645398829}. Best is trial 84 with value: 1.2867794491170796.\n",
      "[I 2023-11-27 15:16:22,485] Trial 92 finished with value: 1.292015752978489 and parameters: {'max_depth': 9, 'gamma': 1.1052942310847662, 'subsample': 0.8, 'n_estimator': 364, 'learning_rate': 0.04812062506174896}. Best is trial 84 with value: 1.2867794491170796.\n",
      "[I 2023-11-27 15:16:24,584] Trial 93 finished with value: 1.2931353018476097 and parameters: {'max_depth': 9, 'gamma': 1.043964364022725, 'subsample': 0.8, 'n_estimator': 375, 'learning_rate': 0.04847902269198337}. Best is trial 84 with value: 1.2867794491170796.\n",
      "[I 2023-11-27 15:16:26,788] Trial 94 finished with value: 1.292146877319187 and parameters: {'max_depth': 9, 'gamma': 1.0824722001454818, 'subsample': 0.8, 'n_estimator': 318, 'learning_rate': 0.04704427123599834}. Best is trial 84 with value: 1.2867794491170796.\n",
      "[I 2023-11-27 15:16:28,906] Trial 95 finished with value: 1.2944358418890312 and parameters: {'max_depth': 9, 'gamma': 1.0384818341135202, 'subsample': 0.8, 'n_estimator': 331, 'learning_rate': 0.047933407728685186}. Best is trial 84 with value: 1.2867794491170796.\n",
      "[I 2023-11-27 15:16:31,025] Trial 96 finished with value: 1.3030328123644186 and parameters: {'max_depth': 9, 'gamma': 1.0539519769118626, 'subsample': 0.95, 'n_estimator': 356, 'learning_rate': 0.04862921704608371}. Best is trial 84 with value: 1.2867794491170796.\n",
      "[I 2023-11-27 15:16:33,319] Trial 97 finished with value: 1.2967172254338042 and parameters: {'max_depth': 9, 'gamma': 1.1131063088693838, 'subsample': 0.8, 'n_estimator': 345, 'learning_rate': 0.049525330465194896}. Best is trial 84 with value: 1.2867794491170796.\n",
      "[I 2023-11-27 15:16:35,380] Trial 98 finished with value: 1.2892810127706973 and parameters: {'max_depth': 9, 'gamma': 1.0033982277386129, 'subsample': 0.8, 'n_estimator': 208, 'learning_rate': 0.048959050057750524}. Best is trial 84 with value: 1.2867794491170796.\n",
      "[I 2023-11-27 15:16:37,469] Trial 99 finished with value: 1.289705896108164 and parameters: {'max_depth': 9, 'gamma': 1.0709202964179636, 'subsample': 0.8, 'n_estimator': 324, 'learning_rate': 0.04902701335120763}. Best is trial 84 with value: 1.2867794491170796.\n",
      "[I 2023-11-27 15:16:39,706] Trial 100 finished with value: 1.3108813740623015 and parameters: {'max_depth': 9, 'gamma': 1.0035026584275513, 'subsample': 1, 'n_estimator': 209, 'learning_rate': 0.049104841513857446}. Best is trial 84 with value: 1.2867794491170796.\n",
      "[I 2023-11-27 15:16:41,808] Trial 101 finished with value: 1.2893108097050945 and parameters: {'max_depth': 9, 'gamma': 1.0151458081442322, 'subsample': 0.8, 'n_estimator': 322, 'learning_rate': 0.048900703603777955}. Best is trial 84 with value: 1.2867794491170796.\n",
      "[I 2023-11-27 15:16:44,039] Trial 102 finished with value: 1.295763936358718 and parameters: {'max_depth': 9, 'gamma': 1.0206058233071102, 'subsample': 0.8, 'n_estimator': 326, 'learning_rate': 0.04895223753888043}. Best is trial 84 with value: 1.2867794491170796.\n",
      "[I 2023-11-27 15:16:46,141] Trial 103 finished with value: 1.2911221856145167 and parameters: {'max_depth': 9, 'gamma': 1.0351301845862662, 'subsample': 0.8, 'n_estimator': 322, 'learning_rate': 0.049610731985374065}. Best is trial 84 with value: 1.2867794491170796.\n",
      "[I 2023-11-27 15:16:48,213] Trial 104 finished with value: 1.2920370234179386 and parameters: {'max_depth': 9, 'gamma': 1.0615515786715481, 'subsample': 0.8, 'n_estimator': 302, 'learning_rate': 0.0481699908436863}. Best is trial 84 with value: 1.2867794491170796.\n",
      "[I 2023-11-27 15:16:50,611] Trial 105 finished with value: 1.2885726611309316 and parameters: {'max_depth': 9, 'gamma': 1.0148646298860646, 'subsample': 0.8, 'n_estimator': 311, 'learning_rate': 0.049550615779821394}. Best is trial 84 with value: 1.2867794491170796.\n",
      "[I 2023-11-27 15:16:52,701] Trial 106 finished with value: 1.2935234739894308 and parameters: {'max_depth': 9, 'gamma': 1.012761208842037, 'subsample': 0.85, 'n_estimator': 229, 'learning_rate': 0.049491697654747244}. Best is trial 84 with value: 1.2867794491170796.\n",
      "[I 2023-11-27 15:16:54,951] Trial 107 finished with value: 1.2925043290985139 and parameters: {'max_depth': 9, 'gamma': 1.0268033455261114, 'subsample': 0.8, 'n_estimator': 314, 'learning_rate': 0.047585825830086706}. Best is trial 84 with value: 1.2867794491170796.\n",
      "[I 2023-11-27 15:16:57,042] Trial 108 finished with value: 1.2915413433549094 and parameters: {'max_depth': 9, 'gamma': 1.0053269064691086, 'subsample': 0.8, 'n_estimator': 309, 'learning_rate': 0.04956494052772752}. Best is trial 84 with value: 1.2867794491170796.\n",
      "[I 2023-11-27 15:16:59,048] Trial 109 finished with value: 1.2950223061630648 and parameters: {'max_depth': 9, 'gamma': 1.0659297625905648, 'subsample': 0.8, 'n_estimator': 322, 'learning_rate': 0.04882991618490017}. Best is trial 84 with value: 1.2867794491170796.\n",
      "[I 2023-11-27 15:17:01,288] Trial 110 finished with value: 1.303172366461144 and parameters: {'max_depth': 9, 'gamma': 1.0214899313347394, 'subsample': 0.9, 'n_estimator': 332, 'learning_rate': 0.04823310386988436}. Best is trial 84 with value: 1.2867794491170796.\n",
      "[I 2023-11-27 15:17:03,395] Trial 111 finished with value: 1.2926097746439082 and parameters: {'max_depth': 9, 'gamma': 1.0494200307505266, 'subsample': 0.8, 'n_estimator': 201, 'learning_rate': 0.04907905583729472}. Best is trial 84 with value: 1.2867794491170796.\n",
      "[I 2023-11-27 15:17:05,442] Trial 112 finished with value: 1.2941303157659452 and parameters: {'max_depth': 9, 'gamma': 1.0403628010409884, 'subsample': 0.8, 'n_estimator': 341, 'learning_rate': 0.04878987708922399}. Best is trial 84 with value: 1.2867794491170796.\n",
      "[I 2023-11-27 15:17:07,621] Trial 113 finished with value: 1.2904613897257973 and parameters: {'max_depth': 9, 'gamma': 1.0037976688337167, 'subsample': 0.8, 'n_estimator': 309, 'learning_rate': 0.049255010224678486}. Best is trial 84 with value: 1.2867794491170796.\n",
      "[I 2023-11-27 15:17:09,709] Trial 114 finished with value: 1.294800570027058 and parameters: {'max_depth': 9, 'gamma': 1.0305359864516985, 'subsample': 0.8, 'n_estimator': 303, 'learning_rate': 0.04796761259899378}. Best is trial 84 with value: 1.2867794491170796.\n",
      "[I 2023-11-27 15:17:11,845] Trial 115 finished with value: 1.2910473335689316 and parameters: {'max_depth': 9, 'gamma': 1.065697047766461, 'subsample': 0.8, 'n_estimator': 317, 'learning_rate': 0.04848289803022934}. Best is trial 84 with value: 1.2867794491170796.\n",
      "[I 2023-11-27 15:17:13,813] Trial 116 finished with value: 1.289691533439883 and parameters: {'max_depth': 9, 'gamma': 1.1001200337834678, 'subsample': 0.8, 'n_estimator': 325, 'learning_rate': 0.04967422815168366}. Best is trial 84 with value: 1.2867794491170796.\n",
      "[I 2023-11-27 15:17:15,767] Trial 117 finished with value: 1.2972628717613515 and parameters: {'max_depth': 9, 'gamma': 1.1274017829987069, 'subsample': 0.8, 'n_estimator': 297, 'learning_rate': 0.049707553728688535}. Best is trial 84 with value: 1.2867794491170796.\n",
      "[I 2023-11-27 15:17:17,869] Trial 118 finished with value: 1.2939619492676298 and parameters: {'max_depth': 9, 'gamma': 1.0997451418460784, 'subsample': 0.8, 'n_estimator': 324, 'learning_rate': 0.04992017362065356}. Best is trial 84 with value: 1.2867794491170796.\n",
      "[I 2023-11-27 15:17:19,851] Trial 119 finished with value: 1.303614851016538 and parameters: {'max_depth': 9, 'gamma': 1.1626276900358876, 'subsample': 0.95, 'n_estimator': 328, 'learning_rate': 0.04765876608576368}. Best is trial 84 with value: 1.2867794491170796.\n",
      "[I 2023-11-27 15:17:21,838] Trial 120 finished with value: 1.2914105557636169 and parameters: {'max_depth': 9, 'gamma': 1.1480670943928715, 'subsample': 0.8, 'n_estimator': 312, 'learning_rate': 0.049304724262493084}. Best is trial 84 with value: 1.2867794491170796.\n",
      "[I 2023-11-27 15:17:23,952] Trial 121 finished with value: 1.2919445564395413 and parameters: {'max_depth': 9, 'gamma': 1.052995892470279, 'subsample': 0.8, 'n_estimator': 351, 'learning_rate': 0.04849202901145462}. Best is trial 84 with value: 1.2867794491170796.\n",
      "[I 2023-11-27 15:17:25,934] Trial 122 finished with value: 1.2887662891001963 and parameters: {'max_depth': 9, 'gamma': 1.0920118577720341, 'subsample': 0.8, 'n_estimator': 321, 'learning_rate': 0.04902092389475179}. Best is trial 84 with value: 1.2867794491170796.\n",
      "[I 2023-11-27 15:17:28,083] Trial 123 finished with value: 1.2911533708136451 and parameters: {'max_depth': 9, 'gamma': 1.1757007967389326, 'subsample': 0.8, 'n_estimator': 319, 'learning_rate': 0.04952234694126981}. Best is trial 84 with value: 1.2867794491170796.\n",
      "[I 2023-11-27 15:17:30,108] Trial 124 finished with value: 1.2906682730088432 and parameters: {'max_depth': 9, 'gamma': 1.0932785020295201, 'subsample': 0.8, 'n_estimator': 331, 'learning_rate': 0.04883342186825805}. Best is trial 84 with value: 1.2867794491170796.\n",
      "[I 2023-11-27 15:17:32,182] Trial 125 finished with value: 1.2916547994951622 and parameters: {'max_depth': 9, 'gamma': 1.1143471204193518, 'subsample': 0.8, 'n_estimator': 340, 'learning_rate': 0.04800193998590647}. Best is trial 84 with value: 1.2867794491170796.\n",
      "[I 2023-11-27 15:17:34,387] Trial 126 finished with value: 1.2911156514515065 and parameters: {'max_depth': 9, 'gamma': 1.076896145482032, 'subsample': 0.8, 'n_estimator': 289, 'learning_rate': 0.04912739850230111}. Best is trial 84 with value: 1.2867794491170796.\n",
      "[I 2023-11-27 15:17:36,439] Trial 127 finished with value: 1.2915447377889169 and parameters: {'max_depth': 9, 'gamma': 1.1358926769323356, 'subsample': 0.8, 'n_estimator': 243, 'learning_rate': 0.049945662043283386}. Best is trial 84 with value: 1.2867794491170796.\n",
      "[I 2023-11-27 15:17:38,487] Trial 128 finished with value: 1.309673841512687 and parameters: {'max_depth': 9, 'gamma': 1.02013536121053, 'subsample': 1, 'n_estimator': 314, 'learning_rate': 0.04681912798917067}. Best is trial 84 with value: 1.2867794491170796.\n",
      "[I 2023-11-27 15:17:40,720] Trial 129 finished with value: 1.2943321901771063 and parameters: {'max_depth': 9, 'gamma': 1.1016043417868602, 'subsample': 0.8, 'n_estimator': 321, 'learning_rate': 0.04758060783423275}. Best is trial 84 with value: 1.2867794491170796.\n",
      "[I 2023-11-27 15:17:42,760] Trial 130 finished with value: 1.2960281795762292 and parameters: {'max_depth': 9, 'gamma': 1.0343371757211444, 'subsample': 0.85, 'n_estimator': 335, 'learning_rate': 0.04830801733232346}. Best is trial 84 with value: 1.2867794491170796.\n",
      "[I 2023-11-27 15:17:45,030] Trial 131 finished with value: 1.2891524285001514 and parameters: {'max_depth': 9, 'gamma': 1.0511688649620707, 'subsample': 0.8, 'n_estimator': 305, 'learning_rate': 0.049101167197059106}. Best is trial 84 with value: 1.2867794491170796.\n",
      "[I 2023-11-27 15:17:47,086] Trial 132 finished with value: 1.2907848064263907 and parameters: {'max_depth': 9, 'gamma': 1.0650627537231527, 'subsample': 0.8, 'n_estimator': 308, 'learning_rate': 0.048700657828050144}. Best is trial 84 with value: 1.2867794491170796.\n",
      "[I 2023-11-27 15:17:49,149] Trial 133 finished with value: 1.2947325942818788 and parameters: {'max_depth': 9, 'gamma': 1.0002612845768142, 'subsample': 0.8, 'n_estimator': 304, 'learning_rate': 0.04941527246911235}. Best is trial 84 with value: 1.2867794491170796.\n",
      "[I 2023-11-27 15:17:51,375] Trial 134 finished with value: 1.293140225368827 and parameters: {'max_depth': 9, 'gamma': 1.081062488483646, 'subsample': 0.8, 'n_estimator': 326, 'learning_rate': 0.04904860522230213}. Best is trial 84 with value: 1.2867794491170796.\n",
      "[I 2023-11-27 15:17:53,481] Trial 135 finished with value: 1.2915924939977002 and parameters: {'max_depth': 9, 'gamma': 1.0511728869655281, 'subsample': 0.8, 'n_estimator': 299, 'learning_rate': 0.04824151856456391}. Best is trial 84 with value: 1.2867794491170796.\n",
      "[I 2023-11-27 15:17:55,697] Trial 136 finished with value: 1.288483423518106 and parameters: {'max_depth': 9, 'gamma': 1.0174900738925519, 'subsample': 0.8, 'n_estimator': 213, 'learning_rate': 0.0499785468467866}. Best is trial 84 with value: 1.2867794491170796.\n",
      "[I 2023-11-27 15:17:57,759] Trial 137 finished with value: 1.2909835248221235 and parameters: {'max_depth': 9, 'gamma': 1.0192078655218473, 'subsample': 0.8, 'n_estimator': 207, 'learning_rate': 0.049654674225205246}. Best is trial 84 with value: 1.2867794491170796.\n",
      "[I 2023-11-27 15:17:59,874] Trial 138 finished with value: 1.2946413823379024 and parameters: {'max_depth': 9, 'gamma': 1.0382807552907285, 'subsample': 0.8, 'n_estimator': 226, 'learning_rate': 0.04965929120786634}. Best is trial 84 with value: 1.2867794491170796.\n",
      "[I 2023-11-27 15:18:02,187] Trial 139 finished with value: 1.3010084074340726 and parameters: {'max_depth': 9, 'gamma': 1.0162009091415807, 'subsample': 0.9, 'n_estimator': 219, 'learning_rate': 0.04997149031543257}. Best is trial 84 with value: 1.2867794491170796.\n",
      "[I 2023-11-27 15:18:04,498] Trial 140 finished with value: 1.294174450020577 and parameters: {'max_depth': 9, 'gamma': 1.0626723531873434, 'subsample': 0.8, 'n_estimator': 209, 'learning_rate': 0.04923792596940304}. Best is trial 84 with value: 1.2867794491170796.\n",
      "[I 2023-11-27 15:18:07,312] Trial 141 finished with value: 1.2975091563167485 and parameters: {'max_depth': 9, 'gamma': 1.030432991889208, 'subsample': 0.8, 'n_estimator': 317, 'learning_rate': 0.04860652236189468}. Best is trial 84 with value: 1.2867794491170796.\n",
      "[I 2023-11-27 15:18:09,351] Trial 142 finished with value: 1.2924408738773543 and parameters: {'max_depth': 9, 'gamma': 1.1891849999084476, 'subsample': 0.8, 'n_estimator': 213, 'learning_rate': 0.04887465451649936}. Best is trial 84 with value: 1.2867794491170796.\n",
      "[I 2023-11-27 15:18:11,462] Trial 143 finished with value: 1.2926837524880368 and parameters: {'max_depth': 9, 'gamma': 1.0763860871273276, 'subsample': 0.8, 'n_estimator': 329, 'learning_rate': 0.0478880819879841}. Best is trial 84 with value: 1.2867794491170796.\n",
      "[I 2023-11-27 15:18:13,727] Trial 144 finished with value: 1.2930454741273711 and parameters: {'max_depth': 9, 'gamma': 1.0464255865755074, 'subsample': 0.8, 'n_estimator': 311, 'learning_rate': 0.049999316498668726}. Best is trial 84 with value: 1.2867794491170796.\n",
      "[I 2023-11-27 15:18:15,834] Trial 145 finished with value: 1.2914187170997544 and parameters: {'max_depth': 9, 'gamma': 1.0912106096668823, 'subsample': 0.8, 'n_estimator': 359, 'learning_rate': 0.04923705825473327}. Best is trial 84 with value: 1.2867794491170796.\n",
      "[I 2023-11-27 15:18:18,152] Trial 146 finished with value: 1.29253785795105 and parameters: {'max_depth': 9, 'gamma': 1.1198080975893536, 'subsample': 0.8, 'n_estimator': 320, 'learning_rate': 0.04727971900323436}. Best is trial 84 with value: 1.2867794491170796.\n",
      "[I 2023-11-27 15:18:20,352] Trial 147 finished with value: 1.292031791801629 and parameters: {'max_depth': 9, 'gamma': 1.2239378637917238, 'subsample': 0.8, 'n_estimator': 315, 'learning_rate': 0.048315808788306984}. Best is trial 84 with value: 1.2867794491170796.\n",
      "[I 2023-11-27 15:18:22,630] Trial 148 finished with value: 1.2942547594882552 and parameters: {'max_depth': 9, 'gamma': 1.0186212586721388, 'subsample': 0.8, 'n_estimator': 216, 'learning_rate': 0.048899904831401164}. Best is trial 84 with value: 1.2867794491170796.\n",
      "[I 2023-11-27 15:18:25,115] Trial 149 finished with value: 1.2952690382890353 and parameters: {'max_depth': 9, 'gamma': 1.0021861754130674, 'subsample': 0.8, 'n_estimator': 325, 'learning_rate': 0.044486152854512066}. Best is trial 84 with value: 1.2867794491170796.\n"
     ]
    }
   ],
   "source": [
    "def objective(trial):\n",
    "    params={\n",
    "        'objective': 'reg:squarederror',\n",
    "        'eval_metric': 'rmse',\n",
    "        'max_depth': trial.suggest_int('max_depth',8,10), #8~10 정수중 택 1\n",
    "        'gamma': trial.suggest_loguniform('gamma',1,2),\n",
    "        'subsample': trial.suggest_categorical('subsample',[0.8,0.85,0.90,0.95,1]),\n",
    "        'n_estimator': trial.suggest_int('n_estimator',200,400),\n",
    "        'learning_rate': trial.suggest_float('learning_rate',0.03,0.05),\n",
    "        'booster': 'dart'   \n",
    "    }\n",
    "    # 학습 모델 생성\n",
    "    model_reg=xgb.XGBRegressor(**params)\n",
    "    \n",
    "    #트레인 셋 학습\n",
    "    model_reg.fit(X_train,Y_train)\n",
    "    \n",
    "    #검증 데이터 셋으로 모델 검증\n",
    "    score = mean_absolute_error(model_reg.predict(X_valid), Y_valid)\n",
    "    return score\n",
    "\n",
    "study=optuna.create_study(direction='minimize')\n",
    "study.optimize(objective, n_trials=150)"
   ]
  },
  {
   "cell_type": "code",
   "execution_count": 169,
   "id": "c139f714-19a7-4f0b-888e-692a93372edf",
   "metadata": {},
   "outputs": [
    {
     "name": "stdout",
     "output_type": "stream",
     "text": [
      "{'max_depth': 9, 'gamma': 1.028982074480852, 'subsample': 0.8, 'n_estimator': 356, 'learning_rate': 0.047317109170411646}\n"
     ]
    }
   ],
   "source": [
    "# 최적화된 파라미터 값 확인\n",
    "best_params = study.best_params\n",
    "print(best_params)"
   ]
  },
  {
   "cell_type": "code",
   "execution_count": 170,
   "id": "9ede0f16-3160-4f2f-acb9-fbb45a186efc",
   "metadata": {},
   "outputs": [
    {
     "data": {
      "text/plain": [
       "XGBRegressor(base_score=None, booster=None, callbacks=None,\n",
       "             colsample_bylevel=None, colsample_bynode=None,\n",
       "             colsample_bytree=None, device=None, early_stopping_rounds=None,\n",
       "             enable_categorical=False, eval_metric=None, feature_types=None,\n",
       "             gamma=1.028982074480852, grow_policy=None, importance_type=None,\n",
       "             interaction_constraints=None, learning_rate=0.047317109170411646,\n",
       "             max_bin=None, max_cat_threshold=None, max_cat_to_onehot=None,\n",
       "             max_delta_step=None, max_depth=9, max_leaves=None,\n",
       "             min_child_weight=None, missing=nan, monotone_constraints=None,\n",
       "             multi_strategy=None, n_estimator=356, n_estimators=None,\n",
       "             n_jobs=None, num_parallel_tree=None, ...)"
      ]
     },
     "execution_count": 170,
     "metadata": {},
     "output_type": "execute_result"
    }
   ],
   "source": [
    "model_reg = xgb.XGBRegressor(**best_params)\n",
    "model_reg.fit(X_train,Y_train)"
   ]
  },
  {
   "cell_type": "code",
   "execution_count": 171,
   "id": "d4b6eb6e-2962-46d1-8cc3-3ee234e1c82e",
   "metadata": {},
   "outputs": [
    {
     "name": "stdout",
     "output_type": "stream",
     "text": [
      "농업경영체별 평가지표 결과\n",
      "MAE: 1.25\n",
      "MSE: 3.05\n",
      "RMSE: 1.75\n",
      "RMSPE: 51.72%\n",
      "----------------------------------------------------------------------------------------------------\n",
      "배정신청인원 10명 이상 시군구 단위 평가지표\n",
      "MAE: 7.8\n",
      "MSE: 122.83\n",
      "RMSE: 11.08\n",
      "RMSPE: 13.53%\n"
     ]
    }
   ],
   "source": [
    "#예측값 \n",
    "pred=model_reg.predict(X_test)\n",
    "# 인원 수 예측이기에 예측된 결과에 반올림 적용\n",
    "pred=pd.DataFrame(pred,columns=['예측값'])\n",
    "#반올림\n",
    "pred['예측값']=round(pred['예측값'],0)\n",
    "#평가지표\n",
    "print('농업경영체별 평가지표 결과')\n",
    "Evaluation_metric(Y_test,pred=pred)\n",
    "print('-'*100)\n",
    "\n",
    "test_index=X_test.index.tolist()\n",
    "data_test=data_real.loc[test_index]\n",
    "data_test=data_test.reset_index()\n",
    "data_test.drop(columns=['index'],inplace=True)\n",
    "#예측값\n",
    "data_test['predict']=pred\n",
    "result=data_test.groupby(['지자체명_시도','지자체명_시군구'])[['합계','predict']].sum().reset_index()\n",
    "result_1=result.query('합계>10')\n",
    "print('배정신청인원 10명 이상 시군구 단위 평가지표')\n",
    "Evaluation_metric(result_1['합계'],pred=result_1['predict'])"
   ]
  },
  {
   "cell_type": "code",
   "execution_count": null,
   "id": "ac484025-fa96-4049-a818-0c61e92ce21d",
   "metadata": {},
   "outputs": [],
   "source": []
  },
  {
   "cell_type": "code",
   "execution_count": null,
   "id": "5996eda8-26ea-4961-b438-c3173c6c9772",
   "metadata": {},
   "outputs": [],
   "source": []
  },
  {
   "cell_type": "code",
   "execution_count": null,
   "id": "312edb0b-5b11-4537-aa25-a0a57c6d2814",
   "metadata": {},
   "outputs": [],
   "source": []
  },
  {
   "cell_type": "code",
   "execution_count": null,
   "id": "839849cb-01fb-4c15-a079-d22300b3fc56",
   "metadata": {},
   "outputs": [],
   "source": []
  }
 ],
 "metadata": {
  "kernelspec": {
   "display_name": "Python 3 (ipykernel)",
   "language": "python",
   "name": "python3"
  },
  "language_info": {
   "codemirror_mode": {
    "name": "ipython",
    "version": 3
   },
   "file_extension": ".py",
   "mimetype": "text/x-python",
   "name": "python",
   "nbconvert_exporter": "python",
   "pygments_lexer": "ipython3",
   "version": "3.9.7"
  }
 },
 "nbformat": 4,
 "nbformat_minor": 5
}
