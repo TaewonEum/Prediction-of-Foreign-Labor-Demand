{
 "cells": [
  {
   "cell_type": "markdown",
   "id": "4144c2a5-83c6-440c-879e-ad76c744dc8a",
   "metadata": {},
   "source": [
    "# 데이터 설명\n",
    "\n",
    "데이터 전처리용 데이터는 21~23년 신청현황 데이터 셋에 대한 전처리를 진행함"
   ]
  },
  {
   "cell_type": "markdown",
   "id": "04355f44-d12e-46fa-a5b0-e1b15611a2d6",
   "metadata": {},
   "source": [
    "# 패키지 로드"
   ]
  },
  {
   "cell_type": "code",
   "execution_count": 5,
   "id": "a0f5056a-3d0b-4b22-8f24-4105e4cb4d7c",
   "metadata": {},
   "outputs": [],
   "source": [
    "import pandas as pd\n",
    "import numpy as np\n",
    "import os\n",
    "import re\n",
    "import warnings\n",
    "warnings.filterwarnings('ignore')"
   ]
  },
  {
   "cell_type": "code",
   "execution_count": 6,
   "id": "26e1425f-8091-40c6-b899-5839645a2ad0",
   "metadata": {},
   "outputs": [
    {
     "data": {
      "text/plain": [
       "'1) `21~23년 신청현황 (지역, 인원, 작물종류, 면적, 배정인원)1.xlsx'"
      ]
     },
     "execution_count": 6,
     "metadata": {},
     "output_type": "execute_result"
    }
   ],
   "source": [
    "file_name=os.listdir()[3]\n",
    "file_name"
   ]
  },
  {
   "cell_type": "markdown",
   "id": "2949d7fe-482a-4588-99e5-8c15c1f1b359",
   "metadata": {},
   "source": [
    "# 1. 신청현황 데이터 불러오기"
   ]
  },
  {
   "cell_type": "code",
   "execution_count": 7,
   "id": "1095d5c8-2f4c-4629-b7d6-e3d2b42caa7e",
   "metadata": {},
   "outputs": [],
   "source": [
    "data=pd.read_excel(file_name,skiprows=2)"
   ]
  },
  {
   "cell_type": "markdown",
   "id": "690087d1-6c57-4ffb-a921-840f10f06b19",
   "metadata": {},
   "source": [
    "# 2. 중복 컬럼명 변경\n",
    "\n",
    "- 지자체명=>지자체명_시도(시도 단위 컬럼)\n",
    "- 지자체명=>지자체명_시군구(시군구 단위 컬럼)"
   ]
  },
  {
   "cell_type": "code",
   "execution_count": 4,
   "id": "fef10aac-7949-456f-b38e-710291f5c44d",
   "metadata": {},
   "outputs": [
    {
     "data": {
      "text/html": [
       "<div>\n",
       "<style scoped>\n",
       "    .dataframe tbody tr th:only-of-type {\n",
       "        vertical-align: middle;\n",
       "    }\n",
       "\n",
       "    .dataframe tbody tr th {\n",
       "        vertical-align: top;\n",
       "    }\n",
       "\n",
       "    .dataframe thead th {\n",
       "        text-align: right;\n",
       "    }\n",
       "</style>\n",
       "<table border=\"1\" class=\"dataframe\">\n",
       "  <thead>\n",
       "    <tr style=\"text-align: right;\">\n",
       "      <th></th>\n",
       "      <th>비고</th>\n",
       "      <th>지자체명_시도</th>\n",
       "      <th>지자체명_시군구</th>\n",
       "      <th>구분</th>\n",
       "      <th>주소지 (조합, 법인 소재지)</th>\n",
       "      <th>농업경영체</th>\n",
       "      <th>배정신청 인원</th>\n",
       "      <th>지자체추가배정인원</th>\n",
       "      <th>합계</th>\n",
       "      <th>작물 종류</th>\n",
       "      <th>총 재배면적\\n(단위 : 1000㎡)</th>\n",
       "      <th>이력 여부</th>\n",
       "      <th>배정 인원</th>\n",
       "      <th>Unnamed: 13</th>\n",
       "    </tr>\n",
       "  </thead>\n",
       "  <tbody>\n",
       "    <tr>\n",
       "      <th>0</th>\n",
       "      <td>2023</td>\n",
       "      <td>충청남도</td>\n",
       "      <td>홍성군</td>\n",
       "      <td>농가</td>\n",
       "      <td>충청남도 홍성군</td>\n",
       "      <td>1-222-426-920</td>\n",
       "      <td>3</td>\n",
       "      <td>NaN</td>\n",
       "      <td>NaN</td>\n",
       "      <td>⑧기타식량작물</td>\n",
       "      <td>139</td>\n",
       "      <td>없음</td>\n",
       "      <td>0</td>\n",
       "      <td>NaN</td>\n",
       "    </tr>\n",
       "    <tr>\n",
       "      <th>1</th>\n",
       "      <td>2023</td>\n",
       "      <td>충청남도</td>\n",
       "      <td>홍성군</td>\n",
       "      <td>농가</td>\n",
       "      <td>충청남도 홍성군</td>\n",
       "      <td>1-000-426-965</td>\n",
       "      <td>4</td>\n",
       "      <td>NaN</td>\n",
       "      <td>NaN</td>\n",
       "      <td>⑧기타식량작물</td>\n",
       "      <td>18</td>\n",
       "      <td>있음</td>\n",
       "      <td>3</td>\n",
       "      <td>NaN</td>\n",
       "    </tr>\n",
       "    <tr>\n",
       "      <th>2</th>\n",
       "      <td>2023</td>\n",
       "      <td>충청남도</td>\n",
       "      <td>홍성군</td>\n",
       "      <td>농가</td>\n",
       "      <td>충청남도 홍성군</td>\n",
       "      <td>1-000-413-619</td>\n",
       "      <td>5</td>\n",
       "      <td>NaN</td>\n",
       "      <td>NaN</td>\n",
       "      <td>⑧기타식량작물</td>\n",
       "      <td>18</td>\n",
       "      <td>있음</td>\n",
       "      <td>2</td>\n",
       "      <td>NaN</td>\n",
       "    </tr>\n",
       "    <tr>\n",
       "      <th>3</th>\n",
       "      <td>2023</td>\n",
       "      <td>충청남도</td>\n",
       "      <td>홍성군</td>\n",
       "      <td>법인</td>\n",
       "      <td>충청남도 홍성군</td>\n",
       "      <td>2-000-571-628</td>\n",
       "      <td>8</td>\n",
       "      <td>NaN</td>\n",
       "      <td>NaN</td>\n",
       "      <td>⑧기타식량작물</td>\n",
       "      <td>17</td>\n",
       "      <td>없음</td>\n",
       "      <td>0</td>\n",
       "      <td>NaN</td>\n",
       "    </tr>\n",
       "    <tr>\n",
       "      <th>4</th>\n",
       "      <td>2023</td>\n",
       "      <td>충청남도</td>\n",
       "      <td>홍성군</td>\n",
       "      <td>농가</td>\n",
       "      <td>충청남도 홍성군 광천읍 홍남동로126번길 150</td>\n",
       "      <td>1-000-858-146</td>\n",
       "      <td>5</td>\n",
       "      <td>NaN</td>\n",
       "      <td>NaN</td>\n",
       "      <td>⑦곡물</td>\n",
       "      <td>16</td>\n",
       "      <td>없음</td>\n",
       "      <td>0</td>\n",
       "      <td>NaN</td>\n",
       "    </tr>\n",
       "  </tbody>\n",
       "</table>\n",
       "</div>"
      ],
      "text/plain": [
       "     비고 지자체명_시도 지자체명_시군구  구분            주소지 (조합, 법인 소재지)          농업경영체  \\\n",
       "0  2023    충청남도      홍성군  농가                    충청남도 홍성군  1-222-426-920   \n",
       "1  2023    충청남도      홍성군  농가                    충청남도 홍성군  1-000-426-965   \n",
       "2  2023    충청남도      홍성군  농가                    충청남도 홍성군  1-000-413-619   \n",
       "3  2023    충청남도      홍성군  법인                    충청남도 홍성군  2-000-571-628   \n",
       "4  2023    충청남도      홍성군  농가  충청남도 홍성군 광천읍 홍남동로126번길 150  1-000-858-146   \n",
       "\n",
       "  배정신청 인원 지자체추가배정인원   합계    작물 종류 총 재배면적\\n(단위 : 1000㎡) 이력 여부 배정 인원 Unnamed: 13  \n",
       "0       3       NaN  NaN  ⑧기타식량작물                  139    없음     0         NaN  \n",
       "1       4       NaN  NaN  ⑧기타식량작물                   18    있음     3         NaN  \n",
       "2       5       NaN  NaN  ⑧기타식량작물                   18    있음     2         NaN  \n",
       "3       8       NaN  NaN  ⑧기타식량작물                   17    없음     0         NaN  \n",
       "4       5       NaN  NaN      ⑦곡물                   16    없음     0         NaN  "
      ]
     },
     "execution_count": 4,
     "metadata": {},
     "output_type": "execute_result"
    }
   ],
   "source": [
    "new_column={'지자체명':'지자체명_시도','지자체명.1':'지자체명_시군구'}\n",
    "data.rename(columns=new_column,inplace=True)\n",
    "data.head(5)"
   ]
  },
  {
   "cell_type": "markdown",
   "id": "e2429e99-b11f-4133-ad2a-506f5b3b655e",
   "metadata": {},
   "source": [
    "# 3. 표기 오류 정제 & 공백삭제\n",
    "\n",
    "## - 담양->담양군\n",
    "## - 충청북도 청양군->충청남도 청양군"
   ]
  },
  {
   "cell_type": "code",
   "execution_count": 5,
   "id": "52acb3c9-0803-436b-a0fa-f5af8a15c0db",
   "metadata": {},
   "outputs": [],
   "source": [
    "data['지자체명_시군구']=np.where(data['지자체명_시군구']=='담양','담양군',data['지자체명_시군구'])\n",
    "data['지자체명_시도']=np.where((data['지자체명_시군구']=='청양군') & (data['지자체명_시도']=='충청북도'),'충청남도',data['지자체명_시도'])\n",
    "data['지자체명_시도']=data['지자체명_시도'].str.strip()\n",
    "data['지자체명_시군구']=data['지자체명_시군구'].str.strip()"
   ]
  },
  {
   "cell_type": "code",
   "execution_count": 6,
   "id": "5bb09b7f-fec6-4b55-99e4-78ca9e22534f",
   "metadata": {},
   "outputs": [
    {
     "data": {
      "text/plain": [
       "세종특별자치시      28\n",
       "제주특별자치도     313\n",
       "경기도         519\n",
       "경상남도        986\n",
       "충청남도       1510\n",
       "전라남도       1533\n",
       "전라북도       1536\n",
       "충청북도       1592\n",
       "강원도        3140\n",
       "경상북도       3208\n",
       "Name: 지자체명_시도, dtype: int64"
      ]
     },
     "execution_count": 6,
     "metadata": {},
     "output_type": "execute_result"
    }
   ],
   "source": [
    "data['지자체명_시도'].value_counts().sort_values() #개수 일치"
   ]
  },
  {
   "cell_type": "markdown",
   "id": "8b87b418-a9d6-4994-afdf-ec1bc544647a",
   "metadata": {},
   "source": [
    "# 4. 농업경영체 컬럼 정제"
   ]
  },
  {
   "cell_type": "markdown",
   "id": "7ec52ad4-e566-4795-b9d1-4a43eea5a7b2",
   "metadata": {},
   "source": [
    "# 4.1 특수문자 제거"
   ]
  },
  {
   "cell_type": "code",
   "execution_count": 7,
   "id": "2284de5d-11fa-4501-a148-c3c00c32cfb5",
   "metadata": {},
   "outputs": [
    {
     "name": "stdout",
     "output_type": "stream",
     "text": [
      "10821\n"
     ]
    }
   ],
   "source": [
    "data['농업경영체']=data['농업경영체'].astype(str) #문자형으로 일괄변경\n",
    "print(data['농업경영체'].nunique()) #unique 일치"
   ]
  },
  {
   "cell_type": "code",
   "execution_count": 8,
   "id": "66b506fa-d078-4568-b391-9c9870ab4484",
   "metadata": {},
   "outputs": [],
   "source": [
    "#숫자 제외 모든 문자 제거\n",
    "def extract_numbers(text):\n",
    "    return re.sub(r'\\D', '', text)\n",
    "\n",
    "data['농업경영체']=data['농업경영체'].apply(extract_numbers)"
   ]
  },
  {
   "cell_type": "code",
   "execution_count": 9,
   "id": "caa84ee0-1504-4290-84c8-cf49138a184f",
   "metadata": {},
   "outputs": [],
   "source": [
    "data['농업경영체']=data['농업경영체'].apply(lambda x: re.sub('-', '', x)) #-제거\n",
    "data['농업경영체']=data['농업경영체'].apply(lambda x: re.sub('  ', '', x))  # 특수문자\n",
    "data['농업경영체']=data['농업경영체'].apply(lambda x: re.sub(' ', '', x))  # 특수문자\n",
    "data['농업경영체']=data['농업경영체'].apply(lambda x: re.sub('\\\\*', '', x))  # *제거\n",
    "data['농업경영체']=data['농업경영체'].apply(lambda x: re.sub(' ', '', x))  # 공백\n",
    "data['농업경영체']=data['농업경영체'].apply(lambda x: re.sub('\\xa0', '', x))  #특수문자제거\n",
    "data['농업경영체']=data['농업경영체'].apply(lambda x: re.sub('\\n', '', x))  # 줄바꿈\n",
    "#print(data['농업경영체'].nunique()) #개수 일치"
   ]
  },
  {
   "cell_type": "code",
   "execution_count": 10,
   "id": "39a23268-1b83-4f21-8b6e-a3d3fb60dbf6",
   "metadata": {},
   "outputs": [
    {
     "name": "stdout",
     "output_type": "stream",
     "text": [
      "10231\n"
     ]
    }
   ],
   "source": [
    "print(data['농업경영체'].nunique()) #개수 일치"
   ]
  },
  {
   "cell_type": "code",
   "execution_count": 11,
   "id": "1cba57b7-8b15-4f8d-9376-bebbbea65b4e",
   "metadata": {},
   "outputs": [
    {
     "data": {
      "text/plain": [
       "0        35\n",
       "8         2\n",
       "9       197\n",
       "10    14113\n",
       "11       17\n",
       "20        1\n",
       "Name: 농업경영체_자리수, dtype: int64"
      ]
     },
     "execution_count": 11,
     "metadata": {},
     "output_type": "execute_result"
    }
   ],
   "source": [
    "# 농업경영체 번호 각 자리수 계산\n",
    "data['농업경영체_자리수']=data['농업경영체'].apply(lambda x:len(x))\n",
    "data['농업경영체_자리수'].value_counts().sort_index()"
   ]
  },
  {
   "cell_type": "markdown",
   "id": "6796f44e-ea63-469f-9489-4d4b801770ba",
   "metadata": {},
   "source": [
    "# 4.2 자리수 확인 후 추가 정제 작업 진행"
   ]
  },
  {
   "cell_type": "code",
   "execution_count": 12,
   "id": "eb8270aa-655f-417f-a985-533eaaa60232",
   "metadata": {},
   "outputs": [],
   "source": [
    "#삭제할 데이터\n",
    "data=data[data['농업경영체_자리수']!=0] #자리수=0인 행 제거 \n",
    "data=data[data['농업경영체_자리수']!=8] #8자리수 모두삭제"
   ]
  },
  {
   "cell_type": "code",
   "execution_count": 13,
   "id": "af3bc767-6e7f-4d94-8dd9-eeb70e266721",
   "metadata": {},
   "outputs": [],
   "source": [
    "data[data['농업경영체_자리수']==9] #R에서 정제값과 같음\n",
    "index_values=data.index #데이터 프레임 인덱스 추출"
   ]
  },
  {
   "cell_type": "markdown",
   "id": "caf22085-1787-4529-b3be-ef7b3613ac0b",
   "metadata": {},
   "source": [
    "# 4.3 자리수 9 전처리"
   ]
  },
  {
   "cell_type": "markdown",
   "id": "62c14a1c-5e64-4e28-86bb-ee2ef6ddaca5",
   "metadata": {},
   "source": [
    "## 4.3.1 0으로 시작하는 농업경영체 1 붙여주기"
   ]
  },
  {
   "cell_type": "code",
   "execution_count": 14,
   "id": "0751f7e4-6d8e-4c45-bf26-50ec88a8b611",
   "metadata": {
    "tags": []
   },
   "outputs": [],
   "source": [
    "for i in index_values:\n",
    "    if (data.loc[i,'농업경영체_자리수']==9) and (data.loc[i,'농업경영체'][0]=='0'): #자리수가 9이고, 첫번째 자리수가 0인 행들 고르기\n",
    "        data.loc[i,'농업경영체']='1'+data.loc[i,'농업경영체'] #해당 열의 농업경영체 앞자리에 1을 추가\n",
    "    else:\n",
    "        pass"
   ]
  },
  {
   "cell_type": "markdown",
   "id": "a34e705c-702c-43a9-a9ae-23c96dc0ac39",
   "metadata": {},
   "source": [
    "## 4.3.2 자리수 10 전처리"
   ]
  },
  {
   "cell_type": "code",
   "execution_count": 15,
   "id": "e09c6c31-c7e6-491e-a835-6938ce05ac84",
   "metadata": {},
   "outputs": [],
   "source": [
    "data_10=data[data['농업경영체_자리수']==10] #R에서 정제값과 같음\n",
    "index_values=data_10.index #데이터 프레임 인덱스 추출"
   ]
  },
  {
   "cell_type": "code",
   "execution_count": 16,
   "id": "eabe14fe-6b8a-4342-a06f-99677d25c0f1",
   "metadata": {},
   "outputs": [],
   "source": [
    "del_list=[]\n",
    "for i in index_values:\n",
    "    if (data.loc[i,'농업경영체'][0]=='1') or (data.loc[i,'농업경영체'][0]=='2') or (data.loc[i,'농업경영체'][0]=='3'):\n",
    "        pass\n",
    "    else:\n",
    "        del_list.append(i)"
   ]
  },
  {
   "cell_type": "code",
   "execution_count": 17,
   "id": "1d17d932-034a-4969-9c70-8dcc09f81f17",
   "metadata": {},
   "outputs": [],
   "source": [
    "data.loc[del_list] #0으로 시작하거나, 공공형 계절 사업자와 같은 농업경영체 확인\n",
    "data.drop(del_list,inplace=True)"
   ]
  },
  {
   "cell_type": "markdown",
   "id": "dbe1dbd9-b06d-48a7-b191-82e266a67661",
   "metadata": {},
   "source": [
    "# 4.3.3 10자리 이상 11자리부터 10자리만 남기고 모두 제거하기"
   ]
  },
  {
   "cell_type": "code",
   "execution_count": 18,
   "id": "d34b9138-c969-4fec-9041-7c6a4ec1988d",
   "metadata": {},
   "outputs": [
    {
     "data": {
      "text/plain": [
       "9        14\n",
       "10    14294\n",
       "11       17\n",
       "20        1\n",
       "Name: 농업경영체_자리수, dtype: int64"
      ]
     },
     "execution_count": 18,
     "metadata": {},
     "output_type": "execute_result"
    }
   ],
   "source": [
    "# 농업경영체 번호 각 자리수 계산\n",
    "data['농업경영체_자리수']=data['농업경영체'].apply(lambda x:len(x))\n",
    "data['농업경영체_자리수'].value_counts().sort_index()"
   ]
  },
  {
   "cell_type": "code",
   "execution_count": 19,
   "id": "6bf0003a-34d8-46ae-a452-c3160ddb7fcd",
   "metadata": {},
   "outputs": [],
   "source": [
    "index_values1=data.query('농업경영체_자리수>10').index"
   ]
  },
  {
   "cell_type": "code",
   "execution_count": 20,
   "id": "faa0f475-55a7-4c25-b735-38b115fc4fe7",
   "metadata": {},
   "outputs": [
    {
     "data": {
      "text/plain": [
       "9        14\n",
       "10    14312\n",
       "Name: 농업경영체_자리수, dtype: int64"
      ]
     },
     "execution_count": 20,
     "metadata": {},
     "output_type": "execute_result"
    }
   ],
   "source": [
    "for i in index_values1:\n",
    "    if data.loc[i,'농업경영체'][0].isdigit(): #맨앞자리가 숫자인 경우만 10자리로 잘라주기\n",
    "        data.loc[i,'농업경영체']=data.loc[i,'농업경영체'][0:10] #10자리수 만 가져오기\n",
    "    else:\n",
    "        pass\n",
    "\n",
    "data['농업경영체_자리수']=data['농업경영체'].apply(lambda x:len(x)) #자리수 다시 계산\n",
    "data['농업경영체_자리수'].value_counts().sort_index() #자리수 오름차순 정렬하여 빈도수 확인"
   ]
  },
  {
   "cell_type": "code",
   "execution_count": 21,
   "id": "f1340f8c-ccb6-4642-9a6d-2d5b250e74be",
   "metadata": {},
   "outputs": [],
   "source": [
    "final_data=data[data['농업경영체_자리수']==10] #자리수=10인 행으로 데이터 재구성 "
   ]
  },
  {
   "cell_type": "markdown",
   "id": "a6d6e529-a0d1-4bd1-a6a8-f515aecde134",
   "metadata": {},
   "source": [
    "# 5. 불필요컬럼 삭제 및 주요 변수 데이터 타입 변경"
   ]
  },
  {
   "cell_type": "code",
   "execution_count": 22,
   "id": "477d8c7e-f83c-4181-982c-3b53acdd9aad",
   "metadata": {},
   "outputs": [],
   "source": [
    "final_data['농업경영체']=pd.to_numeric(final_data['농업경영체'])\n",
    "final_data.drop(columns=['농업경영체_자리수'],inplace=True) #농업경영체 자리수 삭제\n",
    "final_data.drop(columns=['Unnamed: 13'],inplace=True) #14번째 컬럼 삭제"
   ]
  },
  {
   "cell_type": "code",
   "execution_count": 23,
   "id": "63d9f4b1-3dd0-447e-95f7-13a0fa5b9e9a",
   "metadata": {},
   "outputs": [
    {
     "data": {
      "text/plain": [
       "10154"
      ]
     },
     "execution_count": 23,
     "metadata": {},
     "output_type": "execute_result"
    }
   ],
   "source": [
    "final_data['농업경영체'].nunique()"
   ]
  },
  {
   "cell_type": "code",
   "execution_count": 27,
   "id": "0d41d039-afd0-4399-9c91-d24c65ba2aaf",
   "metadata": {},
   "outputs": [
    {
     "data": {
      "text/plain": [
       "14312"
      ]
     },
     "execution_count": 27,
     "metadata": {},
     "output_type": "execute_result"
    }
   ],
   "source": [
    "len(final_data)"
   ]
  },
  {
   "cell_type": "markdown",
   "id": "f8906d41-cc11-4b16-b17a-b1434f56da0a",
   "metadata": {},
   "source": [
    "# 6. 배정신청인원 컬럼 정제"
   ]
  },
  {
   "cell_type": "code",
   "execution_count": 28,
   "id": "88e7053d-48ec-44a7-9d21-c041dbebe9b2",
   "metadata": {},
   "outputs": [
    {
     "data": {
      "text/plain": [
       "2     4678\n",
       "5     1932\n",
       "4     1870\n",
       "1     1839\n",
       "3     1296\n",
       "0      962\n",
       "6      767\n",
       "9      527\n",
       "7      240\n",
       "8      194\n",
       "10       6\n",
       "12       1\n",
       "Name: 배정신청 인원, dtype: int64"
      ]
     },
     "execution_count": 28,
     "metadata": {},
     "output_type": "execute_result"
    }
   ],
   "source": [
    "final_data['배정신청 인원']=final_data['배정신청 인원'].astype(str)\n",
    "final_data['배정신청 인원'].value_counts()"
   ]
  },
  {
   "cell_type": "code",
   "execution_count": 29,
   "id": "3bdb5e88-2b4b-4639-b9b0-eee8e9ced7e3",
   "metadata": {},
   "outputs": [],
   "source": [
    "final_data['배정신청 인원']=final_data['배정신청 인원'].apply(lambda x: re.sub('-', '0', x))\n",
    "final_data['배정신청 인원']=final_data['배정신청 인원'].apply(lambda x: re.sub('nan', '0', x))\n",
    "final_data['배정신청 인원']=pd.to_numeric(final_data['배정신청 인원'])"
   ]
  },
  {
   "cell_type": "code",
   "execution_count": 30,
   "id": "1fc1c85e-e83e-40d1-a4b1-4687e1552ef5",
   "metadata": {},
   "outputs": [
    {
     "data": {
      "text/plain": [
       "12"
      ]
     },
     "execution_count": 30,
     "metadata": {},
     "output_type": "execute_result"
    }
   ],
   "source": [
    "len(final_data['배정신청 인원'].unique())"
   ]
  },
  {
   "cell_type": "markdown",
   "id": "eb0e8793-38b4-4cd1-b1e3-fa3ccd271311",
   "metadata": {},
   "source": [
    "# 7. 지자체추가배정인원 컬럼 정제"
   ]
  },
  {
   "cell_type": "code",
   "execution_count": 31,
   "id": "4b66b84e-1cb1-4d42-ac7d-8929266e79c1",
   "metadata": {},
   "outputs": [
    {
     "data": {
      "text/plain": [
       "0      6914\n",
       "nan    6552\n",
       "-       483\n",
       "1       163\n",
       "2        83\n",
       "없음       43\n",
       "3        41\n",
       "4        15\n",
       "5         6\n",
       "6         4\n",
       "-2        4\n",
       "-1        2\n",
       "9         1\n",
       "-4        1\n",
       "Name: 지자체추가배정인원, dtype: int64"
      ]
     },
     "execution_count": 31,
     "metadata": {},
     "output_type": "execute_result"
    }
   ],
   "source": [
    "final_data['지자체추가배정인원']=final_data['지자체추가배정인원'].astype(str)\n",
    "final_data['지자체추가배정인원'].value_counts()"
   ]
  },
  {
   "cell_type": "code",
   "execution_count": 32,
   "id": "168a4f4c-db0f-45eb-a3ab-015ead168e60",
   "metadata": {},
   "outputs": [],
   "source": [
    "final_idx=final_data.index\n",
    "for i in final_idx:\n",
    "    if final_data.loc[i,'지자체추가배정인원']=='-':\n",
    "        final_data.loc[i,'지자체추가배정인원']='0'\n",
    "    else:\n",
    "        pass"
   ]
  },
  {
   "cell_type": "code",
   "execution_count": 33,
   "id": "4b1376ca-0518-4aea-aa35-c4d7350feb7e",
   "metadata": {},
   "outputs": [],
   "source": [
    "final_data['지자체추가배정인원']=final_data['지자체추가배정인원'].apply(lambda x: re.sub('nan', '0', x))\n",
    "final_data['지자체추가배정인원']=final_data['지자체추가배정인원'].apply(lambda x: re.sub('없음', '0', x))\n",
    "final_data['지자체추가배정인원']=pd.to_numeric(final_data['지자체추가배정인원'])"
   ]
  },
  {
   "cell_type": "code",
   "execution_count": 34,
   "id": "ad14ffa2-27d0-43de-bc38-979915ab7c6e",
   "metadata": {
    "collapsed": true,
    "jupyter": {
     "outputs_hidden": true
    },
    "tags": []
   },
   "outputs": [
    {
     "data": {
      "text/plain": [
       " 0    13992\n",
       " 1      163\n",
       " 2       83\n",
       " 3       41\n",
       " 4       15\n",
       " 5        6\n",
       " 6        4\n",
       "-2        4\n",
       "-1        2\n",
       " 9        1\n",
       "-4        1\n",
       "Name: 지자체추가배정인원, dtype: int64"
      ]
     },
     "execution_count": 34,
     "metadata": {},
     "output_type": "execute_result"
    }
   ],
   "source": [
    "final_data['지자체추가배정인원'].value_counts()"
   ]
  },
  {
   "cell_type": "code",
   "execution_count": 39,
   "id": "c98cdfb0-695e-4662-8397-4ad61a200e41",
   "metadata": {
    "collapsed": true,
    "jupyter": {
     "outputs_hidden": true
    },
    "tags": []
   },
   "outputs": [
    {
     "data": {
      "text/plain": [
       "2     4678\n",
       "5     1932\n",
       "4     1870\n",
       "1     1839\n",
       "3     1296\n",
       "0      962\n",
       "6      767\n",
       "9      527\n",
       "7      240\n",
       "8      194\n",
       "10       6\n",
       "12       1\n",
       "Name: 배정신청 인원, dtype: int64"
      ]
     },
     "execution_count": 39,
     "metadata": {},
     "output_type": "execute_result"
    }
   ],
   "source": [
    "final_data['배정신청 인원'].value_counts()"
   ]
  },
  {
   "cell_type": "markdown",
   "id": "f07fe31f-9c76-4504-84ec-daba53906675",
   "metadata": {},
   "source": [
    "# 8. 합계 컬럼 변경"
   ]
  },
  {
   "cell_type": "code",
   "execution_count": 40,
   "id": "3fb42bdc-ff49-46a3-8e6c-8d035ff3b4fc",
   "metadata": {},
   "outputs": [],
   "source": [
    "final_data['합계']=final_data['배정신청 인원'] + final_data['지자체추가배정인원']"
   ]
  },
  {
   "cell_type": "code",
   "execution_count": 41,
   "id": "c645d1f3-f246-43ef-b5a1-73df670c796d",
   "metadata": {},
   "outputs": [
    {
     "data": {
      "text/plain": [
       "13       2\n",
       "11       7\n",
       "12       8\n",
       "10      25\n",
       "8      204\n",
       "7      256\n",
       "9      524\n",
       "6      808\n",
       "0      929\n",
       "3     1303\n",
       "1     1827\n",
       "4     1876\n",
       "5     1890\n",
       "2     4653\n",
       "Name: 합계, dtype: int64"
      ]
     },
     "execution_count": 41,
     "metadata": {},
     "output_type": "execute_result"
    }
   ],
   "source": [
    "final_data['합계'].value_counts().sort_values('index')"
   ]
  },
  {
   "cell_type": "markdown",
   "id": "72cfae1c-2ce3-4689-914e-e3861cc7d4e4",
   "metadata": {},
   "source": [
    "# 9. 작물 종류 컬럼 정제"
   ]
  },
  {
   "cell_type": "code",
   "execution_count": 42,
   "id": "a9dac4d1-698c-4c9e-8cd7-702cd88bf62b",
   "metadata": {},
   "outputs": [],
   "source": [
    "final_index=final_data.index"
   ]
  },
  {
   "cell_type": "code",
   "execution_count": 43,
   "id": "8e107d23-a67b-43c0-a31f-9c9f104196b5",
   "metadata": {},
   "outputs": [],
   "source": [
    "final_data['작물 종류']=final_data['작물 종류'].astype(str)"
   ]
  },
  {
   "cell_type": "code",
   "execution_count": 44,
   "id": "f1758e29-d0dd-4fe9-a206-f6b2a78771cb",
   "metadata": {},
   "outputs": [],
   "source": [
    "for i in final_index:\n",
    "    crop=final_data.loc[i,'작물 종류']\n",
    "    if ('①' in crop) or ('1' in crop):\n",
    "        final_data.loc[i,'작물 종류']='① 시설원예·특작'\n",
    "        #시설원예 특작 수정\n",
    "        \n",
    "    elif ('②' in crop) or ('2' in crop):\n",
    "        final_data.loc[i,'작물 종류']='② 버섯'\n",
    "        #버섯 수정\n",
    "        \n",
    "    elif ('③' in crop) or ('3' in crop):\n",
    "        final_data.loc[i,'작물 종류']='③ 과수'\n",
    "        #과수 수정\n",
    "        \n",
    "    elif ('④' in crop) or ('4' in crop) or ('인삼' in crop):\n",
    "        final_data.loc[i,'작물 종류']='④ 인삼, 일반채소'\n",
    "        #인삼 일반채소 수정\n",
    "        \n",
    "    elif '⑤' in crop:\n",
    "        final_data.loc[i,'작물 종류']='⑤ 종묘재배'\n",
    "        #종묘재배 수정\n",
    "        \n",
    "    elif ('⑥' in crop) or ('기타원예' in crop):\n",
    "        final_data.loc[i,'작물 종류']='⑥ 기타원예·특작'\n",
    "        #기타원예 특작 수정\n",
    "        \n",
    "    elif ('⑦' in crop) or ('곡물' in crop):\n",
    "        final_data.loc[i,'작물 종류']='⑦ 곡물'\n",
    "        #곡물 수정\n",
    "        \n",
    "    elif ('⑧' in crop) or ('식량' in crop):\n",
    "        final_data.loc[i,'작물 종류']='⑧ 기타 식량작물'\n",
    "        # 식량 작물 수정\n",
    "        \n",
    "    elif '⑨' in crop:\n",
    "        final_data.loc[i,'작물 종류']='⑨ 곶감가공'\n",
    "        #곶감 수정\n",
    "        \n",
    "    else:\n",
    "        pass"
   ]
  },
  {
   "cell_type": "code",
   "execution_count": 45,
   "id": "9884ecd3-959f-4777-a97e-f3afdfa9f157",
   "metadata": {},
   "outputs": [
    {
     "data": {
      "text/plain": [
       "① 시설원예·특작     6286\n",
       "③ 과수          2929\n",
       "④ 인삼, 일반채소    2330\n",
       "⑦ 곡물           952\n",
       "⑥ 기타원예·특작      690\n",
       "⑧ 기타 식량작물      583\n",
       "nan            297\n",
       "⑤ 종묘재배         124\n",
       "② 버섯           117\n",
       "⑨ 곶감가공           4\n",
       "Name: 작물 종류, dtype: int64"
      ]
     },
     "execution_count": 45,
     "metadata": {},
     "output_type": "execute_result"
    }
   ],
   "source": [
    "final_data['작물 종류'].value_counts()"
   ]
  },
  {
   "cell_type": "code",
   "execution_count": 46,
   "id": "a44036bb-3b8c-473c-bbd0-bf96c500d157",
   "metadata": {},
   "outputs": [],
   "source": [
    "final_data.to_csv(\"1) 21~23년 신청현황 (지역, 인원, 작물종류, 면적, 배정인원)_ver2.csv\", index = False, encoding='EUC-KR')"
   ]
  },
  {
   "cell_type": "code",
   "execution_count": null,
   "id": "0622fe65-6c5d-4018-bd41-dcc50206cae1",
   "metadata": {},
   "outputs": [],
   "source": []
  }
 ],
 "metadata": {
  "kernelspec": {
   "display_name": "Python 3 (ipykernel)",
   "language": "python",
   "name": "python3"
  },
  "language_info": {
   "codemirror_mode": {
    "name": "ipython",
    "version": 3
   },
   "file_extension": ".py",
   "mimetype": "text/x-python",
   "name": "python",
   "nbconvert_exporter": "python",
   "pygments_lexer": "ipython3",
   "version": "3.9.7"
  }
 },
 "nbformat": 4,
 "nbformat_minor": 5
}
