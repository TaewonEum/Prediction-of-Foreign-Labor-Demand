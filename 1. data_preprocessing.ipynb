{
 "cells": [
  {
   "cell_type": "markdown",
   "id": "4144c2a5-83c6-440c-879e-ad76c744dc8a",
   "metadata": {},
   "source": [
    "# 데이터 전처리 목차\n",
    "\n",
    "## 0. 분석 환경 확인\n",
    "\n",
    "## 1. 패키지 로드\n",
    "\n",
    "## 2. 신청 현황 데이터 불러오기\n",
    "\n",
    "## 3. 신청 현황 데이터 전처리\n",
    "\n",
    "### 3.1 중복 컬럼명 변경\n",
    "\n",
    "### 3.2 표기 오류 정제\n",
    "\n",
    "### 3.3 농업경영체 컬럼 정제\n",
    "\n",
    "### 3.4 불필요 변수 삭제 및 변수 타입 변경\n",
    "\n",
    "### 3.5 배정 신청 인원 컬럼 정제\n",
    "\n",
    "### 3.6 지자체 추가 배정 인원 컬럼 정제\n",
    "\n",
    "### 3.7 합계 컬럼 정제\n",
    "\n",
    "### 3.8 작물 종류 컬럼 정제"
   ]
  },
  {
   "cell_type": "markdown",
   "id": "b930b165-9718-45c5-a883-32af5fef2979",
   "metadata": {},
   "source": [
    "## 0. 분석 환경 확인"
   ]
  },
  {
   "cell_type": "code",
   "execution_count": 1,
   "id": "8a72b867-dc1c-422c-aa9e-f46fbe0e41aa",
   "metadata": {},
   "outputs": [
    {
     "name": "stdout",
     "output_type": "stream",
     "text": [
      "C:\\Users\\user\\Desktop\\법무부_파이썬분석\\시연관련데이터\\code\n",
      "C:\\Users\\user\\Desktop\\법무부_파이썬분석\\시연관련데이터\n"
     ]
    }
   ],
   "source": [
    "import os\n",
    "#현재 디렉토리 확인\n",
    "print(os.getcwd())\n",
    "# 분석 디렉토리로 이동\n",
    "os.chdir('C:\\\\Users\\\\user\\\\Desktop\\\\법무부_파이썬분석\\\\시연관련데이터')\n",
    "print(os.getcwd())"
   ]
  },
  {
   "cell_type": "markdown",
   "id": "04355f44-d12e-46fa-a5b0-e1b15611a2d6",
   "metadata": {},
   "source": [
    "## 1. 패키지 로드"
   ]
  },
  {
   "cell_type": "code",
   "execution_count": 2,
   "id": "a0f5056a-3d0b-4b22-8f24-4105e4cb4d7c",
   "metadata": {},
   "outputs": [],
   "source": [
    "import pandas as pd \n",
    "import numpy as np\n",
    "import re\n",
    "import warnings\n",
    "warnings.filterwarnings('ignore')"
   ]
  },
  {
   "cell_type": "markdown",
   "id": "2949d7fe-482a-4588-99e5-8c15c1f1b359",
   "metadata": {},
   "source": [
    "## 2. 신청현황 데이터 불러오기"
   ]
  },
  {
   "cell_type": "code",
   "execution_count": 3,
   "id": "1095d5c8-2f4c-4629-b7d6-e3d2b42caa7e",
   "metadata": {},
   "outputs": [],
   "source": [
    "data=pd.read_excel(os.listdir()[3],skiprows=2)"
   ]
  },
  {
   "cell_type": "code",
   "execution_count": 4,
   "id": "bdbe7bad-92c0-46aa-a2eb-1a838e905f94",
   "metadata": {},
   "outputs": [
    {
     "data": {
      "text/html": [
       "<div>\n",
       "<style scoped>\n",
       "    .dataframe tbody tr th:only-of-type {\n",
       "        vertical-align: middle;\n",
       "    }\n",
       "\n",
       "    .dataframe tbody tr th {\n",
       "        vertical-align: top;\n",
       "    }\n",
       "\n",
       "    .dataframe thead th {\n",
       "        text-align: right;\n",
       "    }\n",
       "</style>\n",
       "<table border=\"1\" class=\"dataframe\">\n",
       "  <thead>\n",
       "    <tr style=\"text-align: right;\">\n",
       "      <th></th>\n",
       "      <th>비고</th>\n",
       "      <th>지자체명</th>\n",
       "      <th>지자체명.1</th>\n",
       "      <th>구분</th>\n",
       "      <th>주소지 (조합, 법인 소재지)</th>\n",
       "      <th>농업경영체</th>\n",
       "      <th>배정신청 인원</th>\n",
       "      <th>지자체추가배정인원</th>\n",
       "      <th>합계</th>\n",
       "      <th>작물 종류</th>\n",
       "      <th>총 재배면적\\n(단위 : 1000㎡)</th>\n",
       "      <th>이력 여부</th>\n",
       "      <th>배정 인원</th>\n",
       "      <th>Unnamed: 13</th>\n",
       "    </tr>\n",
       "  </thead>\n",
       "  <tbody>\n",
       "    <tr>\n",
       "      <th>0</th>\n",
       "      <td>2023</td>\n",
       "      <td>충청남도</td>\n",
       "      <td>홍성군</td>\n",
       "      <td>농가</td>\n",
       "      <td>충청남도 홍성군</td>\n",
       "      <td>1-222-426-920</td>\n",
       "      <td>3</td>\n",
       "      <td>NaN</td>\n",
       "      <td>NaN</td>\n",
       "      <td>⑧기타식량작물</td>\n",
       "      <td>139</td>\n",
       "      <td>없음</td>\n",
       "      <td>0</td>\n",
       "      <td>NaN</td>\n",
       "    </tr>\n",
       "    <tr>\n",
       "      <th>1</th>\n",
       "      <td>2023</td>\n",
       "      <td>충청남도</td>\n",
       "      <td>홍성군</td>\n",
       "      <td>농가</td>\n",
       "      <td>충청남도 홍성군</td>\n",
       "      <td>1-000-426-965</td>\n",
       "      <td>4</td>\n",
       "      <td>NaN</td>\n",
       "      <td>NaN</td>\n",
       "      <td>⑧기타식량작물</td>\n",
       "      <td>18</td>\n",
       "      <td>있음</td>\n",
       "      <td>3</td>\n",
       "      <td>NaN</td>\n",
       "    </tr>\n",
       "    <tr>\n",
       "      <th>2</th>\n",
       "      <td>2023</td>\n",
       "      <td>충청남도</td>\n",
       "      <td>홍성군</td>\n",
       "      <td>농가</td>\n",
       "      <td>충청남도 홍성군</td>\n",
       "      <td>1-000-413-619</td>\n",
       "      <td>5</td>\n",
       "      <td>NaN</td>\n",
       "      <td>NaN</td>\n",
       "      <td>⑧기타식량작물</td>\n",
       "      <td>18</td>\n",
       "      <td>있음</td>\n",
       "      <td>2</td>\n",
       "      <td>NaN</td>\n",
       "    </tr>\n",
       "    <tr>\n",
       "      <th>3</th>\n",
       "      <td>2023</td>\n",
       "      <td>충청남도</td>\n",
       "      <td>홍성군</td>\n",
       "      <td>법인</td>\n",
       "      <td>충청남도 홍성군</td>\n",
       "      <td>2-000-571-628</td>\n",
       "      <td>8</td>\n",
       "      <td>NaN</td>\n",
       "      <td>NaN</td>\n",
       "      <td>⑧기타식량작물</td>\n",
       "      <td>17</td>\n",
       "      <td>없음</td>\n",
       "      <td>0</td>\n",
       "      <td>NaN</td>\n",
       "    </tr>\n",
       "    <tr>\n",
       "      <th>4</th>\n",
       "      <td>2023</td>\n",
       "      <td>충청남도</td>\n",
       "      <td>홍성군</td>\n",
       "      <td>농가</td>\n",
       "      <td>충청남도 홍성군 광천읍 홍남동로126번길 150</td>\n",
       "      <td>1-000-858-146</td>\n",
       "      <td>5</td>\n",
       "      <td>NaN</td>\n",
       "      <td>NaN</td>\n",
       "      <td>⑦곡물</td>\n",
       "      <td>16</td>\n",
       "      <td>없음</td>\n",
       "      <td>0</td>\n",
       "      <td>NaN</td>\n",
       "    </tr>\n",
       "  </tbody>\n",
       "</table>\n",
       "</div>"
      ],
      "text/plain": [
       "     비고  지자체명 지자체명.1  구분            주소지 (조합, 법인 소재지)          농업경영체 배정신청 인원  \\\n",
       "0  2023  충청남도    홍성군  농가                    충청남도 홍성군  1-222-426-920       3   \n",
       "1  2023  충청남도    홍성군  농가                    충청남도 홍성군  1-000-426-965       4   \n",
       "2  2023  충청남도    홍성군  농가                    충청남도 홍성군  1-000-413-619       5   \n",
       "3  2023  충청남도    홍성군  법인                    충청남도 홍성군  2-000-571-628       8   \n",
       "4  2023  충청남도    홍성군  농가  충청남도 홍성군 광천읍 홍남동로126번길 150  1-000-858-146       5   \n",
       "\n",
       "  지자체추가배정인원   합계    작물 종류 총 재배면적\\n(단위 : 1000㎡) 이력 여부 배정 인원 Unnamed: 13  \n",
       "0       NaN  NaN  ⑧기타식량작물                  139    없음     0         NaN  \n",
       "1       NaN  NaN  ⑧기타식량작물                   18    있음     3         NaN  \n",
       "2       NaN  NaN  ⑧기타식량작물                   18    있음     2         NaN  \n",
       "3       NaN  NaN  ⑧기타식량작물                   17    없음     0         NaN  \n",
       "4       NaN  NaN      ⑦곡물                   16    없음     0         NaN  "
      ]
     },
     "execution_count": 4,
     "metadata": {},
     "output_type": "execute_result"
    }
   ],
   "source": [
    "data.head(5) # 데이터 확인"
   ]
  },
  {
   "cell_type": "markdown",
   "id": "690087d1-6c57-4ffb-a921-840f10f06b19",
   "metadata": {},
   "source": [
    "## 3. 신청 현황 데이터 전처리"
   ]
  },
  {
   "cell_type": "markdown",
   "id": "cfa25c19-30d3-48c8-9642-d60428d12f5f",
   "metadata": {},
   "source": [
    "### 3.1 중복 컬럼명 변경"
   ]
  },
  {
   "cell_type": "code",
   "execution_count": 5,
   "id": "fef10aac-7949-456f-b38e-710291f5c44d",
   "metadata": {},
   "outputs": [
    {
     "data": {
      "text/html": [
       "<div>\n",
       "<style scoped>\n",
       "    .dataframe tbody tr th:only-of-type {\n",
       "        vertical-align: middle;\n",
       "    }\n",
       "\n",
       "    .dataframe tbody tr th {\n",
       "        vertical-align: top;\n",
       "    }\n",
       "\n",
       "    .dataframe thead th {\n",
       "        text-align: right;\n",
       "    }\n",
       "</style>\n",
       "<table border=\"1\" class=\"dataframe\">\n",
       "  <thead>\n",
       "    <tr style=\"text-align: right;\">\n",
       "      <th></th>\n",
       "      <th>비고</th>\n",
       "      <th>지자체명_시도</th>\n",
       "      <th>지자체명_시군구</th>\n",
       "      <th>구분</th>\n",
       "      <th>주소지 (조합, 법인 소재지)</th>\n",
       "      <th>농업경영체</th>\n",
       "      <th>배정신청 인원</th>\n",
       "      <th>지자체추가배정인원</th>\n",
       "      <th>합계</th>\n",
       "      <th>작물 종류</th>\n",
       "      <th>총 재배면적\\n(단위 : 1000㎡)</th>\n",
       "      <th>이력 여부</th>\n",
       "      <th>배정 인원</th>\n",
       "      <th>Unnamed: 13</th>\n",
       "    </tr>\n",
       "  </thead>\n",
       "  <tbody>\n",
       "    <tr>\n",
       "      <th>0</th>\n",
       "      <td>2023</td>\n",
       "      <td>충청남도</td>\n",
       "      <td>홍성군</td>\n",
       "      <td>농가</td>\n",
       "      <td>충청남도 홍성군</td>\n",
       "      <td>1-222-426-920</td>\n",
       "      <td>3</td>\n",
       "      <td>NaN</td>\n",
       "      <td>NaN</td>\n",
       "      <td>⑧기타식량작물</td>\n",
       "      <td>139</td>\n",
       "      <td>없음</td>\n",
       "      <td>0</td>\n",
       "      <td>NaN</td>\n",
       "    </tr>\n",
       "    <tr>\n",
       "      <th>1</th>\n",
       "      <td>2023</td>\n",
       "      <td>충청남도</td>\n",
       "      <td>홍성군</td>\n",
       "      <td>농가</td>\n",
       "      <td>충청남도 홍성군</td>\n",
       "      <td>1-000-426-965</td>\n",
       "      <td>4</td>\n",
       "      <td>NaN</td>\n",
       "      <td>NaN</td>\n",
       "      <td>⑧기타식량작물</td>\n",
       "      <td>18</td>\n",
       "      <td>있음</td>\n",
       "      <td>3</td>\n",
       "      <td>NaN</td>\n",
       "    </tr>\n",
       "    <tr>\n",
       "      <th>2</th>\n",
       "      <td>2023</td>\n",
       "      <td>충청남도</td>\n",
       "      <td>홍성군</td>\n",
       "      <td>농가</td>\n",
       "      <td>충청남도 홍성군</td>\n",
       "      <td>1-000-413-619</td>\n",
       "      <td>5</td>\n",
       "      <td>NaN</td>\n",
       "      <td>NaN</td>\n",
       "      <td>⑧기타식량작물</td>\n",
       "      <td>18</td>\n",
       "      <td>있음</td>\n",
       "      <td>2</td>\n",
       "      <td>NaN</td>\n",
       "    </tr>\n",
       "    <tr>\n",
       "      <th>3</th>\n",
       "      <td>2023</td>\n",
       "      <td>충청남도</td>\n",
       "      <td>홍성군</td>\n",
       "      <td>법인</td>\n",
       "      <td>충청남도 홍성군</td>\n",
       "      <td>2-000-571-628</td>\n",
       "      <td>8</td>\n",
       "      <td>NaN</td>\n",
       "      <td>NaN</td>\n",
       "      <td>⑧기타식량작물</td>\n",
       "      <td>17</td>\n",
       "      <td>없음</td>\n",
       "      <td>0</td>\n",
       "      <td>NaN</td>\n",
       "    </tr>\n",
       "    <tr>\n",
       "      <th>4</th>\n",
       "      <td>2023</td>\n",
       "      <td>충청남도</td>\n",
       "      <td>홍성군</td>\n",
       "      <td>농가</td>\n",
       "      <td>충청남도 홍성군 광천읍 홍남동로126번길 150</td>\n",
       "      <td>1-000-858-146</td>\n",
       "      <td>5</td>\n",
       "      <td>NaN</td>\n",
       "      <td>NaN</td>\n",
       "      <td>⑦곡물</td>\n",
       "      <td>16</td>\n",
       "      <td>없음</td>\n",
       "      <td>0</td>\n",
       "      <td>NaN</td>\n",
       "    </tr>\n",
       "  </tbody>\n",
       "</table>\n",
       "</div>"
      ],
      "text/plain": [
       "     비고 지자체명_시도 지자체명_시군구  구분            주소지 (조합, 법인 소재지)          농업경영체  \\\n",
       "0  2023    충청남도      홍성군  농가                    충청남도 홍성군  1-222-426-920   \n",
       "1  2023    충청남도      홍성군  농가                    충청남도 홍성군  1-000-426-965   \n",
       "2  2023    충청남도      홍성군  농가                    충청남도 홍성군  1-000-413-619   \n",
       "3  2023    충청남도      홍성군  법인                    충청남도 홍성군  2-000-571-628   \n",
       "4  2023    충청남도      홍성군  농가  충청남도 홍성군 광천읍 홍남동로126번길 150  1-000-858-146   \n",
       "\n",
       "  배정신청 인원 지자체추가배정인원   합계    작물 종류 총 재배면적\\n(단위 : 1000㎡) 이력 여부 배정 인원 Unnamed: 13  \n",
       "0       3       NaN  NaN  ⑧기타식량작물                  139    없음     0         NaN  \n",
       "1       4       NaN  NaN  ⑧기타식량작물                   18    있음     3         NaN  \n",
       "2       5       NaN  NaN  ⑧기타식량작물                   18    있음     2         NaN  \n",
       "3       8       NaN  NaN  ⑧기타식량작물                   17    없음     0         NaN  \n",
       "4       5       NaN  NaN      ⑦곡물                   16    없음     0         NaN  "
      ]
     },
     "execution_count": 5,
     "metadata": {},
     "output_type": "execute_result"
    }
   ],
   "source": [
    "new_column={'지자체명':'지자체명_시도','지자체명.1':'지자체명_시군구'}\n",
    "data.rename(columns=new_column,inplace=True) # 컬럼명 변경\n",
    "data.head(5)"
   ]
  },
  {
   "cell_type": "markdown",
   "id": "e2429e99-b11f-4133-ad2a-506f5b3b655e",
   "metadata": {},
   "source": [
    "### 3.2 표기 오류 정제\n",
    "\n",
    "- 담양->담양군\n",
    "- 충청북도 청양군->충청남도 청양군"
   ]
  },
  {
   "cell_type": "code",
   "execution_count": 6,
   "id": "5603baef-a9e3-479a-9bb2-93830792333a",
   "metadata": {},
   "outputs": [
    {
     "name": "stdout",
     "output_type": "stream",
     "text": [
      "76\n",
      "335\n"
     ]
    }
   ],
   "source": [
    "# 표기 표준화 필요\n",
    "print(data['지자체명_시군구'].value_counts()['담양'])\n",
    "print(data['지자체명_시군구'].value_counts()['담양군'])"
   ]
  },
  {
   "cell_type": "code",
   "execution_count": 7,
   "id": "81596c81-b163-4108-a20a-05b8170d414f",
   "metadata": {},
   "outputs": [
    {
     "name": "stdout",
     "output_type": "stream",
     "text": [
      "        비고 지자체명_시도 지자체명_시군구  구분                      주소지 (조합, 법인 소재지)  \\\n",
      "4960  2023    충청남도      청양군  농가  충남 청양군 청양읍 청산로 35, 101동 1210호(장안아파트)   \n",
      "4961  2023    충청남도      청양군  농가              충남 청양군 청양읍 평촌1길 28, 702호   \n",
      "4962  2023    충청남도      청양군  농가                  충남 청양군 청양읍 누레기길 67-8   \n",
      "4963  2023    충청남도      청양군  농가                   충남 청양군 청양읍 충절로 1104   \n",
      "4964  2023    충청남도      청양군  농가            충남 청양군 청양읍 칠갑산로7길 15, 401호   \n",
      "\n",
      "              농업경영체 배정신청 인원 지자체추가배정인원 합계     작물 종류 총 재배면적\\n(단위 : 1000㎡) 이력 여부  \\\n",
      "4960  1-002-522-989       2         0  2  ①시설원예·특작                  2.4     여   \n",
      "4961  1-000-823-141       3         0  3       ⑦곡물                105.6     부   \n",
      "4962  1-002-028-841       3         0  3       ⑦곡물                  4.9     여   \n",
      "4963  1-000-881-135       5         0  5       ⑦곡물                    5     여   \n",
      "4964  1-000-975-740       1         0  1       ⑦곡물                 42.3     부   \n",
      "\n",
      "     배정 인원 Unnamed: 13  \n",
      "4960     2         NaN  \n",
      "4961   NaN         NaN  \n",
      "4962     2         NaN  \n",
      "4963     3         NaN  \n",
      "4964   NaN         NaN  \n",
      "        비고 지자체명_시도 지자체명_시군구  구분 주소지 (조합, 법인 소재지)          농업경영체 배정신청 인원  \\\n",
      "6502  2022    충청북도      청양군  농가    정산면 광생큰길 82-3  1-001-447-424       3   \n",
      "6503  2022    충청북도      청양군  농가   정산면 남천새울길 54-3  1-000-564-700       2   \n",
      "6504  2022    충청북도      청양군  농가       청남면 청아길 78  1-000-807-336       3   \n",
      "6505  2022    충청북도      청양군  농가  청남면 금강변로 383-31  1-002-285-172       2   \n",
      "6506  2022    충청북도      청양군  농가     청남면 와헌길 29-6  1-001-666-264       2   \n",
      "\n",
      "     지자체추가배정인원 합계     작물 종류 총 재배면적\\n(단위 : 1000㎡) 이력 여부 배정 인원 Unnamed: 13  \n",
      "6502       NaN  3  ⑥기타원예·특작                58972     부   NaN         NaN  \n",
      "6503       NaN  2  ⑥기타원예·특작                37743     부   NaN         NaN  \n",
      "6504       NaN  3  ①시설원예·특작                 7693     부   NaN         NaN  \n",
      "6505       NaN  2  ①시설원예·특작                 2807     부   NaN         NaN  \n",
      "6506       NaN  2       ⑦곡물                 7823     여     2         NaN  \n"
     ]
    }
   ],
   "source": [
    "# 시도명 표기 오류\n",
    "print(data[data['지자체명_시군구']=='청양군'].head(5)) \n",
    "print(data[data['지자체명_시군구']=='청양군'].tail(5))"
   ]
  },
  {
   "cell_type": "code",
   "execution_count": 8,
   "id": "52acb3c9-0803-436b-a0fa-f5af8a15c0db",
   "metadata": {},
   "outputs": [],
   "source": [
    "data['지자체명_시군구']=np.where(data['지자체명_시군구']=='담양','담양군',data['지자체명_시군구'])\n",
    "data['지자체명_시도']=np.where((data['지자체명_시군구']=='청양군') & (data['지자체명_시도']=='충청북도'),'충청남도',data['지자체명_시도'])\n",
    "data['지자체명_시도']=data['지자체명_시도'].str.strip()\n",
    "data['지자체명_시군구']=data['지자체명_시군구'].str.strip()"
   ]
  },
  {
   "cell_type": "code",
   "execution_count": 9,
   "id": "5bb09b7f-fec6-4b55-99e4-78ca9e22534f",
   "metadata": {},
   "outputs": [
    {
     "name": "stdout",
     "output_type": "stream",
     "text": [
      "411\n",
      "충청남도    96\n",
      "Name: 지자체명_시도, dtype: int64\n"
     ]
    }
   ],
   "source": [
    "#빈도수 확인\n",
    "print(data['지자체명_시군구'].value_counts()['담양군'])\n",
    "print(data[data['지자체명_시군구']=='청양군']['지자체명_시도'].value_counts())"
   ]
  },
  {
   "cell_type": "markdown",
   "id": "8b87b418-a9d6-4994-afdf-ec1bc544647a",
   "metadata": {},
   "source": [
    "### 3.3 농업경영체 컬럼 정제"
   ]
  },
  {
   "cell_type": "code",
   "execution_count": 10,
   "id": "864d6697-5958-4c8d-b174-68024fd9e077",
   "metadata": {},
   "outputs": [
    {
     "data": {
      "text/plain": [
       "0        1-222-426-920\n",
       "1        1-000-426-965\n",
       "2        1-000-413-619\n",
       "3        2-000-571-628\n",
       "4        1-000-858-146\n",
       "             ...      \n",
       "14360    1-000-652-481\n",
       "14361       1001481037\n",
       "14362       1000850496\n",
       "14363       1001466002\n",
       "14364       1000783281\n",
       "Name: 농업경영체, Length: 14365, dtype: object"
      ]
     },
     "execution_count": 10,
     "metadata": {},
     "output_type": "execute_result"
    }
   ],
   "source": [
    "data['농업경영체'] # 특수문자, 공백 등 다양한 형태로 존재함"
   ]
  },
  {
   "cell_type": "code",
   "execution_count": 11,
   "id": "66b506fa-d078-4568-b391-9c9870ab4484",
   "metadata": {},
   "outputs": [],
   "source": [
    "#문자형으로 일괄변경\n",
    "data['농업경영체']=data['농업경영체'].astype(str) \n",
    "#숫자 제외 모든 문자 제거\n",
    "def extract_numbers(text):\n",
    "    return re.sub(r'\\D', '', text)\n",
    "\n",
    "data['농업경영체']=data['농업경영체'].apply(extract_numbers)"
   ]
  },
  {
   "cell_type": "code",
   "execution_count": 12,
   "id": "d423b542-6986-4cf1-9d2b-8c7238c19752",
   "metadata": {},
   "outputs": [
    {
     "data": {
      "text/plain": [
       "0        1222426920\n",
       "1        1000426965\n",
       "2        1000413619\n",
       "3        2000571628\n",
       "4        1000858146\n",
       "            ...    \n",
       "14360    1000652481\n",
       "14361    1001481037\n",
       "14362    1000850496\n",
       "14363    1001466002\n",
       "14364    1000783281\n",
       "Name: 농업경영체, Length: 14365, dtype: object"
      ]
     },
     "execution_count": 12,
     "metadata": {},
     "output_type": "execute_result"
    }
   ],
   "source": [
    "data['농업경영체'] # 특수문자, 공백 등 다양한 형태로 존재함"
   ]
  },
  {
   "cell_type": "code",
   "execution_count": 13,
   "id": "caa84ee0-1504-4290-84c8-cf49138a184f",
   "metadata": {},
   "outputs": [],
   "source": [
    "data['농업경영체']=data['농업경영체'].apply(lambda x: re.sub('-', '', x)) #-제거\n",
    "data['농업경영체']=data['농업경영체'].apply(lambda x: re.sub('  ', '', x))  # 특수문자\n",
    "data['농업경영체']=data['농업경영체'].apply(lambda x: re.sub(' ', '', x))  # 특수문자\n",
    "data['농업경영체']=data['농업경영체'].apply(lambda x: re.sub('\\\\*', '', x))  # *제거\n",
    "data['농업경영체']=data['농업경영체'].apply(lambda x: re.sub(' ', '', x))  # 공백\n",
    "data['농업경영체']=data['농업경영체'].apply(lambda x: re.sub('\\xa0', '', x))  #특수문자제거\n",
    "data['농업경영체']=data['농업경영체'].apply(lambda x: re.sub('\\n', '', x))  # 줄바꿈"
   ]
  },
  {
   "cell_type": "code",
   "execution_count": 14,
   "id": "1cba57b7-8b15-4f8d-9376-bebbbea65b4e",
   "metadata": {},
   "outputs": [
    {
     "data": {
      "text/plain": [
       "0        35\n",
       "8         2\n",
       "9       197\n",
       "10    14113\n",
       "11       17\n",
       "20        1\n",
       "Name: 농업경영체_자리수, dtype: int64"
      ]
     },
     "execution_count": 14,
     "metadata": {},
     "output_type": "execute_result"
    }
   ],
   "source": [
    "# 농업경영체 번호 각 자리수 계산\n",
    "data['농업경영체_자리수']=data['농업경영체'].apply(lambda x:len(x))\n",
    "data['농업경영체_자리수'].value_counts().sort_index()"
   ]
  },
  {
   "cell_type": "code",
   "execution_count": 15,
   "id": "eb8270aa-655f-417f-a985-533eaaa60232",
   "metadata": {},
   "outputs": [],
   "source": [
    "#삭제할 데이터\n",
    "data=data[data['농업경영체_자리수']!=0] #자리수=0인 행 제거 \n",
    "data=data[data['농업경영체_자리수']!=8] #8자리수 모두삭제"
   ]
  },
  {
   "cell_type": "code",
   "execution_count": 16,
   "id": "0751f7e4-6d8e-4c45-bf26-50ec88a8b611",
   "metadata": {
    "tags": []
   },
   "outputs": [],
   "source": [
    "#자리수 9인 데이터 중 첫번째 자리수가 0인 행들에 1추가\n",
    "index_values=data.index #데이터 프레임 인덱스 추출\n",
    "for i in index_values:\n",
    "    if (data.loc[i,'농업경영체_자리수']==9) and (data.loc[i,'농업경영체'][0]=='0'): #자리수가 9이고, 첫번째 자리수가 0인 행들 고르기\n",
    "        data.loc[i,'농업경영체']='1'+data.loc[i,'농업경영체'] #해당 열의 농업경영체 앞자리에 1을 추가\n",
    "    else:\n",
    "        pass"
   ]
  },
  {
   "cell_type": "code",
   "execution_count": 17,
   "id": "eabe14fe-6b8a-4342-a06f-99677d25c0f1",
   "metadata": {},
   "outputs": [],
   "source": [
    "# 10자리수 데이터 정제\n",
    "data_10=data[data['농업경영체_자리수']==10] #R에서 정제값과 같음\n",
    "index_values=data_10.index #데이터 프레임 인덱스 추출\n",
    "del_list=[]\n",
    "for i in index_values:\n",
    "    if (data.loc[i,'농업경영체'][0]=='1') or (data.loc[i,'농업경영체'][0]=='2') or (data.loc[i,'농업경영체'][0]=='3'):\n",
    "        pass\n",
    "    else:\n",
    "        del_list.append(i)\n",
    "        \n",
    "# 앞자리 1,2,3 이외의 농경체 삭제하기        \n",
    "data.loc[del_list] #0으로 시작하거나, 공공형 계절 사업자와 같은 농업경영체 확인\n",
    "data.drop(del_list,inplace=True)"
   ]
  },
  {
   "cell_type": "code",
   "execution_count": 20,
   "id": "faa0f475-55a7-4c25-b735-38b115fc4fe7",
   "metadata": {},
   "outputs": [
    {
     "data": {
      "text/plain": [
       "9        14\n",
       "10    14312\n",
       "Name: 농업경영체_자리수, dtype: int64"
      ]
     },
     "execution_count": 20,
     "metadata": {},
     "output_type": "execute_result"
    }
   ],
   "source": [
    "#10 자리 이상 농업경영체 index 추출\n",
    "index_values1=data.query('농업경영체_자리수>10').index\n",
    "for i in index_values1:\n",
    "    if data.loc[i,'농업경영체'][0].isdigit(): #맨앞자리가 숫자인 경우만 10자리로 잘라주기\n",
    "        data.loc[i,'농업경영체']=data.loc[i,'농업경영체'][0:10] #10자리수 만 가져오기\n",
    "    else:\n",
    "        pass\n",
    "\n",
    "data['농업경영체_자리수']=data['농업경영체'].apply(lambda x:len(x)) #자리수 다시 계산\n",
    "final_data=data[data['농업경영체_자리수']==10] #자리수=10인 행으로 데이터 재구성 "
   ]
  },
  {
   "cell_type": "markdown",
   "id": "a6d6e529-a0d1-4bd1-a6a8-f515aecde134",
   "metadata": {},
   "source": [
    "### 3.4 불필요컬럼 삭제 및 주요 변수 데이터 타입 변경"
   ]
  },
  {
   "cell_type": "code",
   "execution_count": 22,
   "id": "477d8c7e-f83c-4181-982c-3b53acdd9aad",
   "metadata": {},
   "outputs": [],
   "source": [
    "final_data['농업경영체']=pd.to_numeric(final_data['농업경영체'])\n",
    "final_data.drop(columns=['농업경영체_자리수'],inplace=True) #농업경영체 자리수 삭제\n",
    "final_data.drop(columns=['Unnamed: 13'],inplace=True) #14번째 컬럼 삭제"
   ]
  },
  {
   "cell_type": "code",
   "execution_count": 23,
   "id": "63d9f4b1-3dd0-447e-95f7-13a0fa5b9e9a",
   "metadata": {},
   "outputs": [
    {
     "data": {
      "text/plain": [
       "10154"
      ]
     },
     "execution_count": 23,
     "metadata": {},
     "output_type": "execute_result"
    }
   ],
   "source": [
    "final_data['농업경영체'].nunique()"
   ]
  },
  {
   "cell_type": "code",
   "execution_count": 24,
   "id": "0d41d039-afd0-4399-9c91-d24c65ba2aaf",
   "metadata": {},
   "outputs": [
    {
     "data": {
      "text/plain": [
       "14312"
      ]
     },
     "execution_count": 24,
     "metadata": {},
     "output_type": "execute_result"
    }
   ],
   "source": [
    "len(final_data)"
   ]
  },
  {
   "cell_type": "markdown",
   "id": "f8906d41-cc11-4b16-b17a-b1434f56da0a",
   "metadata": {},
   "source": [
    "### 3.5 배정신청인원 컬럼 정제"
   ]
  },
  {
   "cell_type": "code",
   "execution_count": 25,
   "id": "88e7053d-48ec-44a7-9d21-c041dbebe9b2",
   "metadata": {},
   "outputs": [],
   "source": [
    "# '-' 및 nan 값 0으로 대치\n",
    "final_data['배정신청 인원']=final_data['배정신청 인원'].astype(str)\n",
    "final_data['배정신청 인원']=final_data['배정신청 인원'].apply(lambda x: re.sub('-', '0', x))\n",
    "final_data['배정신청 인원']=final_data['배정신청 인원'].apply(lambda x: re.sub('nan', '0', x))\n",
    "final_data['배정신청 인원']=pd.to_numeric(final_data['배정신청 인원'])"
   ]
  },
  {
   "cell_type": "markdown",
   "id": "eb0e8793-38b4-4cd1-b1e3-fa3ccd271311",
   "metadata": {},
   "source": [
    "### 3.6 지자체추가배정인원 컬럼 정제"
   ]
  },
  {
   "cell_type": "code",
   "execution_count": 26,
   "id": "4b66b84e-1cb1-4d42-ac7d-8929266e79c1",
   "metadata": {},
   "outputs": [],
   "source": [
    "# '-', nan, '없음' 0으로 대치하기\n",
    "final_data['지자체추가배정인원']=final_data['지자체추가배정인원'].astype(str)\n",
    "final_idx=final_data.index\n",
    "for i in final_idx:\n",
    "    if final_data.loc[i,'지자체추가배정인원']=='-':\n",
    "        final_data.loc[i,'지자체추가배정인원']='0'\n",
    "    else:\n",
    "        pass\n",
    "    \n",
    "final_data['지자체추가배정인원']=final_data['지자체추가배정인원'].apply(lambda x: re.sub('nan', '0', x))\n",
    "final_data['지자체추가배정인원']=final_data['지자체추가배정인원'].apply(lambda x: re.sub('없음', '0', x))\n",
    "final_data['지자체추가배정인원']=pd.to_numeric(final_data['지자체추가배정인원'])"
   ]
  },
  {
   "cell_type": "markdown",
   "id": "f07fe31f-9c76-4504-84ec-daba53906675",
   "metadata": {},
   "source": [
    "### 3.7 합계 컬럼 변경"
   ]
  },
  {
   "cell_type": "code",
   "execution_count": 29,
   "id": "3fb42bdc-ff49-46a3-8e6c-8d035ff3b4fc",
   "metadata": {},
   "outputs": [],
   "source": [
    "final_data['합계']=final_data['배정신청 인원'] + final_data['지자체추가배정인원']"
   ]
  },
  {
   "cell_type": "code",
   "execution_count": 31,
   "id": "6e918952-d18f-4e8b-9445-194c25ca517a",
   "metadata": {},
   "outputs": [
    {
     "data": {
      "text/html": [
       "<div>\n",
       "<style scoped>\n",
       "    .dataframe tbody tr th:only-of-type {\n",
       "        vertical-align: middle;\n",
       "    }\n",
       "\n",
       "    .dataframe tbody tr th {\n",
       "        vertical-align: top;\n",
       "    }\n",
       "\n",
       "    .dataframe thead th {\n",
       "        text-align: right;\n",
       "    }\n",
       "</style>\n",
       "<table border=\"1\" class=\"dataframe\">\n",
       "  <thead>\n",
       "    <tr style=\"text-align: right;\">\n",
       "      <th></th>\n",
       "      <th>비고</th>\n",
       "      <th>지자체명_시도</th>\n",
       "      <th>지자체명_시군구</th>\n",
       "      <th>구분</th>\n",
       "      <th>주소지 (조합, 법인 소재지)</th>\n",
       "      <th>농업경영체</th>\n",
       "      <th>배정신청 인원</th>\n",
       "      <th>지자체추가배정인원</th>\n",
       "      <th>합계</th>\n",
       "      <th>작물 종류</th>\n",
       "      <th>총 재배면적\\n(단위 : 1000㎡)</th>\n",
       "      <th>이력 여부</th>\n",
       "      <th>배정 인원</th>\n",
       "    </tr>\n",
       "  </thead>\n",
       "  <tbody>\n",
       "    <tr>\n",
       "      <th>0</th>\n",
       "      <td>2023</td>\n",
       "      <td>충청남도</td>\n",
       "      <td>홍성군</td>\n",
       "      <td>농가</td>\n",
       "      <td>충청남도 홍성군</td>\n",
       "      <td>1222426920</td>\n",
       "      <td>3</td>\n",
       "      <td>0</td>\n",
       "      <td>3</td>\n",
       "      <td>⑧기타식량작물</td>\n",
       "      <td>139</td>\n",
       "      <td>없음</td>\n",
       "      <td>0</td>\n",
       "    </tr>\n",
       "    <tr>\n",
       "      <th>1</th>\n",
       "      <td>2023</td>\n",
       "      <td>충청남도</td>\n",
       "      <td>홍성군</td>\n",
       "      <td>농가</td>\n",
       "      <td>충청남도 홍성군</td>\n",
       "      <td>1000426965</td>\n",
       "      <td>4</td>\n",
       "      <td>0</td>\n",
       "      <td>4</td>\n",
       "      <td>⑧기타식량작물</td>\n",
       "      <td>18</td>\n",
       "      <td>있음</td>\n",
       "      <td>3</td>\n",
       "    </tr>\n",
       "    <tr>\n",
       "      <th>2</th>\n",
       "      <td>2023</td>\n",
       "      <td>충청남도</td>\n",
       "      <td>홍성군</td>\n",
       "      <td>농가</td>\n",
       "      <td>충청남도 홍성군</td>\n",
       "      <td>1000413619</td>\n",
       "      <td>5</td>\n",
       "      <td>0</td>\n",
       "      <td>5</td>\n",
       "      <td>⑧기타식량작물</td>\n",
       "      <td>18</td>\n",
       "      <td>있음</td>\n",
       "      <td>2</td>\n",
       "    </tr>\n",
       "    <tr>\n",
       "      <th>3</th>\n",
       "      <td>2023</td>\n",
       "      <td>충청남도</td>\n",
       "      <td>홍성군</td>\n",
       "      <td>법인</td>\n",
       "      <td>충청남도 홍성군</td>\n",
       "      <td>2000571628</td>\n",
       "      <td>8</td>\n",
       "      <td>0</td>\n",
       "      <td>8</td>\n",
       "      <td>⑧기타식량작물</td>\n",
       "      <td>17</td>\n",
       "      <td>없음</td>\n",
       "      <td>0</td>\n",
       "    </tr>\n",
       "    <tr>\n",
       "      <th>4</th>\n",
       "      <td>2023</td>\n",
       "      <td>충청남도</td>\n",
       "      <td>홍성군</td>\n",
       "      <td>농가</td>\n",
       "      <td>충청남도 홍성군 광천읍 홍남동로126번길 150</td>\n",
       "      <td>1000858146</td>\n",
       "      <td>5</td>\n",
       "      <td>0</td>\n",
       "      <td>5</td>\n",
       "      <td>⑦곡물</td>\n",
       "      <td>16</td>\n",
       "      <td>없음</td>\n",
       "      <td>0</td>\n",
       "    </tr>\n",
       "    <tr>\n",
       "      <th>...</th>\n",
       "      <td>...</td>\n",
       "      <td>...</td>\n",
       "      <td>...</td>\n",
       "      <td>...</td>\n",
       "      <td>...</td>\n",
       "      <td>...</td>\n",
       "      <td>...</td>\n",
       "      <td>...</td>\n",
       "      <td>...</td>\n",
       "      <td>...</td>\n",
       "      <td>...</td>\n",
       "      <td>...</td>\n",
       "      <td>...</td>\n",
       "    </tr>\n",
       "    <tr>\n",
       "      <th>14360</th>\n",
       "      <td>2021</td>\n",
       "      <td>경상북도</td>\n",
       "      <td>상주시</td>\n",
       "      <td>농가</td>\n",
       "      <td>NaN</td>\n",
       "      <td>1000652481</td>\n",
       "      <td>0</td>\n",
       "      <td>0</td>\n",
       "      <td>0</td>\n",
       "      <td>③과수</td>\n",
       "      <td>10000</td>\n",
       "      <td>NaN</td>\n",
       "      <td>NaN</td>\n",
       "    </tr>\n",
       "    <tr>\n",
       "      <th>14361</th>\n",
       "      <td>2021</td>\n",
       "      <td>충청남도</td>\n",
       "      <td>당진시</td>\n",
       "      <td>농가</td>\n",
       "      <td>NaN</td>\n",
       "      <td>1001481037</td>\n",
       "      <td>0</td>\n",
       "      <td>0</td>\n",
       "      <td>0</td>\n",
       "      <td>①시설원예·특작</td>\n",
       "      <td>31442</td>\n",
       "      <td>NaN</td>\n",
       "      <td>NaN</td>\n",
       "    </tr>\n",
       "    <tr>\n",
       "      <th>14362</th>\n",
       "      <td>2021</td>\n",
       "      <td>충청남도</td>\n",
       "      <td>당진시</td>\n",
       "      <td>농가</td>\n",
       "      <td>NaN</td>\n",
       "      <td>1000850496</td>\n",
       "      <td>0</td>\n",
       "      <td>0</td>\n",
       "      <td>0</td>\n",
       "      <td>①시설원예·특작</td>\n",
       "      <td>13684</td>\n",
       "      <td>NaN</td>\n",
       "      <td>NaN</td>\n",
       "    </tr>\n",
       "    <tr>\n",
       "      <th>14363</th>\n",
       "      <td>2021</td>\n",
       "      <td>충청남도</td>\n",
       "      <td>당진시</td>\n",
       "      <td>농가</td>\n",
       "      <td>NaN</td>\n",
       "      <td>1001466002</td>\n",
       "      <td>0</td>\n",
       "      <td>0</td>\n",
       "      <td>0</td>\n",
       "      <td>⑧기타식량작물</td>\n",
       "      <td>187909</td>\n",
       "      <td>NaN</td>\n",
       "      <td>NaN</td>\n",
       "    </tr>\n",
       "    <tr>\n",
       "      <th>14364</th>\n",
       "      <td>2021</td>\n",
       "      <td>충청남도</td>\n",
       "      <td>당진시</td>\n",
       "      <td>농가</td>\n",
       "      <td>NaN</td>\n",
       "      <td>1000783281</td>\n",
       "      <td>0</td>\n",
       "      <td>0</td>\n",
       "      <td>0</td>\n",
       "      <td>⑦곡물</td>\n",
       "      <td>89009</td>\n",
       "      <td>NaN</td>\n",
       "      <td>NaN</td>\n",
       "    </tr>\n",
       "  </tbody>\n",
       "</table>\n",
       "<p>14312 rows × 13 columns</p>\n",
       "</div>"
      ],
      "text/plain": [
       "         비고 지자체명_시도 지자체명_시군구  구분            주소지 (조합, 법인 소재지)       농업경영체  \\\n",
       "0      2023    충청남도      홍성군  농가                    충청남도 홍성군  1222426920   \n",
       "1      2023    충청남도      홍성군  농가                    충청남도 홍성군  1000426965   \n",
       "2      2023    충청남도      홍성군  농가                    충청남도 홍성군  1000413619   \n",
       "3      2023    충청남도      홍성군  법인                    충청남도 홍성군  2000571628   \n",
       "4      2023    충청남도      홍성군  농가  충청남도 홍성군 광천읍 홍남동로126번길 150  1000858146   \n",
       "...     ...     ...      ...  ..                         ...         ...   \n",
       "14360  2021    경상북도      상주시  농가                         NaN  1000652481   \n",
       "14361  2021    충청남도      당진시  농가                         NaN  1001481037   \n",
       "14362  2021    충청남도      당진시  농가                         NaN  1000850496   \n",
       "14363  2021    충청남도      당진시  농가                         NaN  1001466002   \n",
       "14364  2021    충청남도      당진시  농가                         NaN  1000783281   \n",
       "\n",
       "       배정신청 인원  지자체추가배정인원  합계     작물 종류 총 재배면적\\n(단위 : 1000㎡) 이력 여부 배정 인원  \n",
       "0            3          0   3   ⑧기타식량작물                  139    없음     0  \n",
       "1            4          0   4   ⑧기타식량작물                   18    있음     3  \n",
       "2            5          0   5   ⑧기타식량작물                   18    있음     2  \n",
       "3            8          0   8   ⑧기타식량작물                   17    없음     0  \n",
       "4            5          0   5       ⑦곡물                   16    없음     0  \n",
       "...        ...        ...  ..       ...                  ...   ...   ...  \n",
       "14360        0          0   0       ③과수                10000   NaN   NaN  \n",
       "14361        0          0   0  ①시설원예·특작                31442   NaN   NaN  \n",
       "14362        0          0   0  ①시설원예·특작                13684   NaN   NaN  \n",
       "14363        0          0   0   ⑧기타식량작물               187909   NaN   NaN  \n",
       "14364        0          0   0       ⑦곡물                89009   NaN   NaN  \n",
       "\n",
       "[14312 rows x 13 columns]"
      ]
     },
     "execution_count": 31,
     "metadata": {},
     "output_type": "execute_result"
    }
   ],
   "source": [
    "final_data"
   ]
  },
  {
   "cell_type": "markdown",
   "id": "72cfae1c-2ce3-4689-914e-e3861cc7d4e4",
   "metadata": {},
   "source": [
    "# 9. 작물 종류 컬럼 정제"
   ]
  },
  {
   "cell_type": "code",
   "execution_count": 32,
   "id": "a9dac4d1-698c-4c9e-8cd7-702cd88bf62b",
   "metadata": {},
   "outputs": [],
   "source": [
    "final_index=final_data.index\n",
    "final_data['작물 종류']=final_data['작물 종류'].astype(str)"
   ]
  },
  {
   "cell_type": "code",
   "execution_count": 33,
   "id": "f1758e29-d0dd-4fe9-a206-f6b2a78771cb",
   "metadata": {},
   "outputs": [],
   "source": [
    "for i in final_index:\n",
    "    crop=final_data.loc[i,'작물 종류']\n",
    "    if ('①' in crop) or ('1' in crop):\n",
    "        final_data.loc[i,'작물 종류']='① 시설원예·특작'\n",
    "        #시설원예 특작 수정\n",
    "        \n",
    "    elif ('②' in crop) or ('2' in crop):\n",
    "        final_data.loc[i,'작물 종류']='② 버섯'\n",
    "        #버섯 수정\n",
    "        \n",
    "    elif ('③' in crop) or ('3' in crop):\n",
    "        final_data.loc[i,'작물 종류']='③ 과수'\n",
    "        #과수 수정\n",
    "        \n",
    "    elif ('④' in crop) or ('4' in crop) or ('인삼' in crop):\n",
    "        final_data.loc[i,'작물 종류']='④ 인삼, 일반채소'\n",
    "        #인삼 일반채소 수정\n",
    "        \n",
    "    elif '⑤' in crop:\n",
    "        final_data.loc[i,'작물 종류']='⑤ 종묘재배'\n",
    "        #종묘재배 수정\n",
    "        \n",
    "    elif ('⑥' in crop) or ('기타원예' in crop):\n",
    "        final_data.loc[i,'작물 종류']='⑥ 기타원예·특작'\n",
    "        #기타원예 특작 수정\n",
    "        \n",
    "    elif ('⑦' in crop) or ('곡물' in crop):\n",
    "        final_data.loc[i,'작물 종류']='⑦ 곡물'\n",
    "        #곡물 수정\n",
    "        \n",
    "    elif ('⑧' in crop) or ('식량' in crop):\n",
    "        final_data.loc[i,'작물 종류']='⑧ 기타 식량작물'\n",
    "        # 식량 작물 수정\n",
    "        \n",
    "    elif '⑨' in crop:\n",
    "        final_data.loc[i,'작물 종류']='⑨ 곶감가공'\n",
    "        #곶감 수정\n",
    "        \n",
    "    else:\n",
    "        pass"
   ]
  },
  {
   "cell_type": "code",
   "execution_count": 46,
   "id": "a44036bb-3b8c-473c-bbd0-bf96c500d157",
   "metadata": {},
   "outputs": [],
   "source": [
    "#final_data.to_csv(\"1) 21~23년 신청현황 (지역, 인원, 작물종류, 면적, 배정인원)_ver2.csv\", index = False, encoding='EUC-KR')"
   ]
  },
  {
   "cell_type": "code",
   "execution_count": null,
   "id": "0622fe65-6c5d-4018-bd41-dcc50206cae1",
   "metadata": {},
   "outputs": [],
   "source": []
  }
 ],
 "metadata": {
  "kernelspec": {
   "display_name": "Python 3 (ipykernel)",
   "language": "python",
   "name": "python3"
  },
  "language_info": {
   "codemirror_mode": {
    "name": "ipython",
    "version": 3
   },
   "file_extension": ".py",
   "mimetype": "text/x-python",
   "name": "python",
   "nbconvert_exporter": "python",
   "pygments_lexer": "ipython3",
   "version": "3.9.7"
  }
 },
 "nbformat": 4,
 "nbformat_minor": 5
}
