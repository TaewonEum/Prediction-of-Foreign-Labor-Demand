{
 "cells": [
  {
   "cell_type": "markdown",
   "id": "a170d4f8-b195-413d-ab85-00ed0907783f",
   "metadata": {},
   "source": [
    "# XGBoost Regression 목차\n",
    "\n",
    "## 0. 분석 환경 확인\n",
    "\n",
    "## 1. 패키지 로드\n",
    "\n",
    "## 2. 데이터 로드\n",
    "\n",
    "## 3. 분포 확인 및 이상치 제거\n",
    "\n",
    "## 4. 데이터 분할\n",
    "\n",
    "## 5. 정규화 및 라벨 인코딩\n",
    "\n",
    "## 6. 모델 적용\n",
    "\n",
    "### 6.1 초기 모델 적용\n",
    "\n",
    "### 6.2 파라마터 튜닝-1\n",
    "\n",
    "### 6.3 파리미터 튜닝-2\n",
    "\n",
    "## 7. 결과 활용 및 해석"
   ]
  },
  {
   "cell_type": "markdown",
   "id": "6b27ba00-ab75-4623-a119-b80dfeecd019",
   "metadata": {},
   "source": [
    "## 0.분석 환경 확인"
   ]
  },
  {
   "cell_type": "code",
   "execution_count": 4,
   "id": "4faf9695-7f4f-470e-8292-da4e20ab8d2f",
   "metadata": {},
   "outputs": [
    {
     "name": "stdout",
     "output_type": "stream",
     "text": [
      "C:\\Users\\user\\Desktop\\법무부_파이썬분석\\시연관련데이터\n",
      "C:\\Users\\user\\Desktop\\법무부_파이썬분석\\시연관련데이터\n"
     ]
    }
   ],
   "source": [
    "import os\n",
    "import random\n",
    "import numpy as np\n",
    "#현재 디렉토리 확인\n",
    "print(os.getcwd())\n",
    "# 분석 디렉토리로 이동\n",
    "os.chdir('C:\\\\Users\\\\user\\\\Desktop\\\\법무부_파이썬분석\\\\시연관련데이터')\n",
    "print(os.getcwd())\n",
    "\n",
    "#시드고정\n",
    "def seed_everything(seed):\n",
    "    random.seed(seed)\n",
    "    os.environ['PYTHONHASHSEED'] = str(seed)\n",
    "    np.random.seed(seed)\n",
    "seed_everything(42) # Seed 고정"
   ]
  },
  {
   "cell_type": "markdown",
   "id": "d97ced80-4532-44de-9496-180292e6e248",
   "metadata": {},
   "source": [
    "# MAE & mse & Rmse & Rmspe\n",
    "\n",
    "- MAE=실제값과 예측값 사이의 절대값의 평균=> 크면 클 수록 예측력이 낮은 것\n",
    "- MSE=실제값과 예측값 사이의 차이를 제곱한 평균\n",
    "- RMSE=MSE에 루트를 취한 값\n",
    "- RMSPE=예측 오차를 실제값으로 나눈후 제곱하여 평균을 측정한 제곱근임"
   ]
  },
  {
   "cell_type": "code",
   "execution_count": 5,
   "id": "0c28226b-ef8a-46ca-82e0-0fd8cd889ef7",
   "metadata": {},
   "outputs": [],
   "source": [
    "# # MAE\n",
    "# def Evaluation_metric(actual,pred):\n",
    "#     print(f'MAE: {round(mean_absolute_error(actual,pred),2)}')\n",
    "#     print(f'MSE: {round(mean_squared_error(actual,pred),2)}')\n",
    "#     print(f'RMSE: {round(sqrt(mean_squared_error(actual,pred)),2)}')\n",
    "#     print(f'RMSPE: {round(sqrt(mean_squared_error(actual,pred))/np.mean(actual)*100,2)}%')"
   ]
  },
  {
   "cell_type": "code",
   "execution_count": 6,
   "id": "7214efc7-a4df-49ef-807e-0e4608305c18",
   "metadata": {},
   "outputs": [],
   "source": [
    "# 성능지표 추출\n",
    "def Evaluation_metric(actual,pred):\n",
    "    print(f'MAE: {round(mean_absolute_error(actual,pred),2)}')\n",
    "    print(f'MSE: {round(mean_squared_error(actual,pred),2)}')\n",
    "    print(f'RMSE: {round(sqrt(mean_squared_error(actual,pred)),2)}')\n",
    "    #print(f'RMSPE: {round(sqrt(mean_squared_error(actual,pred))/np.mean(actual)*100,2)}%')\n",
    "    print(f'RMSPE: {round(np.sqrt(np.mean(((actual - pred) / actual) ** 2)) * 100, 2)}%')"
   ]
  },
  {
   "cell_type": "markdown",
   "id": "9f47b9d4-265c-4f4f-bf59-a8c845a52510",
   "metadata": {},
   "source": [
    "## 1. 패키지 로드"
   ]
  },
  {
   "cell_type": "code",
   "execution_count": 7,
   "id": "67f9cdf8-b6db-4505-b380-ba966bdd5079",
   "metadata": {},
   "outputs": [],
   "source": [
    "import pandas as pd\n",
    "import seaborn as sns\n",
    "import matplotlib.pyplot as plt\n",
    "plt.rcParams['font.family'] = 'Malgun Gothic'\n",
    "sns.set(font=\"Malgun Gothic\")\n",
    "import warnings\n",
    "warnings.filterwarnings('ignore')\n",
    "from sklearn.preprocessing import MinMaxScaler\n",
    "from sklearn.preprocessing import LabelEncoder\n",
    "\n",
    "from sklearn.model_selection import train_test_split\n",
    "from sklearn.metrics import mean_absolute_error, mean_squared_error\n",
    "from math import sqrt\n",
    "from sklearn.model_selection import train_test_split\n",
    "\n",
    "import xgboost as xgb\n",
    "from xgboost import plot_importance \n",
    "from xgboost import XGBRegressor\n",
    "\n",
    "from bayes_opt import BayesianOptimization\n",
    "from sklearn.model_selection import cross_val_score\n",
    "import optuna"
   ]
  },
  {
   "cell_type": "markdown",
   "id": "75b74072-debc-4ff1-bc38-e43cef9bbab9",
   "metadata": {},
   "source": [
    "## 2. 데이터 로드"
   ]
  },
  {
   "cell_type": "code",
   "execution_count": 8,
   "id": "9ee13115-6d6b-4fb6-976f-64277eb115f4",
   "metadata": {},
   "outputs": [
    {
     "data": {
      "text/plain": [
       "14"
      ]
     },
     "execution_count": 8,
     "metadata": {},
     "output_type": "execute_result"
    }
   ],
   "source": [
    "len(os.listdir())"
   ]
  },
  {
   "cell_type": "code",
   "execution_count": 9,
   "id": "6e78f47b-a926-46bb-b0ee-efbe68391150",
   "metadata": {},
   "outputs": [],
   "source": [
    "# Train, Valid, Test Split용 데이터\n",
    "data=pd.read_csv(os.listdir()[13],encoding='EUC-KR')\n",
    "# 지표 확인용 데20\n",
    "data_real=pd.read_csv(os.listdir()[13],encoding='EUC-KR')\n",
    "# 배정신청인원 0명 제거\n",
    "data=data.query('합계!=0')\n",
    "#필요 컬럼 추출\n",
    "selected_columns_1=['구분','합계', '작물 종류','농지면적(실제경작)','전년대비농경체증감률','고령농경체비율','전년도이탈인원','전년도활용여부']\n",
    "selected_columns_2=['비고', '지자체명_시도', '지자체명_시군구', '구분', '농업경영체','합계', '작물 종류','농지면적(실제경작)','전년대비농경체증감률','고령농경체비율','전년도이탈인원','전년도활용여부'] #원본 데이터 컬럼\n",
    "data=data[selected_columns_1]\n",
    "data_real=data_real[selected_columns_2]\n",
    "# 농지면적(실제경작) 컬럼명 변경\n",
    "data.rename(columns={'농지면적(실제경작)':'농지면적','작물 종류':'작물종류'},inplace=True)"
   ]
  },
  {
   "cell_type": "markdown",
   "id": "5c1abbe1-1162-4049-85ee-1b445807f52f",
   "metadata": {},
   "source": [
    "## 3. 분포 확인 및 이상치 제거\n",
    "\n",
    "이상치 제거 필요 컬럼\n",
    "- 농지면적 \n",
    "- 합계"
   ]
  },
  {
   "cell_type": "code",
   "execution_count": 10,
   "id": "45887c62-e91a-462b-be83-4ad189b5514b",
   "metadata": {},
   "outputs": [
    {
     "data": {
      "text/html": [
       "<div>\n",
       "<style scoped>\n",
       "    .dataframe tbody tr th:only-of-type {\n",
       "        vertical-align: middle;\n",
       "    }\n",
       "\n",
       "    .dataframe tbody tr th {\n",
       "        vertical-align: top;\n",
       "    }\n",
       "\n",
       "    .dataframe thead th {\n",
       "        text-align: right;\n",
       "    }\n",
       "</style>\n",
       "<table border=\"1\" class=\"dataframe\">\n",
       "  <thead>\n",
       "    <tr style=\"text-align: right;\">\n",
       "      <th></th>\n",
       "      <th>합계</th>\n",
       "      <th>농지면적</th>\n",
       "      <th>전년대비농경체증감률</th>\n",
       "      <th>고령농경체비율</th>\n",
       "      <th>전년도이탈인원</th>\n",
       "    </tr>\n",
       "  </thead>\n",
       "  <tbody>\n",
       "    <tr>\n",
       "      <th>count</th>\n",
       "      <td>12449.000</td>\n",
       "      <td>12449.000</td>\n",
       "      <td>12449.000</td>\n",
       "      <td>12449.000</td>\n",
       "      <td>12449.000</td>\n",
       "    </tr>\n",
       "    <tr>\n",
       "      <th>mean</th>\n",
       "      <td>3.395</td>\n",
       "      <td>0.496</td>\n",
       "      <td>102.359</td>\n",
       "      <td>53.464</td>\n",
       "      <td>0.092</td>\n",
       "    </tr>\n",
       "    <tr>\n",
       "      <th>std</th>\n",
       "      <td>2.056</td>\n",
       "      <td>0.594</td>\n",
       "      <td>0.999</td>\n",
       "      <td>4.310</td>\n",
       "      <td>0.511</td>\n",
       "    </tr>\n",
       "    <tr>\n",
       "      <th>min</th>\n",
       "      <td>1.000</td>\n",
       "      <td>0.000</td>\n",
       "      <td>99.500</td>\n",
       "      <td>39.370</td>\n",
       "      <td>0.000</td>\n",
       "    </tr>\n",
       "    <tr>\n",
       "      <th>25%</th>\n",
       "      <td>2.000</td>\n",
       "      <td>0.250</td>\n",
       "      <td>101.800</td>\n",
       "      <td>51.030</td>\n",
       "      <td>0.000</td>\n",
       "    </tr>\n",
       "    <tr>\n",
       "      <th>50%</th>\n",
       "      <td>3.000</td>\n",
       "      <td>0.360</td>\n",
       "      <td>102.300</td>\n",
       "      <td>53.630</td>\n",
       "      <td>0.000</td>\n",
       "    </tr>\n",
       "    <tr>\n",
       "      <th>75%</th>\n",
       "      <td>5.000</td>\n",
       "      <td>0.550</td>\n",
       "      <td>103.000</td>\n",
       "      <td>56.230</td>\n",
       "      <td>0.000</td>\n",
       "    </tr>\n",
       "    <tr>\n",
       "      <th>max</th>\n",
       "      <td>13.000</td>\n",
       "      <td>22.090</td>\n",
       "      <td>107.500</td>\n",
       "      <td>63.720</td>\n",
       "      <td>11.000</td>\n",
       "    </tr>\n",
       "  </tbody>\n",
       "</table>\n",
       "</div>"
      ],
      "text/plain": [
       "              합계       농지면적  전년대비농경체증감률    고령농경체비율    전년도이탈인원\n",
       "count  12449.000  12449.000   12449.000  12449.000  12449.000\n",
       "mean       3.395      0.496     102.359     53.464      0.092\n",
       "std        2.056      0.594       0.999      4.310      0.511\n",
       "min        1.000      0.000      99.500     39.370      0.000\n",
       "25%        2.000      0.250     101.800     51.030      0.000\n",
       "50%        3.000      0.360     102.300     53.630      0.000\n",
       "75%        5.000      0.550     103.000     56.230      0.000\n",
       "max       13.000     22.090     107.500     63.720     11.000"
      ]
     },
     "execution_count": 10,
     "metadata": {},
     "output_type": "execute_result"
    }
   ],
   "source": [
    "round(data[['합계','농지면적','전년대비농경체증감률','고령농경체비율','전년도이탈인원']].describe(),3)"
   ]
  },
  {
   "cell_type": "code",
   "execution_count": 11,
   "id": "75aca3d2-056f-452a-b9f5-2e45bfb9a667",
   "metadata": {},
   "outputs": [
    {
     "name": "stdout",
     "output_type": "stream",
     "text": [
      "2.555200000000004\n",
      "0.04\n"
     ]
    },
    {
     "data": {
      "image/png": "[encoded data removed]",
      "text/plain": [
       "<Figure size 432x288 with 1 Axes>"
      ]
     },
     "metadata": {},
     "output_type": "display_data"
    }
   ],
   "source": [
    "sns.rugplot(x='농지면적',data=data,height=1)\n",
    "print(data['농지면적'].quantile(0.99)) #2.5 이상의 농지면적 모두 이상치로 판단\n",
    "print(data['농지면적'].quantile(0.01)) #0.04이하의 농지면적 모두 이상치로 판단"
   ]
  },
  {
   "cell_type": "markdown",
   "id": "3715605e-f832-4306-9dbb-0c06643b16c4",
   "metadata": {},
   "source": [
    "- 분위값 확인"
   ]
  },
  {
   "cell_type": "code",
   "execution_count": 12,
   "id": "f8742024-e3e0-4eb4-9abe-c41034840380",
   "metadata": {},
   "outputs": [],
   "source": [
    "data=data.query('0.04<농지면적<2.5') #해당 면적 이상치로 판단하고 삭제"
   ]
  },
  {
   "cell_type": "markdown",
   "id": "383ba9d5-7c1f-4939-9ab7-7ff1370357da",
   "metadata": {},
   "source": [
    "# 합계 컬럼 이상치 제거"
   ]
  },
  {
   "cell_type": "code",
   "execution_count": 13,
   "id": "79748540-7583-4f02-9acf-e586749b9453",
   "metadata": {},
   "outputs": [
    {
     "name": "stdout",
     "output_type": "stream",
     "text": [
      "9.0\n",
      "1.0\n",
      "2     4276\n",
      "5     1765\n",
      "4     1720\n",
      "1     1645\n",
      "3     1171\n",
      "6      736\n",
      "9      442\n",
      "7      205\n",
      "8      180\n",
      "10      24\n",
      "12       7\n",
      "11       5\n",
      "13       1\n",
      "Name: 합계, dtype: int64\n"
     ]
    },
    {
     "data": {
      "image/png": "[encoded data removed]",
      "text/plain": [
       "<Figure size 432x288 with 1 Axes>"
      ]
     },
     "metadata": {},
     "output_type": "display_data"
    }
   ],
   "source": [
    "sns.histplot(x='합계',data=data)\n",
    "print(data['합계'].quantile(0.99)) \n",
    "print(data['합계'].quantile(0.01)) \n",
    "print(data['합계'].value_counts()) #10 이상의 합계인원은 이상치로 판단하여 제거"
   ]
  },
  {
   "cell_type": "code",
   "execution_count": 14,
   "id": "6ddc456e-0699-4342-a5a4-c29795cf1a21",
   "metadata": {},
   "outputs": [],
   "source": [
    "data=data.query('합계<11') #합계 11미만의 값만 추출"
   ]
  },
  {
   "cell_type": "markdown",
   "id": "4b27cb41-06bb-4d25-9ebd-7a463159e91b",
   "metadata": {},
   "source": [
    "## 4. 데이터 분할"
   ]
  },
  {
   "cell_type": "code",
   "execution_count": 15,
   "id": "b3d0601a-aa14-456d-b1fb-4a55536b733b",
   "metadata": {},
   "outputs": [],
   "source": [
    "# 작물 종류 기준 층화 추출 Train Test 비율 8:2\n",
    "X=data.drop(columns=['합계']) #독립변수 Set\n",
    "Y=data['합계'] #Target 변수 set\n",
    "\n",
    "# Train, Test 분할\n",
    "X_train, X_test, Y_train, Y_test=train_test_split(X,Y,test_size=0.2,stratify=X['작물종류'],random_state=42)\n",
    "\n",
    "# 2차 Train, Validation 분할\n",
    "X_train, X_valid, Y_train, Y_valid=train_test_split(X_train,Y_train,test_size=0.2,stratify=X_train['작물종류'],random_state=42)"
   ]
  },
  {
   "cell_type": "markdown",
   "id": "ee5c2d80-1892-424f-b798-2640882dd79f",
   "metadata": {},
   "source": [
    "## 5. 정규화 및 라벨 인코딩"
   ]
  },
  {
   "cell_type": "code",
   "execution_count": 16,
   "id": "f1e6f992-d33f-4295-98b4-0d3451704ceb",
   "metadata": {},
   "outputs": [],
   "source": [
    "# 연속형 변수 정규화\n",
    "min_max_scaler=MinMaxScaler()\n",
    "for i in X_train.columns:\n",
    "    if (X_train[i].dtypes!='object'):\n",
    "        X_train[i]=min_max_scaler.fit_transform(X_train[[i]])\n",
    "        X_valid[i]=min_max_scaler.transform(X_valid[[i]])\n",
    "        X_test[i]=min_max_scaler.transform(X_test[[i]])\n",
    "    else:\n",
    "        pass"
   ]
  },
  {
   "cell_type": "code",
   "execution_count": 17,
   "id": "a6a850ab-bf1e-4c90-9576-4f815e86469c",
   "metadata": {},
   "outputs": [],
   "source": [
    "# 범주형 변수 라벨 인코딩\n",
    "label_encoder=LabelEncoder()\n",
    "for i in X_train.columns:\n",
    "    if X_train[i].dtypes=='object':\n",
    "        X_train[i]=label_encoder.fit_transform(X_train[i])\n",
    "        X_valid[i]=label_encoder.transform(X_valid[i])\n",
    "        X_test[i]=label_encoder.transform(X_test[i])\n",
    "    else:\n",
    "        pass"
   ]
  },
  {
   "cell_type": "markdown",
   "id": "4be2efcb-ff8a-4260-bcef-36748b80cda2",
   "metadata": {},
   "source": [
    "## 6. 모델 적용"
   ]
  },
  {
   "cell_type": "markdown",
   "id": "43413178-199d-44b3-a91c-64d94bca4e21",
   "metadata": {},
   "source": [
    "- 주요 파라미터 설명\n",
    "\n",
    "- gamma(값이 클수록 과적합을 방지해줌)=> [0,∞], 기본값=0=> 손실감소량에 대한 임계치임\n",
    "ex) gamma가 2일때 loss가 2이하면 더 이상 트리 분할 X\n",
    "\n",
    "- max_depth= Tree maximum depth 값\n",
    "ex) 최대 가지 개수\n",
    "\n",
    "- subsample= 데이터 샘플링 비율\n",
    "ex) 0.8로 설정하면 각 트리가 학습할 때 전체 데이터의 80% 사용 => 과적합 방지\n",
    "-------------------------------------------------------------------------------------------------------------\n",
    "\n",
    "\n",
    "- 초기 파라미터\n",
    "- dart부스터 학습률 0.05, 한트리의 최대 깊이 8, 반복 학습 횟수 200회로 진행\n",
    "- XGBRegressor(booster='dart',learning_rate=0.05, max_depth=8, n_estimator=200)\n",
    "\n",
    "-------------------------------------------------------------------------------------------------------------\n",
    "\n",
    "- 파라미터 튜닝\n",
    "\n",
    "- 학습률 0.05~0.01\n",
    "\n",
    "- gamma 0~2\n",
    "\n",
    "- max_depth 6~9\n",
    "\n",
    "- subsample 0.5~1\n",
    "\n",
    "- 반복수 100~300"
   ]
  },
  {
   "cell_type": "markdown",
   "id": "bb8f7028-373d-4472-8e05-4d92aa7159b9",
   "metadata": {},
   "source": [
    "### 6.1 초기 모델 적용"
   ]
  },
  {
   "cell_type": "code",
   "execution_count": 18,
   "id": "2a70b94e-1bc4-4bb6-9f6e-eb905506556e",
   "metadata": {},
   "outputs": [
    {
     "name": "stdout",
     "output_type": "stream",
     "text": [
      "MAE: 1.29\n",
      "MSE: 3.13\n",
      "RMSE: 1.77\n",
      "RMSPE: 132.56%\n"
     ]
    },
    {
     "data": {
      "image/png": "[encoded data removed]",
      "text/plain": [
       "<Figure size 432x288 with 1 Axes>"
      ]
     },
     "metadata": {},
     "output_type": "display_data"
    }
   ],
   "source": [
    "# XGB regressor 모델 구축\n",
    "# dart부스터 학습률 0.05, 한트리의 최대 깊이 8, 반복 학습 횟수 200회로 진행\n",
    "\n",
    "model_reg=XGBRegressor(booster='dart',learning_rate=0.05, max_depth=8, n_estimator=200)\n",
    "\n",
    "# 모델 적용\n",
    "model_reg.fit(X_train,Y_train)\n",
    "\n",
    "# 변수 중요도 확인\n",
    "plot_importance(model_reg)\n",
    "\n",
    "# Test Data set 예측\n",
    "pred=model_reg.predict(X_test)\n",
    "\n",
    "# 인원 수 예측이기에 예측된 결과에 반올림 적용\n",
    "pred=pd.DataFrame(pred,columns=['예측값'])\n",
    "pred['예측값']=round(pred['예측값'],0)\n",
    "\n",
    "#평가지표 추출\n",
    "Evaluation_metric(Y_test,pred=pred['예측값'])"
   ]
  },
  {
   "cell_type": "code",
   "execution_count": 19,
   "id": "95394860-b5f1-4585-9a88-88bea83d0918",
   "metadata": {},
   "outputs": [
    {
     "name": "stdout",
     "output_type": "stream",
     "text": [
      "MAE: 8.59\n",
      "MSE: 148.24\n",
      "RMSE: 12.18\n",
      "RMSPE: 21.13%\n"
     ]
    }
   ],
   "source": [
    "# Test data Set에 예측 결과 결합하여 지자체 기준으로 예측 정확도 확인\n",
    "test_index=X_test.index.tolist()\n",
    "data_test=data_real.loc[test_index]\n",
    "data_test=data_test.reset_index()\n",
    "data_test.drop(columns=['index'],inplace=True)\n",
    "data_test['predict']=pred\n",
    "result=data_test.groupby(['지자체명_시도','지자체명_시군구'])[['합계','predict']].sum().reset_index()\n",
    "result_1=result.query('합계>10')\n",
    "\n",
    "Evaluation_metric(result_1['합계'],pred=result_1['predict'])"
   ]
  },
  {
   "cell_type": "markdown",
   "id": "4fc0ea9a-8cfe-4ba3-a1db-ddbbdcd20447",
   "metadata": {},
   "source": [
    "### 6.2  Bayesian Optimization 파라미터 튜닝"
   ]
  },
  {
   "cell_type": "code",
   "execution_count": 20,
   "id": "f261df65-c718-4467-82f3-841082e9d85c",
   "metadata": {},
   "outputs": [
    {
     "name": "stdout",
     "output_type": "stream",
     "text": [
      "|   iter    |  target   |   gamma   | learni... | max_depth | n_esti... | subsample |\n",
      "-------------------------------------------------------------------------------------\n",
      "| \u001b[0m1        \u001b[0m | \u001b[0m3.47     \u001b[0m | \u001b[0m1.859    \u001b[0m | \u001b[0m0.04277  \u001b[0m | \u001b[0m9.197    \u001b[0m | \u001b[0m219.0    \u001b[0m | \u001b[0m0.8545   \u001b[0m |\n",
      "| \u001b[95m2        \u001b[0m | \u001b[95m3.489    \u001b[0m | \u001b[95m1.069    \u001b[0m | \u001b[95m0.0443   \u001b[0m | \u001b[95m9.58     \u001b[0m | \u001b[95m273.4    \u001b[0m | \u001b[95m0.8963   \u001b[0m |\n",
      "| \u001b[0m3        \u001b[0m | \u001b[0m3.47     \u001b[0m | \u001b[0m1.786    \u001b[0m | \u001b[0m0.04003  \u001b[0m | \u001b[0m8.185    \u001b[0m | \u001b[0m201.2    \u001b[0m | \u001b[0m0.9829   \u001b[0m |\n",
      "| \u001b[0m4        \u001b[0m | \u001b[0m3.444    \u001b[0m | \u001b[0m1.794    \u001b[0m | \u001b[0m0.04658  \u001b[0m | \u001b[0m8.234    \u001b[0m | \u001b[0m277.4    \u001b[0m | \u001b[0m0.8944   \u001b[0m |\n",
      "| \u001b[0m5        \u001b[0m | \u001b[0m3.472    \u001b[0m | \u001b[0m1.627    \u001b[0m | \u001b[0m0.04393  \u001b[0m | \u001b[0m9.912    \u001b[0m | \u001b[0m215.4    \u001b[0m | \u001b[0m0.9373   \u001b[0m |\n",
      "| \u001b[0m6        \u001b[0m | \u001b[0m3.471    \u001b[0m | \u001b[0m1.563    \u001b[0m | \u001b[0m0.047    \u001b[0m | \u001b[0m8.358    \u001b[0m | \u001b[0m258.4    \u001b[0m | \u001b[0m0.908    \u001b[0m |\n",
      "| \u001b[0m7        \u001b[0m | \u001b[0m3.452    \u001b[0m | \u001b[0m1.643    \u001b[0m | \u001b[0m0.04236  \u001b[0m | \u001b[0m9.938    \u001b[0m | \u001b[0m288.8    \u001b[0m | \u001b[0m0.9509   \u001b[0m |\n",
      "| \u001b[0m8        \u001b[0m | \u001b[0m3.466    \u001b[0m | \u001b[0m1.263    \u001b[0m | \u001b[0m0.04942  \u001b[0m | \u001b[0m8.385    \u001b[0m | \u001b[0m226.4    \u001b[0m | \u001b[0m0.9267   \u001b[0m |\n",
      "| \u001b[0m9        \u001b[0m | \u001b[0m3.475    \u001b[0m | \u001b[0m1.811    \u001b[0m | \u001b[0m0.04538  \u001b[0m | \u001b[0m8.693    \u001b[0m | \u001b[0m219.8    \u001b[0m | \u001b[0m0.9947   \u001b[0m |\n",
      "| \u001b[0m10       \u001b[0m | \u001b[0m3.439    \u001b[0m | \u001b[0m1.958    \u001b[0m | \u001b[0m0.04815  \u001b[0m | \u001b[0m8.456    \u001b[0m | \u001b[0m229.7    \u001b[0m | \u001b[0m0.8708   \u001b[0m |\n",
      "| \u001b[95m11       \u001b[0m | \u001b[95m3.554    \u001b[0m | \u001b[95m1.0      \u001b[0m | \u001b[95m0.04329  \u001b[0m | \u001b[95m10.0     \u001b[0m | \u001b[95m272.0    \u001b[0m | \u001b[95m0.8953   \u001b[0m |\n",
      "| \u001b[0m12       \u001b[0m | \u001b[0m3.508    \u001b[0m | \u001b[0m1.015    \u001b[0m | \u001b[0m0.04372  \u001b[0m | \u001b[0m9.823    \u001b[0m | \u001b[0m271.3    \u001b[0m | \u001b[0m0.8896   \u001b[0m |\n",
      "| \u001b[0m13       \u001b[0m | \u001b[0m3.481    \u001b[0m | \u001b[0m1.245    \u001b[0m | \u001b[0m0.04039  \u001b[0m | \u001b[0m9.683    \u001b[0m | \u001b[0m272.2    \u001b[0m | \u001b[0m0.8507   \u001b[0m |\n",
      "| \u001b[0m14       \u001b[0m | \u001b[0m3.506    \u001b[0m | \u001b[0m1.166    \u001b[0m | \u001b[0m0.04745  \u001b[0m | \u001b[0m9.986    \u001b[0m | \u001b[0m272.2    \u001b[0m | \u001b[0m0.8715   \u001b[0m |\n",
      "| \u001b[0m15       \u001b[0m | \u001b[0m3.481    \u001b[0m | \u001b[0m1.344    \u001b[0m | \u001b[0m0.04282  \u001b[0m | \u001b[0m9.974    \u001b[0m | \u001b[0m271.9    \u001b[0m | \u001b[0m0.8861   \u001b[0m |\n",
      "| \u001b[0m16       \u001b[0m | \u001b[0m3.495    \u001b[0m | \u001b[0m1.28     \u001b[0m | \u001b[0m0.04347  \u001b[0m | \u001b[0m9.183    \u001b[0m | \u001b[0m224.1    \u001b[0m | \u001b[0m0.945    \u001b[0m |\n",
      "| \u001b[0m17       \u001b[0m | \u001b[0m3.464    \u001b[0m | \u001b[0m1.152    \u001b[0m | \u001b[0m0.04526  \u001b[0m | \u001b[0m8.831    \u001b[0m | \u001b[0m276.6    \u001b[0m | \u001b[0m0.8697   \u001b[0m |\n",
      "| \u001b[0m18       \u001b[0m | \u001b[0m3.513    \u001b[0m | \u001b[0m1.049    \u001b[0m | \u001b[0m0.04922  \u001b[0m | \u001b[0m9.685    \u001b[0m | \u001b[0m271.6    \u001b[0m | \u001b[0m0.8807   \u001b[0m |\n",
      "| \u001b[0m19       \u001b[0m | \u001b[0m3.456    \u001b[0m | \u001b[0m1.146    \u001b[0m | \u001b[0m0.04957  \u001b[0m | \u001b[0m8.782    \u001b[0m | \u001b[0m287.7    \u001b[0m | \u001b[0m0.9219   \u001b[0m |\n",
      "| \u001b[0m20       \u001b[0m | \u001b[0m3.482    \u001b[0m | \u001b[0m1.395    \u001b[0m | \u001b[0m0.04218  \u001b[0m | \u001b[0m8.597    \u001b[0m | \u001b[0m272.4    \u001b[0m | \u001b[0m0.9158   \u001b[0m |\n",
      "| \u001b[0m21       \u001b[0m | \u001b[0m3.469    \u001b[0m | \u001b[0m1.318    \u001b[0m | \u001b[0m0.04123  \u001b[0m | \u001b[0m9.209    \u001b[0m | \u001b[0m224.2    \u001b[0m | \u001b[0m0.8641   \u001b[0m |\n",
      "| \u001b[0m22       \u001b[0m | \u001b[0m3.452    \u001b[0m | \u001b[0m1.254    \u001b[0m | \u001b[0m0.04384  \u001b[0m | \u001b[0m8.87     \u001b[0m | \u001b[0m274.3    \u001b[0m | \u001b[0m0.9185   \u001b[0m |\n",
      "| \u001b[0m23       \u001b[0m | \u001b[0m3.432    \u001b[0m | \u001b[0m1.717    \u001b[0m | \u001b[0m0.04678  \u001b[0m | \u001b[0m8.023    \u001b[0m | \u001b[0m250.7    \u001b[0m | \u001b[0m0.9262   \u001b[0m |\n",
      "| \u001b[0m24       \u001b[0m | \u001b[0m3.485    \u001b[0m | \u001b[0m1.489    \u001b[0m | \u001b[0m0.0429   \u001b[0m | \u001b[0m9.671    \u001b[0m | \u001b[0m289.5    \u001b[0m | \u001b[0m0.9391   \u001b[0m |\n",
      "| \u001b[0m25       \u001b[0m | \u001b[0m3.41     \u001b[0m | \u001b[0m1.952    \u001b[0m | \u001b[0m0.04658  \u001b[0m | \u001b[0m8.673    \u001b[0m | \u001b[0m293.4    \u001b[0m | \u001b[0m0.9102   \u001b[0m |\n",
      "=====================================================================================\n",
      "최종 파라미터는 {'booster': 'dart', 'max_depth': 9, 'gamma': 1.9519441310610635, 'subsample': 0.9102431587915426, 'n_estimator': 293, 'learning_rate': 0.04658405144350519}입니다\n",
      "농업경영체별 평가지표 결과\n",
      "MAE: 1.27\n",
      "MSE: 3.08\n",
      "RMSE: 1.75\n",
      "RMSPE: 132.78%\n",
      "----------------------------------------------------------------------------------------------------\n",
      "배정신청인원 10명 이상 시군구 단위 평가지표\n",
      "MAE: 8.19\n",
      "MSE: 133.24\n",
      "RMSE: 11.54\n",
      "RMSPE: 21.09%\n"
     ]
    }
   ],
   "source": [
    "# 목적 함수 정의\n",
    "results = {\n",
    "    'max_depth': [],\n",
    "    'gamma': [],\n",
    "    'subsample': [],\n",
    "    'n_estimator': [],\n",
    "    'learning_rate': [],\n",
    "    'target': []  # 최적화 결과인 target 값 저장\n",
    "}\n",
    "\n",
    "def xgb_cv(max_depth, gamma, subsample, n_estimator, learning_rate):\n",
    "    params = {\n",
    "        'eval_metric': 'rmse',\n",
    "        'max_depth': int(max_depth),\n",
    "        'gamma': gamma,\n",
    "        'subsample': subsample,\n",
    "        'n_estimator': int(n_estimator),\n",
    "        'learning_rate': learning_rate,\n",
    "        'booster': 'dart'\n",
    "    }\n",
    "    \n",
    "    # XGBoost Regressor 모델 초기화\n",
    "    model_reg = xgb.XGBRegressor(**params)\n",
    "    \n",
    "    #model Train 학습\n",
    "    model_reg.fit(X_train,Y_train)\n",
    "    #model validation\n",
    "    scores = -cross_val_score(model_reg, X_valid, Y_valid, cv=5, scoring='neg_mean_squared_error').mean()\n",
    "    results['max_depth'].append(max_depth)\n",
    "    results['gamma'].append(gamma)\n",
    "    results['subsample'].append(subsample)\n",
    "    results['n_estimator'].append(n_estimator)\n",
    "    results['learning_rate'].append(learning_rate)\n",
    "    results['target'].append(scores)\n",
    "    return scores\n",
    "\n",
    "# Bayesian Optimization 수행\n",
    "xgbBO = BayesianOptimization(\n",
    "    xgb_cv,\n",
    "    {'max_depth': (8, 10),\n",
    "     'gamma': (1, 2),\n",
    "     'subsample': (0.85, 1.0),\n",
    "     'n_estimator': (200, 300),\n",
    "     'learning_rate': (0.04,0.05)}\n",
    ")\n",
    "\n",
    "# 최적화\n",
    "xgbBO.maximize(init_points=10, n_iter=15)\n",
    "\n",
    "idx_of_min=results['target'].index(min(results['target']))\n",
    "min_pam={'booster':'dart'}\n",
    "for key,value in results.items():\n",
    "    if key=='target':\n",
    "        pass\n",
    "    else:\n",
    "        if (key=='max_depth') or (key=='n_estimator'):\n",
    "            min_pam[key]=int(round(value[idx_of_min],0))\n",
    "        else:\n",
    "            min_pam[key]=value[idx_of_min]\n",
    "            \n",
    "print(f'최종 파라미터는 {min_pam}입니다')\n",
    "\n",
    "model_reg = xgb.XGBRegressor(**min_pam)\n",
    "model_reg.fit(X_train,Y_train)\n",
    "\n",
    "#예측값 \n",
    "pred=model_reg.predict(X_test)\n",
    "# 인원 수 예측이기에 예측된 결과에 반올림 적용\n",
    "pred=pd.DataFrame(pred,columns=['예측값'])\n",
    "#반올림\n",
    "pred['예측값']=round(pred['예측값'],0)\n",
    "#평가지표\n",
    "print('농업경영체별 평가지표 결과')\n",
    "Evaluation_metric(Y_test,pred=pred['예측값'])\n",
    "print('-'*100)\n",
    "\n",
    "test_index=X_test.index.tolist()\n",
    "data_test=data_real.loc[test_index]\n",
    "data_test=data_test.reset_index()\n",
    "data_test.drop(columns=['index'],inplace=True)\n",
    "#예측값\n",
    "data_test['predict']=pred\n",
    "result=data_test.groupby(['지자체명_시도','지자체명_시군구'])[['합계','predict']].sum().reset_index()\n",
    "result_1=result.query('합계>10')\n",
    "print('배정신청인원 10명 이상 시군구 단위 평가지표')\n",
    "Evaluation_metric(result_1['합계'],pred=result_1['predict'])"
   ]
  },
  {
   "cell_type": "markdown",
   "id": "72d8d6d0-777f-464e-864b-3e87c851ac77",
   "metadata": {},
   "source": [
    "# 6.3 OPTUNA 라이브러리 활용 파라미터 튜닝"
   ]
  },
  {
   "cell_type": "code",
   "execution_count": 21,
   "id": "48c414c9-a3aa-460b-9e26-3552ed0057c1",
   "metadata": {
    "collapsed": true,
    "jupyter": {
     "outputs_hidden": true
    },
    "tags": []
   },
   "outputs": [
    {
     "name": "stderr",
     "output_type": "stream",
     "text": [
      "[I 2023-12-07 13:41:31,729] A new study created in memory with name: no-name-d06744db-fe74-4d28-a458-e7594997b8c9\n",
      "[I 2023-12-07 13:41:34,101] Trial 0 finished with value: 1.3282535047976862 and parameters: {'max_depth': 10, 'gamma': 1.2412664368172812, 'subsample': 0.95, 'n_estimator': 365, 'learning_rate': 0.03326002083692385}. Best is trial 0 with value: 1.3282535047976862.\n",
      "[I 2023-12-07 13:41:36,118] Trial 1 finished with value: 1.327677651803556 and parameters: {'max_depth': 9, 'gamma': 1.5680771345880404, 'subsample': 0.95, 'n_estimator': 356, 'learning_rate': 0.03479443408137288}. Best is trial 1 with value: 1.327677651803556.\n",
      "[I 2023-12-07 13:41:38,225] Trial 2 finished with value: 1.323099244602166 and parameters: {'max_depth': 10, 'gamma': 1.961315061541749, 'subsample': 0.85, 'n_estimator': 261, 'learning_rate': 0.04736448065811888}. Best is trial 2 with value: 1.323099244602166.\n",
      "[I 2023-12-07 13:41:40,326] Trial 3 finished with value: 1.3212637309851742 and parameters: {'max_depth': 8, 'gamma': 1.1197564985845554, 'subsample': 1, 'n_estimator': 340, 'learning_rate': 0.045707204823071584}. Best is trial 3 with value: 1.3212637309851742.\n",
      "[I 2023-12-07 13:41:42,424] Trial 4 finished with value: 1.3242746429316006 and parameters: {'max_depth': 10, 'gamma': 1.0402186230477901, 'subsample': 0.85, 'n_estimator': 386, 'learning_rate': 0.03868439191882485}. Best is trial 3 with value: 1.3212637309851742.\n",
      "[I 2023-12-07 13:41:44,716] Trial 5 finished with value: 1.3219129276324617 and parameters: {'max_depth': 9, 'gamma': 1.0696200491575578, 'subsample': 0.8, 'n_estimator': 312, 'learning_rate': 0.03720210893409086}. Best is trial 3 with value: 1.3212637309851742.\n",
      "[I 2023-12-07 13:41:46,713] Trial 6 finished with value: 1.3311909649637828 and parameters: {'max_depth': 8, 'gamma': 1.0745617375112353, 'subsample': 0.9, 'n_estimator': 293, 'learning_rate': 0.0333135331615269}. Best is trial 3 with value: 1.3212637309851742.\n",
      "[I 2023-12-07 13:41:48,767] Trial 7 finished with value: 1.329343617972681 and parameters: {'max_depth': 9, 'gamma': 1.6475490784165507, 'subsample': 0.85, 'n_estimator': 241, 'learning_rate': 0.03225219378858731}. Best is trial 3 with value: 1.3212637309851742.\n",
      "[I 2023-12-07 13:41:51,107] Trial 8 finished with value: 1.3286428433169937 and parameters: {'max_depth': 10, 'gamma': 1.0580386902066374, 'subsample': 0.8, 'n_estimator': 204, 'learning_rate': 0.031571478526893175}. Best is trial 3 with value: 1.3212637309851742.\n",
      "[I 2023-12-07 13:41:53,111] Trial 9 finished with value: 1.319850537369174 and parameters: {'max_depth': 8, 'gamma': 1.6793703419980197, 'subsample': 0.9, 'n_estimator': 250, 'learning_rate': 0.04164037846642136}. Best is trial 9 with value: 1.319850537369174.\n",
      "[I 2023-12-07 13:41:55,062] Trial 10 finished with value: 1.3222982404656942 and parameters: {'max_depth': 8, 'gamma': 1.3444281698646283, 'subsample': 0.9, 'n_estimator': 208, 'learning_rate': 0.04290729941397539}. Best is trial 9 with value: 1.319850537369174.\n",
      "[I 2023-12-07 13:41:57,351] Trial 11 finished with value: 1.324807466943875 and parameters: {'max_depth': 8, 'gamma': 1.251801979493021, 'subsample': 1, 'n_estimator': 321, 'learning_rate': 0.042905615405152434}. Best is trial 9 with value: 1.319850537369174.\n",
      "[I 2023-12-07 13:41:59,782] Trial 12 finished with value: 1.318677399546658 and parameters: {'max_depth': 8, 'gamma': 1.5287458168551773, 'subsample': 1, 'n_estimator': 270, 'learning_rate': 0.04840576816561226}. Best is trial 12 with value: 1.318677399546658.\n",
      "[I 2023-12-07 13:42:02,002] Trial 13 finished with value: 1.3188311196500115 and parameters: {'max_depth': 8, 'gamma': 1.5541504011274236, 'subsample': 0.9, 'n_estimator': 269, 'learning_rate': 0.04943236176932636}. Best is trial 12 with value: 1.318677399546658.\n",
      "[I 2023-12-07 13:42:03,955] Trial 14 finished with value: 1.322647833860894 and parameters: {'max_depth': 8, 'gamma': 1.497849386335109, 'subsample': 1, 'n_estimator': 283, 'learning_rate': 0.04970569649467681}. Best is trial 12 with value: 1.318677399546658.\n",
      "[I 2023-12-07 13:42:06,052] Trial 15 finished with value: 1.3212777800479178 and parameters: {'max_depth': 9, 'gamma': 1.4480953559496412, 'subsample': 1, 'n_estimator': 276, 'learning_rate': 0.049690597145421414}. Best is trial 12 with value: 1.318677399546658.\n",
      "[I 2023-12-07 13:42:08,183] Trial 16 finished with value: 1.316551080286411 and parameters: {'max_depth': 8, 'gamma': 1.7439545608519496, 'subsample': 0.9, 'n_estimator': 232, 'learning_rate': 0.04573945342448335}. Best is trial 16 with value: 1.316551080286411.\n",
      "[I 2023-12-07 13:42:10,277] Trial 17 finished with value: 1.3184434958586768 and parameters: {'max_depth': 9, 'gamma': 1.806091352382929, 'subsample': 0.9, 'n_estimator': 227, 'learning_rate': 0.04497342848768156}. Best is trial 16 with value: 1.316551080286411.\n",
      "[I 2023-12-07 13:42:12,403] Trial 18 finished with value: 1.3214359833267204 and parameters: {'max_depth': 9, 'gamma': 1.8256994768717254, 'subsample': 0.9, 'n_estimator': 222, 'learning_rate': 0.04595570933239707}. Best is trial 16 with value: 1.316551080286411.\n",
      "[I 2023-12-07 13:42:14,656] Trial 19 finished with value: 1.319129336474183 and parameters: {'max_depth': 9, 'gamma': 1.9895729950091365, 'subsample': 0.9, 'n_estimator': 242, 'learning_rate': 0.04533869837684224}. Best is trial 16 with value: 1.316551080286411.\n",
      "[I 2023-12-07 13:42:16,715] Trial 20 finished with value: 1.3217800114175633 and parameters: {'max_depth': 9, 'gamma': 1.7514136731997894, 'subsample': 0.9, 'n_estimator': 227, 'learning_rate': 0.040783440506999766}. Best is trial 16 with value: 1.316551080286411.\n",
      "[I 2023-12-07 13:42:18,940] Trial 21 finished with value: 1.3169671731173962 and parameters: {'max_depth': 8, 'gamma': 1.8529290709932904, 'subsample': 1, 'n_estimator': 239, 'learning_rate': 0.04723992182149416}. Best is trial 16 with value: 1.316551080286411.\n",
      "[I 2023-12-07 13:42:20,931] Trial 22 finished with value: 1.3158117668042137 and parameters: {'max_depth': 8, 'gamma': 1.8483946458938478, 'subsample': 0.9, 'n_estimator': 225, 'learning_rate': 0.044226675606120265}. Best is trial 22 with value: 1.3158117668042137.\n",
      "[I 2023-12-07 13:42:23,004] Trial 23 finished with value: 1.3174055447992326 and parameters: {'max_depth': 8, 'gamma': 1.8824052447465394, 'subsample': 0.95, 'n_estimator': 202, 'learning_rate': 0.04729788924623025}. Best is trial 22 with value: 1.3158117668042137.\n",
      "[I 2023-12-07 13:42:25,459] Trial 24 finished with value: 1.3219043028066877 and parameters: {'max_depth': 8, 'gamma': 1.731893771873331, 'subsample': 0.8, 'n_estimator': 254, 'learning_rate': 0.04396221833522577}. Best is trial 22 with value: 1.3158117668042137.\n",
      "[I 2023-12-07 13:42:27,646] Trial 25 finished with value: 1.3214267732917069 and parameters: {'max_depth': 8, 'gamma': 1.8908359281621812, 'subsample': 1, 'n_estimator': 233, 'learning_rate': 0.04726049619729122}. Best is trial 22 with value: 1.3158117668042137.\n",
      "[I 2023-12-07 13:42:29,771] Trial 26 finished with value: 1.3271261471384417 and parameters: {'max_depth': 8, 'gamma': 1.6636829073087207, 'subsample': 0.9, 'n_estimator': 213, 'learning_rate': 0.04366103613565871}. Best is trial 22 with value: 1.3158117668042137.\n",
      "[I 2023-12-07 13:42:31,874] Trial 27 finished with value: 1.3229587499337374 and parameters: {'max_depth': 8, 'gamma': 1.8708707062656904, 'subsample': 0.9, 'n_estimator': 300, 'learning_rate': 0.04168581429353113}. Best is trial 22 with value: 1.3158117668042137.\n",
      "[I 2023-12-07 13:42:34,004] Trial 28 finished with value: 1.3225108025682604 and parameters: {'max_depth': 8, 'gamma': 1.7797137491101915, 'subsample': 1, 'n_estimator': 243, 'learning_rate': 0.04651219239489386}. Best is trial 22 with value: 1.3158117668042137.\n",
      "[I 2023-12-07 13:42:36,128] Trial 29 finished with value: 1.321891677642885 and parameters: {'max_depth': 8, 'gamma': 1.994442269508051, 'subsample': 0.95, 'n_estimator': 218, 'learning_rate': 0.04442640689384876}. Best is trial 22 with value: 1.3158117668042137.\n",
      "[I 2023-12-07 13:42:38,188] Trial 30 finished with value: 1.3177265676401428 and parameters: {'max_depth': 8, 'gamma': 1.5987833180970101, 'subsample': 0.85, 'n_estimator': 257, 'learning_rate': 0.04797189021308262}. Best is trial 22 with value: 1.3158117668042137.\n",
      "[I 2023-12-07 13:42:40,198] Trial 31 finished with value: 1.3207936935934215 and parameters: {'max_depth': 8, 'gamma': 1.8866195043613452, 'subsample': 0.95, 'n_estimator': 206, 'learning_rate': 0.04660282357940143}. Best is trial 22 with value: 1.3158117668042137.\n",
      "[I 2023-12-07 13:42:42,369] Trial 32 finished with value: 1.319404941494182 and parameters: {'max_depth': 8, 'gamma': 1.7165255569024627, 'subsample': 0.95, 'n_estimator': 234, 'learning_rate': 0.048610781683053335}. Best is trial 22 with value: 1.3158117668042137.\n",
      "[I 2023-12-07 13:42:44,817] Trial 33 finished with value: 1.31927560155797 and parameters: {'max_depth': 8, 'gamma': 1.9087011822538762, 'subsample': 0.95, 'n_estimator': 200, 'learning_rate': 0.047340653438724664}. Best is trial 22 with value: 1.3158117668042137.\n",
      "[I 2023-12-07 13:42:47,017] Trial 34 finished with value: 1.3189167991073913 and parameters: {'max_depth': 8, 'gamma': 1.8268441979508738, 'subsample': 0.95, 'n_estimator': 219, 'learning_rate': 0.045515807137303854}. Best is trial 22 with value: 1.3158117668042137.\n",
      "[I 2023-12-07 13:42:49,167] Trial 35 finished with value: 1.320168590937508 and parameters: {'max_depth': 9, 'gamma': 1.7469787412390745, 'subsample': 0.95, 'n_estimator': 200, 'learning_rate': 0.046776538457585996}. Best is trial 22 with value: 1.3158117668042137.\n",
      "[I 2023-12-07 13:42:51,139] Trial 36 finished with value: 1.318916490644936 and parameters: {'max_depth': 8, 'gamma': 1.9325180407830749, 'subsample': 0.8, 'n_estimator': 262, 'learning_rate': 0.04811915737610263}. Best is trial 22 with value: 1.3158117668042137.\n",
      "[I 2023-12-07 13:42:53,279] Trial 37 finished with value: 1.3187531586114603 and parameters: {'max_depth': 8, 'gamma': 1.6228768793869177, 'subsample': 0.95, 'n_estimator': 399, 'learning_rate': 0.044821606570667194}. Best is trial 22 with value: 1.3158117668042137.\n",
      "[I 2023-12-07 13:42:55,733] Trial 38 finished with value: 1.31683458054929 and parameters: {'max_depth': 10, 'gamma': 1.8283970078580376, 'subsample': 0.85, 'n_estimator': 333, 'learning_rate': 0.046425545205303675}. Best is trial 22 with value: 1.3158117668042137.\n",
      "[I 2023-12-07 13:42:58,478] Trial 39 finished with value: 1.318197118360444 and parameters: {'max_depth': 10, 'gamma': 1.697564586098218, 'subsample': 0.85, 'n_estimator': 336, 'learning_rate': 0.045892067927740664}. Best is trial 22 with value: 1.3158117668042137.\n",
      "[I 2023-12-07 13:43:00,614] Trial 40 finished with value: 1.322347993904588 and parameters: {'max_depth': 10, 'gamma': 1.8080228747251141, 'subsample': 0.85, 'n_estimator': 352, 'learning_rate': 0.04377147980146422}. Best is trial 22 with value: 1.3158117668042137.\n",
      "[I 2023-12-07 13:43:02,737] Trial 41 finished with value: 1.321063776290533 and parameters: {'max_depth': 10, 'gamma': 1.9502605366214332, 'subsample': 0.85, 'n_estimator': 327, 'learning_rate': 0.0472180187137723}. Best is trial 22 with value: 1.3158117668042137.\n",
      "[I 2023-12-07 13:43:04,949] Trial 42 finished with value: 1.31541725446704 and parameters: {'max_depth': 9, 'gamma': 1.8448593589364333, 'subsample': 0.85, 'n_estimator': 353, 'learning_rate': 0.04584960995187773}. Best is trial 42 with value: 1.31541725446704.\n",
      "[I 2023-12-07 13:43:07,125] Trial 43 finished with value: 1.3157868353476816 and parameters: {'max_depth': 10, 'gamma': 1.7813755937731925, 'subsample': 0.85, 'n_estimator': 363, 'learning_rate': 0.046159024046280896}. Best is trial 42 with value: 1.31541725446704.\n",
      "[I 2023-12-07 13:43:09,627] Trial 44 finished with value: 1.319913937363431 and parameters: {'max_depth': 10, 'gamma': 1.662748318231348, 'subsample': 0.85, 'n_estimator': 370, 'learning_rate': 0.045798221349715305}. Best is trial 42 with value: 1.31541725446704.\n",
      "[I 2023-12-07 13:43:12,035] Trial 45 finished with value: 1.3210416882235267 and parameters: {'max_depth': 10, 'gamma': 1.781770881316886, 'subsample': 0.85, 'n_estimator': 372, 'learning_rate': 0.044539637698440916}. Best is trial 42 with value: 1.31541725446704.\n",
      "[I 2023-12-07 13:43:14,334] Trial 46 finished with value: 1.3203065340250777 and parameters: {'max_depth': 10, 'gamma': 1.6161299724131388, 'subsample': 0.85, 'n_estimator': 356, 'learning_rate': 0.04302446397150446}. Best is trial 42 with value: 1.31541725446704.\n",
      "[I 2023-12-07 13:43:16,842] Trial 47 finished with value: 1.320962046744215 and parameters: {'max_depth': 10, 'gamma': 1.7152084686029923, 'subsample': 0.85, 'n_estimator': 342, 'learning_rate': 0.039095991936635384}. Best is trial 42 with value: 1.31541725446704.\n",
      "[I 2023-12-07 13:43:19,195] Trial 48 finished with value: 1.3226672171566751 and parameters: {'max_depth': 10, 'gamma': 1.9346939831770742, 'subsample': 0.85, 'n_estimator': 383, 'learning_rate': 0.04509383443993674}. Best is trial 42 with value: 1.31541725446704.\n",
      "[I 2023-12-07 13:43:21,532] Trial 49 finished with value: 1.3171694740369861 and parameters: {'max_depth': 9, 'gamma': 1.7756151150576769, 'subsample': 0.85, 'n_estimator': 359, 'learning_rate': 0.04886533870096382}. Best is trial 42 with value: 1.31541725446704.\n",
      "[I 2023-12-07 13:43:23,598] Trial 50 finished with value: 1.318101320134473 and parameters: {'max_depth': 9, 'gamma': 1.8510501521364027, 'subsample': 0.9, 'n_estimator': 311, 'learning_rate': 0.04629112249528044}. Best is trial 42 with value: 1.31541725446704.\n",
      "[I 2023-12-07 13:43:25,694] Trial 51 finished with value: 1.324160062905514 and parameters: {'max_depth': 10, 'gamma': 1.8422634038260008, 'subsample': 1, 'n_estimator': 346, 'learning_rate': 0.04660078097087814}. Best is trial 42 with value: 1.31541725446704.\n",
      "[I 2023-12-07 13:43:27,835] Trial 52 finished with value: 1.3160487054002916 and parameters: {'max_depth': 9, 'gamma': 1.9524357174444784, 'subsample': 0.85, 'n_estimator': 379, 'learning_rate': 0.04831768317134518}. Best is trial 42 with value: 1.31541725446704.\n",
      "[I 2023-12-07 13:43:29,872] Trial 53 finished with value: 1.3161129514315095 and parameters: {'max_depth': 9, 'gamma': 1.9932851687373159, 'subsample': 0.85, 'n_estimator': 389, 'learning_rate': 0.04898158049195868}. Best is trial 42 with value: 1.31541725446704.\n",
      "[I 2023-12-07 13:43:32,068] Trial 54 finished with value: 1.3186184364401137 and parameters: {'max_depth': 9, 'gamma': 1.9837600934795956, 'subsample': 0.85, 'n_estimator': 391, 'learning_rate': 0.04992391020248302}. Best is trial 42 with value: 1.31541725446704.\n",
      "[I 2023-12-07 13:43:34,033] Trial 55 finished with value: 1.3179158541136176 and parameters: {'max_depth': 9, 'gamma': 1.9436825171115621, 'subsample': 0.85, 'n_estimator': 378, 'learning_rate': 0.04894228971611113}. Best is trial 42 with value: 1.31541725446704.\n",
      "[I 2023-12-07 13:43:36,024] Trial 56 finished with value: 1.3166828276747364 and parameters: {'max_depth': 9, 'gamma': 1.991445914105804, 'subsample': 0.9, 'n_estimator': 400, 'learning_rate': 0.047870749006425635}. Best is trial 42 with value: 1.31541725446704.\n",
      "[I 2023-12-07 13:43:38,170] Trial 57 finished with value: 1.3148880732261528 and parameters: {'max_depth': 9, 'gamma': 1.9169860859502847, 'subsample': 0.85, 'n_estimator': 364, 'learning_rate': 0.048981373718991715}. Best is trial 57 with value: 1.3148880732261528.\n",
      "[I 2023-12-07 13:43:40,137] Trial 58 finished with value: 1.3154161642561464 and parameters: {'max_depth': 9, 'gamma': 1.9220948603634584, 'subsample': 0.85, 'n_estimator': 365, 'learning_rate': 0.04848333931710779}. Best is trial 57 with value: 1.3148880732261528.\n",
      "[I 2023-12-07 13:43:42,060] Trial 59 finished with value: 1.3172204083029773 and parameters: {'max_depth': 9, 'gamma': 1.908833797819203, 'subsample': 0.85, 'n_estimator': 373, 'learning_rate': 0.04795657555567121}. Best is trial 57 with value: 1.3148880732261528.\n",
      "[I 2023-12-07 13:43:44,170] Trial 60 finished with value: 1.3181029680023821 and parameters: {'max_depth': 9, 'gamma': 1.9138697519135999, 'subsample': 0.85, 'n_estimator': 350, 'learning_rate': 0.04940527182265356}. Best is trial 57 with value: 1.3148880732261528.\n",
      "[I 2023-12-07 13:43:46,109] Trial 61 finished with value: 1.3163686317851375 and parameters: {'max_depth': 9, 'gamma': 1.9507452220763533, 'subsample': 0.85, 'n_estimator': 361, 'learning_rate': 0.04896501423377613}. Best is trial 57 with value: 1.3148880732261528.\n",
      "[I 2023-12-07 13:43:48,085] Trial 62 finished with value: 1.3172227038318338 and parameters: {'max_depth': 9, 'gamma': 1.8628561865600552, 'subsample': 0.85, 'n_estimator': 389, 'learning_rate': 0.04995837779882258}. Best is trial 57 with value: 1.3148880732261528.\n",
      "[I 2023-12-07 13:43:50,172] Trial 63 finished with value: 1.3145839888803397 and parameters: {'max_depth': 9, 'gamma': 1.891356251555491, 'subsample': 0.85, 'n_estimator': 365, 'learning_rate': 0.04859768003638171}. Best is trial 63 with value: 1.3145839888803397.\n",
      "[I 2023-12-07 13:43:52,126] Trial 64 finished with value: 1.3199343503776673 and parameters: {'max_depth': 9, 'gamma': 1.7964524667906823, 'subsample': 0.8, 'n_estimator': 365, 'learning_rate': 0.04806547996488712}. Best is trial 63 with value: 1.3145839888803397.\n",
      "[I 2023-12-07 13:43:54,307] Trial 65 finished with value: 1.319279464257333 and parameters: {'max_depth': 9, 'gamma': 1.8689426843513013, 'subsample': 0.85, 'n_estimator': 380, 'learning_rate': 0.048402893833646224}. Best is trial 63 with value: 1.3145839888803397.\n",
      "[I 2023-12-07 13:43:56,382] Trial 66 finished with value: 1.312955387323161 and parameters: {'max_depth': 9, 'gamma': 1.899581370819358, 'subsample': 0.85, 'n_estimator': 369, 'learning_rate': 0.04761342488259613}. Best is trial 66 with value: 1.312955387323161.\n",
      "[I 2023-12-07 13:43:58,383] Trial 67 finished with value: 1.3146065780304614 and parameters: {'max_depth': 9, 'gamma': 1.7599322600441456, 'subsample': 0.85, 'n_estimator': 364, 'learning_rate': 0.04771094257344839}. Best is trial 66 with value: 1.312955387323161.\n",
      "[I 2023-12-07 13:44:00,517] Trial 68 finished with value: 1.3180595114100084 and parameters: {'max_depth': 9, 'gamma': 1.7861772169735082, 'subsample': 0.85, 'n_estimator': 363, 'learning_rate': 0.04936004291037583}. Best is trial 66 with value: 1.312955387323161.\n",
      "[I 2023-12-07 13:44:02,531] Trial 69 finished with value: 1.3168450143928705 and parameters: {'max_depth': 9, 'gamma': 1.6949426021335179, 'subsample': 0.85, 'n_estimator': 352, 'learning_rate': 0.04757581185464521}. Best is trial 66 with value: 1.312955387323161.\n",
      "[I 2023-12-07 13:44:04,567] Trial 70 finished with value: 1.3145653665157606 and parameters: {'max_depth': 9, 'gamma': 1.7584056192445665, 'subsample': 0.85, 'n_estimator': 342, 'learning_rate': 0.04705788343377998}. Best is trial 66 with value: 1.312955387323161.\n",
      "[I 2023-12-07 13:44:06,725] Trial 71 finished with value: 1.313538040940922 and parameters: {'max_depth': 9, 'gamma': 1.7639562468412424, 'subsample': 0.85, 'n_estimator': 367, 'learning_rate': 0.046913320939999927}. Best is trial 66 with value: 1.312955387323161.\n",
      "[I 2023-12-07 13:44:08,718] Trial 72 finished with value: 1.3155356657217268 and parameters: {'max_depth': 9, 'gamma': 1.895517103227659, 'subsample': 0.85, 'n_estimator': 369, 'learning_rate': 0.04712126019803192}. Best is trial 66 with value: 1.312955387323161.\n",
      "[I 2023-12-07 13:44:10,925] Trial 73 finished with value: 1.3143355428835766 and parameters: {'max_depth': 9, 'gamma': 1.740686268202173, 'subsample': 0.85, 'n_estimator': 343, 'learning_rate': 0.04763456805245988}. Best is trial 66 with value: 1.312955387323161.\n",
      "[I 2023-12-07 13:44:12,971] Trial 74 finished with value: 1.313531303871088 and parameters: {'max_depth': 9, 'gamma': 1.7219624357497985, 'subsample': 0.85, 'n_estimator': 345, 'learning_rate': 0.04761165461287956}. Best is trial 66 with value: 1.312955387323161.\n",
      "[I 2023-12-07 13:44:15,100] Trial 75 finished with value: 1.3163618149975354 and parameters: {'max_depth': 9, 'gamma': 1.753143185148823, 'subsample': 0.85, 'n_estimator': 345, 'learning_rate': 0.047737084176624846}. Best is trial 66 with value: 1.312955387323161.\n",
      "[I 2023-12-07 13:44:17,320] Trial 76 finished with value: 1.3135513816053708 and parameters: {'max_depth': 9, 'gamma': 1.677186995461537, 'subsample': 0.85, 'n_estimator': 317, 'learning_rate': 0.046771806219603154}. Best is trial 66 with value: 1.312955387323161.\n",
      "[I 2023-12-07 13:44:19,590] Trial 77 finished with value: 1.3179945667768418 and parameters: {'max_depth': 9, 'gamma': 1.6455941167663624, 'subsample': 0.85, 'n_estimator': 314, 'learning_rate': 0.04712815111826364}. Best is trial 66 with value: 1.312955387323161.\n",
      "[I 2023-12-07 13:44:22,279] Trial 78 finished with value: 1.3150096403738138 and parameters: {'max_depth': 9, 'gamma': 1.726082820598078, 'subsample': 0.8, 'n_estimator': 330, 'learning_rate': 0.046823566770277054}. Best is trial 66 with value: 1.312955387323161.\n",
      "[I 2023-12-07 13:44:24,414] Trial 79 finished with value: 1.315465658459225 and parameters: {'max_depth': 9, 'gamma': 1.66700708427593, 'subsample': 0.85, 'n_estimator': 322, 'learning_rate': 0.04758687988267507}. Best is trial 66 with value: 1.312955387323161.\n",
      "[I 2023-12-07 13:44:26,411] Trial 80 finished with value: 1.319003385828897 and parameters: {'max_depth': 9, 'gamma': 1.6967503801892119, 'subsample': 0.85, 'n_estimator': 341, 'learning_rate': 0.0454329228134811}. Best is trial 66 with value: 1.312955387323161.\n",
      "[I 2023-12-07 13:44:28,608] Trial 81 finished with value: 1.3132184778780709 and parameters: {'max_depth': 9, 'gamma': 1.7517258296811213, 'subsample': 0.85, 'n_estimator': 337, 'learning_rate': 0.04850757802597625}. Best is trial 66 with value: 1.312955387323161.\n",
      "[I 2023-12-07 13:44:30,692] Trial 82 finished with value: 1.3159432365885746 and parameters: {'max_depth': 9, 'gamma': 1.7442138326370384, 'subsample': 0.85, 'n_estimator': 326, 'learning_rate': 0.04685655992869515}. Best is trial 66 with value: 1.312955387323161.\n",
      "[I 2023-12-07 13:44:32,704] Trial 83 finished with value: 1.3181352681481784 and parameters: {'max_depth': 9, 'gamma': 1.8128748713307967, 'subsample': 0.85, 'n_estimator': 334, 'learning_rate': 0.047560250878312525}. Best is trial 66 with value: 1.312955387323161.\n",
      "[I 2023-12-07 13:44:34,973] Trial 84 finished with value: 1.3175177163935712 and parameters: {'max_depth': 9, 'gamma': 1.5796255576202276, 'subsample': 0.85, 'n_estimator': 309, 'learning_rate': 0.04834794153573074}. Best is trial 66 with value: 1.312955387323161.\n",
      "[I 2023-12-07 13:44:37,078] Trial 85 finished with value: 1.3187021675266606 and parameters: {'max_depth': 9, 'gamma': 1.6826405423548436, 'subsample': 0.85, 'n_estimator': 317, 'learning_rate': 0.049476644181255865}. Best is trial 66 with value: 1.312955387323161.\n",
      "[I 2023-12-07 13:44:39,290] Trial 86 finished with value: 1.3132326916418875 and parameters: {'max_depth': 9, 'gamma': 1.7560556593721315, 'subsample': 0.85, 'n_estimator': 305, 'learning_rate': 0.04626969038885817}. Best is trial 66 with value: 1.312955387323161.\n",
      "[I 2023-12-07 13:44:41,346] Trial 87 finished with value: 1.3193273293280148 and parameters: {'max_depth': 9, 'gamma': 1.7151183718247192, 'subsample': 0.85, 'n_estimator': 293, 'learning_rate': 0.046204676309445775}. Best is trial 66 with value: 1.312955387323161.\n",
      "[I 2023-12-07 13:44:43,569] Trial 88 finished with value: 1.3163661307779164 and parameters: {'max_depth': 9, 'gamma': 1.8135083617248757, 'subsample': 0.85, 'n_estimator': 302, 'learning_rate': 0.04540009351998299}. Best is trial 66 with value: 1.312955387323161.\n",
      "[I 2023-12-07 13:44:45,826] Trial 89 finished with value: 1.3145466879446444 and parameters: {'max_depth': 9, 'gamma': 1.6342618368347128, 'subsample': 0.8, 'n_estimator': 304, 'learning_rate': 0.04610788776130603}. Best is trial 66 with value: 1.312955387323161.\n",
      "[I 2023-12-07 13:44:47,931] Trial 90 finished with value: 1.3162416914639623 and parameters: {'max_depth': 9, 'gamma': 1.6290346229709565, 'subsample': 0.8, 'n_estimator': 292, 'learning_rate': 0.04499511933161687}. Best is trial 66 with value: 1.312955387323161.\n",
      "[I 2023-12-07 13:44:50,170] Trial 91 finished with value: 1.3109125663637808 and parameters: {'max_depth': 9, 'gamma': 1.7320738310299708, 'subsample': 0.8, 'n_estimator': 306, 'learning_rate': 0.0469093395107076}. Best is trial 91 with value: 1.3109125663637808.\n",
      "[I 2023-12-07 13:44:52,353] Trial 92 finished with value: 1.3193208415751954 and parameters: {'max_depth': 9, 'gamma': 1.6481161348118245, 'subsample': 0.8, 'n_estimator': 303, 'learning_rate': 0.04644255261655152}. Best is trial 91 with value: 1.3109125663637808.\n",
      "[I 2023-12-07 13:44:54,490] Trial 93 finished with value: 1.3139389831100174 and parameters: {'max_depth': 9, 'gamma': 1.7390114394052025, 'subsample': 0.8, 'n_estimator': 285, 'learning_rate': 0.046876602692591696}. Best is trial 91 with value: 1.3109125663637808.\n",
      "[I 2023-12-07 13:44:56,750] Trial 94 finished with value: 1.3183600544990732 and parameters: {'max_depth': 9, 'gamma': 1.7216097422242276, 'subsample': 0.8, 'n_estimator': 295, 'learning_rate': 0.04610229173828863}. Best is trial 91 with value: 1.3109125663637808.\n",
      "[I 2023-12-07 13:44:58,815] Trial 95 finished with value: 1.317692466558526 and parameters: {'max_depth': 9, 'gamma': 1.6739922269056737, 'subsample': 0.8, 'n_estimator': 280, 'learning_rate': 0.045689698340475815}. Best is trial 91 with value: 1.3109125663637808.\n",
      "[I 2023-12-07 13:45:00,999] Trial 96 finished with value: 1.3139413488052047 and parameters: {'max_depth': 9, 'gamma': 1.7035927300692264, 'subsample': 0.8, 'n_estimator': 288, 'learning_rate': 0.04680172712692165}. Best is trial 91 with value: 1.3109125663637808.\n",
      "[I 2023-12-07 13:45:03,263] Trial 97 finished with value: 1.3141841102270941 and parameters: {'max_depth': 9, 'gamma': 1.7009555804571372, 'subsample': 0.8, 'n_estimator': 283, 'learning_rate': 0.04670945139357461}. Best is trial 91 with value: 1.3109125663637808.\n",
      "[I 2023-12-07 13:45:05,347] Trial 98 finished with value: 1.3168396000747014 and parameters: {'max_depth': 9, 'gamma': 1.6990587566880537, 'subsample': 0.8, 'n_estimator': 284, 'learning_rate': 0.04683343952560971}. Best is trial 91 with value: 1.3109125663637808.\n",
      "[I 2023-12-07 13:45:07,580] Trial 99 finished with value: 1.3187336824952975 and parameters: {'max_depth': 9, 'gamma': 1.6054657470830385, 'subsample': 0.8, 'n_estimator': 282, 'learning_rate': 0.04465241768756131}. Best is trial 91 with value: 1.3109125663637808.\n",
      "[I 2023-12-07 13:45:09,603] Trial 100 finished with value: 1.312852305636139 and parameters: {'max_depth': 9, 'gamma': 1.8052878737870863, 'subsample': 0.8, 'n_estimator': 273, 'learning_rate': 0.04651719601511745}. Best is trial 91 with value: 1.3109125663637808.\n",
      "[I 2023-12-07 13:45:11,763] Trial 101 finished with value: 1.3150024677339307 and parameters: {'max_depth': 9, 'gamma': 1.7669394175235595, 'subsample': 0.8, 'n_estimator': 274, 'learning_rate': 0.046623161188653624}. Best is trial 91 with value: 1.3109125663637808.\n",
      "[I 2023-12-07 13:45:14,122] Trial 102 finished with value: 1.3184300083714873 and parameters: {'max_depth': 9, 'gamma': 1.8023105369399084, 'subsample': 0.8, 'n_estimator': 268, 'learning_rate': 0.04528222405730944}. Best is trial 91 with value: 1.3109125663637808.\n",
      "[I 2023-12-07 13:45:16,284] Trial 103 finished with value: 1.3202578622252743 and parameters: {'max_depth': 9, 'gamma': 1.832557445733032, 'subsample': 0.8, 'n_estimator': 289, 'learning_rate': 0.04727834694817864}. Best is trial 91 with value: 1.3109125663637808.\n",
      "[I 2023-12-07 13:45:18,543] Trial 104 finished with value: 1.3182053763130475 and parameters: {'max_depth': 9, 'gamma': 1.724989198378289, 'subsample': 0.8, 'n_estimator': 286, 'learning_rate': 0.045769312354366175}. Best is trial 91 with value: 1.3109125663637808.\n",
      "[I 2023-12-07 13:45:20,735] Trial 105 finished with value: 1.3172056731286266 and parameters: {'max_depth': 9, 'gamma': 1.780064341488272, 'subsample': 0.8, 'n_estimator': 308, 'learning_rate': 0.048212889954691154}. Best is trial 91 with value: 1.3109125663637808.\n",
      "[I 2023-12-07 13:45:22,896] Trial 106 finished with value: 1.3106399166565648 and parameters: {'max_depth': 9, 'gamma': 1.6771072349986085, 'subsample': 0.8, 'n_estimator': 266, 'learning_rate': 0.04674106017628428}. Best is trial 106 with value: 1.3106399166565648.\n",
      "[I 2023-12-07 13:45:25,215] Trial 107 finished with value: 1.317288786677991 and parameters: {'max_depth': 9, 'gamma': 1.6531771446257335, 'subsample': 0.8, 'n_estimator': 265, 'learning_rate': 0.04634379613088772}. Best is trial 106 with value: 1.3106399166565648.\n",
      "[I 2023-12-07 13:45:27,356] Trial 108 finished with value: 1.323461108166068 and parameters: {'max_depth': 9, 'gamma': 1.7430547970276062, 'subsample': 1, 'n_estimator': 298, 'learning_rate': 0.04724548731885669}. Best is trial 106 with value: 1.3106399166565648.\n",
      "[I 2023-12-07 13:45:29,523] Trial 109 finished with value: 1.3180680087608254 and parameters: {'max_depth': 9, 'gamma': 1.6716744136939754, 'subsample': 0.8, 'n_estimator': 271, 'learning_rate': 0.047976893440346856}. Best is trial 106 with value: 1.3106399166565648.\n",
      "[I 2023-12-07 13:45:31,558] Trial 110 finished with value: 1.3168349431365591 and parameters: {'max_depth': 9, 'gamma': 1.7936513551052211, 'subsample': 0.8, 'n_estimator': 257, 'learning_rate': 0.0469969007519716}. Best is trial 106 with value: 1.3106399166565648.\n",
      "[I 2023-12-07 13:45:33,610] Trial 111 finished with value: 1.3194732912148828 and parameters: {'max_depth': 9, 'gamma': 1.6975028200617641, 'subsample': 0.8, 'n_estimator': 278, 'learning_rate': 0.04648408790372411}. Best is trial 106 with value: 1.3106399166565648.\n",
      "[I 2023-12-07 13:45:35,870] Trial 112 finished with value: 1.3176464537320287 and parameters: {'max_depth': 9, 'gamma': 1.7659650587254738, 'subsample': 0.8, 'n_estimator': 274, 'learning_rate': 0.04594070110023582}. Best is trial 106 with value: 1.3106399166565648.\n",
      "[I 2023-12-07 13:45:38,031] Trial 113 finished with value: 1.313112123599099 and parameters: {'max_depth': 9, 'gamma': 1.831344355796864, 'subsample': 0.8, 'n_estimator': 287, 'learning_rate': 0.046846270399347203}. Best is trial 106 with value: 1.3106399166565648.\n",
      "[I 2023-12-07 13:45:40,154] Trial 114 finished with value: 1.317358883332153 and parameters: {'max_depth': 9, 'gamma': 1.8203897255824124, 'subsample': 0.8, 'n_estimator': 316, 'learning_rate': 0.048002515189496164}. Best is trial 106 with value: 1.3106399166565648.\n",
      "[I 2023-12-07 13:45:42,374] Trial 115 finished with value: 1.3139318517372434 and parameters: {'max_depth': 9, 'gamma': 1.8425439559440195, 'subsample': 0.8, 'n_estimator': 250, 'learning_rate': 0.04737833047286292}. Best is trial 106 with value: 1.3106399166565648.\n",
      "[I 2023-12-07 13:45:44,469] Trial 116 finished with value: 1.3140863150159212 and parameters: {'max_depth': 9, 'gamma': 1.8594682528717041, 'subsample': 0.8, 'n_estimator': 248, 'learning_rate': 0.04743347225084581}. Best is trial 106 with value: 1.3106399166565648.\n",
      "[I 2023-12-07 13:45:46,667] Trial 117 finished with value: 1.31235292390119 and parameters: {'max_depth': 9, 'gamma': 1.841983988044571, 'subsample': 0.8, 'n_estimator': 262, 'learning_rate': 0.04861124861986366}. Best is trial 106 with value: 1.3106399166565648.\n",
      "[I 2023-12-07 13:45:48,730] Trial 118 finished with value: 1.318063491910436 and parameters: {'max_depth': 9, 'gamma': 1.8775591044289743, 'subsample': 0.95, 'n_estimator': 260, 'learning_rate': 0.04882388763910285}. Best is trial 106 with value: 1.3106399166565648.\n",
      "[I 2023-12-07 13:45:50,763] Trial 119 finished with value: 1.3195990308713594 and parameters: {'max_depth': 9, 'gamma': 1.8396328437236762, 'subsample': 0.8, 'n_estimator': 255, 'learning_rate': 0.04855821064144025}. Best is trial 106 with value: 1.3106399166565648.\n",
      "[I 2023-12-07 13:45:52,947] Trial 120 finished with value: 1.3213684203750853 and parameters: {'max_depth': 9, 'gamma': 1.8003488756145907, 'subsample': 1, 'n_estimator': 249, 'learning_rate': 0.049329444993077516}. Best is trial 106 with value: 1.3106399166565648.\n",
      "[I 2023-12-07 13:45:55,086] Trial 121 finished with value: 1.3210726511680473 and parameters: {'max_depth': 9, 'gamma': 1.8372690033235606, 'subsample': 0.8, 'n_estimator': 263, 'learning_rate': 0.047971427477830196}. Best is trial 106 with value: 1.3106399166565648.\n",
      "[I 2023-12-07 13:45:57,212] Trial 122 finished with value: 1.3117788927825709 and parameters: {'max_depth': 9, 'gamma': 1.7703866816780829, 'subsample': 0.8, 'n_estimator': 322, 'learning_rate': 0.04753157563441333}. Best is trial 106 with value: 1.3106399166565648.\n",
      "[I 2023-12-07 13:45:59,396] Trial 123 finished with value: 1.312332991765105 and parameters: {'max_depth': 9, 'gamma': 1.8634001359151395, 'subsample': 0.8, 'n_estimator': 318, 'learning_rate': 0.0474730927527399}. Best is trial 106 with value: 1.3106399166565648.\n",
      "[I 2023-12-07 13:46:01,512] Trial 124 finished with value: 1.3126341069607963 and parameters: {'max_depth': 9, 'gamma': 1.871646801434975, 'subsample': 0.8, 'n_estimator': 321, 'learning_rate': 0.04835396004603547}. Best is trial 106 with value: 1.3106399166565648.\n",
      "[I 2023-12-07 13:46:03,705] Trial 125 finished with value: 1.3166850219338626 and parameters: {'max_depth': 9, 'gamma': 1.8825891706226554, 'subsample': 0.8, 'n_estimator': 323, 'learning_rate': 0.04845624740463061}. Best is trial 106 with value: 1.3106399166565648.\n",
      "[I 2023-12-07 13:46:05,707] Trial 126 finished with value: 1.3178693059167925 and parameters: {'max_depth': 9, 'gamma': 1.7765976654839002, 'subsample': 0.8, 'n_estimator': 337, 'learning_rate': 0.0477327988933312}. Best is trial 106 with value: 1.3106399166565648.\n",
      "[I 2023-12-07 13:46:07,731] Trial 127 finished with value: 1.3141309943147728 and parameters: {'max_depth': 9, 'gamma': 1.8691162768616154, 'subsample': 0.8, 'n_estimator': 307, 'learning_rate': 0.04913973195358544}. Best is trial 106 with value: 1.3106399166565648.\n",
      "[I 2023-12-07 13:46:09,998] Trial 128 finished with value: 1.3152157790120835 and parameters: {'max_depth': 9, 'gamma': 1.8122515096907952, 'subsample': 0.8, 'n_estimator': 330, 'learning_rate': 0.04972478518502462}. Best is trial 106 with value: 1.3106399166565648.\n",
      "[I 2023-12-07 13:46:12,052] Trial 129 finished with value: 1.3161889719363047 and parameters: {'max_depth': 9, 'gamma': 1.8938064458647859, 'subsample': 0.8, 'n_estimator': 298, 'learning_rate': 0.048739991170671675}. Best is trial 106 with value: 1.3106399166565648.\n",
      "[I 2023-12-07 13:46:14,132] Trial 130 finished with value: 1.3190571634844137 and parameters: {'max_depth': 9, 'gamma': 1.9270578464400372, 'subsample': 0.8, 'n_estimator': 325, 'learning_rate': 0.048250910207219756}. Best is trial 106 with value: 1.3106399166565648.\n",
      "[I 2023-12-07 13:46:16,370] Trial 131 finished with value: 1.3196994185631374 and parameters: {'max_depth': 9, 'gamma': 1.7600352716726584, 'subsample': 0.9, 'n_estimator': 311, 'learning_rate': 0.04734397875580791}. Best is trial 106 with value: 1.3106399166565648.\n",
      "[I 2023-12-07 13:46:18,420] Trial 132 finished with value: 1.3129176333064474 and parameters: {'max_depth': 9, 'gamma': 1.7882057614465736, 'subsample': 0.8, 'n_estimator': 320, 'learning_rate': 0.04756751710018136}. Best is trial 106 with value: 1.3106399166565648.\n",
      "[I 2023-12-07 13:46:20,694] Trial 133 finished with value: 1.3160345835996763 and parameters: {'max_depth': 9, 'gamma': 1.7882687165357, 'subsample': 0.8, 'n_estimator': 329, 'learning_rate': 0.0478443761493867}. Best is trial 106 with value: 1.3106399166565648.\n",
      "[I 2023-12-07 13:46:23,225] Trial 134 finished with value: 1.3148074282336124 and parameters: {'max_depth': 9, 'gamma': 1.8322761488905213, 'subsample': 0.8, 'n_estimator': 320, 'learning_rate': 0.04817515186802516}. Best is trial 106 with value: 1.3106399166565648.\n",
      "[I 2023-12-07 13:46:25,504] Trial 135 finished with value: 1.313956238639373 and parameters: {'max_depth': 9, 'gamma': 1.8107930303042814, 'subsample': 0.8, 'n_estimator': 318, 'learning_rate': 0.04860543931409667}. Best is trial 106 with value: 1.3106399166565648.\n",
      "[I 2023-12-07 13:46:27,650] Trial 136 finished with value: 1.3155631022264729 and parameters: {'max_depth': 9, 'gamma': 1.8674976892812196, 'subsample': 0.8, 'n_estimator': 375, 'learning_rate': 0.04761913984028962}. Best is trial 106 with value: 1.3106399166565648.\n",
      "[I 2023-12-07 13:46:29,839] Trial 137 finished with value: 1.314129264402463 and parameters: {'max_depth': 9, 'gamma': 1.7348155247678605, 'subsample': 0.8, 'n_estimator': 313, 'learning_rate': 0.04919124317587427}. Best is trial 106 with value: 1.3106399166565648.\n",
      "[I 2023-12-07 13:46:32,183] Trial 138 finished with value: 1.3186060351228248 and parameters: {'max_depth': 9, 'gamma': 1.9698865678761885, 'subsample': 0.8, 'n_estimator': 349, 'learning_rate': 0.04613619054337946}. Best is trial 106 with value: 1.3106399166565648.\n",
      "[I 2023-12-07 13:46:34,316] Trial 139 finished with value: 1.3136917585951888 and parameters: {'max_depth': 9, 'gamma': 1.7624611674376356, 'subsample': 0.8, 'n_estimator': 336, 'learning_rate': 0.047053614019958966}. Best is trial 106 with value: 1.3106399166565648.\n",
      "[I 2023-12-07 13:46:36,329] Trial 140 finished with value: 1.3115179898742535 and parameters: {'max_depth': 9, 'gamma': 1.9127502614281477, 'subsample': 0.8, 'n_estimator': 358, 'learning_rate': 0.04645621421891148}. Best is trial 106 with value: 1.3106399166565648.\n",
      "[I 2023-12-07 13:46:38,670] Trial 141 finished with value: 1.3176768886534813 and parameters: {'max_depth': 9, 'gamma': 1.9172477732268671, 'subsample': 0.8, 'n_estimator': 306, 'learning_rate': 0.0465210189752971}. Best is trial 106 with value: 1.3106399166565648.\n",
      "[I 2023-12-07 13:46:40,753] Trial 142 finished with value: 1.317893288474727 and parameters: {'max_depth': 9, 'gamma': 1.8557723975542415, 'subsample': 0.8, 'n_estimator': 358, 'learning_rate': 0.04552043723342207}. Best is trial 106 with value: 1.3106399166565648.\n",
      "[I 2023-12-07 13:46:43,033] Trial 143 finished with value: 1.3123181881387844 and parameters: {'max_depth': 9, 'gamma': 1.8987999956532178, 'subsample': 0.8, 'n_estimator': 354, 'learning_rate': 0.04738487955605917}. Best is trial 106 with value: 1.3106399166565648.\n",
      "[I 2023-12-07 13:46:45,121] Trial 144 finished with value: 1.3171305574388705 and parameters: {'max_depth': 9, 'gamma': 1.9590502458698005, 'subsample': 0.8, 'n_estimator': 348, 'learning_rate': 0.047811757286577175}. Best is trial 106 with value: 1.3106399166565648.\n",
      "[I 2023-12-07 13:46:47,214] Trial 145 finished with value: 1.3158883709263423 and parameters: {'max_depth': 9, 'gamma': 1.9352447107307893, 'subsample': 0.8, 'n_estimator': 354, 'learning_rate': 0.047162005907981856}. Best is trial 106 with value: 1.3106399166565648.\n",
      "[I 2023-12-07 13:46:49,414] Trial 146 finished with value: 1.315379076023621 and parameters: {'max_depth': 9, 'gamma': 1.8925624678015114, 'subsample': 0.8, 'n_estimator': 320, 'learning_rate': 0.04745197258276677}. Best is trial 106 with value: 1.3106399166565648.\n",
      "[I 2023-12-07 13:46:51,414] Trial 147 finished with value: 1.3176165827127622 and parameters: {'max_depth': 9, 'gamma': 1.908135346396081, 'subsample': 0.8, 'n_estimator': 339, 'learning_rate': 0.04834467400864729}. Best is trial 106 with value: 1.3106399166565648.\n",
      "[I 2023-12-07 13:46:53,513] Trial 148 finished with value: 1.3167070186499394 and parameters: {'max_depth': 9, 'gamma': 1.8301128174455301, 'subsample': 0.8, 'n_estimator': 355, 'learning_rate': 0.04651006920437601}. Best is trial 106 with value: 1.3106399166565648.\n",
      "[I 2023-12-07 13:46:55,575] Trial 149 finished with value: 1.325587030551834 and parameters: {'max_depth': 9, 'gamma': 1.797784682017388, 'subsample': 1, 'n_estimator': 332, 'learning_rate': 0.04497347641822913}. Best is trial 106 with value: 1.3106399166565648.\n"
     ]
    },
    {
     "name": "stdout",
     "output_type": "stream",
     "text": [
      "{'max_depth': 9, 'gamma': 1.6771072349986085, 'subsample': 0.8, 'n_estimator': 266, 'learning_rate': 0.04674106017628428}\n",
      "농업경영체별 평가지표 결과\n",
      "MAE: 1.28\n",
      "MSE: 3.1\n",
      "RMSE: 1.76\n",
      "RMSPE: 132.12%\n",
      "----------------------------------------------------------------------------------------------------\n",
      "배정신청인원 10명 이상 시군구 단위 평가지표\n",
      "MAE: 8.25\n",
      "MSE: 133.08\n",
      "RMSE: 11.54\n",
      "RMSPE: 20.47%\n"
     ]
    }
   ],
   "source": [
    "def objective(trial):\n",
    "    params={\n",
    "        'objective': 'reg:squarederror',\n",
    "        'eval_metric': 'rmse',\n",
    "        'max_depth': trial.suggest_int('max_depth',8,10), #8~10 정수중 택 1\n",
    "        'gamma': trial.suggest_loguniform('gamma',1,2),\n",
    "        'subsample': trial.suggest_categorical('subsample',[0.8,0.85,0.90,0.95,1]),\n",
    "        'n_estimator': trial.suggest_int('n_estimator',200,400),\n",
    "        'learning_rate': trial.suggest_float('learning_rate',0.03,0.05),\n",
    "        'booster': trial.suggest_categorical('booster', ['gbtree', 'gblinear', 'dart']),\n",
    "        'lambda': trial.suggest_loguniform('lambda', 1e-8, 1.0),\n",
    "        'alpha': trial.suggest_loguniform('alpha', 1e-8, 1.0),                                        \n",
    "    }\n",
    "    # 학습 모델 생성\n",
    "    model_reg=xgb.XGBRegressor(**params)\n",
    "    \n",
    "    #트레인 셋 학습\n",
    "    model_reg.fit(X_train,Y_train)\n",
    "    \n",
    "    #검증 데이터 셋으로 모델 검증\n",
    "    score = mean_absolute_error(model_reg.predict(X_valid), Y_valid)\n",
    "    return score\n",
    "\n",
    "study=optuna.create_study(direction='minimize')\n",
    "study.optimize(objective, n_trials=150)\n",
    "\n",
    "# 최적화된 파라미터 값 확인\n",
    "best_params = study.best_params\n",
    "print(best_params)\n",
    "\n",
    "model_reg = xgb.XGBRegressor(**best_params)\n",
    "model_reg.fit(X_train,Y_train)\n",
    "\n",
    "#예측값 \n",
    "pred=model_reg.predict(X_test)\n",
    "# 인원 수 예측이기에 예측된 결과에 반올림 적용\n",
    "pred=pd.DataFrame(pred,columns=['예측값'])\n",
    "#반올림\n",
    "pred['예측값']=round(pred['예측값'],0)\n",
    "#평가지표\n",
    "print('농업경영체별 평가지표 결과')\n",
    "Evaluation_metric(Y_test,pred=pred['예측값'])\n",
    "print('-'*100)\n",
    "\n",
    "test_index=X_test.index.tolist()\n",
    "data_test=data_real.loc[test_index]\n",
    "data_test=data_test.reset_index()\n",
    "data_test.drop(columns=['index'],inplace=True)\n",
    "#예측값\n",
    "data_test['predict']=pred\n",
    "result=data_test.groupby(['지자체명_시도','지자체명_시군구'])[['합계','predict']].sum().reset_index()\n",
    "result_1=result.query('합계>10')\n",
    "print('배정신청인원 10명 이상 시군구 단위 평가지표')\n",
    "Evaluation_metric(result_1['합계'],pred=result_1['predict'])"
   ]
  },
  {
   "cell_type": "markdown",
   "id": "99c8df76-9caf-4ef9-bbf3-b26eee6acc46",
   "metadata": {},
   "source": [
    "## 7. 결과 활용 및 해석"
   ]
  },
  {
   "cell_type": "code",
   "execution_count": 38,
   "id": "0ae69de8-bb29-460a-9433-26bc85ca69a6",
   "metadata": {},
   "outputs": [],
   "source": [
    "result_1['오차']=(result_1['predict']-result_1['합계'])/result_1['합계']"
   ]
  },
  {
   "cell_type": "code",
   "execution_count": 39,
   "id": "56f9af6a-b65b-4bbf-b39f-9ffc32bc8204",
   "metadata": {},
   "outputs": [
    {
     "data": {
      "text/html": [
       "<div>\n",
       "<style scoped>\n",
       "    .dataframe tbody tr th:only-of-type {\n",
       "        vertical-align: middle;\n",
       "    }\n",
       "\n",
       "    .dataframe tbody tr th {\n",
       "        vertical-align: top;\n",
       "    }\n",
       "\n",
       "    .dataframe thead th {\n",
       "        text-align: right;\n",
       "    }\n",
       "</style>\n",
       "<table border=\"1\" class=\"dataframe\">\n",
       "  <thead>\n",
       "    <tr style=\"text-align: right;\">\n",
       "      <th></th>\n",
       "      <th>지자체명_시도</th>\n",
       "      <th>지자체명_시군구</th>\n",
       "      <th>합계</th>\n",
       "      <th>predict</th>\n",
       "      <th>오차</th>\n",
       "    </tr>\n",
       "  </thead>\n",
       "  <tbody>\n",
       "    <tr>\n",
       "      <th>0</th>\n",
       "      <td>강원도</td>\n",
       "      <td>삼척시</td>\n",
       "      <td>48</td>\n",
       "      <td>46.0</td>\n",
       "      <td>-0.041667</td>\n",
       "    </tr>\n",
       "    <tr>\n",
       "      <th>1</th>\n",
       "      <td>강원도</td>\n",
       "      <td>양구군</td>\n",
       "      <td>288</td>\n",
       "      <td>295.0</td>\n",
       "      <td>0.024306</td>\n",
       "    </tr>\n",
       "    <tr>\n",
       "      <th>2</th>\n",
       "      <td>강원도</td>\n",
       "      <td>영월군</td>\n",
       "      <td>44</td>\n",
       "      <td>49.0</td>\n",
       "      <td>0.113636</td>\n",
       "    </tr>\n",
       "    <tr>\n",
       "      <th>3</th>\n",
       "      <td>강원도</td>\n",
       "      <td>원주시</td>\n",
       "      <td>16</td>\n",
       "      <td>7.0</td>\n",
       "      <td>-0.562500</td>\n",
       "    </tr>\n",
       "    <tr>\n",
       "      <th>4</th>\n",
       "      <td>강원도</td>\n",
       "      <td>인제군</td>\n",
       "      <td>184</td>\n",
       "      <td>197.0</td>\n",
       "      <td>0.070652</td>\n",
       "    </tr>\n",
       "    <tr>\n",
       "      <th>...</th>\n",
       "      <td>...</td>\n",
       "      <td>...</td>\n",
       "      <td>...</td>\n",
       "      <td>...</td>\n",
       "      <td>...</td>\n",
       "    </tr>\n",
       "    <tr>\n",
       "      <th>110</th>\n",
       "      <td>충청북도</td>\n",
       "      <td>음성군</td>\n",
       "      <td>163</td>\n",
       "      <td>141.0</td>\n",
       "      <td>-0.134969</td>\n",
       "    </tr>\n",
       "    <tr>\n",
       "      <th>111</th>\n",
       "      <td>충청북도</td>\n",
       "      <td>제천시</td>\n",
       "      <td>23</td>\n",
       "      <td>40.0</td>\n",
       "      <td>0.739130</td>\n",
       "    </tr>\n",
       "    <tr>\n",
       "      <th>112</th>\n",
       "      <td>충청북도</td>\n",
       "      <td>진천군</td>\n",
       "      <td>102</td>\n",
       "      <td>105.0</td>\n",
       "      <td>0.029412</td>\n",
       "    </tr>\n",
       "    <tr>\n",
       "      <th>113</th>\n",
       "      <td>충청북도</td>\n",
       "      <td>청주시</td>\n",
       "      <td>46</td>\n",
       "      <td>57.0</td>\n",
       "      <td>0.239130</td>\n",
       "    </tr>\n",
       "    <tr>\n",
       "      <th>114</th>\n",
       "      <td>충청북도</td>\n",
       "      <td>충주시</td>\n",
       "      <td>79</td>\n",
       "      <td>70.0</td>\n",
       "      <td>-0.113924</td>\n",
       "    </tr>\n",
       "  </tbody>\n",
       "</table>\n",
       "<p>99 rows × 5 columns</p>\n",
       "</div>"
      ],
      "text/plain": [
       "    지자체명_시도 지자체명_시군구   합계  predict        오차\n",
       "0       강원도      삼척시   48     46.0 -0.041667\n",
       "1       강원도      양구군  288    295.0  0.024306\n",
       "2       강원도      영월군   44     49.0  0.113636\n",
       "3       강원도      원주시   16      7.0 -0.562500\n",
       "4       강원도      인제군  184    197.0  0.070652\n",
       "..      ...      ...  ...      ...       ...\n",
       "110    충청북도      음성군  163    141.0 -0.134969\n",
       "111    충청북도      제천시   23     40.0  0.739130\n",
       "112    충청북도      진천군  102    105.0  0.029412\n",
       "113    충청북도      청주시   46     57.0  0.239130\n",
       "114    충청북도      충주시   79     70.0 -0.113924\n",
       "\n",
       "[99 rows x 5 columns]"
      ]
     },
     "execution_count": 39,
     "metadata": {},
     "output_type": "execute_result"
    }
   ],
   "source": [
    "result_1"
   ]
  },
  {
   "cell_type": "code",
   "execution_count": 55,
   "id": "6a6dfa70-43df-4c73-b43b-5a174c49b079",
   "metadata": {},
   "outputs": [],
   "source": [
    "조치사항=[]\n",
    "for i in result_1.index:\n",
    "    if abs(result_1.loc[i,'오차']) <= 0.1:\n",
    "        조치사항.append('현행유지')\n",
    "    elif result_1.loc[i,'오차']>0.1:\n",
    "        조치사항.append('배정감축')\n",
    "    elif result_1.loc[i,'오차']<-0.1:\n",
    "        조치사항.append('추가배정')\n",
    "\n",
    "        \n",
    "result_1['조치사항']=조치사항\n",
    "result_1.to_csv('최종예측 결과_XGBoost.csv',encoding='EUC-KR')"
   ]
  },
  {
   "cell_type": "code",
   "execution_count": null,
   "id": "3375dc0c-722b-4512-a132-ac78abe6cba8",
   "metadata": {},
   "outputs": [],
   "source": []
  }
 ],
 "metadata": {
  "kernelspec": {
   "display_name": "Python 3 (ipykernel)",
   "language": "python",
   "name": "python3"
  },
  "language_info": {
   "codemirror_mode": {
    "name": "ipython",
    "version": 3
   },
   "file_extension": ".py",
   "mimetype": "text/x-python",
   "name": "python",
   "nbconvert_exporter": "python",
   "pygments_lexer": "ipython3",
   "version": "3.9.7"
  }
 },
 "nbformat": 4,
 "nbformat_minor": 5
}
