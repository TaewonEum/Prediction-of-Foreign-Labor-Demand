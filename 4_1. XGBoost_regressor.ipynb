{
 "cells": [
  {
   "cell_type": "markdown",
   "id": "a170d4f8-b195-413d-ab85-00ed0907783f",
   "metadata": {},
   "source": [
    "# XGBoost Regression 목차\n",
    "\n",
    "## 0. 분석 환경 확인\n",
    "\n",
    "## 1. 패키지 로드\n",
    "\n",
    "## 2. 데이터 로드\n",
    "\n",
    "## 3. 분포 확인 및 이상치 제거\n",
    "\n",
    "## 4. 데이터 분할\n",
    "\n",
    "## 5. 정규화 및 라벨 인코딩\n",
    "\n",
    "## 6. 모델 적용\n",
    "\n",
    "### 6.1 초기 모델 적용\n",
    "\n",
    "### 6.2 파라마터 튜닝-1\n",
    "\n",
    "### 6.3 파리미터 튜닝-2\n",
    "\n",
    "## 7. 파라미터 튜닝\n",
    "\n",
    "## 8. 결과 활용 및 해석"
   ]
  },
  {
   "cell_type": "markdown",
   "id": "6b27ba00-ab75-4623-a119-b80dfeecd019",
   "metadata": {},
   "source": [
    "## 0.분석 환경 확인"
   ]
  },
  {
   "cell_type": "code",
   "execution_count": 34,
   "id": "4faf9695-7f4f-470e-8292-da4e20ab8d2f",
   "metadata": {},
   "outputs": [
    {
     "name": "stdout",
     "output_type": "stream",
     "text": [
      "C:\\Users\\user\\Desktop\\법무부_파이썬분석\\시연관련데이터\n",
      "C:\\Users\\user\\Desktop\\법무부_파이썬분석\\시연관련데이터\n"
     ]
    }
   ],
   "source": [
    "import os\n",
    "#현재 디렉토리 확인\n",
    "print(os.getcwd())\n",
    "# 분석 디렉토리로 이동\n",
    "os.chdir('C:\\\\Users\\\\user\\\\Desktop\\\\법무부_파이썬분석\\\\시연관련데이터')\n",
    "print(os.getcwd())\n",
    "\n",
    "#시드고정\n",
    "def seed_everything(seed):\n",
    "    random.seed(seed)\n",
    "    os.environ['PYTHONHASHSEED'] = str(seed)\n",
    "    np.random.seed(seed)\n",
    "seed_everything(42) # Seed 고정"
   ]
  },
  {
   "cell_type": "markdown",
   "id": "d97ced80-4532-44de-9496-180292e6e248",
   "metadata": {},
   "source": [
    "# MAE & mse & Rmse & Rmspe\n",
    "\n",
    "- MAE=실제값과 예측값 사이의 절대값의 평균=> 크면 클 수록 예측력이 낮은 것\n",
    "- MSE=실제값과 예측값 사이의 차이를 제곱한 평균\n",
    "- RMSE=MSE에 루트를 취한 값\n",
    "- RMSPE=예측 오차를 실제값으로 나눈후 제곱하여 평균을 측정한 제곱근임"
   ]
  },
  {
   "cell_type": "code",
   "execution_count": 51,
   "id": "0c28226b-ef8a-46ca-82e0-0fd8cd889ef7",
   "metadata": {},
   "outputs": [],
   "source": [
    "# # MAE\n",
    "# def Evaluation_metric(actual,pred):\n",
    "#     print(f'MAE: {round(mean_absolute_error(actual,pred),2)}')\n",
    "#     print(f'MSE: {round(mean_squared_error(actual,pred),2)}')\n",
    "#     print(f'RMSE: {round(sqrt(mean_squared_error(actual,pred)),2)}')\n",
    "#     print(f'RMSPE: {round(sqrt(mean_squared_error(actual,pred))/np.mean(actual)*100,2)}%')"
   ]
  },
  {
   "cell_type": "code",
   "execution_count": 58,
   "id": "7214efc7-a4df-49ef-807e-0e4608305c18",
   "metadata": {},
   "outputs": [],
   "source": [
    "# 성능지표 추출\n",
    "def Evaluation_metric(actual,pred):\n",
    "    print(f'MAE: {round(mean_absolute_error(actual,pred),2)}')\n",
    "    print(f'MSE: {round(mean_squared_error(actual,pred),2)}')\n",
    "    print(f'RMSE: {round(sqrt(mean_squared_error(actual,pred)),2)}')\n",
    "    #print(f'RMSPE: {round(sqrt(mean_squared_error(actual,pred))/np.mean(actual)*100,2)}%')\n",
    "    print(f'RMSPE: {round(np.sqrt(np.mean(((actual - pred) / actual) ** 2)) * 100, 2)}%')"
   ]
  },
  {
   "cell_type": "markdown",
   "id": "9f47b9d4-265c-4f4f-bf59-a8c845a52510",
   "metadata": {},
   "source": [
    "## 1. 패키지 로드"
   ]
  },
  {
   "cell_type": "code",
   "execution_count": 19,
   "id": "67f9cdf8-b6db-4505-b380-ba966bdd5079",
   "metadata": {},
   "outputs": [],
   "source": [
    "import pandas as pd\n",
    "import numpy as np\n",
    "import random\n",
    "import os\n",
    "import seaborn as sns\n",
    "import matplotlib.pyplot as plt\n",
    "plt.rcParams['font.family'] = 'Malgun Gothic'\n",
    "sns.set(font=\"Malgun Gothic\")\n",
    "import warnings\n",
    "warnings.filterwarnings('ignore')\n",
    "from sklearn.preprocessing import MinMaxScaler\n",
    "from sklearn.preprocessing import LabelEncoder\n",
    "\n",
    "from sklearn.model_selection import train_test_split\n",
    "from sklearn.metrics import mean_absolute_error, mean_squared_error\n",
    "from math import sqrt\n",
    "from sklearn.model_selection import train_test_split\n",
    "\n",
    "import xgboost as xgb\n",
    "from xgboost import plot_importance \n",
    "from xgboost import XGBRegressor\n",
    "\n",
    "from bayes_opt import BayesianOptimization\n",
    "from sklearn.model_selection import cross_val_score\n",
    "import optuna"
   ]
  },
  {
   "cell_type": "markdown",
   "id": "75b74072-debc-4ff1-bc38-e43cef9bbab9",
   "metadata": {},
   "source": [
    "## 2. 데이터 로드"
   ]
  },
  {
   "cell_type": "code",
   "execution_count": 21,
   "id": "9ee13115-6d6b-4fb6-976f-64277eb115f4",
   "metadata": {},
   "outputs": [
    {
     "data": {
      "text/plain": [
       "14"
      ]
     },
     "execution_count": 21,
     "metadata": {},
     "output_type": "execute_result"
    }
   ],
   "source": [
    "len(os.listdir())"
   ]
  },
  {
   "cell_type": "code",
   "execution_count": 22,
   "id": "6e78f47b-a926-46bb-b0ee-efbe68391150",
   "metadata": {},
   "outputs": [],
   "source": [
    "# Train, Valid, Test Split용 데이터\n",
    "data=pd.read_csv(os.listdir()[13],encoding='EUC-KR')\n",
    "# 지표 확인용 데20\n",
    "data_real=pd.read_csv(os.listdir()[13],encoding='EUC-KR')\n",
    "# 배정신청인원 0명 제거\n",
    "data=data.query('합계!=0')\n",
    "#필요 컬럼 추출\n",
    "selected_columns_1=['구분','합계', '작물 종류','농지면적(실제경작)','전년대비농경체증감률','고령농경체비율','전년도이탈인원','전년도활용여부']\n",
    "selected_columns_2=['비고', '지자체명_시도', '지자체명_시군구', '구분', '농업경영체','합계', '작물 종류','농지면적(실제경작)','전년대비농경체증감률','고령농경체비율','전년도이탈인원','전년도활용여부'] #원본 데이터 컬럼\n",
    "data=data[selected_columns_1]\n",
    "data_real=data_real[selected_columns_2]\n",
    "# 농지면적(실제경작) 컬럼명 변경\n",
    "data.rename(columns={'농지면적(실제경작)':'농지면적','작물 종류':'작물종류'},inplace=True)"
   ]
  },
  {
   "cell_type": "markdown",
   "id": "5c1abbe1-1162-4049-85ee-1b445807f52f",
   "metadata": {},
   "source": [
    "## 3. 분포 확인 및 이상치 제거\n",
    "\n",
    "이상치 제거 필요 컬럼\n",
    "- 농지면적 \n",
    "- 합계"
   ]
  },
  {
   "cell_type": "code",
   "execution_count": 23,
   "id": "45887c62-e91a-462b-be83-4ad189b5514b",
   "metadata": {},
   "outputs": [
    {
     "data": {
      "text/html": [
       "<div>\n",
       "<style scoped>\n",
       "    .dataframe tbody tr th:only-of-type {\n",
       "        vertical-align: middle;\n",
       "    }\n",
       "\n",
       "    .dataframe tbody tr th {\n",
       "        vertical-align: top;\n",
       "    }\n",
       "\n",
       "    .dataframe thead th {\n",
       "        text-align: right;\n",
       "    }\n",
       "</style>\n",
       "<table border=\"1\" class=\"dataframe\">\n",
       "  <thead>\n",
       "    <tr style=\"text-align: right;\">\n",
       "      <th></th>\n",
       "      <th>합계</th>\n",
       "      <th>농지면적</th>\n",
       "      <th>전년대비농경체증감률</th>\n",
       "      <th>고령농경체비율</th>\n",
       "      <th>전년도이탈인원</th>\n",
       "    </tr>\n",
       "  </thead>\n",
       "  <tbody>\n",
       "    <tr>\n",
       "      <th>count</th>\n",
       "      <td>12449.000</td>\n",
       "      <td>12449.000</td>\n",
       "      <td>12449.000</td>\n",
       "      <td>12449.000</td>\n",
       "      <td>12449.000</td>\n",
       "    </tr>\n",
       "    <tr>\n",
       "      <th>mean</th>\n",
       "      <td>3.395</td>\n",
       "      <td>0.496</td>\n",
       "      <td>102.359</td>\n",
       "      <td>53.464</td>\n",
       "      <td>0.092</td>\n",
       "    </tr>\n",
       "    <tr>\n",
       "      <th>std</th>\n",
       "      <td>2.056</td>\n",
       "      <td>0.594</td>\n",
       "      <td>0.999</td>\n",
       "      <td>4.310</td>\n",
       "      <td>0.511</td>\n",
       "    </tr>\n",
       "    <tr>\n",
       "      <th>min</th>\n",
       "      <td>1.000</td>\n",
       "      <td>0.000</td>\n",
       "      <td>99.500</td>\n",
       "      <td>39.370</td>\n",
       "      <td>0.000</td>\n",
       "    </tr>\n",
       "    <tr>\n",
       "      <th>25%</th>\n",
       "      <td>2.000</td>\n",
       "      <td>0.250</td>\n",
       "      <td>101.800</td>\n",
       "      <td>51.030</td>\n",
       "      <td>0.000</td>\n",
       "    </tr>\n",
       "    <tr>\n",
       "      <th>50%</th>\n",
       "      <td>3.000</td>\n",
       "      <td>0.360</td>\n",
       "      <td>102.300</td>\n",
       "      <td>53.630</td>\n",
       "      <td>0.000</td>\n",
       "    </tr>\n",
       "    <tr>\n",
       "      <th>75%</th>\n",
       "      <td>5.000</td>\n",
       "      <td>0.550</td>\n",
       "      <td>103.000</td>\n",
       "      <td>56.230</td>\n",
       "      <td>0.000</td>\n",
       "    </tr>\n",
       "    <tr>\n",
       "      <th>max</th>\n",
       "      <td>13.000</td>\n",
       "      <td>22.090</td>\n",
       "      <td>107.500</td>\n",
       "      <td>63.720</td>\n",
       "      <td>11.000</td>\n",
       "    </tr>\n",
       "  </tbody>\n",
       "</table>\n",
       "</div>"
      ],
      "text/plain": [
       "              합계       농지면적  전년대비농경체증감률    고령농경체비율    전년도이탈인원\n",
       "count  12449.000  12449.000   12449.000  12449.000  12449.000\n",
       "mean       3.395      0.496     102.359     53.464      0.092\n",
       "std        2.056      0.594       0.999      4.310      0.511\n",
       "min        1.000      0.000      99.500     39.370      0.000\n",
       "25%        2.000      0.250     101.800     51.030      0.000\n",
       "50%        3.000      0.360     102.300     53.630      0.000\n",
       "75%        5.000      0.550     103.000     56.230      0.000\n",
       "max       13.000     22.090     107.500     63.720     11.000"
      ]
     },
     "execution_count": 23,
     "metadata": {},
     "output_type": "execute_result"
    }
   ],
   "source": [
    "round(data[['합계','농지면적','전년대비농경체증감률','고령농경체비율','전년도이탈인원']].describe(),3)"
   ]
  },
  {
   "cell_type": "code",
   "execution_count": 24,
   "id": "75aca3d2-056f-452a-b9f5-2e45bfb9a667",
   "metadata": {},
   "outputs": [
    {
     "name": "stdout",
     "output_type": "stream",
     "text": [
      "2.555200000000004\n",
      "0.04\n"
     ]
    },
    {
     "data": {
      "image/png": "[encoded data removed]",
      "text/plain": [
       "<Figure size 432x288 with 1 Axes>"
      ]
     },
     "metadata": {},
     "output_type": "display_data"
    }
   ],
   "source": [
    "sns.rugplot(x='농지면적',data=data,height=1)\n",
    "print(data['농지면적'].quantile(0.99)) #2.5 이상의 농지면적 모두 이상치로 판단\n",
    "print(data['농지면적'].quantile(0.01)) #0.04이하의 농지면적 모두 이상치로 판단"
   ]
  },
  {
   "cell_type": "markdown",
   "id": "3715605e-f832-4306-9dbb-0c06643b16c4",
   "metadata": {},
   "source": [
    "- 분위값 확인"
   ]
  },
  {
   "cell_type": "code",
   "execution_count": 25,
   "id": "f8742024-e3e0-4eb4-9abe-c41034840380",
   "metadata": {},
   "outputs": [],
   "source": [
    "data=data.query('0.04<농지면적<2.5') #해당 면적 이상치로 판단하고 삭제"
   ]
  },
  {
   "cell_type": "markdown",
   "id": "383ba9d5-7c1f-4939-9ab7-7ff1370357da",
   "metadata": {},
   "source": [
    "# 합계 컬럼 이상치 제거"
   ]
  },
  {
   "cell_type": "code",
   "execution_count": 26,
   "id": "79748540-7583-4f02-9acf-e586749b9453",
   "metadata": {},
   "outputs": [
    {
     "name": "stdout",
     "output_type": "stream",
     "text": [
      "9.0\n",
      "1.0\n",
      "2     4276\n",
      "5     1765\n",
      "4     1720\n",
      "1     1645\n",
      "3     1171\n",
      "6      736\n",
      "9      442\n",
      "7      205\n",
      "8      180\n",
      "10      24\n",
      "12       7\n",
      "11       5\n",
      "13       1\n",
      "Name: 합계, dtype: int64\n"
     ]
    },
    {
     "data": {
      "image/png": "[encoded data removed]",
      "text/plain": [
       "<Figure size 432x288 with 1 Axes>"
      ]
     },
     "metadata": {},
     "output_type": "display_data"
    }
   ],
   "source": [
    "sns.histplot(x='합계',data=data)\n",
    "print(data['합계'].quantile(0.99)) \n",
    "print(data['합계'].quantile(0.01)) \n",
    "print(data['합계'].value_counts()) #10 이상의 합계인원은 이상치로 판단하여 제거"
   ]
  },
  {
   "cell_type": "code",
   "execution_count": 27,
   "id": "6ddc456e-0699-4342-a5a4-c29795cf1a21",
   "metadata": {},
   "outputs": [],
   "source": [
    "data=data.query('합계<11') #합계 11미만의 값만 추출"
   ]
  },
  {
   "cell_type": "markdown",
   "id": "4b27cb41-06bb-4d25-9ebd-7a463159e91b",
   "metadata": {},
   "source": [
    "## 4. 데이터 분할"
   ]
  },
  {
   "cell_type": "code",
   "execution_count": 29,
   "id": "b3d0601a-aa14-456d-b1fb-4a55536b733b",
   "metadata": {},
   "outputs": [],
   "source": [
    "# 작물 종류 기준 층화 추출 Train Test 비율 8:2\n",
    "X=data.drop(columns=['합계']) #독립변수 Set\n",
    "Y=data['합계'] #Target 변수 set\n",
    "\n",
    "# Train, Test 분할\n",
    "X_train, X_test, Y_train, Y_test=train_test_split(X,Y,test_size=0.2,stratify=X['작물종류'],random_state=42)\n",
    "\n",
    "# 2차 Train, Validation 분할\n",
    "X_train, X_valid, Y_train, Y_valid=train_test_split(X_train,Y_train,test_size=0.2,stratify=X_train['작물종류'],random_state=42)"
   ]
  },
  {
   "cell_type": "markdown",
   "id": "ee5c2d80-1892-424f-b798-2640882dd79f",
   "metadata": {},
   "source": [
    "## 5. 정규화 및 라벨 인코딩"
   ]
  },
  {
   "cell_type": "code",
   "execution_count": 30,
   "id": "f1e6f992-d33f-4295-98b4-0d3451704ceb",
   "metadata": {},
   "outputs": [],
   "source": [
    "# 연속형 변수 정규화\n",
    "min_max_scaler=MinMaxScaler()\n",
    "for i in X_train.columns:\n",
    "    if (X_train[i].dtypes!='object'):\n",
    "        X_train[i]=min_max_scaler.fit_transform(X_train[[i]])\n",
    "        X_valid[i]=min_max_scaler.transform(X_valid[[i]])\n",
    "        X_test[i]=min_max_scaler.transform(X_test[[i]])\n",
    "    else:\n",
    "        pass"
   ]
  },
  {
   "cell_type": "code",
   "execution_count": 32,
   "id": "a6a850ab-bf1e-4c90-9576-4f815e86469c",
   "metadata": {},
   "outputs": [],
   "source": [
    "# 범주형 변수 라벨 인코딩\n",
    "label_encoder=LabelEncoder()\n",
    "for i in X_train.columns:\n",
    "    if X_train[i].dtypes=='object':\n",
    "        X_train[i]=label_encoder.fit_transform(X_train[i])\n",
    "        X_valid[i]=label_encoder.transform(X_valid[i])\n",
    "        X_test[i]=label_encoder.transform(X_test[i])\n",
    "    else:\n",
    "        pass"
   ]
  },
  {
   "cell_type": "markdown",
   "id": "4be2efcb-ff8a-4260-bcef-36748b80cda2",
   "metadata": {},
   "source": [
    "## 6. 모델 적용"
   ]
  },
  {
   "cell_type": "markdown",
   "id": "43413178-199d-44b3-a91c-64d94bca4e21",
   "metadata": {},
   "source": [
    "- 주요 파라미터 설명\n",
    "\n",
    "- gamma(값이 클수록 과적합을 방지해줌)=> [0,∞], 기본값=0=> 손실감소량에 대한 임계치임\n",
    "ex) gamma가 2일때 loss가 2이하면 더 이상 트리 분할 X\n",
    "\n",
    "- max_depth= Tree maximum depth 값\n",
    "ex) 최대 가지 개수\n",
    "\n",
    "- subsample= 데이터 샘플링 비율\n",
    "ex) 0.8로 설정하면 각 트리가 학습할 때 전체 데이터의 80% 사용 => 과적합 방지\n",
    "-------------------------------------------------------------------------------------------------------------\n",
    "\n",
    "\n",
    "- 초기 파라미터\n",
    "- dart부스터 학습률 0.05, 한트리의 최대 깊이 8, 반복 학습 횟수 200회로 진행\n",
    "- XGBRegressor(booster='dart',learning_rate=0.05, max_depth=8, n_estimator=200)\n",
    "\n",
    "-------------------------------------------------------------------------------------------------------------\n",
    "\n",
    "- 파라미터 튜닝\n",
    "\n",
    "- 학습률 0.05~0.01\n",
    "\n",
    "- gamma 0~2\n",
    "\n",
    "- max_depth 6~9\n",
    "\n",
    "- subsample 0.5~1\n",
    "\n",
    "- 반복수 100~300"
   ]
  },
  {
   "cell_type": "markdown",
   "id": "bb8f7028-373d-4472-8e05-4d92aa7159b9",
   "metadata": {},
   "source": [
    "### 6.1 초기 모델 적용"
   ]
  },
  {
   "cell_type": "code",
   "execution_count": 61,
   "id": "2a70b94e-1bc4-4bb6-9f6e-eb905506556e",
   "metadata": {},
   "outputs": [
    {
     "name": "stdout",
     "output_type": "stream",
     "text": [
      "MAE: 1.29\n",
      "MSE: 3.13\n",
      "RMSE: 1.77\n",
      "RMSPE: 132.56%\n"
     ]
    },
    {
     "data": {
      "image/png": "[encoded data removed]",
      "text/plain": [
       "<Figure size 432x288 with 1 Axes>"
      ]
     },
     "metadata": {},
     "output_type": "display_data"
    }
   ],
   "source": [
    "# XGB regressor 모델 구축\n",
    "# dart부스터 학습률 0.05, 한트리의 최대 깊이 8, 반복 학습 횟수 200회로 진행\n",
    "\n",
    "model_reg=XGBRegressor(booster='dart',learning_rate=0.05, max_depth=8, n_estimator=200)\n",
    "\n",
    "# 모델 적용\n",
    "model_reg.fit(X_train,Y_train)\n",
    "\n",
    "# 변수 중요도 확인\n",
    "plot_importance(model_reg)\n",
    "\n",
    "# Test Data set 예측\n",
    "pred=model_reg.predict(X_test)\n",
    "\n",
    "# 인원 수 예측이기에 예측된 결과에 반올림 적용\n",
    "pred=pd.DataFrame(pred,columns=['예측값'])\n",
    "pred['예측값']=round(pred['예측값'],0)\n",
    "\n",
    "#평가지표 추출\n",
    "Evaluation_metric(Y_test,pred=pred['예측값'])"
   ]
  },
  {
   "cell_type": "code",
   "execution_count": 62,
   "id": "95394860-b5f1-4585-9a88-88bea83d0918",
   "metadata": {},
   "outputs": [
    {
     "name": "stdout",
     "output_type": "stream",
     "text": [
      "MAE: 8.59\n",
      "MSE: 148.24\n",
      "RMSE: 12.18\n",
      "RMSPE: 21.13%\n"
     ]
    }
   ],
   "source": [
    "# Test data Set에 예측 결과 결합하여 지자체 기준으로 예측 정확도 확인\n",
    "test_index=X_test.index.tolist()\n",
    "data_test=data_real.loc[test_index]\n",
    "data_test=data_test.reset_index()\n",
    "data_test.drop(columns=['index'],inplace=True)\n",
    "data_test['predict']=pred\n",
    "result=data_test.groupby(['지자체명_시도','지자체명_시군구'])[['합계','predict']].sum().reset_index()\n",
    "result_1=result.query('합계>10')\n",
    "\n",
    "Evaluation_metric(result_1['합계'],pred=result_1['predict'])"
   ]
  },
  {
   "cell_type": "markdown",
   "id": "4fc0ea9a-8cfe-4ba3-a1db-ddbbdcd20447",
   "metadata": {},
   "source": [
    "### 6.2  Bayesian Optimization 파라미터 튜닝"
   ]
  },
  {
   "cell_type": "code",
   "execution_count": 56,
   "id": "f261df65-c718-4467-82f3-841082e9d85c",
   "metadata": {},
   "outputs": [
    {
     "name": "stdout",
     "output_type": "stream",
     "text": [
      "|   iter    |  target   |   gamma   | learni... | max_depth | n_esti... | subsample |\n",
      "-------------------------------------------------------------------------------------\n",
      "| \u001b[0m1        \u001b[0m | \u001b[0m3.451    \u001b[0m | \u001b[0m1.059    \u001b[0m | \u001b[0m0.04061  \u001b[0m | \u001b[0m8.675    \u001b[0m | \u001b[0m285.3    \u001b[0m | \u001b[0m0.9009   \u001b[0m |\n",
      "| \u001b[95m2        \u001b[0m | \u001b[95m3.55     \u001b[0m | \u001b[95m1.31     \u001b[0m | \u001b[95m0.04643  \u001b[0m | \u001b[95m9.55     \u001b[0m | \u001b[95m232.6    \u001b[0m | \u001b[95m0.9908   \u001b[0m |\n",
      "| \u001b[0m3        \u001b[0m | \u001b[0m3.524    \u001b[0m | \u001b[0m1.211    \u001b[0m | \u001b[0m0.04356  \u001b[0m | \u001b[0m8.268    \u001b[0m | \u001b[0m299.8    \u001b[0m | \u001b[0m0.9937   \u001b[0m |\n",
      "| \u001b[0m4        \u001b[0m | \u001b[0m3.46     \u001b[0m | \u001b[0m1.468    \u001b[0m | \u001b[0m0.04974  \u001b[0m | \u001b[0m8.459    \u001b[0m | \u001b[0m246.8    \u001b[0m | \u001b[0m0.8673   \u001b[0m |\n",
      "| \u001b[0m5        \u001b[0m | \u001b[0m3.499    \u001b[0m | \u001b[0m1.255    \u001b[0m | \u001b[0m0.04838  \u001b[0m | \u001b[0m9.601    \u001b[0m | \u001b[0m239.6    \u001b[0m | \u001b[0m0.8627   \u001b[0m |\n",
      "| \u001b[0m6        \u001b[0m | \u001b[0m3.441    \u001b[0m | \u001b[0m1.974    \u001b[0m | \u001b[0m0.04485  \u001b[0m | \u001b[0m8.46     \u001b[0m | \u001b[0m248.8    \u001b[0m | \u001b[0m0.8627   \u001b[0m |\n",
      "| \u001b[0m7        \u001b[0m | \u001b[0m3.549    \u001b[0m | \u001b[0m1.05     \u001b[0m | \u001b[0m0.04921  \u001b[0m | \u001b[0m9.919    \u001b[0m | \u001b[0m201.3    \u001b[0m | \u001b[0m0.969    \u001b[0m |\n",
      "| \u001b[0m8        \u001b[0m | \u001b[0m3.469    \u001b[0m | \u001b[0m1.96     \u001b[0m | \u001b[0m0.04894  \u001b[0m | \u001b[0m9.382    \u001b[0m | \u001b[0m295.6    \u001b[0m | \u001b[0m0.8566   \u001b[0m |\n",
      "| \u001b[0m9        \u001b[0m | \u001b[0m3.465    \u001b[0m | \u001b[0m1.524    \u001b[0m | \u001b[0m0.04652  \u001b[0m | \u001b[0m8.649    \u001b[0m | \u001b[0m251.5    \u001b[0m | \u001b[0m0.9452   \u001b[0m |\n",
      "| \u001b[0m10       \u001b[0m | \u001b[0m3.456    \u001b[0m | \u001b[0m1.977    \u001b[0m | \u001b[0m0.04462  \u001b[0m | \u001b[0m8.822    \u001b[0m | \u001b[0m266.0    \u001b[0m | \u001b[0m0.8894   \u001b[0m |\n",
      "| \u001b[0m11       \u001b[0m | \u001b[0m3.447    \u001b[0m | \u001b[0m1.937    \u001b[0m | \u001b[0m0.04206  \u001b[0m | \u001b[0m8.095    \u001b[0m | \u001b[0m229.2    \u001b[0m | \u001b[0m0.882    \u001b[0m |\n",
      "| \u001b[0m12       \u001b[0m | \u001b[0m3.474    \u001b[0m | \u001b[0m1.44     \u001b[0m | \u001b[0m0.04424  \u001b[0m | \u001b[0m9.791    \u001b[0m | \u001b[0m234.1    \u001b[0m | \u001b[0m0.8698   \u001b[0m |\n",
      "| \u001b[0m13       \u001b[0m | \u001b[0m3.48     \u001b[0m | \u001b[0m1.605    \u001b[0m | \u001b[0m0.04087  \u001b[0m | \u001b[0m9.31     \u001b[0m | \u001b[0m269.0    \u001b[0m | \u001b[0m0.8527   \u001b[0m |\n",
      "| \u001b[0m14       \u001b[0m | \u001b[0m3.462    \u001b[0m | \u001b[0m1.752    \u001b[0m | \u001b[0m0.04361  \u001b[0m | \u001b[0m8.276    \u001b[0m | \u001b[0m250.7    \u001b[0m | \u001b[0m0.881    \u001b[0m |\n",
      "| \u001b[0m15       \u001b[0m | \u001b[0m3.468    \u001b[0m | \u001b[0m1.263    \u001b[0m | \u001b[0m0.04044  \u001b[0m | \u001b[0m9.875    \u001b[0m | \u001b[0m231.8    \u001b[0m | \u001b[0m0.8571   \u001b[0m |\n",
      "| \u001b[0m16       \u001b[0m | \u001b[0m3.433    \u001b[0m | \u001b[0m1.716    \u001b[0m | \u001b[0m0.0404   \u001b[0m | \u001b[0m8.299    \u001b[0m | \u001b[0m282.3    \u001b[0m | \u001b[0m0.9016   \u001b[0m |\n",
      "| \u001b[0m17       \u001b[0m | \u001b[0m3.501    \u001b[0m | \u001b[0m1.226    \u001b[0m | \u001b[0m0.04999  \u001b[0m | \u001b[0m9.541    \u001b[0m | \u001b[0m239.7    \u001b[0m | \u001b[0m0.8756   \u001b[0m |\n",
      "| \u001b[0m18       \u001b[0m | \u001b[0m3.457    \u001b[0m | \u001b[0m1.21     \u001b[0m | \u001b[0m0.04445  \u001b[0m | \u001b[0m9.18     \u001b[0m | \u001b[0m232.8    \u001b[0m | \u001b[0m0.9609   \u001b[0m |\n",
      "| \u001b[0m19       \u001b[0m | \u001b[0m3.495    \u001b[0m | \u001b[0m1.281    \u001b[0m | \u001b[0m0.04744  \u001b[0m | \u001b[0m9.705    \u001b[0m | \u001b[0m232.7    \u001b[0m | \u001b[0m0.9288   \u001b[0m |\n",
      "| \u001b[0m20       \u001b[0m | \u001b[0m3.481    \u001b[0m | \u001b[0m1.524    \u001b[0m | \u001b[0m0.04828  \u001b[0m | \u001b[0m9.232    \u001b[0m | \u001b[0m287.8    \u001b[0m | \u001b[0m0.8722   \u001b[0m |\n",
      "| \u001b[0m21       \u001b[0m | \u001b[0m3.456    \u001b[0m | \u001b[0m1.735    \u001b[0m | \u001b[0m0.0427   \u001b[0m | \u001b[0m8.372    \u001b[0m | \u001b[0m298.8    \u001b[0m | \u001b[0m0.9293   \u001b[0m |\n",
      "| \u001b[95m22       \u001b[0m | \u001b[95m3.56     \u001b[0m | \u001b[95m1.374    \u001b[0m | \u001b[95m0.04612  \u001b[0m | \u001b[95m9.525    \u001b[0m | \u001b[95m232.5    \u001b[0m | \u001b[95m1.0      \u001b[0m |\n",
      "| \u001b[0m23       \u001b[0m | \u001b[0m3.492    \u001b[0m | \u001b[0m1.491    \u001b[0m | \u001b[0m0.04763  \u001b[0m | \u001b[0m9.46     \u001b[0m | \u001b[0m232.7    \u001b[0m | \u001b[0m0.8848   \u001b[0m |\n",
      "| \u001b[0m24       \u001b[0m | \u001b[0m3.503    \u001b[0m | \u001b[0m1.336    \u001b[0m | \u001b[0m0.0419   \u001b[0m | \u001b[0m9.625    \u001b[0m | \u001b[0m239.6    \u001b[0m | \u001b[0m0.9174   \u001b[0m |\n",
      "| \u001b[95m25       \u001b[0m | \u001b[95m3.569    \u001b[0m | \u001b[95m1.245    \u001b[0m | \u001b[95m0.04442  \u001b[0m | \u001b[95m9.508    \u001b[0m | \u001b[95m232.5    \u001b[0m | \u001b[95m1.0      \u001b[0m |\n",
      "=====================================================================================\n",
      "최종 파라미터는 {'booster': 'dart', 'max_depth': 8, 'gamma': 1.7157756031383082, 'subsample': 0.901565802538841, 'n_estimator': 282, 'learning_rate': 0.04040322696796401}입니다\n",
      "농업경영체별 평가지표 결과\n",
      "MAE: 1.28\n",
      "MSE: 3.11\n",
      "RMSE: 1.76\n",
      "RMSPE: 52.27%\n",
      "----------------------------------------------------------------------------------------------------\n",
      "배정신청인원 10명 이상 시군구 단위 평가지표\n",
      "MAE: 8.97\n",
      "MSE: 163.19\n",
      "RMSE: 12.77\n",
      "RMSPE: 15.59%\n"
     ]
    }
   ],
   "source": [
    "# 목적 함수 정의\n",
    "results = {\n",
    "    'max_depth': [],\n",
    "    'gamma': [],\n",
    "    'subsample': [],\n",
    "    'n_estimator': [],\n",
    "    'learning_rate': [],\n",
    "    'target': []  # 최적화 결과인 target 값 저장\n",
    "}\n",
    "\n",
    "def xgb_cv(max_depth, gamma, subsample, n_estimator, learning_rate):\n",
    "    params = {\n",
    "        'eval_metric': 'rmse',\n",
    "        'max_depth': int(max_depth),\n",
    "        'gamma': gamma,\n",
    "        'subsample': subsample,\n",
    "        'n_estimator': int(n_estimator),\n",
    "        'learning_rate': learning_rate,\n",
    "        'booster': 'dart'\n",
    "    }\n",
    "    \n",
    "    # XGBoost Regressor 모델 초기화\n",
    "    model_reg = xgb.XGBRegressor(**params)\n",
    "    \n",
    "    #model Train 학습\n",
    "    model_reg.fit(X_train,Y_train)\n",
    "    #model validation\n",
    "    scores = -cross_val_score(model_reg, X_valid, Y_valid, cv=5, scoring='neg_mean_squared_error').mean()\n",
    "    results['max_depth'].append(max_depth)\n",
    "    results['gamma'].append(gamma)\n",
    "    results['subsample'].append(subsample)\n",
    "    results['n_estimator'].append(n_estimator)\n",
    "    results['learning_rate'].append(learning_rate)\n",
    "    results['target'].append(scores)\n",
    "    return scores\n",
    "\n",
    "# Bayesian Optimization 수행\n",
    "xgbBO = BayesianOptimization(\n",
    "    xgb_cv,\n",
    "    {'max_depth': (8, 10),\n",
    "     'gamma': (1, 2),\n",
    "     'subsample': (0.85, 1.0),\n",
    "     'n_estimator': (200, 300),\n",
    "     'learning_rate': (0.04,0.05)}\n",
    ")\n",
    "\n",
    "# 최적화\n",
    "xgbBO.maximize(init_points=10, n_iter=15)\n",
    "\n",
    "idx_of_min=results['target'].index(min(results['target']))\n",
    "min_pam={'booster':'dart'}\n",
    "for key,value in results.items():\n",
    "    if key=='target':\n",
    "        pass\n",
    "    else:\n",
    "        if (key=='max_depth') or (key=='n_estimator'):\n",
    "            min_pam[key]=int(round(value[idx_of_min],0))\n",
    "        else:\n",
    "            min_pam[key]=value[idx_of_min]\n",
    "            \n",
    "print(f'최종 파라미터는 {min_pam}입니다')\n",
    "\n",
    "model_reg = xgb.XGBRegressor(**min_pam)\n",
    "model_reg.fit(X_train,Y_train)\n",
    "\n",
    "#예측값 \n",
    "pred=model_reg.predict(X_test)\n",
    "# 인원 수 예측이기에 예측된 결과에 반올림 적용\n",
    "pred=pd.DataFrame(pred,columns=['예측값'])\n",
    "#반올림\n",
    "pred['예측값']=round(pred['예측값'],0)\n",
    "#평가지표\n",
    "print('농업경영체별 평가지표 결과')\n",
    "Evaluation_metric(Y_test,pred=pred['예측값'])\n",
    "print('-'*100)\n",
    "\n",
    "test_index=X_test.index.tolist()\n",
    "data_test=data_real.loc[test_index]\n",
    "data_test=data_test.reset_index()\n",
    "data_test.drop(columns=['index'],inplace=True)\n",
    "#예측값\n",
    "data_test['predict']=pred\n",
    "result=data_test.groupby(['지자체명_시도','지자체명_시군구'])[['합계','predict']].sum().reset_index()\n",
    "result_1=result.query('합계>10')\n",
    "print('배정신청인원 10명 이상 시군구 단위 평가지표')\n",
    "Evaluation_metric(result_1['합계'],pred=result_1['predict'])"
   ]
  },
  {
   "cell_type": "markdown",
   "id": "72d8d6d0-777f-464e-864b-3e87c851ac77",
   "metadata": {},
   "source": [
    "# 6.3 OPTUNA 라이브러리 활용 파라미터 튜닝"
   ]
  },
  {
   "cell_type": "code",
   "execution_count": 57,
   "id": "48c414c9-a3aa-460b-9e26-3552ed0057c1",
   "metadata": {
    "collapsed": true,
    "jupyter": {
     "outputs_hidden": true
    },
    "tags": []
   },
   "outputs": [
    {
     "name": "stderr",
     "output_type": "stream",
     "text": [
      "[I 2023-12-07 11:45:04,542] A new study created in memory with name: no-name-f2c7e84e-769f-4675-b77c-5d3602c837ef\n",
      "[I 2023-12-07 11:45:06,756] Trial 0 finished with value: 1.3229056402665869 and parameters: {'max_depth': 10, 'gamma': 1.347469874360095, 'subsample': 0.85, 'n_estimator': 200, 'learning_rate': 0.0371568158499787}. Best is trial 0 with value: 1.3229056402665869.\n",
      "[I 2023-12-07 11:45:08,485] Trial 1 finished with value: 1.3132393041756683 and parameters: {'max_depth': 9, 'gamma': 1.2829434549017935, 'subsample': 0.95, 'n_estimator': 340, 'learning_rate': 0.04355495818731999}. Best is trial 1 with value: 1.3132393041756683.\n",
      "[I 2023-12-07 11:45:10,278] Trial 2 finished with value: 1.3246222163201848 and parameters: {'max_depth': 10, 'gamma': 1.4551953817654344, 'subsample': 0.95, 'n_estimator': 270, 'learning_rate': 0.044675669648843}. Best is trial 1 with value: 1.3132393041756683.\n",
      "[I 2023-12-07 11:45:12,171] Trial 3 finished with value: 1.3203199349370565 and parameters: {'max_depth': 9, 'gamma': 1.08156199376824, 'subsample': 0.95, 'n_estimator': 336, 'learning_rate': 0.040802793372454155}. Best is trial 1 with value: 1.3132393041756683.\n",
      "[I 2023-12-07 11:45:13,963] Trial 4 finished with value: 1.3162456120842227 and parameters: {'max_depth': 8, 'gamma': 1.411438525107511, 'subsample': 0.85, 'n_estimator': 216, 'learning_rate': 0.046878540014071254}. Best is trial 1 with value: 1.3132393041756683.\n",
      "[I 2023-12-07 11:45:15,710] Trial 5 finished with value: 1.319598294308569 and parameters: {'max_depth': 8, 'gamma': 1.0642509918022462, 'subsample': 1, 'n_estimator': 307, 'learning_rate': 0.04495533746971536}. Best is trial 1 with value: 1.3132393041756683.\n",
      "[I 2023-12-07 11:45:17,627] Trial 6 finished with value: 1.3178015279353552 and parameters: {'max_depth': 10, 'gamma': 1.5614519199330692, 'subsample': 0.9, 'n_estimator': 272, 'learning_rate': 0.04869410128173514}. Best is trial 1 with value: 1.3132393041756683.\n",
      "[I 2023-12-07 11:45:19,262] Trial 7 finished with value: 1.3256055212780091 and parameters: {'max_depth': 9, 'gamma': 1.541787508867916, 'subsample': 1, 'n_estimator': 395, 'learning_rate': 0.04068221910530026}. Best is trial 1 with value: 1.3132393041756683.\n",
      "[I 2023-12-07 11:45:21,062] Trial 8 finished with value: 1.3301169229398706 and parameters: {'max_depth': 10, 'gamma': 1.2861474073370383, 'subsample': 0.95, 'n_estimator': 259, 'learning_rate': 0.03292419135737849}. Best is trial 1 with value: 1.3132393041756683.\n",
      "[I 2023-12-07 11:45:22,931] Trial 9 finished with value: 1.329067745512427 and parameters: {'max_depth': 10, 'gamma': 1.7661957399142034, 'subsample': 0.9, 'n_estimator': 301, 'learning_rate': 0.0302290359551798}. Best is trial 1 with value: 1.3132393041756683.\n",
      "[I 2023-12-07 11:45:24,570] Trial 10 finished with value: 1.31120750373856 and parameters: {'max_depth': 9, 'gamma': 1.993527960391496, 'subsample': 0.8, 'n_estimator': 380, 'learning_rate': 0.04986432615833132}. Best is trial 10 with value: 1.31120750373856.\n",
      "[I 2023-12-07 11:45:26,264] Trial 11 finished with value: 1.3142619027684883 and parameters: {'max_depth': 9, 'gamma': 1.9845289976786926, 'subsample': 0.8, 'n_estimator': 374, 'learning_rate': 0.048490106106610725}. Best is trial 10 with value: 1.31120750373856.\n",
      "[I 2023-12-07 11:45:28,084] Trial 12 finished with value: 1.3186899949540587 and parameters: {'max_depth': 9, 'gamma': 1.2444849322956333, 'subsample': 0.8, 'n_estimator': 353, 'learning_rate': 0.049674469398205474}. Best is trial 10 with value: 1.31120750373856.\n",
      "[I 2023-12-07 11:45:29,716] Trial 13 finished with value: 1.3230928025248117 and parameters: {'max_depth': 8, 'gamma': 1.9301027194214988, 'subsample': 0.8, 'n_estimator': 340, 'learning_rate': 0.04416815289232377}. Best is trial 10 with value: 1.31120750373856.\n",
      "[I 2023-12-07 11:45:31,418] Trial 14 finished with value: 1.3181981084036962 and parameters: {'max_depth': 9, 'gamma': 1.7272641295985052, 'subsample': 0.8, 'n_estimator': 394, 'learning_rate': 0.043044949069641694}. Best is trial 10 with value: 1.31120750373856.\n",
      "[I 2023-12-07 11:45:33,352] Trial 15 finished with value: 1.3162354236391183 and parameters: {'max_depth': 9, 'gamma': 1.2077134781714167, 'subsample': 0.95, 'n_estimator': 365, 'learning_rate': 0.049933769741190265}. Best is trial 10 with value: 1.31120750373856.\n",
      "[I 2023-12-07 11:45:35,029] Trial 16 finished with value: 1.319461288976253 and parameters: {'max_depth': 8, 'gamma': 1.1706130468392106, 'subsample': 0.95, 'n_estimator': 322, 'learning_rate': 0.04760804905392167}. Best is trial 10 with value: 1.31120750373856.\n",
      "[I 2023-12-07 11:45:36,800] Trial 17 finished with value: 1.3161060495381485 and parameters: {'max_depth': 9, 'gamma': 1.3290704217843803, 'subsample': 0.8, 'n_estimator': 373, 'learning_rate': 0.04645152127692383}. Best is trial 10 with value: 1.31120750373856.\n",
      "[I 2023-12-07 11:45:38,682] Trial 18 finished with value: 1.3181890699271979 and parameters: {'max_depth': 8, 'gamma': 1.1492766527420524, 'subsample': 1, 'n_estimator': 330, 'learning_rate': 0.04253065678494945}. Best is trial 10 with value: 1.31120750373856.\n",
      "[I 2023-12-07 11:45:40,737] Trial 19 finished with value: 1.3174634315322225 and parameters: {'max_depth': 9, 'gamma': 1.6624016098239967, 'subsample': 0.85, 'n_estimator': 400, 'learning_rate': 0.04615665209282505}. Best is trial 10 with value: 1.31120750373856.\n",
      "[I 2023-12-07 11:45:42,523] Trial 20 finished with value: 1.321954944896649 and parameters: {'max_depth': 9, 'gamma': 1.8124301786092272, 'subsample': 0.9, 'n_estimator': 352, 'learning_rate': 0.039006484426892044}. Best is trial 10 with value: 1.31120750373856.\n",
      "[I 2023-12-07 11:45:44,417] Trial 21 finished with value: 1.311811318566509 and parameters: {'max_depth': 9, 'gamma': 1.9684157691958006, 'subsample': 0.8, 'n_estimator': 377, 'learning_rate': 0.04785206865055358}. Best is trial 10 with value: 1.31120750373856.\n",
      "[I 2023-12-07 11:45:46,061] Trial 22 finished with value: 1.31618649713431 and parameters: {'max_depth': 9, 'gamma': 1.8669313689998885, 'subsample': 0.8, 'n_estimator': 377, 'learning_rate': 0.047307050853983255}. Best is trial 10 with value: 1.31120750373856.\n",
      "[I 2023-12-07 11:45:47,757] Trial 23 finished with value: 1.3161224798477793 and parameters: {'max_depth': 9, 'gamma': 1.931329533156279, 'subsample': 0.8, 'n_estimator': 357, 'learning_rate': 0.04977805200958467}. Best is trial 10 with value: 1.31120750373856.\n",
      "[I 2023-12-07 11:45:49,585] Trial 24 finished with value: 1.3130012135292606 and parameters: {'max_depth': 9, 'gamma': 1.8274444461266945, 'subsample': 0.8, 'n_estimator': 317, 'learning_rate': 0.045692919834243895}. Best is trial 10 with value: 1.31120750373856.\n",
      "[I 2023-12-07 11:45:51,528] Trial 25 finished with value: 1.3203267328666919 and parameters: {'max_depth': 9, 'gamma': 1.9962847362819272, 'subsample': 0.8, 'n_estimator': 318, 'learning_rate': 0.04578841272494216}. Best is trial 10 with value: 1.31120750373856.\n",
      "[I 2023-12-07 11:45:53,212] Trial 26 finished with value: 1.319142978866099 and parameters: {'max_depth': 8, 'gamma': 1.8380453354105282, 'subsample': 0.8, 'n_estimator': 288, 'learning_rate': 0.04814640320073833}. Best is trial 10 with value: 1.31120750373856.\n",
      "[I 2023-12-07 11:45:55,110] Trial 27 finished with value: 1.315328162574866 and parameters: {'max_depth': 10, 'gamma': 1.707900796173982, 'subsample': 0.8, 'n_estimator': 241, 'learning_rate': 0.046076632307521084}. Best is trial 10 with value: 1.31120750373856.\n",
      "[I 2023-12-07 11:45:56,848] Trial 28 finished with value: 1.3128273200547933 and parameters: {'max_depth': 9, 'gamma': 1.8834341473061817, 'subsample': 0.8, 'n_estimator': 384, 'learning_rate': 0.048267212727829065}. Best is trial 10 with value: 1.31120750373856.\n",
      "[I 2023-12-07 11:45:58,551] Trial 29 finished with value: 1.3261145751906103 and parameters: {'max_depth': 10, 'gamma': 1.8874263778486329, 'subsample': 0.85, 'n_estimator': 387, 'learning_rate': 0.04856374914986153}. Best is trial 10 with value: 1.31120750373856.\n",
      "[I 2023-12-07 11:46:00,243] Trial 30 finished with value: 1.3129930868476982 and parameters: {'max_depth': 9, 'gamma': 1.9942862739278302, 'subsample': 0.8, 'n_estimator': 381, 'learning_rate': 0.04730211755867045}. Best is trial 10 with value: 1.31120750373856.\n",
      "[I 2023-12-07 11:46:02,017] Trial 31 finished with value: 1.3142233518189996 and parameters: {'max_depth': 9, 'gamma': 1.9962612169642908, 'subsample': 0.8, 'n_estimator': 381, 'learning_rate': 0.047551398317785695}. Best is trial 10 with value: 1.31120750373856.\n",
      "[I 2023-12-07 11:46:03,643] Trial 32 finished with value: 1.3143029412552216 and parameters: {'max_depth': 9, 'gamma': 1.904602970687407, 'subsample': 0.8, 'n_estimator': 363, 'learning_rate': 0.048953906233601054}. Best is trial 10 with value: 1.31120750373856.\n",
      "[I 2023-12-07 11:46:05,243] Trial 33 finished with value: 1.312115548265611 and parameters: {'max_depth': 9, 'gamma': 1.7587997996472162, 'subsample': 0.8, 'n_estimator': 388, 'learning_rate': 0.04993599988967254}. Best is trial 10 with value: 1.31120750373856.\n",
      "[I 2023-12-07 11:46:07,029] Trial 34 finished with value: 1.3153902532874344 and parameters: {'max_depth': 9, 'gamma': 1.793353928339115, 'subsample': 0.8, 'n_estimator': 346, 'learning_rate': 0.049920296452700665}. Best is trial 10 with value: 1.31120750373856.\n",
      "[I 2023-12-07 11:46:08,625] Trial 35 finished with value: 1.3208672325612338 and parameters: {'max_depth': 9, 'gamma': 1.670318615321542, 'subsample': 0.8, 'n_estimator': 367, 'learning_rate': 0.048546367395252255}. Best is trial 10 with value: 1.31120750373856.\n",
      "[I 2023-12-07 11:46:10,245] Trial 36 finished with value: 1.318160826448422 and parameters: {'max_depth': 9, 'gamma': 1.8830210980746105, 'subsample': 0.85, 'n_estimator': 386, 'learning_rate': 0.044702623483253386}. Best is trial 10 with value: 1.31120750373856.\n",
      "[I 2023-12-07 11:46:12,092] Trial 37 finished with value: 1.3237899705331388 and parameters: {'max_depth': 10, 'gamma': 1.8051533346942217, 'subsample': 1, 'n_estimator': 399, 'learning_rate': 0.04727140505660528}. Best is trial 10 with value: 1.31120750373856.\n",
      "[I 2023-12-07 11:46:13,640] Trial 38 finished with value: 1.3121761309531144 and parameters: {'max_depth': 8, 'gamma': 1.7535558693740625, 'subsample': 0.9, 'n_estimator': 216, 'learning_rate': 0.049037062581940884}. Best is trial 10 with value: 1.31120750373856.\n",
      "[I 2023-12-07 11:46:15,231] Trial 39 finished with value: 1.3120114438400308 and parameters: {'max_depth': 8, 'gamma': 1.6175063300945494, 'subsample': 0.9, 'n_estimator': 288, 'learning_rate': 0.049895218768444626}. Best is trial 10 with value: 1.31120750373856.\n",
      "[I 2023-12-07 11:46:16,784] Trial 40 finished with value: 1.31449690450444 and parameters: {'max_depth': 8, 'gamma': 1.5930526904502131, 'subsample': 0.9, 'n_estimator': 283, 'learning_rate': 0.04987426377310857}. Best is trial 10 with value: 1.31120750373856.\n",
      "[I 2023-12-07 11:46:18,977] Trial 41 finished with value: 1.3112675326875864 and parameters: {'max_depth': 8, 'gamma': 1.7541168157105267, 'subsample': 0.9, 'n_estimator': 208, 'learning_rate': 0.04837757642738205}. Best is trial 10 with value: 1.31120750373856.\n",
      "[I 2023-12-07 11:46:20,669] Trial 42 finished with value: 1.314383858463736 and parameters: {'max_depth': 8, 'gamma': 1.6390305723303022, 'subsample': 0.9, 'n_estimator': 247, 'learning_rate': 0.04887659889804242}. Best is trial 10 with value: 1.31120750373856.\n",
      "[I 2023-12-07 11:46:22,858] Trial 43 finished with value: 1.3132515732422816 and parameters: {'max_depth': 8, 'gamma': 1.495141812396452, 'subsample': 0.9, 'n_estimator': 213, 'learning_rate': 0.04658894638672358}. Best is trial 10 with value: 1.31120750373856.\n",
      "[I 2023-12-07 11:46:24,990] Trial 44 finished with value: 1.3103754149379643 and parameters: {'max_depth': 8, 'gamma': 1.7194875208575122, 'subsample': 0.9, 'n_estimator': 236, 'learning_rate': 0.04779891252635117}. Best is trial 44 with value: 1.3103754149379643.\n",
      "[I 2023-12-07 11:46:26,644] Trial 45 finished with value: 1.3168316999336482 and parameters: {'max_depth': 8, 'gamma': 1.7046571961816832, 'subsample': 0.9, 'n_estimator': 200, 'learning_rate': 0.045201784230327724}. Best is trial 44 with value: 1.3103754149379643.\n",
      "[I 2023-12-07 11:46:28,356] Trial 46 finished with value: 1.3182727967278431 and parameters: {'max_depth': 8, 'gamma': 1.6000756861686452, 'subsample': 0.9, 'n_estimator': 231, 'learning_rate': 0.04404913484978925}. Best is trial 44 with value: 1.3103754149379643.\n",
      "[I 2023-12-07 11:46:30,129] Trial 47 finished with value: 1.3153335516674431 and parameters: {'max_depth': 8, 'gamma': 1.5186112374149463, 'subsample': 0.9, 'n_estimator': 228, 'learning_rate': 0.04682979551532549}. Best is trial 44 with value: 1.3103754149379643.\n",
      "[I 2023-12-07 11:46:31,818] Trial 48 finished with value: 1.3123187608576825 and parameters: {'max_depth': 8, 'gamma': 1.4435634042421859, 'subsample': 0.9, 'n_estimator': 260, 'learning_rate': 0.04776547415828492}. Best is trial 44 with value: 1.3103754149379643.\n",
      "[I 2023-12-07 11:46:33,412] Trial 49 finished with value: 1.3100668772955582 and parameters: {'max_depth': 8, 'gamma': 1.9471754274613908, 'subsample': 0.9, 'n_estimator': 204, 'learning_rate': 0.049038498982711995}. Best is trial 49 with value: 1.3100668772955582.\n",
      "[I 2023-12-07 11:46:35,142] Trial 50 finished with value: 1.3180358556826788 and parameters: {'max_depth': 8, 'gamma': 1.9294177158588781, 'subsample': 0.95, 'n_estimator': 204, 'learning_rate': 0.04785532240458962}. Best is trial 49 with value: 1.3100668772955582.\n",
      "[I 2023-12-07 11:46:37,425] Trial 51 finished with value: 1.3126455197042848 and parameters: {'max_depth': 8, 'gamma': 1.93836753049237, 'subsample': 0.9, 'n_estimator': 224, 'learning_rate': 0.04899699493524727}. Best is trial 49 with value: 1.3100668772955582.\n",
      "[I 2023-12-07 11:46:40,318] Trial 52 finished with value: 1.3155450520909744 and parameters: {'max_depth': 8, 'gamma': 1.8422129076476883, 'subsample': 0.9, 'n_estimator': 209, 'learning_rate': 0.04932542645065619}. Best is trial 49 with value: 1.3100668772955582.\n",
      "[I 2023-12-07 11:46:42,743] Trial 53 finished with value: 1.314363848201789 and parameters: {'max_depth': 8, 'gamma': 1.7711436664751659, 'subsample': 0.9, 'n_estimator': 240, 'learning_rate': 0.04911865936177845}. Best is trial 49 with value: 1.3100668772955582.\n",
      "[I 2023-12-07 11:46:45,153] Trial 54 finished with value: 1.3173963303558631 and parameters: {'max_depth': 8, 'gamma': 1.9507466278925067, 'subsample': 0.9, 'n_estimator': 222, 'learning_rate': 0.04682448755347403}. Best is trial 49 with value: 1.3100668772955582.\n",
      "[I 2023-12-07 11:46:47,451] Trial 55 finished with value: 1.3265682049267833 and parameters: {'max_depth': 8, 'gamma': 1.8492070302919648, 'subsample': 1, 'n_estimator': 263, 'learning_rate': 0.04842753794913046}. Best is trial 49 with value: 1.3100668772955582.\n",
      "[I 2023-12-07 11:46:49,785] Trial 56 finished with value: 1.3174586043825625 and parameters: {'max_depth': 8, 'gamma': 1.715491238384022, 'subsample': 0.9, 'n_estimator': 291, 'learning_rate': 0.04796483890181218}. Best is trial 49 with value: 1.3100668772955582.\n",
      "[I 2023-12-07 11:46:52,215] Trial 57 finished with value: 1.3175521085491289 and parameters: {'max_depth': 8, 'gamma': 1.9393883054692256, 'subsample': 0.9, 'n_estimator': 274, 'learning_rate': 0.04513659394509009}. Best is trial 49 with value: 1.3100668772955582.\n",
      "[I 2023-12-07 11:46:54,235] Trial 58 finished with value: 1.3152770876088506 and parameters: {'max_depth': 8, 'gamma': 1.7988812770141134, 'subsample': 0.95, 'n_estimator': 303, 'learning_rate': 0.04646714599583559}. Best is trial 49 with value: 1.3100668772955582.\n",
      "[I 2023-12-07 11:46:56,004] Trial 59 finished with value: 1.3147837308718109 and parameters: {'max_depth': 8, 'gamma': 1.8828751917010365, 'subsample': 0.9, 'n_estimator': 248, 'learning_rate': 0.04934504993516185}. Best is trial 49 with value: 1.3100668772955582.\n",
      "[I 2023-12-07 11:46:57,854] Trial 60 finished with value: 1.311839532288883 and parameters: {'max_depth': 8, 'gamma': 1.7432208755428085, 'subsample': 0.85, 'n_estimator': 208, 'learning_rate': 0.04831847602951323}. Best is trial 49 with value: 1.3100668772955582.\n",
      "[I 2023-12-07 11:46:59,514] Trial 61 finished with value: 1.31649504592006 and parameters: {'max_depth': 8, 'gamma': 1.7304819629215937, 'subsample': 0.85, 'n_estimator': 208, 'learning_rate': 0.04808987647876762}. Best is trial 49 with value: 1.3100668772955582.\n",
      "[I 2023-12-07 11:47:01,254] Trial 62 finished with value: 1.3193059101065552 and parameters: {'max_depth': 8, 'gamma': 1.828222168859731, 'subsample': 0.85, 'n_estimator': 220, 'learning_rate': 0.047190125272382116}. Best is trial 49 with value: 1.3100668772955582.\n",
      "[I 2023-12-07 11:47:03,171] Trial 63 finished with value: 1.3154527285065967 and parameters: {'max_depth': 8, 'gamma': 1.6754756440195027, 'subsample': 0.85, 'n_estimator': 331, 'learning_rate': 0.04945024210456209}. Best is trial 49 with value: 1.3100668772955582.\n",
      "[I 2023-12-07 11:47:05,155] Trial 64 finished with value: 1.3173489554698612 and parameters: {'max_depth': 8, 'gamma': 1.962681986607714, 'subsample': 0.85, 'n_estimator': 200, 'learning_rate': 0.04844694989980957}. Best is trial 49 with value: 1.3100668772955582.\n",
      "[I 2023-12-07 11:47:06,822] Trial 65 finished with value: 1.3205912152375083 and parameters: {'max_depth': 8, 'gamma': 1.7829329932113767, 'subsample': 1, 'n_estimator': 237, 'learning_rate': 0.04586751637666524}. Best is trial 49 with value: 1.3100668772955582.\n",
      "[I 2023-12-07 11:47:08,810] Trial 66 finished with value: 1.32017185679447 and parameters: {'max_depth': 10, 'gamma': 1.8982340656879806, 'subsample': 0.9, 'n_estimator': 231, 'learning_rate': 0.04998234223719426}. Best is trial 49 with value: 1.3100668772955582.\n",
      "[I 2023-12-07 11:47:10,508] Trial 67 finished with value: 1.3178947252313724 and parameters: {'max_depth': 8, 'gamma': 1.8588577704393738, 'subsample': 0.85, 'n_estimator': 213, 'learning_rate': 0.047636159167461306}. Best is trial 49 with value: 1.3100668772955582.\n",
      "[I 2023-12-07 11:47:12,214] Trial 68 finished with value: 1.3162183097894216 and parameters: {'max_depth': 8, 'gamma': 1.7579045995693439, 'subsample': 0.9, 'n_estimator': 312, 'learning_rate': 0.04868398559623772}. Best is trial 49 with value: 1.3100668772955582.\n",
      "[I 2023-12-07 11:47:14,260] Trial 69 finished with value: 1.3201251775715126 and parameters: {'max_depth': 9, 'gamma': 1.997492212989691, 'subsample': 0.9, 'n_estimator': 249, 'learning_rate': 0.04714894501654039}. Best is trial 49 with value: 1.3100668772955582.\n",
      "[I 2023-12-07 11:47:16,230] Trial 70 finished with value: 1.316379469483096 and parameters: {'max_depth': 8, 'gamma': 1.9109734369431843, 'subsample': 0.95, 'n_estimator': 207, 'learning_rate': 0.04920751493240343}. Best is trial 49 with value: 1.3100668772955582.\n",
      "[I 2023-12-07 11:47:18,001] Trial 71 finished with value: 1.3192156882058306 and parameters: {'max_depth': 9, 'gamma': 1.634906824777086, 'subsample': 0.8, 'n_estimator': 391, 'learning_rate': 0.04990072073073069}. Best is trial 49 with value: 1.3100668772955582.\n",
      "[I 2023-12-07 11:47:19,998] Trial 72 finished with value: 1.316681679910308 and parameters: {'max_depth': 9, 'gamma': 1.7449670011016476, 'subsample': 0.8, 'n_estimator': 375, 'learning_rate': 0.049419341688775674}. Best is trial 49 with value: 1.3100668772955582.\n",
      "[I 2023-12-07 11:47:21,710] Trial 73 finished with value: 1.3202214892484865 and parameters: {'max_depth': 9, 'gamma': 1.8207355290501275, 'subsample': 0.8, 'n_estimator': 368, 'learning_rate': 0.04823534036999196}. Best is trial 49 with value: 1.3100668772955582.\n",
      "[I 2023-12-07 11:47:23,423] Trial 74 finished with value: 1.3177790987105877 and parameters: {'max_depth': 9, 'gamma': 1.687476574690959, 'subsample': 0.8, 'n_estimator': 356, 'learning_rate': 0.048729191315437084}. Best is trial 49 with value: 1.3100668772955582.\n",
      "[I 2023-12-07 11:47:25,316] Trial 75 finished with value: 1.3123263333109507 and parameters: {'max_depth': 9, 'gamma': 1.779196350804345, 'subsample': 0.8, 'n_estimator': 347, 'learning_rate': 0.04784636570011672}. Best is trial 49 with value: 1.3100668772955582.\n",
      "[I 2023-12-07 11:47:27,033] Trial 76 finished with value: 1.3096249971747338 and parameters: {'max_depth': 9, 'gamma': 1.7270329870773478, 'subsample': 0.8, 'n_estimator': 393, 'learning_rate': 0.04997681876655632}. Best is trial 76 with value: 1.3096249971747338.\n",
      "[I 2023-12-07 11:47:28,975] Trial 77 finished with value: 1.3199962837364225 and parameters: {'max_depth': 10, 'gamma': 1.720900072035371, 'subsample': 0.85, 'n_estimator': 393, 'learning_rate': 0.04950735003053508}. Best is trial 76 with value: 1.3096249971747338.\n",
      "[I 2023-12-07 11:47:30,975] Trial 78 finished with value: 1.3165029848791356 and parameters: {'max_depth': 9, 'gamma': 1.964709010736385, 'subsample': 0.8, 'n_estimator': 219, 'learning_rate': 0.046907509326492486}. Best is trial 76 with value: 1.3096249971747338.\n",
      "[I 2023-12-07 11:47:32,722] Trial 79 finished with value: 1.316937485902078 and parameters: {'max_depth': 8, 'gamma': 1.6521331981132539, 'subsample': 0.9, 'n_estimator': 293, 'learning_rate': 0.0461459083989965}. Best is trial 76 with value: 1.3096249971747338.\n",
      "[I 2023-12-07 11:47:34,436] Trial 80 finished with value: 1.3235647871853085 and parameters: {'max_depth': 9, 'gamma': 1.6951412201653828, 'subsample': 1, 'n_estimator': 400, 'learning_rate': 0.04872703876151504}. Best is trial 76 with value: 1.3096249971747338.\n",
      "[I 2023-12-07 11:47:36,254] Trial 81 finished with value: 1.3104867445363346 and parameters: {'max_depth': 9, 'gamma': 1.7418772450566427, 'subsample': 0.8, 'n_estimator': 382, 'learning_rate': 0.049986792096572}. Best is trial 76 with value: 1.3096249971747338.\n",
      "[I 2023-12-07 11:47:37,943] Trial 82 finished with value: 1.311355341135935 and parameters: {'max_depth': 9, 'gamma': 1.849783688276895, 'subsample': 0.8, 'n_estimator': 379, 'learning_rate': 0.049418502620868235}. Best is trial 76 with value: 1.3096249971747338.\n",
      "[I 2023-12-07 11:47:39,868] Trial 83 finished with value: 1.3140160879478984 and parameters: {'max_depth': 9, 'gamma': 1.8624496111018682, 'subsample': 0.8, 'n_estimator': 382, 'learning_rate': 0.04809326101409466}. Best is trial 76 with value: 1.3096249971747338.\n",
      "[I 2023-12-07 11:47:41,896] Trial 84 finished with value: 1.317907128630385 and parameters: {'max_depth': 9, 'gamma': 1.9167245144597587, 'subsample': 0.8, 'n_estimator': 371, 'learning_rate': 0.04746852841647339}. Best is trial 76 with value: 1.3096249971747338.\n",
      "[I 2023-12-07 11:47:43,706] Trial 85 finished with value: 1.318304860169421 and parameters: {'max_depth': 9, 'gamma': 1.7988558895532292, 'subsample': 0.8, 'n_estimator': 378, 'learning_rate': 0.04933638837066771}. Best is trial 76 with value: 1.3096249971747338.\n",
      "[I 2023-12-07 11:47:45,682] Trial 86 finished with value: 1.3150341433626478 and parameters: {'max_depth': 9, 'gamma': 1.9610847504706865, 'subsample': 0.8, 'n_estimator': 364, 'learning_rate': 0.04889942350766472}. Best is trial 76 with value: 1.3096249971747338.\n",
      "[I 2023-12-07 11:47:47,729] Trial 87 finished with value: 1.3137308629157913 and parameters: {'max_depth': 9, 'gamma': 1.8688879229223612, 'subsample': 0.8, 'n_estimator': 389, 'learning_rate': 0.04841520034926649}. Best is trial 76 with value: 1.3096249971747338.\n",
      "[I 2023-12-07 11:47:49,629] Trial 88 finished with value: 1.3154165890502145 and parameters: {'max_depth': 9, 'gamma': 1.8377886533669137, 'subsample': 0.8, 'n_estimator': 360, 'learning_rate': 0.049493840918355896}. Best is trial 76 with value: 1.3096249971747338.\n",
      "[I 2023-12-07 11:47:51,528] Trial 89 finished with value: 1.3116580730961358 and parameters: {'max_depth': 9, 'gamma': 1.817292677024569, 'subsample': 0.8, 'n_estimator': 396, 'learning_rate': 0.04752365922744145}. Best is trial 76 with value: 1.3096249971747338.\n",
      "[I 2023-12-07 11:47:53,588] Trial 90 finished with value: 1.313245169860495 and parameters: {'max_depth': 9, 'gamma': 1.894791520634743, 'subsample': 0.8, 'n_estimator': 397, 'learning_rate': 0.047760934166047375}. Best is trial 76 with value: 1.3096249971747338.\n",
      "[I 2023-12-07 11:47:55,393] Trial 91 finished with value: 1.314507343123739 and parameters: {'max_depth': 9, 'gamma': 1.7490579571265126, 'subsample': 0.8, 'n_estimator': 384, 'learning_rate': 0.04834579364078594}. Best is trial 76 with value: 1.3096249971747338.\n",
      "[I 2023-12-07 11:47:57,199] Trial 92 finished with value: 1.3167659849402962 and parameters: {'max_depth': 9, 'gamma': 1.8020485082084807, 'subsample': 0.8, 'n_estimator': 377, 'learning_rate': 0.04901295048325001}. Best is trial 76 with value: 1.3096249971747338.\n",
      "[I 2023-12-07 11:47:59,299] Trial 93 finished with value: 1.3142886685908728 and parameters: {'max_depth': 9, 'gamma': 1.8230477172726136, 'subsample': 0.8, 'n_estimator': 393, 'learning_rate': 0.04647568380220388}. Best is trial 76 with value: 1.3096249971747338.\n",
      "[I 2023-12-07 11:48:01,820] Trial 94 finished with value: 1.3181584554876984 and parameters: {'max_depth': 9, 'gamma': 1.7339991573790117, 'subsample': 0.8, 'n_estimator': 372, 'learning_rate': 0.04961585334589677}. Best is trial 76 with value: 1.3096249971747338.\n",
      "[I 2023-12-07 11:48:03,802] Trial 95 finished with value: 1.314489848685987 and parameters: {'max_depth': 9, 'gamma': 1.9249197298219358, 'subsample': 0.8, 'n_estimator': 387, 'learning_rate': 0.04713627541552773}. Best is trial 76 with value: 1.3096249971747338.\n",
      "[I 2023-12-07 11:48:05,686] Trial 96 finished with value: 1.3168611626901807 and parameters: {'max_depth': 9, 'gamma': 1.7714827158255295, 'subsample': 0.95, 'n_estimator': 213, 'learning_rate': 0.04751569126915007}. Best is trial 76 with value: 1.3096249971747338.\n",
      "[I 2023-12-07 11:48:07,579] Trial 97 finished with value: 1.3089220954873468 and parameters: {'max_depth': 9, 'gamma': 1.9788756886116055, 'subsample': 0.8, 'n_estimator': 381, 'learning_rate': 0.04997771504347002}. Best is trial 97 with value: 1.3089220954873468.\n",
      "[I 2023-12-07 11:48:09,716] Trial 98 finished with value: 1.3144926792178082 and parameters: {'max_depth': 9, 'gamma': 1.9720056696748671, 'subsample': 0.8, 'n_estimator': 379, 'learning_rate': 0.04901374637694546}. Best is trial 97 with value: 1.3089220954873468.\n",
      "[I 2023-12-07 11:48:11,666] Trial 99 finished with value: 1.31502589349203 and parameters: {'max_depth': 9, 'gamma': 1.9390556494640554, 'subsample': 0.8, 'n_estimator': 395, 'learning_rate': 0.04958241897708776}. Best is trial 97 with value: 1.3089220954873468.\n",
      "[I 2023-12-07 11:48:13,584] Trial 100 finished with value: 1.3143476176151694 and parameters: {'max_depth': 9, 'gamma': 1.9927679102427511, 'subsample': 0.8, 'n_estimator': 370, 'learning_rate': 0.04987504846296504}. Best is trial 97 with value: 1.3089220954873468.\n",
      "[I 2023-12-07 11:48:15,924] Trial 101 finished with value: 1.3145412654220354 and parameters: {'max_depth': 9, 'gamma': 1.870111786228231, 'subsample': 0.8, 'n_estimator': 386, 'learning_rate': 0.04863472854566962}. Best is trial 97 with value: 1.3089220954873468.\n",
      "[I 2023-12-07 11:48:18,222] Trial 102 finished with value: 1.3163292513300224 and parameters: {'max_depth': 9, 'gamma': 1.9173145931506996, 'subsample': 0.85, 'n_estimator': 225, 'learning_rate': 0.04795083334070504}. Best is trial 97 with value: 1.3089220954873468.\n",
      "[I 2023-12-07 11:48:20,361] Trial 103 finished with value: 1.3127760331203342 and parameters: {'max_depth': 9, 'gamma': 1.9697420947221769, 'subsample': 0.8, 'n_estimator': 203, 'learning_rate': 0.04996240897688364}. Best is trial 97 with value: 1.3089220954873468.\n",
      "[I 2023-12-07 11:48:22,440] Trial 104 finished with value: 1.3121452943814615 and parameters: {'max_depth': 9, 'gamma': 1.885633338839859, 'subsample': 0.8, 'n_estimator': 381, 'learning_rate': 0.048983332511864305}. Best is trial 97 with value: 1.3089220954873468.\n",
      "[I 2023-12-07 11:48:24,851] Trial 105 finished with value: 1.3233673232117247 and parameters: {'max_depth': 9, 'gamma': 1.849614931341607, 'subsample': 1, 'n_estimator': 217, 'learning_rate': 0.0483118352521755}. Best is trial 97 with value: 1.3089220954873468.\n",
      "[I 2023-12-07 11:48:27,099] Trial 106 finished with value: 1.3166301934977465 and parameters: {'max_depth': 9, 'gamma': 1.7034252341259046, 'subsample': 0.9, 'n_estimator': 391, 'learning_rate': 0.04924109292839258}. Best is trial 97 with value: 1.3089220954873468.\n",
      "[I 2023-12-07 11:48:29,051] Trial 107 finished with value: 1.3190896032281454 and parameters: {'max_depth': 9, 'gamma': 1.7851424784892098, 'subsample': 0.85, 'n_estimator': 397, 'learning_rate': 0.04871047434360388}. Best is trial 97 with value: 1.3089220954873468.\n",
      "[I 2023-12-07 11:48:30,947] Trial 108 finished with value: 1.3197242079726474 and parameters: {'max_depth': 8, 'gamma': 1.8190148402468347, 'subsample': 0.8, 'n_estimator': 375, 'learning_rate': 0.049572814410877616}. Best is trial 97 with value: 1.3089220954873468.\n",
      "[I 2023-12-07 11:48:33,084] Trial 109 finished with value: 1.3149704275586755 and parameters: {'max_depth': 9, 'gamma': 1.9444537781830649, 'subsample': 0.9, 'n_estimator': 210, 'learning_rate': 0.04802655016902334}. Best is trial 97 with value: 1.3089220954873468.\n",
      "[I 2023-12-07 11:48:35,298] Trial 110 finished with value: 1.3170451910972105 and parameters: {'max_depth': 10, 'gamma': 1.6783833766696108, 'subsample': 0.8, 'n_estimator': 203, 'learning_rate': 0.04748644362776027}. Best is trial 97 with value: 1.3089220954873468.\n",
      "[I 2023-12-07 11:48:37,472] Trial 111 finished with value: 1.3107036620944845 and parameters: {'max_depth': 8, 'gamma': 1.7237381637846907, 'subsample': 0.9, 'n_estimator': 252, 'learning_rate': 0.04912824119549256}. Best is trial 97 with value: 1.3089220954873468.\n",
      "[I 2023-12-07 11:48:39,424] Trial 112 finished with value: 1.3135736380470797 and parameters: {'max_depth': 8, 'gamma': 1.750079212583458, 'subsample': 0.9, 'n_estimator': 252, 'learning_rate': 0.0491740615291969}. Best is trial 97 with value: 1.3089220954873468.\n",
      "[I 2023-12-07 11:48:41,388] Trial 113 finished with value: 1.3159945584225177 and parameters: {'max_depth': 8, 'gamma': 1.721898988937291, 'subsample': 0.9, 'n_estimator': 266, 'learning_rate': 0.04836781685559487}. Best is trial 97 with value: 1.3089220954873468.\n",
      "[I 2023-12-07 11:48:43,415] Trial 114 finished with value: 1.3147979331249204 and parameters: {'max_depth': 8, 'gamma': 1.9013506697731353, 'subsample': 0.9, 'n_estimator': 239, 'learning_rate': 0.04996537088719232}. Best is trial 97 with value: 1.3089220954873468.\n",
      "[I 2023-12-07 11:48:45,238] Trial 115 finished with value: 1.313598298879544 and parameters: {'max_depth': 8, 'gamma': 1.658949511299414, 'subsample': 0.9, 'n_estimator': 236, 'learning_rate': 0.049551776698894316}. Best is trial 97 with value: 1.3089220954873468.\n",
      "[I 2023-12-07 11:48:47,092] Trial 116 finished with value: 1.3159913231791383 and parameters: {'max_depth': 8, 'gamma': 1.8441779133782954, 'subsample': 0.9, 'n_estimator': 278, 'learning_rate': 0.04873021158807138}. Best is trial 97 with value: 1.3089220954873468.\n",
      "[I 2023-12-07 11:48:49,172] Trial 117 finished with value: 1.3232452024480412 and parameters: {'max_depth': 8, 'gamma': 1.7066016708182865, 'subsample': 0.95, 'n_estimator': 230, 'learning_rate': 0.046730020899360375}. Best is trial 97 with value: 1.3089220954873468.\n",
      "[I 2023-12-07 11:48:51,125] Trial 118 finished with value: 1.3179323495689514 and parameters: {'max_depth': 8, 'gamma': 1.7864667923405257, 'subsample': 0.8, 'n_estimator': 389, 'learning_rate': 0.04923000939347229}. Best is trial 97 with value: 1.3089220954873468.\n",
      "[I 2023-12-07 11:48:53,097] Trial 119 finished with value: 1.3163826635818208 and parameters: {'max_depth': 9, 'gamma': 1.7617710918879286, 'subsample': 0.85, 'n_estimator': 385, 'learning_rate': 0.04795638131137761}. Best is trial 97 with value: 1.3089220954873468.\n",
      "[I 2023-12-07 11:48:55,140] Trial 120 finished with value: 1.3181048357982665 and parameters: {'max_depth': 8, 'gamma': 1.9530432714389054, 'subsample': 0.8, 'n_estimator': 256, 'learning_rate': 0.048594123494777625}. Best is trial 97 with value: 1.3089220954873468.\n",
      "[I 2023-12-07 11:48:57,026] Trial 121 finished with value: 1.3101705407630988 and parameters: {'max_depth': 8, 'gamma': 1.7326878169181068, 'subsample': 0.9, 'n_estimator': 321, 'learning_rate': 0.04998753328651152}. Best is trial 97 with value: 1.3089220954873468.\n",
      "[I 2023-12-07 11:48:58,921] Trial 122 finished with value: 1.3109143682792361 and parameters: {'max_depth': 8, 'gamma': 1.7361340443006292, 'subsample': 0.9, 'n_estimator': 382, 'learning_rate': 0.0496222203827551}. Best is trial 97 with value: 1.3089220954873468.\n",
      "[I 2023-12-07 11:49:01,030] Trial 123 finished with value: 1.312799881958141 and parameters: {'max_depth': 8, 'gamma': 1.6788941456935818, 'subsample': 0.9, 'n_estimator': 366, 'learning_rate': 0.049617588193359825}. Best is trial 97 with value: 1.3089220954873468.\n",
      "[I 2023-12-07 11:49:02,969] Trial 124 finished with value: 1.3166923129870822 and parameters: {'max_depth': 8, 'gamma': 1.726494580775509, 'subsample': 0.9, 'n_estimator': 323, 'learning_rate': 0.04913990347016536}. Best is trial 97 with value: 1.3089220954873468.\n",
      "[I 2023-12-07 11:49:04,918] Trial 125 finished with value: 1.310612774776935 and parameters: {'max_depth': 8, 'gamma': 1.8108290076997617, 'subsample': 0.9, 'n_estimator': 381, 'learning_rate': 0.04999903985018284}. Best is trial 97 with value: 1.3089220954873468.\n",
      "[I 2023-12-07 11:49:06,946] Trial 126 finished with value: 1.31130097802627 and parameters: {'max_depth': 8, 'gamma': 1.8104030172435446, 'subsample': 0.9, 'n_estimator': 383, 'learning_rate': 0.04998572885798154}. Best is trial 97 with value: 1.3089220954873468.\n",
      "[I 2023-12-07 11:49:08,873] Trial 127 finished with value: 1.3122752573653007 and parameters: {'max_depth': 8, 'gamma': 1.8000819332367182, 'subsample': 0.9, 'n_estimator': 339, 'learning_rate': 0.04994298947633326}. Best is trial 97 with value: 1.3089220954873468.\n",
      "[I 2023-12-07 11:49:10,957] Trial 128 finished with value: 1.31152501948748 and parameters: {'max_depth': 8, 'gamma': 1.6303619611934808, 'subsample': 0.9, 'n_estimator': 374, 'learning_rate': 0.049531468885101765}. Best is trial 97 with value: 1.3089220954873468.\n",
      "[I 2023-12-07 11:49:13,000] Trial 129 finished with value: 1.3107270820972303 and parameters: {'max_depth': 8, 'gamma': 1.7674065308911537, 'subsample': 0.9, 'n_estimator': 380, 'learning_rate': 0.049093423896064324}. Best is trial 97 with value: 1.3089220954873468.\n",
      "[I 2023-12-07 11:49:15,088] Trial 130 finished with value: 1.311379432800677 and parameters: {'max_depth': 8, 'gamma': 1.7646192602274624, 'subsample': 0.9, 'n_estimator': 383, 'learning_rate': 0.048946972029965875}. Best is trial 97 with value: 1.3089220954873468.\n",
      "[I 2023-12-07 11:49:17,301] Trial 131 finished with value: 1.3121095160428964 and parameters: {'max_depth': 8, 'gamma': 1.7227283245891283, 'subsample': 0.9, 'n_estimator': 360, 'learning_rate': 0.04994703928345113}. Best is trial 97 with value: 1.3089220954873468.\n",
      "[I 2023-12-07 11:49:19,753] Trial 132 finished with value: 1.3128563556906254 and parameters: {'max_depth': 8, 'gamma': 1.6923409962262688, 'subsample': 0.9, 'n_estimator': 380, 'learning_rate': 0.04940183815019045}. Best is trial 97 with value: 1.3089220954873468.\n",
      "[I 2023-12-07 11:49:22,204] Trial 133 finished with value: 1.3121539959861 and parameters: {'max_depth': 8, 'gamma': 1.773462772175289, 'subsample': 0.9, 'n_estimator': 369, 'learning_rate': 0.04953073784457}. Best is trial 97 with value: 1.3089220954873468.\n",
      "[I 2023-12-07 11:49:24,324] Trial 134 finished with value: 1.3098303003071148 and parameters: {'max_depth': 8, 'gamma': 1.7361394938491306, 'subsample': 0.9, 'n_estimator': 378, 'learning_rate': 0.04900301145630491}. Best is trial 97 with value: 1.3089220954873468.\n",
      "[I 2023-12-07 11:49:26,341] Trial 135 finished with value: 1.3146927606526801 and parameters: {'max_depth': 8, 'gamma': 1.6573222969558683, 'subsample': 0.9, 'n_estimator': 390, 'learning_rate': 0.0488454569177032}. Best is trial 97 with value: 1.3089220954873468.\n",
      "[I 2023-12-07 11:49:28,491] Trial 136 finished with value: 1.3127851014756886 and parameters: {'max_depth': 8, 'gamma': 1.7519142239542504, 'subsample': 0.9, 'n_estimator': 373, 'learning_rate': 0.04913960234366744}. Best is trial 97 with value: 1.3089220954873468.\n",
      "[I 2023-12-07 11:49:30,407] Trial 137 finished with value: 1.3098316411820203 and parameters: {'max_depth': 8, 'gamma': 1.706867695335416, 'subsample': 0.9, 'n_estimator': 307, 'learning_rate': 0.04998142628472497}. Best is trial 97 with value: 1.3089220954873468.\n",
      "[I 2023-12-07 11:49:32,343] Trial 138 finished with value: 1.3122729991850146 and parameters: {'max_depth': 8, 'gamma': 1.6982389257951294, 'subsample': 0.9, 'n_estimator': 302, 'learning_rate': 0.0486130085247697}. Best is trial 97 with value: 1.3089220954873468.\n",
      "[I 2023-12-07 11:49:34,422] Trial 139 finished with value: 1.3105324942084784 and parameters: {'max_depth': 8, 'gamma': 1.7308386248521017, 'subsample': 0.9, 'n_estimator': 312, 'learning_rate': 0.049647069956813034}. Best is trial 97 with value: 1.3089220954873468.\n",
      "[I 2023-12-07 11:49:36,362] Trial 140 finished with value: 1.3149796920858656 and parameters: {'max_depth': 8, 'gamma': 1.7282387433152262, 'subsample': 0.9, 'n_estimator': 309, 'learning_rate': 0.0495157713092933}. Best is trial 97 with value: 1.3089220954873468.\n",
      "[I 2023-12-07 11:49:38,279] Trial 141 finished with value: 1.3095908133139902 and parameters: {'max_depth': 8, 'gamma': 1.737533587266964, 'subsample': 0.9, 'n_estimator': 319, 'learning_rate': 0.04904600175956083}. Best is trial 97 with value: 1.3089220954873468.\n",
      "[I 2023-12-07 11:49:40,339] Trial 142 finished with value: 1.312490533912984 and parameters: {'max_depth': 8, 'gamma': 1.6729543999614, 'subsample': 0.9, 'n_estimator': 320, 'learning_rate': 0.04996716611711207}. Best is trial 97 with value: 1.3089220954873468.\n",
      "[I 2023-12-07 11:49:42,290] Trial 143 finished with value: 1.3133578190267179 and parameters: {'max_depth': 8, 'gamma': 1.7399896217038127, 'subsample': 0.9, 'n_estimator': 315, 'learning_rate': 0.04910613872830305}. Best is trial 97 with value: 1.3089220954873468.\n",
      "[I 2023-12-07 11:49:44,230] Trial 144 finished with value: 1.310560981861187 and parameters: {'max_depth': 8, 'gamma': 1.6052534226717257, 'subsample': 0.9, 'n_estimator': 326, 'learning_rate': 0.04962755869405222}. Best is trial 97 with value: 1.3089220954873468.\n",
      "[I 2023-12-07 11:49:46,271] Trial 145 finished with value: 1.312900779549746 and parameters: {'max_depth': 8, 'gamma': 1.6039532836463857, 'subsample': 0.9, 'n_estimator': 295, 'learning_rate': 0.04891717965041534}. Best is trial 97 with value: 1.3089220954873468.\n",
      "[I 2023-12-07 11:49:48,220] Trial 146 finished with value: 1.3165477212417047 and parameters: {'max_depth': 8, 'gamma': 1.6459729348905523, 'subsample': 0.9, 'n_estimator': 326, 'learning_rate': 0.04999969929028965}. Best is trial 97 with value: 1.3089220954873468.\n",
      "[I 2023-12-07 11:49:50,288] Trial 147 finished with value: 1.3138995301619394 and parameters: {'max_depth': 8, 'gamma': 1.7118658194781629, 'subsample': 0.9, 'n_estimator': 307, 'learning_rate': 0.04932205271111148}. Best is trial 97 with value: 1.3089220954873468.\n",
      "[I 2023-12-07 11:49:52,233] Trial 148 finished with value: 1.3088569916635522 and parameters: {'max_depth': 8, 'gamma': 1.6985146642635205, 'subsample': 0.9, 'n_estimator': 314, 'learning_rate': 0.0495956262816716}. Best is trial 148 with value: 1.3088569916635522.\n",
      "[I 2023-12-07 11:49:54,138] Trial 149 finished with value: 1.3190373275974314 and parameters: {'max_depth': 8, 'gamma': 1.6219329702948864, 'subsample': 0.9, 'n_estimator': 330, 'learning_rate': 0.04825951038704525}. Best is trial 148 with value: 1.3088569916635522.\n"
     ]
    },
    {
     "name": "stdout",
     "output_type": "stream",
     "text": [
      "{'max_depth': 8, 'gamma': 1.6985146642635205, 'subsample': 0.9, 'n_estimator': 314, 'learning_rate': 0.0495956262816716}\n",
      "농업경영체별 평가지표 결과\n",
      "MAE: 1.28\n",
      "MSE: 3.09\n",
      "RMSE: 1.76\n",
      "RMSPE: 52.11%\n",
      "----------------------------------------------------------------------------------------------------\n",
      "배정신청인원 10명 이상 시군구 단위 평가지표\n",
      "MAE: 8.53\n",
      "MSE: 149.52\n",
      "RMSE: 12.23\n",
      "RMSPE: 14.92%\n"
     ]
    }
   ],
   "source": [
    "def objective(trial):\n",
    "    params={\n",
    "        'objective': 'reg:squarederror',\n",
    "        'eval_metric': 'rmse',\n",
    "        'max_depth': trial.suggest_int('max_depth',8,10), #8~10 정수중 택 1\n",
    "        'gamma': trial.suggest_loguniform('gamma',1,2),\n",
    "        'subsample': trial.suggest_categorical('subsample',[0.8,0.85,0.90,0.95,1]),\n",
    "        'n_estimator': trial.suggest_int('n_estimator',200,400),\n",
    "        'learning_rate': trial.suggest_float('learning_rate',0.03,0.05),\n",
    "        'booster': 'dart'   \n",
    "    }\n",
    "    # 학습 모델 생성\n",
    "    model_reg=xgb.XGBRegressor(**params)\n",
    "    \n",
    "    #트레인 셋 학습\n",
    "    model_reg.fit(X_train,Y_train)\n",
    "    \n",
    "    #검증 데이터 셋으로 모델 검증\n",
    "    score = mean_absolute_error(model_reg.predict(X_valid), Y_valid)\n",
    "    return score\n",
    "\n",
    "study=optuna.create_study(direction='minimize')\n",
    "study.optimize(objective, n_trials=150)\n",
    "\n",
    "# 최적화된 파라미터 값 확인\n",
    "best_params = study.best_params\n",
    "print(best_params)\n",
    "\n",
    "model_reg = xgb.XGBRegressor(**best_params)\n",
    "model_reg.fit(X_train,Y_train)\n",
    "\n",
    "#예측값 \n",
    "pred=model_reg.predict(X_test)\n",
    "# 인원 수 예측이기에 예측된 결과에 반올림 적용\n",
    "pred=pd.DataFrame(pred,columns=['예측값'])\n",
    "#반올림\n",
    "pred['예측값']=round(pred['예측값'],0)\n",
    "#평가지표\n",
    "print('농업경영체별 평가지표 결과')\n",
    "Evaluation_metric(Y_test,pred=pred['예측값'])\n",
    "print('-'*100)\n",
    "\n",
    "test_index=X_test.index.tolist()\n",
    "data_test=data_real.loc[test_index]\n",
    "data_test=data_test.reset_index()\n",
    "data_test.drop(columns=['index'],inplace=True)\n",
    "#예측값\n",
    "data_test['predict']=pred\n",
    "result=data_test.groupby(['지자체명_시도','지자체명_시군구'])[['합계','predict']].sum().reset_index()\n",
    "result_1=result.query('합계>10')\n",
    "print('배정신청인원 10명 이상 시군구 단위 평가지표')\n",
    "Evaluation_metric(result_1['합계'],pred=result_1['predict'])"
   ]
  },
  {
   "cell_type": "code",
   "execution_count": null,
   "id": "f4b49190-f4f4-4486-af7a-fcc07c4bbc17",
   "metadata": {},
   "outputs": [],
   "source": []
  }
 ],
 "metadata": {
  "kernelspec": {
   "display_name": "Python 3 (ipykernel)",
   "language": "python",
   "name": "python3"
  },
  "language_info": {
   "codemirror_mode": {
    "name": "ipython",
    "version": 3
   },
   "file_extension": ".py",
   "mimetype": "text/x-python",
   "name": "python",
   "nbconvert_exporter": "python",
   "pygments_lexer": "ipython3",
   "version": "3.9.7"
  }
 },
 "nbformat": 4,
 "nbformat_minor": 5
}
