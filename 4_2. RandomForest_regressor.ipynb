{
 "cells": [
  {
   "cell_type": "markdown",
   "id": "509c20e9-76d9-4293-a8c7-3d06dc4b89ca",
   "metadata": {},
   "source": [
    "# RandomForest Regression 목차\n",
    "\n",
    "## 0. 분석 환경 확인\n",
    "\n",
    "## 1. 패키지 로드\n",
    "\n",
    "## 2. 데이터 로드\n",
    "\n",
    "## 3. 분포 확인 및 이상치 제거\n",
    "\n",
    "## 4. 데이터 분할\n",
    "\n",
    "## 5. 정규화 및 라벨 인코딩\n",
    "\n",
    "## 6. 모델 적용\n",
    "\n",
    "### 6.1 초기 모델 적용\n",
    "\n",
    "### 6.2 파라마터 튜닝-1\n",
    "\n",
    "## 7. 파라미터 튜닝\n",
    "\n",
    "## 8. 결과 활용 및 해석"
   ]
  },
  {
   "cell_type": "markdown",
   "id": "97672543-842e-41fc-abce-14b0d0339e41",
   "metadata": {},
   "source": [
    "## 0.분석 환경 확인"
   ]
  },
  {
   "cell_type": "code",
   "execution_count": 20,
   "id": "dd47c9b6-95b4-4e22-b260-eb085c9bd42d",
   "metadata": {},
   "outputs": [
    {
     "name": "stdout",
     "output_type": "stream",
     "text": [
      "C:\\Users\\user\\Desktop\\법무부_파이썬분석\\시연관련데이터\n",
      "C:\\Users\\user\\Desktop\\법무부_파이썬분석\\시연관련데이터\n"
     ]
    }
   ],
   "source": [
    "import os\n",
    "import random\n",
    "#현재 디렉토리 확인\n",
    "print(os.getcwd())\n",
    "# 분석 디렉토리로 이동\n",
    "os.chdir('C:\\\\Users\\\\user\\\\Desktop\\\\법무부_파이썬분석\\\\시연관련데이터')\n",
    "print(os.getcwd())\n",
    "\n",
    "#시드고정\n",
    "def seed_everything(seed):\n",
    "    random.seed(seed)\n",
    "    os.environ['PYTHONHASHSEED'] = str(seed)\n",
    "    np.random.seed(seed)\n",
    "seed_everything(42) # Seed 고정"
   ]
  },
  {
   "cell_type": "markdown",
   "id": "5fe99e82-6ca3-42b2-856a-aebe0611e812",
   "metadata": {},
   "source": [
    "# MAE & mse & Rmse & Rmspe\n",
    "\n",
    "- MAE=실제값과 예측값 사이의 절대값의 평균=> 크면 클 수록 예측력이 낮은 것\n",
    "- MSE=실제값과 예측값 사이의 차이를 제곱한 평균\n",
    "- RMSE=MSE에 루트를 취한 값\n",
    "- RMSPE=예측 오차를 실제값으로 나눈후 제곱하여 평균을 측정한 제곱근임"
   ]
  },
  {
   "cell_type": "code",
   "execution_count": 5,
   "id": "cc142a07-7a8c-4ada-b881-a709a43aacda",
   "metadata": {},
   "outputs": [],
   "source": [
    "# 성능지표 추출\n",
    "def Evaluation_metric(actual,pred):\n",
    "    print(f'MAE: {round(mean_absolute_error(actual,pred),2)}')\n",
    "    print(f'MSE: {round(mean_squared_error(actual,pred),2)}')\n",
    "    print(f'RMSE: {round(sqrt(mean_squared_error(actual,pred)),2)}')\n",
    "    #print(f'RMSPE: {round(sqrt(mean_squared_error(actual,pred))/np.mean(actual)*100,2)}%')\n",
    "    print(f'RMSPE: {round(np.sqrt(np.mean(((actual - pred) / actual) ** 2)) * 100, 2)}%')"
   ]
  },
  {
   "cell_type": "markdown",
   "id": "47f4b20e-6a27-4d9b-94f9-401a26e5c060",
   "metadata": {},
   "source": [
    "## 1. 패키지 로드"
   ]
  },
  {
   "cell_type": "code",
   "execution_count": 6,
   "id": "44f47427-cc57-4b49-a7fd-057b14bcc99f",
   "metadata": {},
   "outputs": [],
   "source": [
    "import pandas as pd\n",
    "import numpy as np\n",
    "import random\n",
    "import os\n",
    "import seaborn as sns\n",
    "import matplotlib.pyplot as plt\n",
    "plt.rcParams['font.family'] = 'Malgun Gothic'\n",
    "sns.set(font=\"Malgun Gothic\")\n",
    "import warnings\n",
    "warnings.filterwarnings('ignore')\n",
    "from sklearn.preprocessing import MinMaxScaler\n",
    "from sklearn.preprocessing import LabelEncoder\n",
    "from sklearn.model_selection import train_test_split\n",
    "from sklearn.metrics import mean_absolute_error, mean_squared_error\n",
    "from sklearn.model_selection import train_test_split\n",
    "from math import sqrt\n",
    "from sklearn.ensemble import RandomForestRegressor\n",
    "from sklearn.datasets import make_regression\n",
    "\n",
    "from sklearn.model_selection import train_test_split\n",
    "from sklearn.metrics import mean_absolute_error, mean_squared_error\n",
    "from math import sqrt\n",
    "from sklearn.model_selection import train_test_split\n",
    "\n",
    "from bayes_opt import BayesianOptimization\n",
    "from sklearn.model_selection import cross_val_score\n",
    "import optuna"
   ]
  },
  {
   "cell_type": "markdown",
   "id": "1b767b4f-88fc-4b09-a01e-f3d155cd263d",
   "metadata": {},
   "source": [
    "## 2. 데이터 로드"
   ]
  },
  {
   "cell_type": "code",
   "execution_count": 7,
   "id": "e06e130d-d011-4330-a4d2-4839d04ee2bb",
   "metadata": {},
   "outputs": [],
   "source": [
    "# Train, Valid, Test Split용 데이터\n",
    "data=pd.read_csv(os.listdir()[13],encoding='EUC-KR')\n",
    "# 지표 확인용 데20\n",
    "data_real=pd.read_csv(os.listdir()[13],encoding='EUC-KR')\n",
    "# 배정신청인원 0명 제거\n",
    "data=data.query('합계!=0')\n",
    "#필요 컬럼 추출\n",
    "selected_columns_1=['구분','합계', '작물 종류','농지면적(실제경작)','전년대비농경체증감률','고령농경체비율','전년도이탈인원','전년도활용여부']\n",
    "selected_columns_2=['비고', '지자체명_시도', '지자체명_시군구', '구분', '농업경영체','합계', '작물 종류','농지면적(실제경작)','전년대비농경체증감률','고령농경체비율','전년도이탈인원','전년도활용여부'] #원본 데이터 컬럼\n",
    "data=data[selected_columns_1]\n",
    "data_real=data_real[selected_columns_2]\n",
    "# 농지면적(실제경작) 컬럼명 변경\n",
    "data.rename(columns={'농지면적(실제경작)':'농지면적','작물 종류':'작물종류'},inplace=True)"
   ]
  },
  {
   "cell_type": "markdown",
   "id": "5c66e52b-2df9-4e06-b31e-ff346f681e61",
   "metadata": {},
   "source": [
    "## 3. 분포 확인 및 이상치 제거\n",
    "\n",
    "이상치 제거 필요 컬럼\n",
    "- 농지면적 \n",
    "- 합계"
   ]
  },
  {
   "cell_type": "code",
   "execution_count": 8,
   "id": "ecedc4bd-4d4b-43bb-b7bc-fba0e9bb2523",
   "metadata": {},
   "outputs": [
    {
     "data": {
      "text/html": [
       "<div>\n",
       "<style scoped>\n",
       "    .dataframe tbody tr th:only-of-type {\n",
       "        vertical-align: middle;\n",
       "    }\n",
       "\n",
       "    .dataframe tbody tr th {\n",
       "        vertical-align: top;\n",
       "    }\n",
       "\n",
       "    .dataframe thead th {\n",
       "        text-align: right;\n",
       "    }\n",
       "</style>\n",
       "<table border=\"1\" class=\"dataframe\">\n",
       "  <thead>\n",
       "    <tr style=\"text-align: right;\">\n",
       "      <th></th>\n",
       "      <th>합계</th>\n",
       "      <th>농지면적</th>\n",
       "      <th>전년대비농경체증감률</th>\n",
       "      <th>고령농경체비율</th>\n",
       "      <th>전년도이탈인원</th>\n",
       "    </tr>\n",
       "  </thead>\n",
       "  <tbody>\n",
       "    <tr>\n",
       "      <th>count</th>\n",
       "      <td>12449.000</td>\n",
       "      <td>12449.000</td>\n",
       "      <td>12449.000</td>\n",
       "      <td>12449.000</td>\n",
       "      <td>12449.000</td>\n",
       "    </tr>\n",
       "    <tr>\n",
       "      <th>mean</th>\n",
       "      <td>3.395</td>\n",
       "      <td>0.496</td>\n",
       "      <td>102.359</td>\n",
       "      <td>53.464</td>\n",
       "      <td>0.092</td>\n",
       "    </tr>\n",
       "    <tr>\n",
       "      <th>std</th>\n",
       "      <td>2.056</td>\n",
       "      <td>0.594</td>\n",
       "      <td>0.999</td>\n",
       "      <td>4.310</td>\n",
       "      <td>0.511</td>\n",
       "    </tr>\n",
       "    <tr>\n",
       "      <th>min</th>\n",
       "      <td>1.000</td>\n",
       "      <td>0.000</td>\n",
       "      <td>99.500</td>\n",
       "      <td>39.370</td>\n",
       "      <td>0.000</td>\n",
       "    </tr>\n",
       "    <tr>\n",
       "      <th>25%</th>\n",
       "      <td>2.000</td>\n",
       "      <td>0.250</td>\n",
       "      <td>101.800</td>\n",
       "      <td>51.030</td>\n",
       "      <td>0.000</td>\n",
       "    </tr>\n",
       "    <tr>\n",
       "      <th>50%</th>\n",
       "      <td>3.000</td>\n",
       "      <td>0.360</td>\n",
       "      <td>102.300</td>\n",
       "      <td>53.630</td>\n",
       "      <td>0.000</td>\n",
       "    </tr>\n",
       "    <tr>\n",
       "      <th>75%</th>\n",
       "      <td>5.000</td>\n",
       "      <td>0.550</td>\n",
       "      <td>103.000</td>\n",
       "      <td>56.230</td>\n",
       "      <td>0.000</td>\n",
       "    </tr>\n",
       "    <tr>\n",
       "      <th>max</th>\n",
       "      <td>13.000</td>\n",
       "      <td>22.090</td>\n",
       "      <td>107.500</td>\n",
       "      <td>63.720</td>\n",
       "      <td>11.000</td>\n",
       "    </tr>\n",
       "  </tbody>\n",
       "</table>\n",
       "</div>"
      ],
      "text/plain": [
       "              합계       농지면적  전년대비농경체증감률    고령농경체비율    전년도이탈인원\n",
       "count  12449.000  12449.000   12449.000  12449.000  12449.000\n",
       "mean       3.395      0.496     102.359     53.464      0.092\n",
       "std        2.056      0.594       0.999      4.310      0.511\n",
       "min        1.000      0.000      99.500     39.370      0.000\n",
       "25%        2.000      0.250     101.800     51.030      0.000\n",
       "50%        3.000      0.360     102.300     53.630      0.000\n",
       "75%        5.000      0.550     103.000     56.230      0.000\n",
       "max       13.000     22.090     107.500     63.720     11.000"
      ]
     },
     "execution_count": 8,
     "metadata": {},
     "output_type": "execute_result"
    }
   ],
   "source": [
    "round(data[['합계','농지면적','전년대비농경체증감률','고령농경체비율','전년도이탈인원']].describe(),3)"
   ]
  },
  {
   "cell_type": "markdown",
   "id": "9608bcc0-8c5b-401d-b3d1-8a333edbbf90",
   "metadata": {},
   "source": [
    "# 농지면적 이상치 제거"
   ]
  },
  {
   "cell_type": "code",
   "execution_count": 9,
   "id": "2fe1fbfd-2320-42c5-9868-eacbf556bbf9",
   "metadata": {},
   "outputs": [
    {
     "name": "stdout",
     "output_type": "stream",
     "text": [
      "2.555200000000004\n",
      "0.04\n"
     ]
    },
    {
     "data": {
      "image/png": "[encoded data removed]",
      "text/plain": [
       "<Figure size 432x288 with 1 Axes>"
      ]
     },
     "metadata": {},
     "output_type": "display_data"
    }
   ],
   "source": [
    "sns.rugplot(x='농지면적',data=data,height=1)\n",
    "print(data['농지면적'].quantile(0.99)) #2.5 이상의 농지면적 모두 이상치로 판단\n",
    "print(data['농지면적'].quantile(0.01)) #0.04이하의 농지면적 모두 이상치로 판단"
   ]
  },
  {
   "cell_type": "code",
   "execution_count": 10,
   "id": "bcd4e44b-7e54-46fb-8b65-0b3fdc814fd6",
   "metadata": {},
   "outputs": [],
   "source": [
    "data=data.query('0.04<농지면적<2.5')"
   ]
  },
  {
   "cell_type": "markdown",
   "id": "b25084cf-59d4-499e-bc3b-d3cdfc9add6f",
   "metadata": {},
   "source": [
    "# 합계 컬럼 이상치 제거"
   ]
  },
  {
   "cell_type": "code",
   "execution_count": 11,
   "id": "3e4ef567-8657-47cd-96d8-fc3738b8571a",
   "metadata": {},
   "outputs": [
    {
     "name": "stdout",
     "output_type": "stream",
     "text": [
      "9.0\n",
      "1.0\n",
      "2     4276\n",
      "5     1765\n",
      "4     1720\n",
      "1     1645\n",
      "3     1171\n",
      "6      736\n",
      "9      442\n",
      "7      205\n",
      "8      180\n",
      "10      24\n",
      "12       7\n",
      "11       5\n",
      "13       1\n",
      "Name: 합계, dtype: int64\n"
     ]
    },
    {
     "data": {
      "image/png": "[encoded data removed]",
      "text/plain": [
       "<Figure size 432x288 with 1 Axes>"
      ]
     },
     "metadata": {},
     "output_type": "display_data"
    }
   ],
   "source": [
    "sns.histplot(x='합계',data=data)\n",
    "print(data['합계'].quantile(0.99)) \n",
    "print(data['합계'].quantile(0.01)) \n",
    "print(data['합계'].value_counts()) #10 이상의 합계인원은 이상치로 판단하여 제거"
   ]
  },
  {
   "cell_type": "code",
   "execution_count": 12,
   "id": "6e097c25-9837-43e7-bd46-7115f3640104",
   "metadata": {},
   "outputs": [],
   "source": [
    "data=data.query('합계<11')"
   ]
  },
  {
   "cell_type": "markdown",
   "id": "21fed59c-dedf-4551-8a03-569e7757c21b",
   "metadata": {},
   "source": [
    "## 4. 데이터 분할"
   ]
  },
  {
   "cell_type": "code",
   "execution_count": 13,
   "id": "43735be8-e790-4c46-a35b-dac92fbd1a59",
   "metadata": {},
   "outputs": [],
   "source": [
    "# 작물 종류 기준 층화 추출 Train Test 비율 8:2\n",
    "X=data.drop(columns=['합계']) #독립변수 Set\n",
    "Y=data['합계'] #Target 변수 set\n",
    "\n",
    "# Train, Test 분할\n",
    "X_train, X_test, Y_train, Y_test=train_test_split(X,Y,test_size=0.2,stratify=X['작물종류'],random_state=42)\n",
    "\n",
    "# 2차 Train, Validation 분할\n",
    "X_train, X_valid, Y_train, Y_valid=train_test_split(X_train,Y_train,test_size=0.2,stratify=X_train['작물종류'],random_state=42)"
   ]
  },
  {
   "cell_type": "markdown",
   "id": "024ec489-a058-4e48-b00b-243c04af3faf",
   "metadata": {},
   "source": [
    "## 5. 정규화 및 라벨 인코딩"
   ]
  },
  {
   "cell_type": "code",
   "execution_count": 14,
   "id": "5af3dc46-be5f-4548-9edc-21f12ae33cba",
   "metadata": {},
   "outputs": [],
   "source": [
    "# 연속형 변수 정규화\n",
    "min_max_scaler=MinMaxScaler()\n",
    "for i in X_train.columns:\n",
    "    if (X_train[i].dtypes!='object'):\n",
    "        X_train[i]=min_max_scaler.fit_transform(X_train[[i]])\n",
    "        X_valid[i]=min_max_scaler.transform(X_valid[[i]])\n",
    "        X_test[i]=min_max_scaler.transform(X_test[[i]])\n",
    "    else:\n",
    "        pass"
   ]
  },
  {
   "cell_type": "code",
   "execution_count": 15,
   "id": "d8f7afaa-4152-4878-8dd7-025b4498d6ea",
   "metadata": {},
   "outputs": [],
   "source": [
    "# 범주형 변수 라벨 인코딩\n",
    "label_encoder=LabelEncoder()\n",
    "for i in X_train.columns:\n",
    "    if X_train[i].dtypes=='object':\n",
    "        X_train[i]=label_encoder.fit_transform(X_train[i])\n",
    "        X_valid[i]=label_encoder.transform(X_valid[i])\n",
    "        X_test[i]=label_encoder.transform(X_test[i])\n",
    "    else:\n",
    "        pass"
   ]
  },
  {
   "cell_type": "markdown",
   "id": "30cbed56-3da6-41fa-a413-f72070f1b2c0",
   "metadata": {},
   "source": [
    "## 6. 모델 적용"
   ]
  },
  {
   "cell_type": "markdown",
   "id": "b107bff7-da07-4788-b088-55d623eb3ab5",
   "metadata": {},
   "source": [
    "- 주요 파라미터 설명\n",
    "\n",
    "- n_estimators=의사 결정 트리 개수\n",
    "\n",
    "- max_depth= 트리 최대 깊이\n",
    "\n",
    "- min_sample_split=최소한의 샘플 수\n",
    "\n",
    "- min_sample_leaf=리프 노드가 되기 위한 최소 샘플 수\n",
    "\n",
    "- max_feature= 각 노드에서 분할에 사용할 특성의 최대 개수\n",
    "-------------------------------------------------------------------------------------------------------------\n",
    "\n",
    "\n",
    "- 초기 파라미터\n",
    "\n",
    "- model_reg=RandomForestRegressor(n_jobs=-1,random_state=42,n_estimators=200,max_depth=8)\n",
    "\n",
    "-------------------------------------------------------------------------------------------------------------\n",
    "\n",
    "- 파라미터 튜닝\n",
    "\n",
    "- max_depth 6~9\n",
    "\n",
    "- 반복수 100~300"
   ]
  },
  {
   "cell_type": "markdown",
   "id": "e2b8a22a-2b4a-41cf-901d-78443a1018e1",
   "metadata": {},
   "source": [
    "### 6.1 초기 모델 적용"
   ]
  },
  {
   "cell_type": "code",
   "execution_count": 18,
   "id": "df06465b-3354-4de7-96ec-274bf5db6c20",
   "metadata": {},
   "outputs": [
    {
     "data": {
      "image/png": "[encoded data removed]",
      "text/plain": [
       "<Figure size 576x432 with 1 Axes>"
      ]
     },
     "metadata": {},
     "output_type": "display_data"
    },
    {
     "name": "stdout",
     "output_type": "stream",
     "text": [
      "MAE: 1.36\n",
      "MSE: 3.33\n",
      "RMSE: 1.83\n",
      "RMSPE: 118.73%\n",
      "----------------------------------------------------------------------------------------------------\n",
      "MAE: 12.41\n",
      "MSE: 352.9\n",
      "RMSE: 18.79\n",
      "RMSPE: 27.2%\n"
     ]
    }
   ],
   "source": [
    "# Randomforest 모델 구축\n",
    "model_reg=RandomForestRegressor(n_jobs=-1,random_state=42,n_estimators=200,max_depth=8)\n",
    "model_reg.fit(X_train,Y_train)\n",
    "value_importance=model_reg.feature_importances_\n",
    "value_importance=pd.Series(value_importance,index=X_train.columns)\n",
    "value_importance=value_importance.sort_values(ascending=False)\n",
    "plt.figure(figsize=(8,6))\n",
    "sns.barplot(x=value_importance,y=value_importance.index)\n",
    "plt.show()\n",
    "pred=model_reg.predict(X_test)\n",
    "pred=pd.DataFrame(pred,columns=['예측값'])\n",
    "pred['예측값']=round(pred['예측값'],0)\n",
    "Evaluation_metric(Y_test,pred=pred['예측값'])\n",
    "print('-'*100)\n",
    "# Test data Set\n",
    "test_index=X_test.index.tolist()\n",
    "data_test=data_real.loc[test_index]\n",
    "data_test=data_test.reset_index()\n",
    "data_test.drop(columns=['index'],inplace=True)\n",
    "data_test['predict']=pred\n",
    "result=data_test.groupby(['지자체명_시도','지자체명_시군구'])[['합계','predict']].sum().reset_index()\n",
    "result_1=result.query('합계>10')\n",
    "Evaluation_metric(result_1['합계'],pred=result_1['predict'])"
   ]
  },
  {
   "cell_type": "markdown",
   "id": "851a2dd4-8846-4d77-bf88-f1dcedc2742b",
   "metadata": {},
   "source": [
    "### 6.2 OPTUNA 라이브러리 활용 파라미터 튜닝"
   ]
  },
  {
   "cell_type": "markdown",
   "id": "2530c7e3-9943-4524-adec-fd201ab5a099",
   "metadata": {},
   "source": [
    "파라미터 튜닝 코드\n",
    "\n",
    "- optuna.trial.Trial.suggest_categorical() : 리스트 범위 내에서 값을 선택한다.\n",
    "- optuna.trial.Trial.suggest_int() : 범위 내에서 정수형 값을 선택한다.\n",
    "- optuna.trial.Trial.suggest_float() : 범위 내에서 소수형 값을 선택한다.\n",
    "- optuna.trial.Trial.suggest_uniform() : 범위 내에서 균일분포 값을 선택한다.\n",
    "- optuna.trial.Trial.suggest_discrete_uniform() : 범위 내에서 이산 균일분포 값을 선택한다.\n",
    "- optuna.trial.Trial.suggest_loguniform() : 범위 내에서 로그 함수 값을 선택한다."
   ]
  },
  {
   "cell_type": "code",
   "execution_count": 19,
   "id": "638ca7b1-b97d-4d39-ae70-5b60f51e461e",
   "metadata": {
    "collapsed": true,
    "jupyter": {
     "outputs_hidden": true
    },
    "tags": []
   },
   "outputs": [
    {
     "name": "stderr",
     "output_type": "stream",
     "text": [
      "[I 2023-12-07 12:56:10,031] A new study created in memory with name: no-name-3a819b90-4c96-49da-9a57-ffd9d1efdf4f\n",
      "[I 2023-12-07 12:56:10,563] Trial 0 finished with value: 1.3890643929986175 and parameters: {'n_estimators': 390, 'max_depth': 10, 'min_samples_split': 11, 'min_samples_leaf': 5, 'max_features': 3}. Best is trial 0 with value: 1.3890643929986175.\n",
      "[I 2023-12-07 12:56:10,959] Trial 1 finished with value: 1.4124302217909033 and parameters: {'n_estimators': 308, 'max_depth': 9, 'min_samples_split': 11, 'min_samples_leaf': 3, 'max_features': 2}. Best is trial 0 with value: 1.3890643929986175.\n",
      "[I 2023-12-07 12:56:11,461] Trial 2 finished with value: 1.3891149849991076 and parameters: {'n_estimators': 370, 'max_depth': 10, 'min_samples_split': 11, 'min_samples_leaf': 5, 'max_features': 3}. Best is trial 0 with value: 1.3890643929986175.\n",
      "[I 2023-12-07 12:56:11,847] Trial 3 finished with value: 1.4256783881602346 and parameters: {'n_estimators': 326, 'max_depth': 10, 'min_samples_split': 12, 'min_samples_leaf': 5, 'max_features': 1}. Best is trial 0 with value: 1.3890643929986175.\n",
      "[I 2023-12-07 12:56:12,343] Trial 4 finished with value: 1.3890728122006542 and parameters: {'n_estimators': 359, 'max_depth': 10, 'min_samples_split': 11, 'min_samples_leaf': 5, 'max_features': 3}. Best is trial 0 with value: 1.3890643929986175.\n",
      "[I 2023-12-07 12:56:12,818] Trial 5 finished with value: 1.3977292080780852 and parameters: {'n_estimators': 360, 'max_depth': 9, 'min_samples_split': 12, 'min_samples_leaf': 3, 'max_features': 3}. Best is trial 0 with value: 1.3890643929986175.\n",
      "[I 2023-12-07 12:56:13,271] Trial 6 finished with value: 1.414756596430576 and parameters: {'n_estimators': 349, 'max_depth': 9, 'min_samples_split': 11, 'min_samples_leaf': 4, 'max_features': 2}. Best is trial 0 with value: 1.3890643929986175.\n",
      "[I 2023-12-07 12:56:13,786] Trial 7 finished with value: 1.400181495580665 and parameters: {'n_estimators': 390, 'max_depth': 9, 'min_samples_split': 12, 'min_samples_leaf': 5, 'max_features': 3}. Best is trial 0 with value: 1.3890643929986175.\n",
      "[I 2023-12-07 12:56:14,314] Trial 8 finished with value: 1.3885941685866279 and parameters: {'n_estimators': 376, 'max_depth': 10, 'min_samples_split': 13, 'min_samples_leaf': 4, 'max_features': 3}. Best is trial 8 with value: 1.3885941685866279.\n",
      "[I 2023-12-07 12:56:14,773] Trial 9 finished with value: 1.3993440048284196 and parameters: {'n_estimators': 303, 'max_depth': 9, 'min_samples_split': 12, 'min_samples_leaf': 5, 'max_features': 3}. Best is trial 8 with value: 1.3885941685866279.\n",
      "[I 2023-12-07 12:56:15,302] Trial 10 finished with value: 1.4086036521206389 and parameters: {'n_estimators': 400, 'max_depth': 12, 'min_samples_split': 13, 'min_samples_leaf': 4, 'max_features': 1}. Best is trial 8 with value: 1.3885941685866279.\n",
      "[I 2023-12-07 12:56:15,845] Trial 11 finished with value: 1.3917062774225013 and parameters: {'n_estimators': 384, 'max_depth': 11, 'min_samples_split': 13, 'min_samples_leaf': 4, 'max_features': 2}. Best is trial 8 with value: 1.3885941685866279.\n",
      "[I 2023-12-07 12:56:16,441] Trial 12 finished with value: 1.3785905363695514 and parameters: {'n_estimators': 377, 'max_depth': 11, 'min_samples_split': 13, 'min_samples_leaf': 4, 'max_features': 3}. Best is trial 12 with value: 1.3785905363695514.\n",
      "[I 2023-12-07 12:56:16,940] Trial 13 finished with value: 1.3918988281100257 and parameters: {'n_estimators': 375, 'max_depth': 11, 'min_samples_split': 13, 'min_samples_leaf': 4, 'max_features': 2}. Best is trial 12 with value: 1.3785905363695514.\n",
      "[I 2023-12-07 12:56:17,476] Trial 14 finished with value: 1.367945463514773 and parameters: {'n_estimators': 341, 'max_depth': 12, 'min_samples_split': 13, 'min_samples_leaf': 3, 'max_features': 3}. Best is trial 14 with value: 1.367945463514773.\n",
      "[I 2023-12-07 12:56:17,984] Trial 15 finished with value: 1.383661353766363 and parameters: {'n_estimators': 339, 'max_depth': 12, 'min_samples_split': 13, 'min_samples_leaf': 3, 'max_features': 2}. Best is trial 14 with value: 1.367945463514773.\n",
      "[I 2023-12-07 12:56:18,512] Trial 16 finished with value: 1.3679706752106378 and parameters: {'n_estimators': 334, 'max_depth': 12, 'min_samples_split': 13, 'min_samples_leaf': 3, 'max_features': 3}. Best is trial 14 with value: 1.367945463514773.\n",
      "[I 2023-12-07 12:56:18,971] Trial 17 finished with value: 1.402783510442595 and parameters: {'n_estimators': 325, 'max_depth': 12, 'min_samples_split': 13, 'min_samples_leaf': 3, 'max_features': 1}. Best is trial 14 with value: 1.367945463514773.\n",
      "[I 2023-12-07 12:56:19,500] Trial 18 finished with value: 1.3656539182356273 and parameters: {'n_estimators': 332, 'max_depth': 12, 'min_samples_split': 12, 'min_samples_leaf': 3, 'max_features': 3}. Best is trial 18 with value: 1.3656539182356273.\n",
      "[I 2023-12-07 12:56:20,103] Trial 19 finished with value: 1.391811906753343 and parameters: {'n_estimators': 316, 'max_depth': 11, 'min_samples_split': 12, 'min_samples_leaf': 3, 'max_features': 2}. Best is trial 18 with value: 1.3656539182356273.\n",
      "[I 2023-12-07 12:56:20,698] Trial 20 finished with value: 1.3657063040863635 and parameters: {'n_estimators': 344, 'max_depth': 12, 'min_samples_split': 12, 'min_samples_leaf': 3, 'max_features': 3}. Best is trial 18 with value: 1.3656539182356273.\n",
      "[I 2023-12-07 12:56:21,289] Trial 21 finished with value: 1.3657063040863635 and parameters: {'n_estimators': 344, 'max_depth': 12, 'min_samples_split': 12, 'min_samples_leaf': 3, 'max_features': 3}. Best is trial 18 with value: 1.3656539182356273.\n",
      "[I 2023-12-07 12:56:21,887] Trial 22 finished with value: 1.36560919918204 and parameters: {'n_estimators': 351, 'max_depth': 12, 'min_samples_split': 12, 'min_samples_leaf': 3, 'max_features': 3}. Best is trial 22 with value: 1.36560919918204.\n",
      "[I 2023-12-07 12:56:22,461] Trial 23 finished with value: 1.365427563942129 and parameters: {'n_estimators': 356, 'max_depth': 12, 'min_samples_split': 12, 'min_samples_leaf': 3, 'max_features': 3}. Best is trial 23 with value: 1.365427563942129.\n",
      "[I 2023-12-07 12:56:22,958] Trial 24 finished with value: 1.3925747807670272 and parameters: {'n_estimators': 358, 'max_depth': 11, 'min_samples_split': 12, 'min_samples_leaf': 3, 'max_features': 2}. Best is trial 23 with value: 1.365427563942129.\n",
      "[I 2023-12-07 12:56:23,534] Trial 25 finished with value: 1.36563613930434 and parameters: {'n_estimators': 352, 'max_depth': 12, 'min_samples_split': 12, 'min_samples_leaf': 3, 'max_features': 3}. Best is trial 23 with value: 1.365427563942129.\n",
      "[I 2023-12-07 12:56:24,193] Trial 26 finished with value: 1.3760269597193655 and parameters: {'n_estimators': 363, 'max_depth': 11, 'min_samples_split': 12, 'min_samples_leaf': 3, 'max_features': 3}. Best is trial 23 with value: 1.365427563942129.\n",
      "[I 2023-12-07 12:56:24,802] Trial 27 finished with value: 1.3685537066077709 and parameters: {'n_estimators': 355, 'max_depth': 12, 'min_samples_split': 12, 'min_samples_leaf': 4, 'max_features': 3}. Best is trial 23 with value: 1.365427563942129.\n",
      "[I 2023-12-07 12:56:25,324] Trial 28 finished with value: 1.3828731917908899 and parameters: {'n_estimators': 352, 'max_depth': 12, 'min_samples_split': 12, 'min_samples_leaf': 3, 'max_features': 2}. Best is trial 23 with value: 1.365427563942129.\n",
      "[I 2023-12-07 12:56:26,002] Trial 29 finished with value: 1.3750906569316386 and parameters: {'n_estimators': 369, 'max_depth': 11, 'min_samples_split': 11, 'min_samples_leaf': 3, 'max_features': 3}. Best is trial 23 with value: 1.365427563942129.\n",
      "[I 2023-12-07 12:56:26,570] Trial 30 finished with value: 1.368692979099628 and parameters: {'n_estimators': 365, 'max_depth': 12, 'min_samples_split': 12, 'min_samples_leaf': 4, 'max_features': 3}. Best is trial 23 with value: 1.365427563942129.\n",
      "[I 2023-12-07 12:56:27,091] Trial 31 finished with value: 1.3655769261146753 and parameters: {'n_estimators': 330, 'max_depth': 12, 'min_samples_split': 12, 'min_samples_leaf': 3, 'max_features': 3}. Best is trial 23 with value: 1.365427563942129.\n",
      "[I 2023-12-07 12:56:27,575] Trial 32 finished with value: 1.3656670814330092 and parameters: {'n_estimators': 319, 'max_depth': 12, 'min_samples_split': 12, 'min_samples_leaf': 3, 'max_features': 3}. Best is trial 23 with value: 1.365427563942129.\n",
      "[I 2023-12-07 12:56:28,146] Trial 33 finished with value: 1.3656346605719367 and parameters: {'n_estimators': 350, 'max_depth': 12, 'min_samples_split': 12, 'min_samples_leaf': 3, 'max_features': 3}. Best is trial 23 with value: 1.365427563942129.\n",
      "[I 2023-12-07 12:56:28,663] Trial 34 finished with value: 1.3672311277206681 and parameters: {'n_estimators': 334, 'max_depth': 12, 'min_samples_split': 11, 'min_samples_leaf': 3, 'max_features': 3}. Best is trial 23 with value: 1.365427563942129.\n",
      "[I 2023-12-07 12:56:29,184] Trial 35 finished with value: 1.375917972215355 and parameters: {'n_estimators': 349, 'max_depth': 11, 'min_samples_split': 12, 'min_samples_leaf': 3, 'max_features': 3}. Best is trial 23 with value: 1.365427563942129.\n",
      "[I 2023-12-07 12:56:29,690] Trial 36 finished with value: 1.3668032220491688 and parameters: {'n_estimators': 313, 'max_depth': 12, 'min_samples_split': 11, 'min_samples_leaf': 3, 'max_features': 3}. Best is trial 23 with value: 1.365427563942129.\n",
      "[I 2023-12-07 12:56:30,197] Trial 37 finished with value: 1.3822199701329603 and parameters: {'n_estimators': 324, 'max_depth': 12, 'min_samples_split': 12, 'min_samples_leaf': 3, 'max_features': 2}. Best is trial 23 with value: 1.365427563942129.\n",
      "[I 2023-12-07 12:56:30,711] Trial 38 finished with value: 1.375740398665577 and parameters: {'n_estimators': 346, 'max_depth': 11, 'min_samples_split': 12, 'min_samples_leaf': 3, 'max_features': 3}. Best is trial 23 with value: 1.365427563942129.\n",
      "[I 2023-12-07 12:56:31,210] Trial 39 finished with value: 1.3864168722658936 and parameters: {'n_estimators': 330, 'max_depth': 10, 'min_samples_split': 11, 'min_samples_leaf': 4, 'max_features': 3}. Best is trial 23 with value: 1.365427563942129.\n",
      "[I 2023-12-07 12:56:31,747] Trial 40 finished with value: 1.365878423267068 and parameters: {'n_estimators': 338, 'max_depth': 12, 'min_samples_split': 12, 'min_samples_leaf': 3, 'max_features': 3}. Best is trial 23 with value: 1.365427563942129.\n",
      "[I 2023-12-07 12:56:32,290] Trial 41 finished with value: 1.36563613930434 and parameters: {'n_estimators': 352, 'max_depth': 12, 'min_samples_split': 12, 'min_samples_leaf': 3, 'max_features': 3}. Best is trial 23 with value: 1.365427563942129.\n",
      "[I 2023-12-07 12:56:32,869] Trial 42 finished with value: 1.365386662267926 and parameters: {'n_estimators': 359, 'max_depth': 12, 'min_samples_split': 12, 'min_samples_leaf': 3, 'max_features': 3}. Best is trial 42 with value: 1.365386662267926.\n",
      "[I 2023-12-07 12:56:33,446] Trial 43 finished with value: 1.3653428055143737 and parameters: {'n_estimators': 364, 'max_depth': 12, 'min_samples_split': 12, 'min_samples_leaf': 3, 'max_features': 3}. Best is trial 43 with value: 1.3653428055143737.\n",
      "[I 2023-12-07 12:56:34,005] Trial 44 finished with value: 1.3655143257713405 and parameters: {'n_estimators': 366, 'max_depth': 12, 'min_samples_split': 12, 'min_samples_leaf': 3, 'max_features': 3}. Best is trial 43 with value: 1.3653428055143737.\n",
      "[I 2023-12-07 12:56:34,500] Trial 45 finished with value: 1.4030848025889955 and parameters: {'n_estimators': 369, 'max_depth': 12, 'min_samples_split': 12, 'min_samples_leaf': 3, 'max_features': 1}. Best is trial 43 with value: 1.3653428055143737.\n",
      "[I 2023-12-07 12:56:35,046] Trial 46 finished with value: 1.376379217818795 and parameters: {'n_estimators': 363, 'max_depth': 11, 'min_samples_split': 12, 'min_samples_leaf': 4, 'max_features': 3}. Best is trial 43 with value: 1.3653428055143737.\n",
      "[I 2023-12-07 12:56:35,632] Trial 47 finished with value: 1.3828913408127543 and parameters: {'n_estimators': 380, 'max_depth': 12, 'min_samples_split': 12, 'min_samples_leaf': 3, 'max_features': 2}. Best is trial 43 with value: 1.3653428055143737.\n",
      "[I 2023-12-07 12:56:36,223] Trial 48 finished with value: 1.3902369039143383 and parameters: {'n_estimators': 372, 'max_depth': 10, 'min_samples_split': 12, 'min_samples_leaf': 5, 'max_features': 3}. Best is trial 43 with value: 1.3653428055143737.\n",
      "[I 2023-12-07 12:56:36,874] Trial 49 finished with value: 1.3659085060502731 and parameters: {'n_estimators': 387, 'max_depth': 12, 'min_samples_split': 12, 'min_samples_leaf': 3, 'max_features': 3}. Best is trial 43 with value: 1.3653428055143737.\n",
      "[I 2023-12-07 12:56:37,450] Trial 50 finished with value: 1.3765502046730802 and parameters: {'n_estimators': 356, 'max_depth': 11, 'min_samples_split': 12, 'min_samples_leaf': 4, 'max_features': 3}. Best is trial 43 with value: 1.3653428055143737.\n",
      "[I 2023-12-07 12:56:38,006] Trial 51 finished with value: 1.3654846491394517 and parameters: {'n_estimators': 365, 'max_depth': 12, 'min_samples_split': 12, 'min_samples_leaf': 3, 'max_features': 3}. Best is trial 43 with value: 1.3653428055143737.\n",
      "[I 2023-12-07 12:56:38,572] Trial 52 finished with value: 1.3654913054492643 and parameters: {'n_estimators': 367, 'max_depth': 12, 'min_samples_split': 12, 'min_samples_leaf': 3, 'max_features': 3}. Best is trial 43 with value: 1.3653428055143737.\n",
      "[I 2023-12-07 12:56:39,168] Trial 53 finished with value: 1.3654436057363406 and parameters: {'n_estimators': 368, 'max_depth': 12, 'min_samples_split': 12, 'min_samples_leaf': 3, 'max_features': 3}. Best is trial 43 with value: 1.3653428055143737.\n",
      "[I 2023-12-07 12:56:39,791] Trial 54 finished with value: 1.3658483913557258 and parameters: {'n_estimators': 380, 'max_depth': 12, 'min_samples_split': 12, 'min_samples_leaf': 3, 'max_features': 3}. Best is trial 43 with value: 1.3653428055143737.\n",
      "[I 2023-12-07 12:56:40,377] Trial 55 finished with value: 1.3655908398870458 and parameters: {'n_estimators': 373, 'max_depth': 12, 'min_samples_split': 12, 'min_samples_leaf': 3, 'max_features': 3}. Best is trial 43 with value: 1.3653428055143737.\n",
      "[I 2023-12-07 12:56:40,967] Trial 56 finished with value: 1.3653357671144983 and parameters: {'n_estimators': 360, 'max_depth': 12, 'min_samples_split': 12, 'min_samples_leaf': 3, 'max_features': 3}. Best is trial 56 with value: 1.3653357671144983.\n",
      "[I 2023-12-07 12:56:41,514] Trial 57 finished with value: 1.3653357671144983 and parameters: {'n_estimators': 360, 'max_depth': 12, 'min_samples_split': 12, 'min_samples_leaf': 3, 'max_features': 3}. Best is trial 56 with value: 1.3653357671144983.\n",
      "[I 2023-12-07 12:56:42,044] Trial 58 finished with value: 1.3977098436376068 and parameters: {'n_estimators': 359, 'max_depth': 9, 'min_samples_split': 12, 'min_samples_leaf': 3, 'max_features': 3}. Best is trial 56 with value: 1.3653357671144983.\n",
      "[I 2023-12-07 12:56:42,601] Trial 59 finished with value: 1.3679797157476299 and parameters: {'n_estimators': 361, 'max_depth': 12, 'min_samples_split': 13, 'min_samples_leaf': 3, 'max_features': 3}. Best is trial 56 with value: 1.3653357671144983.\n",
      "[I 2023-12-07 12:56:43,167] Trial 60 finished with value: 1.3832382966965133 and parameters: {'n_estimators': 395, 'max_depth': 12, 'min_samples_split': 12, 'min_samples_leaf': 3, 'max_features': 2}. Best is trial 56 with value: 1.3653357671144983.\n",
      "[I 2023-12-07 12:56:43,729] Trial 61 finished with value: 1.365427563942129 and parameters: {'n_estimators': 356, 'max_depth': 12, 'min_samples_split': 12, 'min_samples_leaf': 3, 'max_features': 3}. Best is trial 56 with value: 1.3653357671144983.\n",
      "[I 2023-12-07 12:56:44,269] Trial 62 finished with value: 1.3653967273375964 and parameters: {'n_estimators': 355, 'max_depth': 12, 'min_samples_split': 12, 'min_samples_leaf': 3, 'max_features': 3}. Best is trial 56 with value: 1.3653357671144983.\n",
      "[I 2023-12-07 12:56:44,812] Trial 63 finished with value: 1.365427563942129 and parameters: {'n_estimators': 356, 'max_depth': 12, 'min_samples_split': 12, 'min_samples_leaf': 3, 'max_features': 3}. Best is trial 56 with value: 1.3653357671144983.\n",
      "[I 2023-12-07 12:56:45,343] Trial 64 finished with value: 1.365458406565945 and parameters: {'n_estimators': 361, 'max_depth': 12, 'min_samples_split': 12, 'min_samples_leaf': 3, 'max_features': 3}. Best is trial 56 with value: 1.3653357671144983.\n",
      "[I 2023-12-07 12:56:45,904] Trial 65 finished with value: 1.3654670468563908 and parameters: {'n_estimators': 347, 'max_depth': 12, 'min_samples_split': 12, 'min_samples_leaf': 3, 'max_features': 3}. Best is trial 56 with value: 1.3653357671144983.\n",
      "[I 2023-12-07 12:56:46,490] Trial 66 finished with value: 1.3653967273375964 and parameters: {'n_estimators': 355, 'max_depth': 12, 'min_samples_split': 12, 'min_samples_leaf': 3, 'max_features': 3}. Best is trial 56 with value: 1.3653357671144983.\n",
      "[I 2023-12-07 12:56:47,042] Trial 67 finished with value: 1.3654685529322848 and parameters: {'n_estimators': 354, 'max_depth': 12, 'min_samples_split': 12, 'min_samples_leaf': 3, 'max_features': 3}. Best is trial 56 with value: 1.3653357671144983.\n",
      "[I 2023-12-07 12:56:47,543] Trial 68 finished with value: 1.3784127476910193 and parameters: {'n_estimators': 342, 'max_depth': 11, 'min_samples_split': 12, 'min_samples_leaf': 5, 'max_features': 3}. Best is trial 56 with value: 1.3653357671144983.\n",
      "[I 2023-12-07 12:56:48,087] Trial 69 finished with value: 1.365386662267926 and parameters: {'n_estimators': 359, 'max_depth': 12, 'min_samples_split': 12, 'min_samples_leaf': 3, 'max_features': 3}. Best is trial 56 with value: 1.3653357671144983.\n",
      "[I 2023-12-07 12:56:48,563] Trial 70 finished with value: 1.4028990285354246 and parameters: {'n_estimators': 359, 'max_depth': 12, 'min_samples_split': 12, 'min_samples_leaf': 3, 'max_features': 1}. Best is trial 56 with value: 1.3653357671144983.\n",
      "[I 2023-12-07 12:56:49,159] Trial 71 finished with value: 1.365331016334174 and parameters: {'n_estimators': 362, 'max_depth': 12, 'min_samples_split': 12, 'min_samples_leaf': 3, 'max_features': 3}. Best is trial 71 with value: 1.365331016334174.\n",
      "[I 2023-12-07 12:56:49,736] Trial 72 finished with value: 1.3653132271188895 and parameters: {'n_estimators': 363, 'max_depth': 12, 'min_samples_split': 12, 'min_samples_leaf': 3, 'max_features': 3}. Best is trial 72 with value: 1.3653132271188895.\n",
      "[I 2023-12-07 12:56:50,309] Trial 73 finished with value: 1.3653132271188895 and parameters: {'n_estimators': 363, 'max_depth': 12, 'min_samples_split': 12, 'min_samples_leaf': 3, 'max_features': 3}. Best is trial 72 with value: 1.3653132271188895.\n",
      "[I 2023-12-07 12:56:50,873] Trial 74 finished with value: 1.3653132271188895 and parameters: {'n_estimators': 363, 'max_depth': 12, 'min_samples_split': 12, 'min_samples_leaf': 3, 'max_features': 3}. Best is trial 72 with value: 1.3653132271188895.\n",
      "[I 2023-12-07 12:56:51,459] Trial 75 finished with value: 1.3655908398870458 and parameters: {'n_estimators': 373, 'max_depth': 12, 'min_samples_split': 12, 'min_samples_leaf': 3, 'max_features': 3}. Best is trial 72 with value: 1.3653132271188895.\n",
      "[I 2023-12-07 12:56:52,054] Trial 76 finished with value: 1.3653428055143737 and parameters: {'n_estimators': 364, 'max_depth': 12, 'min_samples_split': 12, 'min_samples_leaf': 3, 'max_features': 3}. Best is trial 72 with value: 1.3653132271188895.\n",
      "[I 2023-12-07 12:56:52,637] Trial 77 finished with value: 1.3653132271188895 and parameters: {'n_estimators': 363, 'max_depth': 12, 'min_samples_split': 12, 'min_samples_leaf': 3, 'max_features': 3}. Best is trial 72 with value: 1.3653132271188895.\n",
      "[I 2023-12-07 12:56:53,238] Trial 78 finished with value: 1.3657211710347006 and parameters: {'n_estimators': 378, 'max_depth': 12, 'min_samples_split': 12, 'min_samples_leaf': 3, 'max_features': 3}. Best is trial 72 with value: 1.3653132271188895.\n",
      "[I 2023-12-07 12:56:53,883] Trial 79 finished with value: 1.3657168301565559 and parameters: {'n_estimators': 371, 'max_depth': 12, 'min_samples_split': 12, 'min_samples_leaf': 3, 'max_features': 3}. Best is trial 72 with value: 1.3653132271188895.\n",
      "[I 2023-12-07 12:56:54,417] Trial 80 finished with value: 1.3760269597193655 and parameters: {'n_estimators': 363, 'max_depth': 11, 'min_samples_split': 12, 'min_samples_leaf': 3, 'max_features': 3}. Best is trial 72 with value: 1.3653132271188895.\n",
      "[I 2023-12-07 12:56:54,988] Trial 81 finished with value: 1.3653132271188895 and parameters: {'n_estimators': 363, 'max_depth': 12, 'min_samples_split': 12, 'min_samples_leaf': 3, 'max_features': 3}. Best is trial 72 with value: 1.3653132271188895.\n",
      "[I 2023-12-07 12:56:55,552] Trial 82 finished with value: 1.365331016334174 and parameters: {'n_estimators': 362, 'max_depth': 12, 'min_samples_split': 12, 'min_samples_leaf': 3, 'max_features': 3}. Best is trial 72 with value: 1.3653132271188895.\n",
      "[I 2023-12-07 12:56:56,142] Trial 83 finished with value: 1.36558180153993 and parameters: {'n_estimators': 375, 'max_depth': 12, 'min_samples_split': 12, 'min_samples_leaf': 3, 'max_features': 3}. Best is trial 72 with value: 1.3653132271188895.\n",
      "[I 2023-12-07 12:56:56,700] Trial 84 finished with value: 1.365547762189059 and parameters: {'n_estimators': 369, 'max_depth': 12, 'min_samples_split': 12, 'min_samples_leaf': 3, 'max_features': 3}. Best is trial 72 with value: 1.3653132271188895.\n",
      "[I 2023-12-07 12:56:57,268] Trial 85 finished with value: 1.3654913054492643 and parameters: {'n_estimators': 367, 'max_depth': 12, 'min_samples_split': 12, 'min_samples_leaf': 3, 'max_features': 3}. Best is trial 72 with value: 1.3653132271188895.\n",
      "[I 2023-12-07 12:56:57,873] Trial 86 finished with value: 1.365331016334174 and parameters: {'n_estimators': 362, 'max_depth': 12, 'min_samples_split': 12, 'min_samples_leaf': 3, 'max_features': 3}. Best is trial 72 with value: 1.3653132271188895.\n",
      "[I 2023-12-07 12:56:58,522] Trial 87 finished with value: 1.3653132271188895 and parameters: {'n_estimators': 363, 'max_depth': 12, 'min_samples_split': 12, 'min_samples_leaf': 3, 'max_features': 3}. Best is trial 72 with value: 1.3653132271188895.\n",
      "[I 2023-12-07 12:56:59,107] Trial 88 finished with value: 1.3686601208214777 and parameters: {'n_estimators': 362, 'max_depth': 12, 'min_samples_split': 12, 'min_samples_leaf': 4, 'max_features': 3}. Best is trial 72 with value: 1.3653132271188895.\n",
      "[I 2023-12-07 12:56:59,577] Trial 89 finished with value: 1.4128122692065956 and parameters: {'n_estimators': 366, 'max_depth': 9, 'min_samples_split': 12, 'min_samples_leaf': 3, 'max_features': 2}. Best is trial 72 with value: 1.3653132271188895.\n",
      "[I 2023-12-07 12:57:00,054] Trial 90 finished with value: 1.3667173406452489 and parameters: {'n_estimators': 300, 'max_depth': 12, 'min_samples_split': 11, 'min_samples_leaf': 3, 'max_features': 3}. Best is trial 72 with value: 1.3653132271188895.\n",
      "[I 2023-12-07 12:57:00,630] Trial 91 finished with value: 1.3654345787115392 and parameters: {'n_estimators': 358, 'max_depth': 12, 'min_samples_split': 12, 'min_samples_leaf': 3, 'max_features': 3}. Best is trial 72 with value: 1.3653132271188895.\n",
      "[I 2023-12-07 12:57:01,201] Trial 92 finished with value: 1.365716830156556 and parameters: {'n_estimators': 371, 'max_depth': 12, 'min_samples_split': 12, 'min_samples_leaf': 3, 'max_features': 3}. Best is trial 72 with value: 1.3653132271188895.\n",
      "[I 2023-12-07 12:57:01,764] Trial 93 finished with value: 1.3655081720215407 and parameters: {'n_estimators': 353, 'max_depth': 12, 'min_samples_split': 12, 'min_samples_leaf': 3, 'max_features': 3}. Best is trial 72 with value: 1.3653132271188895.\n",
      "[I 2023-12-07 12:57:02,413] Trial 94 finished with value: 1.3653132271188895 and parameters: {'n_estimators': 363, 'max_depth': 12, 'min_samples_split': 12, 'min_samples_leaf': 3, 'max_features': 3}. Best is trial 72 with value: 1.3653132271188895.\n",
      "[I 2023-12-07 12:57:02,990] Trial 95 finished with value: 1.3653428055143737 and parameters: {'n_estimators': 364, 'max_depth': 12, 'min_samples_split': 12, 'min_samples_leaf': 3, 'max_features': 3}. Best is trial 72 with value: 1.3653132271188895.\n",
      "[I 2023-12-07 12:57:03,645] Trial 96 finished with value: 1.365547762189059 and parameters: {'n_estimators': 369, 'max_depth': 12, 'min_samples_split': 12, 'min_samples_leaf': 3, 'max_features': 3}. Best is trial 72 with value: 1.3653132271188895.\n",
      "[I 2023-12-07 12:57:04,232] Trial 97 finished with value: 1.365331016334174 and parameters: {'n_estimators': 362, 'max_depth': 12, 'min_samples_split': 12, 'min_samples_leaf': 3, 'max_features': 3}. Best is trial 72 with value: 1.3653132271188895.\n",
      "[I 2023-12-07 12:57:04,825] Trial 98 finished with value: 1.3655143257713402 and parameters: {'n_estimators': 366, 'max_depth': 12, 'min_samples_split': 12, 'min_samples_leaf': 3, 'max_features': 3}. Best is trial 72 with value: 1.3653132271188895.\n",
      "[I 2023-12-07 12:57:05,373] Trial 99 finished with value: 1.365634660571937 and parameters: {'n_estimators': 350, 'max_depth': 12, 'min_samples_split': 12, 'min_samples_leaf': 3, 'max_features': 3}. Best is trial 72 with value: 1.3653132271188895.\n",
      "[I 2023-12-07 12:57:05,958] Trial 100 finished with value: 1.3657994267097067 and parameters: {'n_estimators': 377, 'max_depth': 12, 'min_samples_split': 12, 'min_samples_leaf': 3, 'max_features': 3}. Best is trial 72 with value: 1.3653132271188895.\n",
      "[I 2023-12-07 12:57:06,500] Trial 101 finished with value: 1.365411516890596 and parameters: {'n_estimators': 357, 'max_depth': 12, 'min_samples_split': 12, 'min_samples_leaf': 3, 'max_features': 3}. Best is trial 72 with value: 1.3653132271188895.\n",
      "[I 2023-12-07 12:57:07,129] Trial 102 finished with value: 1.365331016334174 and parameters: {'n_estimators': 362, 'max_depth': 12, 'min_samples_split': 12, 'min_samples_leaf': 3, 'max_features': 3}. Best is trial 72 with value: 1.3653132271188895.\n",
      "[I 2023-12-07 12:57:07,706] Trial 103 finished with value: 1.365458406565945 and parameters: {'n_estimators': 361, 'max_depth': 12, 'min_samples_split': 12, 'min_samples_leaf': 3, 'max_features': 3}. Best is trial 72 with value: 1.3653132271188895.\n",
      "[I 2023-12-07 12:57:08,274] Trial 104 finished with value: 1.3654913054492643 and parameters: {'n_estimators': 367, 'max_depth': 12, 'min_samples_split': 12, 'min_samples_leaf': 3, 'max_features': 3}. Best is trial 72 with value: 1.3653132271188895.\n",
      "[I 2023-12-07 12:57:08,852] Trial 105 finished with value: 1.3654846491394517 and parameters: {'n_estimators': 365, 'max_depth': 12, 'min_samples_split': 12, 'min_samples_leaf': 3, 'max_features': 3}. Best is trial 72 with value: 1.3653132271188895.\n",
      "[I 2023-12-07 12:57:09,443] Trial 106 finished with value: 1.3655908398870458 and parameters: {'n_estimators': 373, 'max_depth': 12, 'min_samples_split': 12, 'min_samples_leaf': 3, 'max_features': 3}. Best is trial 72 with value: 1.3653132271188895.\n",
      "[I 2023-12-07 12:57:09,980] Trial 107 finished with value: 1.3871711232326418 and parameters: {'n_estimators': 363, 'max_depth': 10, 'min_samples_split': 12, 'min_samples_leaf': 3, 'max_features': 3}. Best is trial 72 with value: 1.3653132271188895.\n",
      "[I 2023-12-07 12:57:10,530] Trial 108 finished with value: 1.3657080815828686 and parameters: {'n_estimators': 370, 'max_depth': 12, 'min_samples_split': 12, 'min_samples_leaf': 3, 'max_features': 3}. Best is trial 72 with value: 1.3653132271188895.\n",
      "[I 2023-12-07 12:57:11,106] Trial 109 finished with value: 1.365411516890596 and parameters: {'n_estimators': 357, 'max_depth': 12, 'min_samples_split': 12, 'min_samples_leaf': 3, 'max_features': 3}. Best is trial 72 with value: 1.3653132271188895.\n",
      "[I 2023-12-07 12:57:11,653] Trial 110 finished with value: 1.3655081720215407 and parameters: {'n_estimators': 353, 'max_depth': 12, 'min_samples_split': 12, 'min_samples_leaf': 3, 'max_features': 3}. Best is trial 72 with value: 1.3653132271188895.\n",
      "[I 2023-12-07 12:57:12,227] Trial 111 finished with value: 1.365331016334174 and parameters: {'n_estimators': 362, 'max_depth': 12, 'min_samples_split': 12, 'min_samples_leaf': 3, 'max_features': 3}. Best is trial 72 with value: 1.3653132271188895.\n",
      "[I 2023-12-07 12:57:12,772] Trial 112 finished with value: 1.365458406565945 and parameters: {'n_estimators': 361, 'max_depth': 12, 'min_samples_split': 12, 'min_samples_leaf': 3, 'max_features': 3}. Best is trial 72 with value: 1.3653132271188895.\n",
      "[I 2023-12-07 12:57:13,339] Trial 113 finished with value: 1.3654436057363406 and parameters: {'n_estimators': 368, 'max_depth': 12, 'min_samples_split': 12, 'min_samples_leaf': 3, 'max_features': 3}. Best is trial 72 with value: 1.3653132271188895.\n",
      "[I 2023-12-07 12:57:13,896] Trial 114 finished with value: 1.3654345787115392 and parameters: {'n_estimators': 358, 'max_depth': 12, 'min_samples_split': 12, 'min_samples_leaf': 3, 'max_features': 3}. Best is trial 72 with value: 1.3653132271188895.\n",
      "[I 2023-12-07 12:57:14,472] Trial 115 finished with value: 1.3653428055143737 and parameters: {'n_estimators': 364, 'max_depth': 12, 'min_samples_split': 12, 'min_samples_leaf': 3, 'max_features': 3}. Best is trial 72 with value: 1.3653132271188895.\n",
      "[I 2023-12-07 12:57:15,013] Trial 116 finished with value: 1.3653357671144986 and parameters: {'n_estimators': 360, 'max_depth': 12, 'min_samples_split': 12, 'min_samples_leaf': 3, 'max_features': 3}. Best is trial 72 with value: 1.3653132271188895.\n",
      "[I 2023-12-07 12:57:15,571] Trial 117 finished with value: 1.365331016334174 and parameters: {'n_estimators': 362, 'max_depth': 12, 'min_samples_split': 12, 'min_samples_leaf': 3, 'max_features': 3}. Best is trial 72 with value: 1.3653132271188895.\n",
      "[I 2023-12-07 12:57:16,192] Trial 118 finished with value: 1.3655143257713402 and parameters: {'n_estimators': 366, 'max_depth': 12, 'min_samples_split': 12, 'min_samples_leaf': 3, 'max_features': 3}. Best is trial 72 with value: 1.3653132271188895.\n",
      "[I 2023-12-07 12:57:16,696] Trial 119 finished with value: 1.3654670468563908 and parameters: {'n_estimators': 347, 'max_depth': 12, 'min_samples_split': 12, 'min_samples_leaf': 3, 'max_features': 3}. Best is trial 72 with value: 1.3653132271188895.\n",
      "[I 2023-12-07 12:57:17,259] Trial 120 finished with value: 1.3657168301565559 and parameters: {'n_estimators': 371, 'max_depth': 12, 'min_samples_split': 12, 'min_samples_leaf': 3, 'max_features': 3}. Best is trial 72 with value: 1.3653132271188895.\n",
      "[I 2023-12-07 12:57:17,876] Trial 121 finished with value: 1.365331016334174 and parameters: {'n_estimators': 362, 'max_depth': 12, 'min_samples_split': 12, 'min_samples_leaf': 3, 'max_features': 3}. Best is trial 72 with value: 1.3653132271188895.\n",
      "[I 2023-12-07 12:57:18,424] Trial 122 finished with value: 1.3653428055143737 and parameters: {'n_estimators': 364, 'max_depth': 12, 'min_samples_split': 12, 'min_samples_leaf': 3, 'max_features': 3}. Best is trial 72 with value: 1.3653132271188895.\n",
      "[I 2023-12-07 12:57:18,988] Trial 123 finished with value: 1.365386662267926 and parameters: {'n_estimators': 359, 'max_depth': 12, 'min_samples_split': 12, 'min_samples_leaf': 3, 'max_features': 3}. Best is trial 72 with value: 1.3653132271188895.\n",
      "[I 2023-12-07 12:57:19,559] Trial 124 finished with value: 1.3654436057363406 and parameters: {'n_estimators': 368, 'max_depth': 12, 'min_samples_split': 12, 'min_samples_leaf': 3, 'max_features': 3}. Best is trial 72 with value: 1.3653132271188895.\n",
      "[I 2023-12-07 12:57:20,148] Trial 125 finished with value: 1.365331016334174 and parameters: {'n_estimators': 362, 'max_depth': 12, 'min_samples_split': 12, 'min_samples_leaf': 3, 'max_features': 3}. Best is trial 72 with value: 1.3653132271188895.\n",
      "[I 2023-12-07 12:57:20,625] Trial 126 finished with value: 1.402897154300862 and parameters: {'n_estimators': 354, 'max_depth': 12, 'min_samples_split': 12, 'min_samples_leaf': 3, 'max_features': 1}. Best is trial 72 with value: 1.3653132271188895.\n",
      "[I 2023-12-07 12:57:21,169] Trial 127 finished with value: 1.365411516890596 and parameters: {'n_estimators': 357, 'max_depth': 12, 'min_samples_split': 12, 'min_samples_leaf': 3, 'max_features': 3}. Best is trial 72 with value: 1.3653132271188895.\n",
      "[I 2023-12-07 12:57:21,763] Trial 128 finished with value: 1.3654846491394517 and parameters: {'n_estimators': 365, 'max_depth': 12, 'min_samples_split': 12, 'min_samples_leaf': 3, 'max_features': 3}. Best is trial 72 with value: 1.3653132271188895.\n",
      "[I 2023-12-07 12:57:22,296] Trial 129 finished with value: 1.3902057869626405 and parameters: {'n_estimators': 374, 'max_depth': 10, 'min_samples_split': 12, 'min_samples_leaf': 5, 'max_features': 3}. Best is trial 72 with value: 1.3653132271188895.\n",
      "[I 2023-12-07 12:57:22,855] Trial 130 finished with value: 1.3653357671144986 and parameters: {'n_estimators': 360, 'max_depth': 12, 'min_samples_split': 12, 'min_samples_leaf': 3, 'max_features': 3}. Best is trial 72 with value: 1.3653132271188895.\n",
      "[I 2023-12-07 12:57:23,438] Trial 131 finished with value: 1.365331016334174 and parameters: {'n_estimators': 362, 'max_depth': 12, 'min_samples_split': 12, 'min_samples_leaf': 3, 'max_features': 3}. Best is trial 72 with value: 1.3653132271188895.\n",
      "[I 2023-12-07 12:57:24,040] Trial 132 finished with value: 1.3653132271188895 and parameters: {'n_estimators': 363, 'max_depth': 12, 'min_samples_split': 12, 'min_samples_leaf': 3, 'max_features': 3}. Best is trial 72 with value: 1.3653132271188895.\n",
      "[I 2023-12-07 12:57:24,647] Trial 133 finished with value: 1.3655143257713402 and parameters: {'n_estimators': 366, 'max_depth': 12, 'min_samples_split': 12, 'min_samples_leaf': 3, 'max_features': 3}. Best is trial 72 with value: 1.3653132271188895.\n",
      "[I 2023-12-07 12:57:25,242] Trial 134 finished with value: 1.3655477621890588 and parameters: {'n_estimators': 369, 'max_depth': 12, 'min_samples_split': 12, 'min_samples_leaf': 3, 'max_features': 3}. Best is trial 72 with value: 1.3653132271188895.\n",
      "[I 2023-12-07 12:57:25,808] Trial 135 finished with value: 1.3654345787115392 and parameters: {'n_estimators': 358, 'max_depth': 12, 'min_samples_split': 12, 'min_samples_leaf': 3, 'max_features': 3}. Best is trial 72 with value: 1.3653132271188895.\n",
      "[I 2023-12-07 12:57:26,370] Trial 136 finished with value: 1.365342805514374 and parameters: {'n_estimators': 364, 'max_depth': 12, 'min_samples_split': 12, 'min_samples_leaf': 3, 'max_features': 3}. Best is trial 72 with value: 1.3653132271188895.\n",
      "[I 2023-12-07 12:57:26,961] Trial 137 finished with value: 1.3653357671144986 and parameters: {'n_estimators': 360, 'max_depth': 12, 'min_samples_split': 12, 'min_samples_leaf': 3, 'max_features': 3}. Best is trial 72 with value: 1.3653132271188895.\n",
      "[I 2023-12-07 12:57:27,543] Trial 138 finished with value: 1.3653967273375966 and parameters: {'n_estimators': 355, 'max_depth': 12, 'min_samples_split': 12, 'min_samples_leaf': 3, 'max_features': 3}. Best is trial 72 with value: 1.3653132271188895.\n",
      "[I 2023-12-07 12:57:28,157] Trial 139 finished with value: 1.3653132271188895 and parameters: {'n_estimators': 363, 'max_depth': 12, 'min_samples_split': 12, 'min_samples_leaf': 3, 'max_features': 3}. Best is trial 72 with value: 1.3653132271188895.\n",
      "[I 2023-12-07 12:57:28,763] Trial 140 finished with value: 1.3654436057363406 and parameters: {'n_estimators': 368, 'max_depth': 12, 'min_samples_split': 12, 'min_samples_leaf': 3, 'max_features': 3}. Best is trial 72 with value: 1.3653132271188895.\n",
      "[I 2023-12-07 12:57:29,354] Trial 141 finished with value: 1.3653132271188895 and parameters: {'n_estimators': 363, 'max_depth': 12, 'min_samples_split': 12, 'min_samples_leaf': 3, 'max_features': 3}. Best is trial 72 with value: 1.3653132271188895.\n",
      "[I 2023-12-07 12:57:29,920] Trial 142 finished with value: 1.3655143257713405 and parameters: {'n_estimators': 366, 'max_depth': 12, 'min_samples_split': 12, 'min_samples_leaf': 3, 'max_features': 3}. Best is trial 72 with value: 1.3653132271188895.\n",
      "[I 2023-12-07 12:57:30,481] Trial 143 finished with value: 1.3653428055143737 and parameters: {'n_estimators': 364, 'max_depth': 12, 'min_samples_split': 12, 'min_samples_leaf': 3, 'max_features': 3}. Best is trial 72 with value: 1.3653132271188895.\n",
      "[I 2023-12-07 12:57:31,067] Trial 144 finished with value: 1.3654584065659452 and parameters: {'n_estimators': 361, 'max_depth': 12, 'min_samples_split': 12, 'min_samples_leaf': 3, 'max_features': 3}. Best is trial 72 with value: 1.3653132271188895.\n",
      "[I 2023-12-07 12:57:31,656] Trial 145 finished with value: 1.365411516890596 and parameters: {'n_estimators': 357, 'max_depth': 12, 'min_samples_split': 12, 'min_samples_leaf': 3, 'max_features': 3}. Best is trial 72 with value: 1.3653132271188895.\n",
      "[I 2023-12-07 12:57:32,220] Trial 146 finished with value: 1.3653132271188895 and parameters: {'n_estimators': 363, 'max_depth': 12, 'min_samples_split': 12, 'min_samples_leaf': 3, 'max_features': 3}. Best is trial 72 with value: 1.3653132271188895.\n",
      "[I 2023-12-07 12:57:32,843] Trial 147 finished with value: 1.365716830156556 and parameters: {'n_estimators': 371, 'max_depth': 12, 'min_samples_split': 12, 'min_samples_leaf': 3, 'max_features': 3}. Best is trial 72 with value: 1.3653132271188895.\n",
      "[I 2023-12-07 12:57:33,427] Trial 148 finished with value: 1.3655143257713405 and parameters: {'n_estimators': 366, 'max_depth': 12, 'min_samples_split': 12, 'min_samples_leaf': 3, 'max_features': 3}. Best is trial 72 with value: 1.3653132271188895.\n",
      "[I 2023-12-07 12:57:34,073] Trial 149 finished with value: 1.365386662267926 and parameters: {'n_estimators': 359, 'max_depth': 12, 'min_samples_split': 12, 'min_samples_leaf': 3, 'max_features': 3}. Best is trial 72 with value: 1.3653132271188895.\n"
     ]
    },
    {
     "name": "stdout",
     "output_type": "stream",
     "text": [
      "{'n_estimators': 363, 'max_depth': 12, 'min_samples_split': 12, 'min_samples_leaf': 3, 'max_features': 3}\n",
      "농업경영체별 평가지표 결과\n",
      "MAE: 1.33\n",
      "MSE: 3.25\n",
      "RMSE: 1.8\n",
      "RMSPE: 120.03%\n",
      "----------------------------------------------------------------------------------------------------\n",
      "배정신청인원 10명 이상 시군구 단위 평가지표\n",
      "MAE: 11.28\n",
      "MSE: 278.66\n",
      "RMSE: 16.69\n",
      "RMSPE: 25.35%\n"
     ]
    }
   ],
   "source": [
    "def objective(trial):\n",
    "    params = {\n",
    "        'n_estimators': trial.suggest_int('n_estimators', 300, 400),\n",
    "        'criterion': 'mse',\n",
    "        'max_depth' : trial.suggest_int('max_depth', 9, 12),\n",
    "        'min_samples_split': trial.suggest_int('min_samples_split', 11, 13),\n",
    "        'min_samples_leaf': trial.suggest_int('min_samples_leaf', 3, 5),\n",
    "        'min_weight_fraction_leaf': 0.0,\n",
    "        'max_features': trial.suggest_int('max_features', 1, 3),\n",
    "        'max_leaf_nodes': None,\n",
    "        'min_impurity_decrease': 0.0,\n",
    "        'bootstrap': True,\n",
    "        'n_jobs': -1,\n",
    "        'random_state': 42\n",
    "    }\n",
    "    # 학습 모델 생성\n",
    "    model_reg=RandomForestRegressor(**params)\n",
    "    \n",
    "    #트레인 셋 학습\n",
    "    model_reg.fit(X_train,Y_train)\n",
    "    \n",
    "    #검증 데이터 셋으로 모델 검증\n",
    "    score = mean_absolute_error(model_reg.predict(X_valid), Y_valid)\n",
    "    return score\n",
    "\n",
    "study=optuna.create_study(direction='minimize')\n",
    "study.optimize(objective, n_trials=150)\n",
    "# 최적화된 파라미터 값 확인\n",
    "best_params = study.best_params\n",
    "print(best_params)\n",
    "#모델 검증\n",
    "model_reg = RandomForestRegressor(**best_params)\n",
    "model_reg.fit(X_train,Y_train)\n",
    "\n",
    "#예측값 \n",
    "pred=model_reg.predict(X_test)\n",
    "# 인원 수 예측이기에 예측된 결과에 반올림 적용\n",
    "pred=pd.DataFrame(pred,columns=['예측값'])\n",
    "#반올림\n",
    "pred['예측값']=round(pred['예측값'],0)\n",
    "#평가지표\n",
    "print('농업경영체별 평가지표 결과')\n",
    "Evaluation_metric(Y_test,pred=pred['예측값'])\n",
    "print('-'*100)\n",
    "\n",
    "test_index=X_test.index.tolist()\n",
    "data_test=data_real.loc[test_index]\n",
    "data_test=data_test.reset_index()\n",
    "data_test.drop(columns=['index'],inplace=True)\n",
    "#예측값\n",
    "data_test['predict']=pred\n",
    "result=data_test.groupby(['지자체명_시도','지자체명_시군구'])[['합계','predict']].sum().reset_index()\n",
    "result_1=result.query('합계>10')\n",
    "print('배정신청인원 10명 이상 시군구 단위 평가지표')\n",
    "Evaluation_metric(result_1['합계'],pred=result_1['predict'])"
   ]
  },
  {
   "cell_type": "code",
   "execution_count": null,
   "id": "adcde785-4a96-48d7-ae67-9b45890de819",
   "metadata": {},
   "outputs": [],
   "source": []
  }
 ],
 "metadata": {
  "kernelspec": {
   "display_name": "Python 3 (ipykernel)",
   "language": "python",
   "name": "python3"
  },
  "language_info": {
   "codemirror_mode": {
    "name": "ipython",
    "version": 3
   },
   "file_extension": ".py",
   "mimetype": "text/x-python",
   "name": "python",
   "nbconvert_exporter": "python",
   "pygments_lexer": "ipython3",
   "version": "3.9.7"
  }
 },
 "nbformat": 4,
 "nbformat_minor": 5
}
